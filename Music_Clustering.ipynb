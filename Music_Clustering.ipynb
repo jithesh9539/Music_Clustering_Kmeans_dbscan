{
  "nbformat": 4,
  "nbformat_minor": 0,
  "metadata": {
    "colab": {
      "name": "Music_Clustering.ipynb",
      "provenance": [],
      "collapsed_sections": [],
      "authorship_tag": "ABX9TyMKWKyBE3Qe3T2x/HjMNmok",
      "include_colab_link": true
    },
    "kernelspec": {
      "name": "python3",
      "display_name": "Python 3"
    },
    "language_info": {
      "name": "python"
    }
  },
  "cells": [
    {
      "cell_type": "markdown",
      "metadata": {
        "id": "view-in-github",
        "colab_type": "text"
      },
      "source": [
        "<a href=\"https://colab.research.google.com/github/jithesh9539/Music_Clustering_Kmeans_dbscan/blob/main/Music_Clustering.ipynb\" target=\"_parent\"><img src=\"https://colab.research.google.com/assets/colab-badge.svg\" alt=\"Open In Colab\"/></a>"
      ]
    },
    {
      "cell_type": "markdown",
      "source": [
        "**Importing Libraries** "
      ],
      "metadata": {
        "id": "9VI3NusGFvXU"
      }
    },
    {
      "cell_type": "code",
      "execution_count": null,
      "metadata": {
        "id": "SnphkJzELPVA"
      },
      "outputs": [],
      "source": [
        "import pandas as pd\n",
        "import numpy as np\n",
        "import matplotlib.pyplot as plt\n",
        "import seaborn as sns\n",
        "from IPython.core.interactiveshell import InteractiveShell\n",
        "from sklearn.cluster import KMeans\n",
        "from sklearn.manifold import TSNE\n",
        "from sklearn.discriminant_analysis import LinearDiscriminantAnalysis\n",
        "from sklearn.decomposition import PCA\n",
        "from scipy.cluster.hierarchy import linkage, dendrogram\n",
        "from sklearn.cluster import DBSCAN\n",
        "from sklearn.cluster import AgglomerativeClustering\n",
        "import statsmodels.api as sm\n",
        "from statsmodels.stats.outliers_influence import variance_inflation_factor\n",
        "from sklearn.preprocessing import StandardScaler, MinMaxScaler\n",
        "from sklearn.metrics import silhouette_score\n",
        "InteractiveShell.ast_node_interactivity = \"all\"\n",
        "%matplotlib inline"
      ]
    },
    {
      "cell_type": "markdown",
      "source": [
        ""
      ],
      "metadata": {
        "id": "Y1mhoSwoFuMm"
      }
    },
    {
      "cell_type": "markdown",
      "source": [
        "**Reading Data in dataframe**"
      ],
      "metadata": {
        "id": "zrKB80l6F2Gc"
      }
    },
    {
      "cell_type": "code",
      "source": [
        "df=pd.read_csv('/content/top10s.csv',encoding='latin1')"
      ],
      "metadata": {
        "id": "IBEKEOUfLzCw"
      },
      "execution_count": null,
      "outputs": []
    },
    {
      "cell_type": "code",
      "source": [
        "df.head()"
      ],
      "metadata": {
        "colab": {
          "base_uri": "https://localhost:8080/",
          "height": 250
        },
        "id": "T6AiUYB8L7zf",
        "outputId": "a15102f6-1934-428b-a522-84d38c21212b"
      },
      "execution_count": null,
      "outputs": [
        {
          "output_type": "execute_result",
          "data": {
            "text/html": [
              "\n",
              "  <div id=\"df-ebd6f5ac-8aa7-4909-86d9-775f6de8d59a\">\n",
              "    <div class=\"colab-df-container\">\n",
              "      <div>\n",
              "<style scoped>\n",
              "    .dataframe tbody tr th:only-of-type {\n",
              "        vertical-align: middle;\n",
              "    }\n",
              "\n",
              "    .dataframe tbody tr th {\n",
              "        vertical-align: top;\n",
              "    }\n",
              "\n",
              "    .dataframe thead th {\n",
              "        text-align: right;\n",
              "    }\n",
              "</style>\n",
              "<table border=\"1\" class=\"dataframe\">\n",
              "  <thead>\n",
              "    <tr style=\"text-align: right;\">\n",
              "      <th></th>\n",
              "      <th>Unnamed: 0</th>\n",
              "      <th>title</th>\n",
              "      <th>artist</th>\n",
              "      <th>top genre</th>\n",
              "      <th>year</th>\n",
              "      <th>bpm</th>\n",
              "      <th>nrgy</th>\n",
              "      <th>dnce</th>\n",
              "      <th>dB</th>\n",
              "      <th>live</th>\n",
              "      <th>val</th>\n",
              "      <th>dur</th>\n",
              "      <th>acous</th>\n",
              "      <th>spch</th>\n",
              "      <th>pop</th>\n",
              "    </tr>\n",
              "  </thead>\n",
              "  <tbody>\n",
              "    <tr>\n",
              "      <th>0</th>\n",
              "      <td>1</td>\n",
              "      <td>Hey, Soul Sister</td>\n",
              "      <td>Train</td>\n",
              "      <td>neo mellow</td>\n",
              "      <td>2010</td>\n",
              "      <td>97</td>\n",
              "      <td>89</td>\n",
              "      <td>67</td>\n",
              "      <td>-4</td>\n",
              "      <td>8</td>\n",
              "      <td>80</td>\n",
              "      <td>217</td>\n",
              "      <td>19</td>\n",
              "      <td>4</td>\n",
              "      <td>83</td>\n",
              "    </tr>\n",
              "    <tr>\n",
              "      <th>1</th>\n",
              "      <td>2</td>\n",
              "      <td>Love The Way You Lie</td>\n",
              "      <td>Eminem</td>\n",
              "      <td>detroit hip hop</td>\n",
              "      <td>2010</td>\n",
              "      <td>87</td>\n",
              "      <td>93</td>\n",
              "      <td>75</td>\n",
              "      <td>-5</td>\n",
              "      <td>52</td>\n",
              "      <td>64</td>\n",
              "      <td>263</td>\n",
              "      <td>24</td>\n",
              "      <td>23</td>\n",
              "      <td>82</td>\n",
              "    </tr>\n",
              "    <tr>\n",
              "      <th>2</th>\n",
              "      <td>3</td>\n",
              "      <td>TiK ToK</td>\n",
              "      <td>Kesha</td>\n",
              "      <td>dance pop</td>\n",
              "      <td>2010</td>\n",
              "      <td>120</td>\n",
              "      <td>84</td>\n",
              "      <td>76</td>\n",
              "      <td>-3</td>\n",
              "      <td>29</td>\n",
              "      <td>71</td>\n",
              "      <td>200</td>\n",
              "      <td>10</td>\n",
              "      <td>14</td>\n",
              "      <td>80</td>\n",
              "    </tr>\n",
              "    <tr>\n",
              "      <th>3</th>\n",
              "      <td>4</td>\n",
              "      <td>Bad Romance</td>\n",
              "      <td>Lady Gaga</td>\n",
              "      <td>dance pop</td>\n",
              "      <td>2010</td>\n",
              "      <td>119</td>\n",
              "      <td>92</td>\n",
              "      <td>70</td>\n",
              "      <td>-4</td>\n",
              "      <td>8</td>\n",
              "      <td>71</td>\n",
              "      <td>295</td>\n",
              "      <td>0</td>\n",
              "      <td>4</td>\n",
              "      <td>79</td>\n",
              "    </tr>\n",
              "    <tr>\n",
              "      <th>4</th>\n",
              "      <td>5</td>\n",
              "      <td>Just the Way You Are</td>\n",
              "      <td>Bruno Mars</td>\n",
              "      <td>pop</td>\n",
              "      <td>2010</td>\n",
              "      <td>109</td>\n",
              "      <td>84</td>\n",
              "      <td>64</td>\n",
              "      <td>-5</td>\n",
              "      <td>9</td>\n",
              "      <td>43</td>\n",
              "      <td>221</td>\n",
              "      <td>2</td>\n",
              "      <td>4</td>\n",
              "      <td>78</td>\n",
              "    </tr>\n",
              "  </tbody>\n",
              "</table>\n",
              "</div>\n",
              "      <button class=\"colab-df-convert\" onclick=\"convertToInteractive('df-ebd6f5ac-8aa7-4909-86d9-775f6de8d59a')\"\n",
              "              title=\"Convert this dataframe to an interactive table.\"\n",
              "              style=\"display:none;\">\n",
              "        \n",
              "  <svg xmlns=\"http://www.w3.org/2000/svg\" height=\"24px\"viewBox=\"0 0 24 24\"\n",
              "       width=\"24px\">\n",
              "    <path d=\"M0 0h24v24H0V0z\" fill=\"none\"/>\n",
              "    <path d=\"M18.56 5.44l.94 2.06.94-2.06 2.06-.94-2.06-.94-.94-2.06-.94 2.06-2.06.94zm-11 1L8.5 8.5l.94-2.06 2.06-.94-2.06-.94L8.5 2.5l-.94 2.06-2.06.94zm10 10l.94 2.06.94-2.06 2.06-.94-2.06-.94-.94-2.06-.94 2.06-2.06.94z\"/><path d=\"M17.41 7.96l-1.37-1.37c-.4-.4-.92-.59-1.43-.59-.52 0-1.04.2-1.43.59L10.3 9.45l-7.72 7.72c-.78.78-.78 2.05 0 2.83L4 21.41c.39.39.9.59 1.41.59.51 0 1.02-.2 1.41-.59l7.78-7.78 2.81-2.81c.8-.78.8-2.07 0-2.86zM5.41 20L4 18.59l7.72-7.72 1.47 1.35L5.41 20z\"/>\n",
              "  </svg>\n",
              "      </button>\n",
              "      \n",
              "  <style>\n",
              "    .colab-df-container {\n",
              "      display:flex;\n",
              "      flex-wrap:wrap;\n",
              "      gap: 12px;\n",
              "    }\n",
              "\n",
              "    .colab-df-convert {\n",
              "      background-color: #E8F0FE;\n",
              "      border: none;\n",
              "      border-radius: 50%;\n",
              "      cursor: pointer;\n",
              "      display: none;\n",
              "      fill: #1967D2;\n",
              "      height: 32px;\n",
              "      padding: 0 0 0 0;\n",
              "      width: 32px;\n",
              "    }\n",
              "\n",
              "    .colab-df-convert:hover {\n",
              "      background-color: #E2EBFA;\n",
              "      box-shadow: 0px 1px 2px rgba(60, 64, 67, 0.3), 0px 1px 3px 1px rgba(60, 64, 67, 0.15);\n",
              "      fill: #174EA6;\n",
              "    }\n",
              "\n",
              "    [theme=dark] .colab-df-convert {\n",
              "      background-color: #3B4455;\n",
              "      fill: #D2E3FC;\n",
              "    }\n",
              "\n",
              "    [theme=dark] .colab-df-convert:hover {\n",
              "      background-color: #434B5C;\n",
              "      box-shadow: 0px 1px 3px 1px rgba(0, 0, 0, 0.15);\n",
              "      filter: drop-shadow(0px 1px 2px rgba(0, 0, 0, 0.3));\n",
              "      fill: #FFFFFF;\n",
              "    }\n",
              "  </style>\n",
              "\n",
              "      <script>\n",
              "        const buttonEl =\n",
              "          document.querySelector('#df-ebd6f5ac-8aa7-4909-86d9-775f6de8d59a button.colab-df-convert');\n",
              "        buttonEl.style.display =\n",
              "          google.colab.kernel.accessAllowed ? 'block' : 'none';\n",
              "\n",
              "        async function convertToInteractive(key) {\n",
              "          const element = document.querySelector('#df-ebd6f5ac-8aa7-4909-86d9-775f6de8d59a');\n",
              "          const dataTable =\n",
              "            await google.colab.kernel.invokeFunction('convertToInteractive',\n",
              "                                                     [key], {});\n",
              "          if (!dataTable) return;\n",
              "\n",
              "          const docLinkHtml = 'Like what you see? Visit the ' +\n",
              "            '<a target=\"_blank\" href=https://colab.research.google.com/notebooks/data_table.ipynb>data table notebook</a>'\n",
              "            + ' to learn more about interactive tables.';\n",
              "          element.innerHTML = '';\n",
              "          dataTable['output_type'] = 'display_data';\n",
              "          await google.colab.output.renderOutput(dataTable, element);\n",
              "          const docLink = document.createElement('div');\n",
              "          docLink.innerHTML = docLinkHtml;\n",
              "          element.appendChild(docLink);\n",
              "        }\n",
              "      </script>\n",
              "    </div>\n",
              "  </div>\n",
              "  "
            ],
            "text/plain": [
              "   Unnamed: 0                 title      artist  ... acous  spch  pop\n",
              "0           1      Hey, Soul Sister       Train  ...    19     4   83\n",
              "1           2  Love The Way You Lie      Eminem  ...    24    23   82\n",
              "2           3               TiK ToK       Kesha  ...    10    14   80\n",
              "3           4           Bad Romance   Lady Gaga  ...     0     4   79\n",
              "4           5  Just the Way You Are  Bruno Mars  ...     2     4   78\n",
              "\n",
              "[5 rows x 15 columns]"
            ]
          },
          "metadata": {},
          "execution_count": 38
        }
      ]
    },
    {
      "cell_type": "code",
      "source": [
        "df.shape"
      ],
      "metadata": {
        "colab": {
          "base_uri": "https://localhost:8080/"
        },
        "id": "upf3MxOGMBo2",
        "outputId": "389fab92-cbf4-4bb4-ea18-f900ece2430c"
      },
      "execution_count": null,
      "outputs": [
        {
          "output_type": "execute_result",
          "data": {
            "text/plain": [
              "(603, 15)"
            ]
          },
          "metadata": {},
          "execution_count": 39
        }
      ]
    },
    {
      "cell_type": "code",
      "source": [
        "df = df.rename(columns = {'Unnamed: 0': 'id'})\n",
        "df.head()"
      ],
      "metadata": {
        "colab": {
          "base_uri": "https://localhost:8080/",
          "height": 206
        },
        "id": "WX1OxXD5MDVS",
        "outputId": "7c5484d1-e5ae-4454-8dde-06cc96caf6fb"
      },
      "execution_count": null,
      "outputs": [
        {
          "output_type": "execute_result",
          "data": {
            "text/html": [
              "\n",
              "  <div id=\"df-85020d01-f07d-45d7-b5de-75a59d969d07\">\n",
              "    <div class=\"colab-df-container\">\n",
              "      <div>\n",
              "<style scoped>\n",
              "    .dataframe tbody tr th:only-of-type {\n",
              "        vertical-align: middle;\n",
              "    }\n",
              "\n",
              "    .dataframe tbody tr th {\n",
              "        vertical-align: top;\n",
              "    }\n",
              "\n",
              "    .dataframe thead th {\n",
              "        text-align: right;\n",
              "    }\n",
              "</style>\n",
              "<table border=\"1\" class=\"dataframe\">\n",
              "  <thead>\n",
              "    <tr style=\"text-align: right;\">\n",
              "      <th></th>\n",
              "      <th>id</th>\n",
              "      <th>title</th>\n",
              "      <th>artist</th>\n",
              "      <th>top genre</th>\n",
              "      <th>year</th>\n",
              "      <th>bpm</th>\n",
              "      <th>nrgy</th>\n",
              "      <th>dnce</th>\n",
              "      <th>dB</th>\n",
              "      <th>live</th>\n",
              "      <th>val</th>\n",
              "      <th>dur</th>\n",
              "      <th>acous</th>\n",
              "      <th>spch</th>\n",
              "      <th>pop</th>\n",
              "    </tr>\n",
              "  </thead>\n",
              "  <tbody>\n",
              "    <tr>\n",
              "      <th>0</th>\n",
              "      <td>1</td>\n",
              "      <td>Hey, Soul Sister</td>\n",
              "      <td>Train</td>\n",
              "      <td>neo mellow</td>\n",
              "      <td>2010</td>\n",
              "      <td>97</td>\n",
              "      <td>89</td>\n",
              "      <td>67</td>\n",
              "      <td>-4</td>\n",
              "      <td>8</td>\n",
              "      <td>80</td>\n",
              "      <td>217</td>\n",
              "      <td>19</td>\n",
              "      <td>4</td>\n",
              "      <td>83</td>\n",
              "    </tr>\n",
              "    <tr>\n",
              "      <th>1</th>\n",
              "      <td>2</td>\n",
              "      <td>Love The Way You Lie</td>\n",
              "      <td>Eminem</td>\n",
              "      <td>detroit hip hop</td>\n",
              "      <td>2010</td>\n",
              "      <td>87</td>\n",
              "      <td>93</td>\n",
              "      <td>75</td>\n",
              "      <td>-5</td>\n",
              "      <td>52</td>\n",
              "      <td>64</td>\n",
              "      <td>263</td>\n",
              "      <td>24</td>\n",
              "      <td>23</td>\n",
              "      <td>82</td>\n",
              "    </tr>\n",
              "    <tr>\n",
              "      <th>2</th>\n",
              "      <td>3</td>\n",
              "      <td>TiK ToK</td>\n",
              "      <td>Kesha</td>\n",
              "      <td>dance pop</td>\n",
              "      <td>2010</td>\n",
              "      <td>120</td>\n",
              "      <td>84</td>\n",
              "      <td>76</td>\n",
              "      <td>-3</td>\n",
              "      <td>29</td>\n",
              "      <td>71</td>\n",
              "      <td>200</td>\n",
              "      <td>10</td>\n",
              "      <td>14</td>\n",
              "      <td>80</td>\n",
              "    </tr>\n",
              "    <tr>\n",
              "      <th>3</th>\n",
              "      <td>4</td>\n",
              "      <td>Bad Romance</td>\n",
              "      <td>Lady Gaga</td>\n",
              "      <td>dance pop</td>\n",
              "      <td>2010</td>\n",
              "      <td>119</td>\n",
              "      <td>92</td>\n",
              "      <td>70</td>\n",
              "      <td>-4</td>\n",
              "      <td>8</td>\n",
              "      <td>71</td>\n",
              "      <td>295</td>\n",
              "      <td>0</td>\n",
              "      <td>4</td>\n",
              "      <td>79</td>\n",
              "    </tr>\n",
              "    <tr>\n",
              "      <th>4</th>\n",
              "      <td>5</td>\n",
              "      <td>Just the Way You Are</td>\n",
              "      <td>Bruno Mars</td>\n",
              "      <td>pop</td>\n",
              "      <td>2010</td>\n",
              "      <td>109</td>\n",
              "      <td>84</td>\n",
              "      <td>64</td>\n",
              "      <td>-5</td>\n",
              "      <td>9</td>\n",
              "      <td>43</td>\n",
              "      <td>221</td>\n",
              "      <td>2</td>\n",
              "      <td>4</td>\n",
              "      <td>78</td>\n",
              "    </tr>\n",
              "  </tbody>\n",
              "</table>\n",
              "</div>\n",
              "      <button class=\"colab-df-convert\" onclick=\"convertToInteractive('df-85020d01-f07d-45d7-b5de-75a59d969d07')\"\n",
              "              title=\"Convert this dataframe to an interactive table.\"\n",
              "              style=\"display:none;\">\n",
              "        \n",
              "  <svg xmlns=\"http://www.w3.org/2000/svg\" height=\"24px\"viewBox=\"0 0 24 24\"\n",
              "       width=\"24px\">\n",
              "    <path d=\"M0 0h24v24H0V0z\" fill=\"none\"/>\n",
              "    <path d=\"M18.56 5.44l.94 2.06.94-2.06 2.06-.94-2.06-.94-.94-2.06-.94 2.06-2.06.94zm-11 1L8.5 8.5l.94-2.06 2.06-.94-2.06-.94L8.5 2.5l-.94 2.06-2.06.94zm10 10l.94 2.06.94-2.06 2.06-.94-2.06-.94-.94-2.06-.94 2.06-2.06.94z\"/><path d=\"M17.41 7.96l-1.37-1.37c-.4-.4-.92-.59-1.43-.59-.52 0-1.04.2-1.43.59L10.3 9.45l-7.72 7.72c-.78.78-.78 2.05 0 2.83L4 21.41c.39.39.9.59 1.41.59.51 0 1.02-.2 1.41-.59l7.78-7.78 2.81-2.81c.8-.78.8-2.07 0-2.86zM5.41 20L4 18.59l7.72-7.72 1.47 1.35L5.41 20z\"/>\n",
              "  </svg>\n",
              "      </button>\n",
              "      \n",
              "  <style>\n",
              "    .colab-df-container {\n",
              "      display:flex;\n",
              "      flex-wrap:wrap;\n",
              "      gap: 12px;\n",
              "    }\n",
              "\n",
              "    .colab-df-convert {\n",
              "      background-color: #E8F0FE;\n",
              "      border: none;\n",
              "      border-radius: 50%;\n",
              "      cursor: pointer;\n",
              "      display: none;\n",
              "      fill: #1967D2;\n",
              "      height: 32px;\n",
              "      padding: 0 0 0 0;\n",
              "      width: 32px;\n",
              "    }\n",
              "\n",
              "    .colab-df-convert:hover {\n",
              "      background-color: #E2EBFA;\n",
              "      box-shadow: 0px 1px 2px rgba(60, 64, 67, 0.3), 0px 1px 3px 1px rgba(60, 64, 67, 0.15);\n",
              "      fill: #174EA6;\n",
              "    }\n",
              "\n",
              "    [theme=dark] .colab-df-convert {\n",
              "      background-color: #3B4455;\n",
              "      fill: #D2E3FC;\n",
              "    }\n",
              "\n",
              "    [theme=dark] .colab-df-convert:hover {\n",
              "      background-color: #434B5C;\n",
              "      box-shadow: 0px 1px 3px 1px rgba(0, 0, 0, 0.15);\n",
              "      filter: drop-shadow(0px 1px 2px rgba(0, 0, 0, 0.3));\n",
              "      fill: #FFFFFF;\n",
              "    }\n",
              "  </style>\n",
              "\n",
              "      <script>\n",
              "        const buttonEl =\n",
              "          document.querySelector('#df-85020d01-f07d-45d7-b5de-75a59d969d07 button.colab-df-convert');\n",
              "        buttonEl.style.display =\n",
              "          google.colab.kernel.accessAllowed ? 'block' : 'none';\n",
              "\n",
              "        async function convertToInteractive(key) {\n",
              "          const element = document.querySelector('#df-85020d01-f07d-45d7-b5de-75a59d969d07');\n",
              "          const dataTable =\n",
              "            await google.colab.kernel.invokeFunction('convertToInteractive',\n",
              "                                                     [key], {});\n",
              "          if (!dataTable) return;\n",
              "\n",
              "          const docLinkHtml = 'Like what you see? Visit the ' +\n",
              "            '<a target=\"_blank\" href=https://colab.research.google.com/notebooks/data_table.ipynb>data table notebook</a>'\n",
              "            + ' to learn more about interactive tables.';\n",
              "          element.innerHTML = '';\n",
              "          dataTable['output_type'] = 'display_data';\n",
              "          await google.colab.output.renderOutput(dataTable, element);\n",
              "          const docLink = document.createElement('div');\n",
              "          docLink.innerHTML = docLinkHtml;\n",
              "          element.appendChild(docLink);\n",
              "        }\n",
              "      </script>\n",
              "    </div>\n",
              "  </div>\n",
              "  "
            ],
            "text/plain": [
              "   id                 title      artist        top genre  ...  dur  acous  spch  pop\n",
              "0   1      Hey, Soul Sister       Train       neo mellow  ...  217     19     4   83\n",
              "1   2  Love The Way You Lie      Eminem  detroit hip hop  ...  263     24    23   82\n",
              "2   3               TiK ToK       Kesha        dance pop  ...  200     10    14   80\n",
              "3   4           Bad Romance   Lady Gaga        dance pop  ...  295      0     4   79\n",
              "4   5  Just the Way You Are  Bruno Mars              pop  ...  221      2     4   78\n",
              "\n",
              "[5 rows x 15 columns]"
            ]
          },
          "metadata": {},
          "execution_count": 40
        }
      ]
    },
    {
      "cell_type": "markdown",
      "source": [
        "**Checking for any null values in the dataset**"
      ],
      "metadata": {
        "id": "V6R7ZSQsF9zJ"
      }
    },
    {
      "cell_type": "code",
      "source": [
        "df.isnull().any()"
      ],
      "metadata": {
        "colab": {
          "base_uri": "https://localhost:8080/"
        },
        "id": "zIpCu1VxMHOR",
        "outputId": "978d9f54-f2ec-4bd4-d4aa-70cda2dfb3fd"
      },
      "execution_count": null,
      "outputs": [
        {
          "output_type": "execute_result",
          "data": {
            "text/plain": [
              "id           False\n",
              "title        False\n",
              "artist       False\n",
              "top genre    False\n",
              "year         False\n",
              "bpm          False\n",
              "nrgy         False\n",
              "dnce         False\n",
              "dB           False\n",
              "live         False\n",
              "val          False\n",
              "dur          False\n",
              "acous        False\n",
              "spch         False\n",
              "pop          False\n",
              "dtype: bool"
            ]
          },
          "metadata": {},
          "execution_count": 41
        }
      ]
    },
    {
      "cell_type": "markdown",
      "source": [
        "**Dropping duplicate values in the dataset**"
      ],
      "metadata": {
        "id": "yCdWe4EbGE9E"
      }
    },
    {
      "cell_type": "code",
      "source": [
        "df = df.drop_duplicates()\n",
        "df.shape"
      ],
      "metadata": {
        "colab": {
          "base_uri": "https://localhost:8080/"
        },
        "id": "i4_Jn5luMKhx",
        "outputId": "5f0a6157-2b0a-4d0f-b44b-d700878f1264"
      },
      "execution_count": null,
      "outputs": [
        {
          "output_type": "execute_result",
          "data": {
            "text/plain": [
              "(603, 15)"
            ]
          },
          "metadata": {},
          "execution_count": 42
        }
      ]
    },
    {
      "cell_type": "markdown",
      "source": [
        "**Dropping ID column in the dataset**"
      ],
      "metadata": {
        "id": "llZM7cYiGP1M"
      }
    },
    {
      "cell_type": "code",
      "source": [
        "df = df.drop(['id'], axis=1)\n",
        "df.head()"
      ],
      "metadata": {
        "colab": {
          "base_uri": "https://localhost:8080/",
          "height": 206
        },
        "id": "g9Bn2K84G-Gt",
        "outputId": "2e0b8b02-31cc-446a-852d-c1deff970779"
      },
      "execution_count": null,
      "outputs": [
        {
          "output_type": "execute_result",
          "data": {
            "text/html": [
              "\n",
              "  <div id=\"df-ba39eaae-e377-4c0e-955d-9922db1ef6e3\">\n",
              "    <div class=\"colab-df-container\">\n",
              "      <div>\n",
              "<style scoped>\n",
              "    .dataframe tbody tr th:only-of-type {\n",
              "        vertical-align: middle;\n",
              "    }\n",
              "\n",
              "    .dataframe tbody tr th {\n",
              "        vertical-align: top;\n",
              "    }\n",
              "\n",
              "    .dataframe thead th {\n",
              "        text-align: right;\n",
              "    }\n",
              "</style>\n",
              "<table border=\"1\" class=\"dataframe\">\n",
              "  <thead>\n",
              "    <tr style=\"text-align: right;\">\n",
              "      <th></th>\n",
              "      <th>title</th>\n",
              "      <th>artist</th>\n",
              "      <th>top genre</th>\n",
              "      <th>year</th>\n",
              "      <th>bpm</th>\n",
              "      <th>nrgy</th>\n",
              "      <th>dnce</th>\n",
              "      <th>dB</th>\n",
              "      <th>live</th>\n",
              "      <th>val</th>\n",
              "      <th>dur</th>\n",
              "      <th>acous</th>\n",
              "      <th>spch</th>\n",
              "      <th>pop</th>\n",
              "    </tr>\n",
              "  </thead>\n",
              "  <tbody>\n",
              "    <tr>\n",
              "      <th>0</th>\n",
              "      <td>Hey, Soul Sister</td>\n",
              "      <td>Train</td>\n",
              "      <td>neo mellow</td>\n",
              "      <td>2010</td>\n",
              "      <td>97</td>\n",
              "      <td>89</td>\n",
              "      <td>67</td>\n",
              "      <td>-4</td>\n",
              "      <td>8</td>\n",
              "      <td>80</td>\n",
              "      <td>217</td>\n",
              "      <td>19</td>\n",
              "      <td>4</td>\n",
              "      <td>83</td>\n",
              "    </tr>\n",
              "    <tr>\n",
              "      <th>1</th>\n",
              "      <td>Love The Way You Lie</td>\n",
              "      <td>Eminem</td>\n",
              "      <td>detroit hip hop</td>\n",
              "      <td>2010</td>\n",
              "      <td>87</td>\n",
              "      <td>93</td>\n",
              "      <td>75</td>\n",
              "      <td>-5</td>\n",
              "      <td>52</td>\n",
              "      <td>64</td>\n",
              "      <td>263</td>\n",
              "      <td>24</td>\n",
              "      <td>23</td>\n",
              "      <td>82</td>\n",
              "    </tr>\n",
              "    <tr>\n",
              "      <th>2</th>\n",
              "      <td>TiK ToK</td>\n",
              "      <td>Kesha</td>\n",
              "      <td>dance pop</td>\n",
              "      <td>2010</td>\n",
              "      <td>120</td>\n",
              "      <td>84</td>\n",
              "      <td>76</td>\n",
              "      <td>-3</td>\n",
              "      <td>29</td>\n",
              "      <td>71</td>\n",
              "      <td>200</td>\n",
              "      <td>10</td>\n",
              "      <td>14</td>\n",
              "      <td>80</td>\n",
              "    </tr>\n",
              "    <tr>\n",
              "      <th>3</th>\n",
              "      <td>Bad Romance</td>\n",
              "      <td>Lady Gaga</td>\n",
              "      <td>dance pop</td>\n",
              "      <td>2010</td>\n",
              "      <td>119</td>\n",
              "      <td>92</td>\n",
              "      <td>70</td>\n",
              "      <td>-4</td>\n",
              "      <td>8</td>\n",
              "      <td>71</td>\n",
              "      <td>295</td>\n",
              "      <td>0</td>\n",
              "      <td>4</td>\n",
              "      <td>79</td>\n",
              "    </tr>\n",
              "    <tr>\n",
              "      <th>4</th>\n",
              "      <td>Just the Way You Are</td>\n",
              "      <td>Bruno Mars</td>\n",
              "      <td>pop</td>\n",
              "      <td>2010</td>\n",
              "      <td>109</td>\n",
              "      <td>84</td>\n",
              "      <td>64</td>\n",
              "      <td>-5</td>\n",
              "      <td>9</td>\n",
              "      <td>43</td>\n",
              "      <td>221</td>\n",
              "      <td>2</td>\n",
              "      <td>4</td>\n",
              "      <td>78</td>\n",
              "    </tr>\n",
              "  </tbody>\n",
              "</table>\n",
              "</div>\n",
              "      <button class=\"colab-df-convert\" onclick=\"convertToInteractive('df-ba39eaae-e377-4c0e-955d-9922db1ef6e3')\"\n",
              "              title=\"Convert this dataframe to an interactive table.\"\n",
              "              style=\"display:none;\">\n",
              "        \n",
              "  <svg xmlns=\"http://www.w3.org/2000/svg\" height=\"24px\"viewBox=\"0 0 24 24\"\n",
              "       width=\"24px\">\n",
              "    <path d=\"M0 0h24v24H0V0z\" fill=\"none\"/>\n",
              "    <path d=\"M18.56 5.44l.94 2.06.94-2.06 2.06-.94-2.06-.94-.94-2.06-.94 2.06-2.06.94zm-11 1L8.5 8.5l.94-2.06 2.06-.94-2.06-.94L8.5 2.5l-.94 2.06-2.06.94zm10 10l.94 2.06.94-2.06 2.06-.94-2.06-.94-.94-2.06-.94 2.06-2.06.94z\"/><path d=\"M17.41 7.96l-1.37-1.37c-.4-.4-.92-.59-1.43-.59-.52 0-1.04.2-1.43.59L10.3 9.45l-7.72 7.72c-.78.78-.78 2.05 0 2.83L4 21.41c.39.39.9.59 1.41.59.51 0 1.02-.2 1.41-.59l7.78-7.78 2.81-2.81c.8-.78.8-2.07 0-2.86zM5.41 20L4 18.59l7.72-7.72 1.47 1.35L5.41 20z\"/>\n",
              "  </svg>\n",
              "      </button>\n",
              "      \n",
              "  <style>\n",
              "    .colab-df-container {\n",
              "      display:flex;\n",
              "      flex-wrap:wrap;\n",
              "      gap: 12px;\n",
              "    }\n",
              "\n",
              "    .colab-df-convert {\n",
              "      background-color: #E8F0FE;\n",
              "      border: none;\n",
              "      border-radius: 50%;\n",
              "      cursor: pointer;\n",
              "      display: none;\n",
              "      fill: #1967D2;\n",
              "      height: 32px;\n",
              "      padding: 0 0 0 0;\n",
              "      width: 32px;\n",
              "    }\n",
              "\n",
              "    .colab-df-convert:hover {\n",
              "      background-color: #E2EBFA;\n",
              "      box-shadow: 0px 1px 2px rgba(60, 64, 67, 0.3), 0px 1px 3px 1px rgba(60, 64, 67, 0.15);\n",
              "      fill: #174EA6;\n",
              "    }\n",
              "\n",
              "    [theme=dark] .colab-df-convert {\n",
              "      background-color: #3B4455;\n",
              "      fill: #D2E3FC;\n",
              "    }\n",
              "\n",
              "    [theme=dark] .colab-df-convert:hover {\n",
              "      background-color: #434B5C;\n",
              "      box-shadow: 0px 1px 3px 1px rgba(0, 0, 0, 0.15);\n",
              "      filter: drop-shadow(0px 1px 2px rgba(0, 0, 0, 0.3));\n",
              "      fill: #FFFFFF;\n",
              "    }\n",
              "  </style>\n",
              "\n",
              "      <script>\n",
              "        const buttonEl =\n",
              "          document.querySelector('#df-ba39eaae-e377-4c0e-955d-9922db1ef6e3 button.colab-df-convert');\n",
              "        buttonEl.style.display =\n",
              "          google.colab.kernel.accessAllowed ? 'block' : 'none';\n",
              "\n",
              "        async function convertToInteractive(key) {\n",
              "          const element = document.querySelector('#df-ba39eaae-e377-4c0e-955d-9922db1ef6e3');\n",
              "          const dataTable =\n",
              "            await google.colab.kernel.invokeFunction('convertToInteractive',\n",
              "                                                     [key], {});\n",
              "          if (!dataTable) return;\n",
              "\n",
              "          const docLinkHtml = 'Like what you see? Visit the ' +\n",
              "            '<a target=\"_blank\" href=https://colab.research.google.com/notebooks/data_table.ipynb>data table notebook</a>'\n",
              "            + ' to learn more about interactive tables.';\n",
              "          element.innerHTML = '';\n",
              "          dataTable['output_type'] = 'display_data';\n",
              "          await google.colab.output.renderOutput(dataTable, element);\n",
              "          const docLink = document.createElement('div');\n",
              "          docLink.innerHTML = docLinkHtml;\n",
              "          element.appendChild(docLink);\n",
              "        }\n",
              "      </script>\n",
              "    </div>\n",
              "  </div>\n",
              "  "
            ],
            "text/plain": [
              "                  title      artist        top genre  ...  acous  spch  pop\n",
              "0      Hey, Soul Sister       Train       neo mellow  ...     19     4   83\n",
              "1  Love The Way You Lie      Eminem  detroit hip hop  ...     24    23   82\n",
              "2               TiK ToK       Kesha        dance pop  ...     10    14   80\n",
              "3           Bad Romance   Lady Gaga        dance pop  ...      0     4   79\n",
              "4  Just the Way You Are  Bruno Mars              pop  ...      2     4   78\n",
              "\n",
              "[5 rows x 14 columns]"
            ]
          },
          "metadata": {},
          "execution_count": 43
        }
      ]
    },
    {
      "cell_type": "code",
      "source": [
        "df['top genre'].value_counts().head()\n",
        "df['artist'].value_counts().head()\n",
        "df['title'].value_counts().head()\n",
        "df['year'].value_counts().head()"
      ],
      "metadata": {
        "colab": {
          "base_uri": "https://localhost:8080/"
        },
        "id": "4Ad3t3ibMTAK",
        "outputId": "152f7be2-d870-407b-8831-a3c411a5be49"
      },
      "execution_count": null,
      "outputs": [
        {
          "output_type": "execute_result",
          "data": {
            "text/plain": [
              "dance pop        327\n",
              "pop               60\n",
              "canadian pop      34\n",
              "barbadian pop     15\n",
              "boy band          15\n",
              "Name: top genre, dtype: int64"
            ]
          },
          "metadata": {},
          "execution_count": 44
        },
        {
          "output_type": "execute_result",
          "data": {
            "text/plain": [
              "Katy Perry       17\n",
              "Justin Bieber    16\n",
              "Rihanna          15\n",
              "Maroon 5         15\n",
              "Lady Gaga        14\n",
              "Name: artist, dtype: int64"
            ]
          },
          "metadata": {},
          "execution_count": 44
        },
        {
          "output_type": "execute_result",
          "data": {
            "text/plain": [
              "A Little Party Never Killed Nobody (All We Got)    2\n",
              "All I Ask                                          2\n",
              "Kissing Strangers                                  2\n",
              "Written in the Stars (feat. Eric Turner)           2\n",
              "The Hills                                          2\n",
              "Name: title, dtype: int64"
            ]
          },
          "metadata": {},
          "execution_count": 44
        },
        {
          "output_type": "execute_result",
          "data": {
            "text/plain": [
              "2015    95\n",
              "2016    80\n",
              "2013    71\n",
              "2017    65\n",
              "2018    64\n",
              "Name: year, dtype: int64"
            ]
          },
          "metadata": {},
          "execution_count": 44
        }
      ]
    },
    {
      "cell_type": "code",
      "source": [
        "df[df.title == 'Company']"
      ],
      "metadata": {
        "colab": {
          "base_uri": "https://localhost:8080/",
          "height": 112
        },
        "id": "0x1fLdwaMUyJ",
        "outputId": "e40ba490-4d5b-4438-de5d-7118e7ac04ac"
      },
      "execution_count": null,
      "outputs": [
        {
          "output_type": "execute_result",
          "data": {
            "text/html": [
              "\n",
              "  <div id=\"df-c9842ee7-8e2f-4187-adf7-18d9ffb985c2\">\n",
              "    <div class=\"colab-df-container\">\n",
              "      <div>\n",
              "<style scoped>\n",
              "    .dataframe tbody tr th:only-of-type {\n",
              "        vertical-align: middle;\n",
              "    }\n",
              "\n",
              "    .dataframe tbody tr th {\n",
              "        vertical-align: top;\n",
              "    }\n",
              "\n",
              "    .dataframe thead th {\n",
              "        text-align: right;\n",
              "    }\n",
              "</style>\n",
              "<table border=\"1\" class=\"dataframe\">\n",
              "  <thead>\n",
              "    <tr style=\"text-align: right;\">\n",
              "      <th></th>\n",
              "      <th>title</th>\n",
              "      <th>artist</th>\n",
              "      <th>top genre</th>\n",
              "      <th>year</th>\n",
              "      <th>bpm</th>\n",
              "      <th>nrgy</th>\n",
              "      <th>dnce</th>\n",
              "      <th>dB</th>\n",
              "      <th>live</th>\n",
              "      <th>val</th>\n",
              "      <th>dur</th>\n",
              "      <th>acous</th>\n",
              "      <th>spch</th>\n",
              "      <th>pop</th>\n",
              "    </tr>\n",
              "  </thead>\n",
              "  <tbody>\n",
              "    <tr>\n",
              "      <th>301</th>\n",
              "      <td>Company</td>\n",
              "      <td>Justin Bieber</td>\n",
              "      <td>canadian pop</td>\n",
              "      <td>2015</td>\n",
              "      <td>95</td>\n",
              "      <td>80</td>\n",
              "      <td>59</td>\n",
              "      <td>-5</td>\n",
              "      <td>8</td>\n",
              "      <td>43</td>\n",
              "      <td>208</td>\n",
              "      <td>13</td>\n",
              "      <td>6</td>\n",
              "      <td>72</td>\n",
              "    </tr>\n",
              "    <tr>\n",
              "      <th>396</th>\n",
              "      <td>Company</td>\n",
              "      <td>Justin Bieber</td>\n",
              "      <td>canadian pop</td>\n",
              "      <td>2016</td>\n",
              "      <td>95</td>\n",
              "      <td>80</td>\n",
              "      <td>59</td>\n",
              "      <td>-5</td>\n",
              "      <td>8</td>\n",
              "      <td>43</td>\n",
              "      <td>208</td>\n",
              "      <td>13</td>\n",
              "      <td>6</td>\n",
              "      <td>72</td>\n",
              "    </tr>\n",
              "  </tbody>\n",
              "</table>\n",
              "</div>\n",
              "      <button class=\"colab-df-convert\" onclick=\"convertToInteractive('df-c9842ee7-8e2f-4187-adf7-18d9ffb985c2')\"\n",
              "              title=\"Convert this dataframe to an interactive table.\"\n",
              "              style=\"display:none;\">\n",
              "        \n",
              "  <svg xmlns=\"http://www.w3.org/2000/svg\" height=\"24px\"viewBox=\"0 0 24 24\"\n",
              "       width=\"24px\">\n",
              "    <path d=\"M0 0h24v24H0V0z\" fill=\"none\"/>\n",
              "    <path d=\"M18.56 5.44l.94 2.06.94-2.06 2.06-.94-2.06-.94-.94-2.06-.94 2.06-2.06.94zm-11 1L8.5 8.5l.94-2.06 2.06-.94-2.06-.94L8.5 2.5l-.94 2.06-2.06.94zm10 10l.94 2.06.94-2.06 2.06-.94-2.06-.94-.94-2.06-.94 2.06-2.06.94z\"/><path d=\"M17.41 7.96l-1.37-1.37c-.4-.4-.92-.59-1.43-.59-.52 0-1.04.2-1.43.59L10.3 9.45l-7.72 7.72c-.78.78-.78 2.05 0 2.83L4 21.41c.39.39.9.59 1.41.59.51 0 1.02-.2 1.41-.59l7.78-7.78 2.81-2.81c.8-.78.8-2.07 0-2.86zM5.41 20L4 18.59l7.72-7.72 1.47 1.35L5.41 20z\"/>\n",
              "  </svg>\n",
              "      </button>\n",
              "      \n",
              "  <style>\n",
              "    .colab-df-container {\n",
              "      display:flex;\n",
              "      flex-wrap:wrap;\n",
              "      gap: 12px;\n",
              "    }\n",
              "\n",
              "    .colab-df-convert {\n",
              "      background-color: #E8F0FE;\n",
              "      border: none;\n",
              "      border-radius: 50%;\n",
              "      cursor: pointer;\n",
              "      display: none;\n",
              "      fill: #1967D2;\n",
              "      height: 32px;\n",
              "      padding: 0 0 0 0;\n",
              "      width: 32px;\n",
              "    }\n",
              "\n",
              "    .colab-df-convert:hover {\n",
              "      background-color: #E2EBFA;\n",
              "      box-shadow: 0px 1px 2px rgba(60, 64, 67, 0.3), 0px 1px 3px 1px rgba(60, 64, 67, 0.15);\n",
              "      fill: #174EA6;\n",
              "    }\n",
              "\n",
              "    [theme=dark] .colab-df-convert {\n",
              "      background-color: #3B4455;\n",
              "      fill: #D2E3FC;\n",
              "    }\n",
              "\n",
              "    [theme=dark] .colab-df-convert:hover {\n",
              "      background-color: #434B5C;\n",
              "      box-shadow: 0px 1px 3px 1px rgba(0, 0, 0, 0.15);\n",
              "      filter: drop-shadow(0px 1px 2px rgba(0, 0, 0, 0.3));\n",
              "      fill: #FFFFFF;\n",
              "    }\n",
              "  </style>\n",
              "\n",
              "      <script>\n",
              "        const buttonEl =\n",
              "          document.querySelector('#df-c9842ee7-8e2f-4187-adf7-18d9ffb985c2 button.colab-df-convert');\n",
              "        buttonEl.style.display =\n",
              "          google.colab.kernel.accessAllowed ? 'block' : 'none';\n",
              "\n",
              "        async function convertToInteractive(key) {\n",
              "          const element = document.querySelector('#df-c9842ee7-8e2f-4187-adf7-18d9ffb985c2');\n",
              "          const dataTable =\n",
              "            await google.colab.kernel.invokeFunction('convertToInteractive',\n",
              "                                                     [key], {});\n",
              "          if (!dataTable) return;\n",
              "\n",
              "          const docLinkHtml = 'Like what you see? Visit the ' +\n",
              "            '<a target=\"_blank\" href=https://colab.research.google.com/notebooks/data_table.ipynb>data table notebook</a>'\n",
              "            + ' to learn more about interactive tables.';\n",
              "          element.innerHTML = '';\n",
              "          dataTable['output_type'] = 'display_data';\n",
              "          await google.colab.output.renderOutput(dataTable, element);\n",
              "          const docLink = document.createElement('div');\n",
              "          docLink.innerHTML = docLinkHtml;\n",
              "          element.appendChild(docLink);\n",
              "        }\n",
              "      </script>\n",
              "    </div>\n",
              "  </div>\n",
              "  "
            ],
            "text/plain": [
              "       title         artist     top genre  year  ...  dur  acous  spch  pop\n",
              "301  Company  Justin Bieber  canadian pop  2015  ...  208     13     6   72\n",
              "396  Company  Justin Bieber  canadian pop  2016  ...  208     13     6   72\n",
              "\n",
              "[2 rows x 14 columns]"
            ]
          },
          "metadata": {},
          "execution_count": 45
        }
      ]
    },
    {
      "cell_type": "code",
      "source": [
        "yearless_df = df.drop(['year', 'title', 'pop'], axis=1)\n",
        "yearless_df.drop_duplicates()"
      ],
      "metadata": {
        "colab": {
          "base_uri": "https://localhost:8080/",
          "height": 424
        },
        "id": "mQusIXyFMXA7",
        "outputId": "93081ff1-7a3a-4593-d33c-94ad2e7315ca"
      },
      "execution_count": null,
      "outputs": [
        {
          "output_type": "execute_result",
          "data": {
            "text/html": [
              "\n",
              "  <div id=\"df-e6a2df11-fe60-40e8-a15a-1ec66598c218\">\n",
              "    <div class=\"colab-df-container\">\n",
              "      <div>\n",
              "<style scoped>\n",
              "    .dataframe tbody tr th:only-of-type {\n",
              "        vertical-align: middle;\n",
              "    }\n",
              "\n",
              "    .dataframe tbody tr th {\n",
              "        vertical-align: top;\n",
              "    }\n",
              "\n",
              "    .dataframe thead th {\n",
              "        text-align: right;\n",
              "    }\n",
              "</style>\n",
              "<table border=\"1\" class=\"dataframe\">\n",
              "  <thead>\n",
              "    <tr style=\"text-align: right;\">\n",
              "      <th></th>\n",
              "      <th>artist</th>\n",
              "      <th>top genre</th>\n",
              "      <th>bpm</th>\n",
              "      <th>nrgy</th>\n",
              "      <th>dnce</th>\n",
              "      <th>dB</th>\n",
              "      <th>live</th>\n",
              "      <th>val</th>\n",
              "      <th>dur</th>\n",
              "      <th>acous</th>\n",
              "      <th>spch</th>\n",
              "    </tr>\n",
              "  </thead>\n",
              "  <tbody>\n",
              "    <tr>\n",
              "      <th>0</th>\n",
              "      <td>Train</td>\n",
              "      <td>neo mellow</td>\n",
              "      <td>97</td>\n",
              "      <td>89</td>\n",
              "      <td>67</td>\n",
              "      <td>-4</td>\n",
              "      <td>8</td>\n",
              "      <td>80</td>\n",
              "      <td>217</td>\n",
              "      <td>19</td>\n",
              "      <td>4</td>\n",
              "    </tr>\n",
              "    <tr>\n",
              "      <th>1</th>\n",
              "      <td>Eminem</td>\n",
              "      <td>detroit hip hop</td>\n",
              "      <td>87</td>\n",
              "      <td>93</td>\n",
              "      <td>75</td>\n",
              "      <td>-5</td>\n",
              "      <td>52</td>\n",
              "      <td>64</td>\n",
              "      <td>263</td>\n",
              "      <td>24</td>\n",
              "      <td>23</td>\n",
              "    </tr>\n",
              "    <tr>\n",
              "      <th>2</th>\n",
              "      <td>Kesha</td>\n",
              "      <td>dance pop</td>\n",
              "      <td>120</td>\n",
              "      <td>84</td>\n",
              "      <td>76</td>\n",
              "      <td>-3</td>\n",
              "      <td>29</td>\n",
              "      <td>71</td>\n",
              "      <td>200</td>\n",
              "      <td>10</td>\n",
              "      <td>14</td>\n",
              "    </tr>\n",
              "    <tr>\n",
              "      <th>3</th>\n",
              "      <td>Lady Gaga</td>\n",
              "      <td>dance pop</td>\n",
              "      <td>119</td>\n",
              "      <td>92</td>\n",
              "      <td>70</td>\n",
              "      <td>-4</td>\n",
              "      <td>8</td>\n",
              "      <td>71</td>\n",
              "      <td>295</td>\n",
              "      <td>0</td>\n",
              "      <td>4</td>\n",
              "    </tr>\n",
              "    <tr>\n",
              "      <th>4</th>\n",
              "      <td>Bruno Mars</td>\n",
              "      <td>pop</td>\n",
              "      <td>109</td>\n",
              "      <td>84</td>\n",
              "      <td>64</td>\n",
              "      <td>-5</td>\n",
              "      <td>9</td>\n",
              "      <td>43</td>\n",
              "      <td>221</td>\n",
              "      <td>2</td>\n",
              "      <td>4</td>\n",
              "    </tr>\n",
              "    <tr>\n",
              "      <th>...</th>\n",
              "      <td>...</td>\n",
              "      <td>...</td>\n",
              "      <td>...</td>\n",
              "      <td>...</td>\n",
              "      <td>...</td>\n",
              "      <td>...</td>\n",
              "      <td>...</td>\n",
              "      <td>...</td>\n",
              "      <td>...</td>\n",
              "      <td>...</td>\n",
              "      <td>...</td>\n",
              "    </tr>\n",
              "    <tr>\n",
              "      <th>598</th>\n",
              "      <td>Mark Ronson</td>\n",
              "      <td>dance pop</td>\n",
              "      <td>104</td>\n",
              "      <td>66</td>\n",
              "      <td>61</td>\n",
              "      <td>-7</td>\n",
              "      <td>20</td>\n",
              "      <td>16</td>\n",
              "      <td>176</td>\n",
              "      <td>1</td>\n",
              "      <td>3</td>\n",
              "    </tr>\n",
              "    <tr>\n",
              "      <th>599</th>\n",
              "      <td>Ed Sheeran</td>\n",
              "      <td>pop</td>\n",
              "      <td>95</td>\n",
              "      <td>79</td>\n",
              "      <td>75</td>\n",
              "      <td>-6</td>\n",
              "      <td>7</td>\n",
              "      <td>61</td>\n",
              "      <td>206</td>\n",
              "      <td>21</td>\n",
              "      <td>12</td>\n",
              "    </tr>\n",
              "    <tr>\n",
              "      <th>600</th>\n",
              "      <td>DJ Khaled</td>\n",
              "      <td>dance pop</td>\n",
              "      <td>136</td>\n",
              "      <td>76</td>\n",
              "      <td>53</td>\n",
              "      <td>-5</td>\n",
              "      <td>9</td>\n",
              "      <td>65</td>\n",
              "      <td>260</td>\n",
              "      <td>7</td>\n",
              "      <td>34</td>\n",
              "    </tr>\n",
              "    <tr>\n",
              "      <th>601</th>\n",
              "      <td>Mark Ronson</td>\n",
              "      <td>dance pop</td>\n",
              "      <td>114</td>\n",
              "      <td>79</td>\n",
              "      <td>60</td>\n",
              "      <td>-6</td>\n",
              "      <td>42</td>\n",
              "      <td>24</td>\n",
              "      <td>217</td>\n",
              "      <td>1</td>\n",
              "      <td>7</td>\n",
              "    </tr>\n",
              "    <tr>\n",
              "      <th>602</th>\n",
              "      <td>The Chainsmokers</td>\n",
              "      <td>electropop</td>\n",
              "      <td>150</td>\n",
              "      <td>44</td>\n",
              "      <td>70</td>\n",
              "      <td>-9</td>\n",
              "      <td>13</td>\n",
              "      <td>23</td>\n",
              "      <td>213</td>\n",
              "      <td>6</td>\n",
              "      <td>6</td>\n",
              "    </tr>\n",
              "  </tbody>\n",
              "</table>\n",
              "<p>587 rows × 11 columns</p>\n",
              "</div>\n",
              "      <button class=\"colab-df-convert\" onclick=\"convertToInteractive('df-e6a2df11-fe60-40e8-a15a-1ec66598c218')\"\n",
              "              title=\"Convert this dataframe to an interactive table.\"\n",
              "              style=\"display:none;\">\n",
              "        \n",
              "  <svg xmlns=\"http://www.w3.org/2000/svg\" height=\"24px\"viewBox=\"0 0 24 24\"\n",
              "       width=\"24px\">\n",
              "    <path d=\"M0 0h24v24H0V0z\" fill=\"none\"/>\n",
              "    <path d=\"M18.56 5.44l.94 2.06.94-2.06 2.06-.94-2.06-.94-.94-2.06-.94 2.06-2.06.94zm-11 1L8.5 8.5l.94-2.06 2.06-.94-2.06-.94L8.5 2.5l-.94 2.06-2.06.94zm10 10l.94 2.06.94-2.06 2.06-.94-2.06-.94-.94-2.06-.94 2.06-2.06.94z\"/><path d=\"M17.41 7.96l-1.37-1.37c-.4-.4-.92-.59-1.43-.59-.52 0-1.04.2-1.43.59L10.3 9.45l-7.72 7.72c-.78.78-.78 2.05 0 2.83L4 21.41c.39.39.9.59 1.41.59.51 0 1.02-.2 1.41-.59l7.78-7.78 2.81-2.81c.8-.78.8-2.07 0-2.86zM5.41 20L4 18.59l7.72-7.72 1.47 1.35L5.41 20z\"/>\n",
              "  </svg>\n",
              "      </button>\n",
              "      \n",
              "  <style>\n",
              "    .colab-df-container {\n",
              "      display:flex;\n",
              "      flex-wrap:wrap;\n",
              "      gap: 12px;\n",
              "    }\n",
              "\n",
              "    .colab-df-convert {\n",
              "      background-color: #E8F0FE;\n",
              "      border: none;\n",
              "      border-radius: 50%;\n",
              "      cursor: pointer;\n",
              "      display: none;\n",
              "      fill: #1967D2;\n",
              "      height: 32px;\n",
              "      padding: 0 0 0 0;\n",
              "      width: 32px;\n",
              "    }\n",
              "\n",
              "    .colab-df-convert:hover {\n",
              "      background-color: #E2EBFA;\n",
              "      box-shadow: 0px 1px 2px rgba(60, 64, 67, 0.3), 0px 1px 3px 1px rgba(60, 64, 67, 0.15);\n",
              "      fill: #174EA6;\n",
              "    }\n",
              "\n",
              "    [theme=dark] .colab-df-convert {\n",
              "      background-color: #3B4455;\n",
              "      fill: #D2E3FC;\n",
              "    }\n",
              "\n",
              "    [theme=dark] .colab-df-convert:hover {\n",
              "      background-color: #434B5C;\n",
              "      box-shadow: 0px 1px 3px 1px rgba(0, 0, 0, 0.15);\n",
              "      filter: drop-shadow(0px 1px 2px rgba(0, 0, 0, 0.3));\n",
              "      fill: #FFFFFF;\n",
              "    }\n",
              "  </style>\n",
              "\n",
              "      <script>\n",
              "        const buttonEl =\n",
              "          document.querySelector('#df-e6a2df11-fe60-40e8-a15a-1ec66598c218 button.colab-df-convert');\n",
              "        buttonEl.style.display =\n",
              "          google.colab.kernel.accessAllowed ? 'block' : 'none';\n",
              "\n",
              "        async function convertToInteractive(key) {\n",
              "          const element = document.querySelector('#df-e6a2df11-fe60-40e8-a15a-1ec66598c218');\n",
              "          const dataTable =\n",
              "            await google.colab.kernel.invokeFunction('convertToInteractive',\n",
              "                                                     [key], {});\n",
              "          if (!dataTable) return;\n",
              "\n",
              "          const docLinkHtml = 'Like what you see? Visit the ' +\n",
              "            '<a target=\"_blank\" href=https://colab.research.google.com/notebooks/data_table.ipynb>data table notebook</a>'\n",
              "            + ' to learn more about interactive tables.';\n",
              "          element.innerHTML = '';\n",
              "          dataTable['output_type'] = 'display_data';\n",
              "          await google.colab.output.renderOutput(dataTable, element);\n",
              "          const docLink = document.createElement('div');\n",
              "          docLink.innerHTML = docLinkHtml;\n",
              "          element.appendChild(docLink);\n",
              "        }\n",
              "      </script>\n",
              "    </div>\n",
              "  </div>\n",
              "  "
            ],
            "text/plain": [
              "               artist        top genre  bpm  nrgy  ...  val  dur  acous  spch\n",
              "0               Train       neo mellow   97    89  ...   80  217     19     4\n",
              "1              Eminem  detroit hip hop   87    93  ...   64  263     24    23\n",
              "2               Kesha        dance pop  120    84  ...   71  200     10    14\n",
              "3           Lady Gaga        dance pop  119    92  ...   71  295      0     4\n",
              "4          Bruno Mars              pop  109    84  ...   43  221      2     4\n",
              "..                ...              ...  ...   ...  ...  ...  ...    ...   ...\n",
              "598       Mark Ronson        dance pop  104    66  ...   16  176      1     3\n",
              "599        Ed Sheeran              pop   95    79  ...   61  206     21    12\n",
              "600         DJ Khaled        dance pop  136    76  ...   65  260      7    34\n",
              "601       Mark Ronson        dance pop  114    79  ...   24  217      1     7\n",
              "602  The Chainsmokers       electropop  150    44  ...   23  213      6     6\n",
              "\n",
              "[587 rows x 11 columns]"
            ]
          },
          "metadata": {},
          "execution_count": 46
        }
      ]
    },
    {
      "cell_type": "code",
      "source": [
        "df['top genre'].value_counts()"
      ],
      "metadata": {
        "colab": {
          "base_uri": "https://localhost:8080/"
        },
        "id": "r6Zev9pqMY84",
        "outputId": "77dc6d4a-6224-4187-e394-0ee736e2cb66"
      },
      "execution_count": null,
      "outputs": [
        {
          "output_type": "execute_result",
          "data": {
            "text/plain": [
              "dance pop                    327\n",
              "pop                           60\n",
              "canadian pop                  34\n",
              "barbadian pop                 15\n",
              "boy band                      15\n",
              "electropop                    13\n",
              "british soul                  11\n",
              "big room                      10\n",
              "canadian contemporary r&b      9\n",
              "neo mellow                     9\n",
              "art pop                        8\n",
              "complextro                     6\n",
              "hip pop                        6\n",
              "australian dance               6\n",
              "atl hip hop                    5\n",
              "australian pop                 5\n",
              "edm                            5\n",
              "permanent wave                 4\n",
              "latin                          4\n",
              "hip hop                        4\n",
              "colombian pop                  3\n",
              "tropical house                 3\n",
              "brostep                        2\n",
              "downtempo                      2\n",
              "electronic trap                2\n",
              "belgian edm                    2\n",
              "escape room                    2\n",
              "folk-pop                       2\n",
              "electro                        2\n",
              "indie pop                      2\n",
              "detroit hip hop                2\n",
              "candy pop                      2\n",
              "acoustic pop                   2\n",
              "canadian hip hop               2\n",
              "baroque pop                    2\n",
              "celtic rock                    1\n",
              "moroccan pop                   1\n",
              "contemporary country           1\n",
              "chicago rap                    1\n",
              "electro house                  1\n",
              "australian hip hop             1\n",
              "canadian latin                 1\n",
              "house                          1\n",
              "danish pop                     1\n",
              "french indie pop               1\n",
              "alaska indie                   1\n",
              "irish singer-songwriter        1\n",
              "hollywood                      1\n",
              "metropopolis                   1\n",
              "alternative r&b                1\n",
              "Name: top genre, dtype: int64"
            ]
          },
          "metadata": {},
          "execution_count": 47
        }
      ]
    },
    {
      "cell_type": "code",
      "source": [
        "for i in yearless_df['top genre']:\n",
        "    if 'pop' in i:\n",
        "        yearless_df['top genre'] = yearless_df['top genre'].replace(i, 'pop')\n",
        "        \n",
        "    elif 'hip hop' in i:\n",
        "        yearless_df['top genre'] = yearless_df['top genre'].replace(i, 'hip hop')\n",
        "\n",
        "    elif 'edm' in i:\n",
        "        yearless_df['top genre'] = yearless_df['top genre'].replace(i, 'edm')\n",
        "\n",
        "    elif 'r&b' in i:\n",
        "        yearless_df['top genre'] = yearless_df['top genre'].replace(i, 'pop')\n",
        "\n",
        "    elif 'latin' in i:\n",
        "        yearless_df['top genre'] = yearless_df['top genre'].replace(i, 'latin')\n",
        "\n",
        "    elif 'room' in i:\n",
        "        yearless_df['top genre'] = yearless_df['top genre'].replace(i, 'room')\n",
        "\n",
        "    elif 'electro' in i:\n",
        "        yearless_df['top genre'] = yearless_df['top genre'].replace(i, 'edm')\n",
        "        \n",
        "yearless_df['top genre'] = yearless_df['top genre'].replace('chicago rap', 'hip hop')\n",
        "        \n",
        "yearless_df[\"top genre\"]"
      ],
      "metadata": {
        "colab": {
          "base_uri": "https://localhost:8080/"
        },
        "id": "WwfOly9oMayY",
        "outputId": "67f55f31-99ef-4a20-cafd-3d1bba28d7c6"
      },
      "execution_count": null,
      "outputs": [
        {
          "output_type": "execute_result",
          "data": {
            "text/plain": [
              "0      neo mellow\n",
              "1         hip hop\n",
              "2             pop\n",
              "3             pop\n",
              "4             pop\n",
              "          ...    \n",
              "598           pop\n",
              "599           pop\n",
              "600           pop\n",
              "601           pop\n",
              "602           pop\n",
              "Name: top genre, Length: 603, dtype: object"
            ]
          },
          "metadata": {},
          "execution_count": 48
        }
      ]
    },
    {
      "cell_type": "code",
      "source": [
        "yearless_df['top genre'].value_counts()"
      ],
      "metadata": {
        "colab": {
          "base_uri": "https://localhost:8080/"
        },
        "id": "mvQiqG4JMjTY",
        "outputId": "0529c306-d366-4e3a-f412-64614d432583"
      },
      "execution_count": null,
      "outputs": [
        {
          "output_type": "execute_result",
          "data": {
            "text/plain": [
              "pop                        495\n",
              "boy band                    15\n",
              "hip hop                     15\n",
              "room                        12\n",
              "edm                         12\n",
              "british soul                11\n",
              "neo mellow                   9\n",
              "complextro                   6\n",
              "australian dance             6\n",
              "latin                        5\n",
              "permanent wave               4\n",
              "tropical house               3\n",
              "brostep                      2\n",
              "downtempo                    2\n",
              "alaska indie                 1\n",
              "irish singer-songwriter      1\n",
              "hollywood                    1\n",
              "house                        1\n",
              "celtic rock                  1\n",
              "contemporary country         1\n",
              "Name: top genre, dtype: int64"
            ]
          },
          "metadata": {},
          "execution_count": 49
        }
      ]
    },
    {
      "cell_type": "code",
      "source": [
        "yearless_df"
      ],
      "metadata": {
        "colab": {
          "base_uri": "https://localhost:8080/",
          "height": 424
        },
        "id": "Yl4PqLFsMlpo",
        "outputId": "af7694fb-bc77-46e8-d654-3c936b45e128"
      },
      "execution_count": null,
      "outputs": [
        {
          "output_type": "execute_result",
          "data": {
            "text/html": [
              "\n",
              "  <div id=\"df-54c9355f-4d6c-4be2-8222-18ded9c8fea5\">\n",
              "    <div class=\"colab-df-container\">\n",
              "      <div>\n",
              "<style scoped>\n",
              "    .dataframe tbody tr th:only-of-type {\n",
              "        vertical-align: middle;\n",
              "    }\n",
              "\n",
              "    .dataframe tbody tr th {\n",
              "        vertical-align: top;\n",
              "    }\n",
              "\n",
              "    .dataframe thead th {\n",
              "        text-align: right;\n",
              "    }\n",
              "</style>\n",
              "<table border=\"1\" class=\"dataframe\">\n",
              "  <thead>\n",
              "    <tr style=\"text-align: right;\">\n",
              "      <th></th>\n",
              "      <th>artist</th>\n",
              "      <th>top genre</th>\n",
              "      <th>bpm</th>\n",
              "      <th>nrgy</th>\n",
              "      <th>dnce</th>\n",
              "      <th>dB</th>\n",
              "      <th>live</th>\n",
              "      <th>val</th>\n",
              "      <th>dur</th>\n",
              "      <th>acous</th>\n",
              "      <th>spch</th>\n",
              "    </tr>\n",
              "  </thead>\n",
              "  <tbody>\n",
              "    <tr>\n",
              "      <th>0</th>\n",
              "      <td>Train</td>\n",
              "      <td>neo mellow</td>\n",
              "      <td>97</td>\n",
              "      <td>89</td>\n",
              "      <td>67</td>\n",
              "      <td>-4</td>\n",
              "      <td>8</td>\n",
              "      <td>80</td>\n",
              "      <td>217</td>\n",
              "      <td>19</td>\n",
              "      <td>4</td>\n",
              "    </tr>\n",
              "    <tr>\n",
              "      <th>1</th>\n",
              "      <td>Eminem</td>\n",
              "      <td>hip hop</td>\n",
              "      <td>87</td>\n",
              "      <td>93</td>\n",
              "      <td>75</td>\n",
              "      <td>-5</td>\n",
              "      <td>52</td>\n",
              "      <td>64</td>\n",
              "      <td>263</td>\n",
              "      <td>24</td>\n",
              "      <td>23</td>\n",
              "    </tr>\n",
              "    <tr>\n",
              "      <th>2</th>\n",
              "      <td>Kesha</td>\n",
              "      <td>pop</td>\n",
              "      <td>120</td>\n",
              "      <td>84</td>\n",
              "      <td>76</td>\n",
              "      <td>-3</td>\n",
              "      <td>29</td>\n",
              "      <td>71</td>\n",
              "      <td>200</td>\n",
              "      <td>10</td>\n",
              "      <td>14</td>\n",
              "    </tr>\n",
              "    <tr>\n",
              "      <th>3</th>\n",
              "      <td>Lady Gaga</td>\n",
              "      <td>pop</td>\n",
              "      <td>119</td>\n",
              "      <td>92</td>\n",
              "      <td>70</td>\n",
              "      <td>-4</td>\n",
              "      <td>8</td>\n",
              "      <td>71</td>\n",
              "      <td>295</td>\n",
              "      <td>0</td>\n",
              "      <td>4</td>\n",
              "    </tr>\n",
              "    <tr>\n",
              "      <th>4</th>\n",
              "      <td>Bruno Mars</td>\n",
              "      <td>pop</td>\n",
              "      <td>109</td>\n",
              "      <td>84</td>\n",
              "      <td>64</td>\n",
              "      <td>-5</td>\n",
              "      <td>9</td>\n",
              "      <td>43</td>\n",
              "      <td>221</td>\n",
              "      <td>2</td>\n",
              "      <td>4</td>\n",
              "    </tr>\n",
              "    <tr>\n",
              "      <th>...</th>\n",
              "      <td>...</td>\n",
              "      <td>...</td>\n",
              "      <td>...</td>\n",
              "      <td>...</td>\n",
              "      <td>...</td>\n",
              "      <td>...</td>\n",
              "      <td>...</td>\n",
              "      <td>...</td>\n",
              "      <td>...</td>\n",
              "      <td>...</td>\n",
              "      <td>...</td>\n",
              "    </tr>\n",
              "    <tr>\n",
              "      <th>598</th>\n",
              "      <td>Mark Ronson</td>\n",
              "      <td>pop</td>\n",
              "      <td>104</td>\n",
              "      <td>66</td>\n",
              "      <td>61</td>\n",
              "      <td>-7</td>\n",
              "      <td>20</td>\n",
              "      <td>16</td>\n",
              "      <td>176</td>\n",
              "      <td>1</td>\n",
              "      <td>3</td>\n",
              "    </tr>\n",
              "    <tr>\n",
              "      <th>599</th>\n",
              "      <td>Ed Sheeran</td>\n",
              "      <td>pop</td>\n",
              "      <td>95</td>\n",
              "      <td>79</td>\n",
              "      <td>75</td>\n",
              "      <td>-6</td>\n",
              "      <td>7</td>\n",
              "      <td>61</td>\n",
              "      <td>206</td>\n",
              "      <td>21</td>\n",
              "      <td>12</td>\n",
              "    </tr>\n",
              "    <tr>\n",
              "      <th>600</th>\n",
              "      <td>DJ Khaled</td>\n",
              "      <td>pop</td>\n",
              "      <td>136</td>\n",
              "      <td>76</td>\n",
              "      <td>53</td>\n",
              "      <td>-5</td>\n",
              "      <td>9</td>\n",
              "      <td>65</td>\n",
              "      <td>260</td>\n",
              "      <td>7</td>\n",
              "      <td>34</td>\n",
              "    </tr>\n",
              "    <tr>\n",
              "      <th>601</th>\n",
              "      <td>Mark Ronson</td>\n",
              "      <td>pop</td>\n",
              "      <td>114</td>\n",
              "      <td>79</td>\n",
              "      <td>60</td>\n",
              "      <td>-6</td>\n",
              "      <td>42</td>\n",
              "      <td>24</td>\n",
              "      <td>217</td>\n",
              "      <td>1</td>\n",
              "      <td>7</td>\n",
              "    </tr>\n",
              "    <tr>\n",
              "      <th>602</th>\n",
              "      <td>The Chainsmokers</td>\n",
              "      <td>pop</td>\n",
              "      <td>150</td>\n",
              "      <td>44</td>\n",
              "      <td>70</td>\n",
              "      <td>-9</td>\n",
              "      <td>13</td>\n",
              "      <td>23</td>\n",
              "      <td>213</td>\n",
              "      <td>6</td>\n",
              "      <td>6</td>\n",
              "    </tr>\n",
              "  </tbody>\n",
              "</table>\n",
              "<p>603 rows × 11 columns</p>\n",
              "</div>\n",
              "      <button class=\"colab-df-convert\" onclick=\"convertToInteractive('df-54c9355f-4d6c-4be2-8222-18ded9c8fea5')\"\n",
              "              title=\"Convert this dataframe to an interactive table.\"\n",
              "              style=\"display:none;\">\n",
              "        \n",
              "  <svg xmlns=\"http://www.w3.org/2000/svg\" height=\"24px\"viewBox=\"0 0 24 24\"\n",
              "       width=\"24px\">\n",
              "    <path d=\"M0 0h24v24H0V0z\" fill=\"none\"/>\n",
              "    <path d=\"M18.56 5.44l.94 2.06.94-2.06 2.06-.94-2.06-.94-.94-2.06-.94 2.06-2.06.94zm-11 1L8.5 8.5l.94-2.06 2.06-.94-2.06-.94L8.5 2.5l-.94 2.06-2.06.94zm10 10l.94 2.06.94-2.06 2.06-.94-2.06-.94-.94-2.06-.94 2.06-2.06.94z\"/><path d=\"M17.41 7.96l-1.37-1.37c-.4-.4-.92-.59-1.43-.59-.52 0-1.04.2-1.43.59L10.3 9.45l-7.72 7.72c-.78.78-.78 2.05 0 2.83L4 21.41c.39.39.9.59 1.41.59.51 0 1.02-.2 1.41-.59l7.78-7.78 2.81-2.81c.8-.78.8-2.07 0-2.86zM5.41 20L4 18.59l7.72-7.72 1.47 1.35L5.41 20z\"/>\n",
              "  </svg>\n",
              "      </button>\n",
              "      \n",
              "  <style>\n",
              "    .colab-df-container {\n",
              "      display:flex;\n",
              "      flex-wrap:wrap;\n",
              "      gap: 12px;\n",
              "    }\n",
              "\n",
              "    .colab-df-convert {\n",
              "      background-color: #E8F0FE;\n",
              "      border: none;\n",
              "      border-radius: 50%;\n",
              "      cursor: pointer;\n",
              "      display: none;\n",
              "      fill: #1967D2;\n",
              "      height: 32px;\n",
              "      padding: 0 0 0 0;\n",
              "      width: 32px;\n",
              "    }\n",
              "\n",
              "    .colab-df-convert:hover {\n",
              "      background-color: #E2EBFA;\n",
              "      box-shadow: 0px 1px 2px rgba(60, 64, 67, 0.3), 0px 1px 3px 1px rgba(60, 64, 67, 0.15);\n",
              "      fill: #174EA6;\n",
              "    }\n",
              "\n",
              "    [theme=dark] .colab-df-convert {\n",
              "      background-color: #3B4455;\n",
              "      fill: #D2E3FC;\n",
              "    }\n",
              "\n",
              "    [theme=dark] .colab-df-convert:hover {\n",
              "      background-color: #434B5C;\n",
              "      box-shadow: 0px 1px 3px 1px rgba(0, 0, 0, 0.15);\n",
              "      filter: drop-shadow(0px 1px 2px rgba(0, 0, 0, 0.3));\n",
              "      fill: #FFFFFF;\n",
              "    }\n",
              "  </style>\n",
              "\n",
              "      <script>\n",
              "        const buttonEl =\n",
              "          document.querySelector('#df-54c9355f-4d6c-4be2-8222-18ded9c8fea5 button.colab-df-convert');\n",
              "        buttonEl.style.display =\n",
              "          google.colab.kernel.accessAllowed ? 'block' : 'none';\n",
              "\n",
              "        async function convertToInteractive(key) {\n",
              "          const element = document.querySelector('#df-54c9355f-4d6c-4be2-8222-18ded9c8fea5');\n",
              "          const dataTable =\n",
              "            await google.colab.kernel.invokeFunction('convertToInteractive',\n",
              "                                                     [key], {});\n",
              "          if (!dataTable) return;\n",
              "\n",
              "          const docLinkHtml = 'Like what you see? Visit the ' +\n",
              "            '<a target=\"_blank\" href=https://colab.research.google.com/notebooks/data_table.ipynb>data table notebook</a>'\n",
              "            + ' to learn more about interactive tables.';\n",
              "          element.innerHTML = '';\n",
              "          dataTable['output_type'] = 'display_data';\n",
              "          await google.colab.output.renderOutput(dataTable, element);\n",
              "          const docLink = document.createElement('div');\n",
              "          docLink.innerHTML = docLinkHtml;\n",
              "          element.appendChild(docLink);\n",
              "        }\n",
              "      </script>\n",
              "    </div>\n",
              "  </div>\n",
              "  "
            ],
            "text/plain": [
              "               artist   top genre  bpm  nrgy  dnce  ...  live  val  dur  acous  spch\n",
              "0               Train  neo mellow   97    89    67  ...     8   80  217     19     4\n",
              "1              Eminem     hip hop   87    93    75  ...    52   64  263     24    23\n",
              "2               Kesha         pop  120    84    76  ...    29   71  200     10    14\n",
              "3           Lady Gaga         pop  119    92    70  ...     8   71  295      0     4\n",
              "4          Bruno Mars         pop  109    84    64  ...     9   43  221      2     4\n",
              "..                ...         ...  ...   ...   ...  ...   ...  ...  ...    ...   ...\n",
              "598       Mark Ronson         pop  104    66    61  ...    20   16  176      1     3\n",
              "599        Ed Sheeran         pop   95    79    75  ...     7   61  206     21    12\n",
              "600         DJ Khaled         pop  136    76    53  ...     9   65  260      7    34\n",
              "601       Mark Ronson         pop  114    79    60  ...    42   24  217      1     7\n",
              "602  The Chainsmokers         pop  150    44    70  ...    13   23  213      6     6\n",
              "\n",
              "[603 rows x 11 columns]"
            ]
          },
          "metadata": {},
          "execution_count": 50
        }
      ]
    },
    {
      "cell_type": "code",
      "source": [
        "temp_df = yearless_df\n",
        "value_counts = temp_df.stack().value_counts() # Entire DataFrame \n",
        "to_remove = value_counts[value_counts <= 3].index\n",
        "temp_df.replace(to_remove, 'other', inplace=True)\n",
        "temp_df['top genre'].value_counts()\n",
        "temp_df.head()\n",
        "temp_df.shape"
      ],
      "metadata": {
        "colab": {
          "base_uri": "https://localhost:8080/",
          "height": 449
        },
        "id": "B7Ms7UV-Mnlr",
        "outputId": "3452fa88-a166-4e3a-c057-2ba1f12f8bad"
      },
      "execution_count": null,
      "outputs": [
        {
          "output_type": "execute_result",
          "data": {
            "text/plain": [
              "pop                 495\n",
              "hip hop              15\n",
              "boy band             15\n",
              "other                13\n",
              "room                 12\n",
              "edm                  12\n",
              "british soul         11\n",
              "neo mellow            9\n",
              "complextro            6\n",
              "australian dance      6\n",
              "latin                 5\n",
              "permanent wave        4\n",
              "Name: top genre, dtype: int64"
            ]
          },
          "metadata": {},
          "execution_count": 51
        },
        {
          "output_type": "execute_result",
          "data": {
            "text/html": [
              "\n",
              "  <div id=\"df-da115895-2d6a-435f-96a3-5c7e11af5bab\">\n",
              "    <div class=\"colab-df-container\">\n",
              "      <div>\n",
              "<style scoped>\n",
              "    .dataframe tbody tr th:only-of-type {\n",
              "        vertical-align: middle;\n",
              "    }\n",
              "\n",
              "    .dataframe tbody tr th {\n",
              "        vertical-align: top;\n",
              "    }\n",
              "\n",
              "    .dataframe thead th {\n",
              "        text-align: right;\n",
              "    }\n",
              "</style>\n",
              "<table border=\"1\" class=\"dataframe\">\n",
              "  <thead>\n",
              "    <tr style=\"text-align: right;\">\n",
              "      <th></th>\n",
              "      <th>artist</th>\n",
              "      <th>top genre</th>\n",
              "      <th>bpm</th>\n",
              "      <th>nrgy</th>\n",
              "      <th>dnce</th>\n",
              "      <th>dB</th>\n",
              "      <th>live</th>\n",
              "      <th>val</th>\n",
              "      <th>dur</th>\n",
              "      <th>acous</th>\n",
              "      <th>spch</th>\n",
              "    </tr>\n",
              "  </thead>\n",
              "  <tbody>\n",
              "    <tr>\n",
              "      <th>0</th>\n",
              "      <td>other</td>\n",
              "      <td>neo mellow</td>\n",
              "      <td>97</td>\n",
              "      <td>89</td>\n",
              "      <td>67</td>\n",
              "      <td>-4</td>\n",
              "      <td>8</td>\n",
              "      <td>80</td>\n",
              "      <td>217</td>\n",
              "      <td>19</td>\n",
              "      <td>4</td>\n",
              "    </tr>\n",
              "    <tr>\n",
              "      <th>1</th>\n",
              "      <td>other</td>\n",
              "      <td>hip hop</td>\n",
              "      <td>87</td>\n",
              "      <td>93</td>\n",
              "      <td>75</td>\n",
              "      <td>-5</td>\n",
              "      <td>52</td>\n",
              "      <td>64</td>\n",
              "      <td>263</td>\n",
              "      <td>24</td>\n",
              "      <td>23</td>\n",
              "    </tr>\n",
              "    <tr>\n",
              "      <th>2</th>\n",
              "      <td>Kesha</td>\n",
              "      <td>pop</td>\n",
              "      <td>120</td>\n",
              "      <td>84</td>\n",
              "      <td>76</td>\n",
              "      <td>-3</td>\n",
              "      <td>29</td>\n",
              "      <td>71</td>\n",
              "      <td>200</td>\n",
              "      <td>10</td>\n",
              "      <td>14</td>\n",
              "    </tr>\n",
              "    <tr>\n",
              "      <th>3</th>\n",
              "      <td>Lady Gaga</td>\n",
              "      <td>pop</td>\n",
              "      <td>other</td>\n",
              "      <td>92</td>\n",
              "      <td>70</td>\n",
              "      <td>-4</td>\n",
              "      <td>8</td>\n",
              "      <td>71</td>\n",
              "      <td>other</td>\n",
              "      <td>0</td>\n",
              "      <td>4</td>\n",
              "    </tr>\n",
              "    <tr>\n",
              "      <th>4</th>\n",
              "      <td>Bruno Mars</td>\n",
              "      <td>pop</td>\n",
              "      <td>other</td>\n",
              "      <td>84</td>\n",
              "      <td>64</td>\n",
              "      <td>-5</td>\n",
              "      <td>9</td>\n",
              "      <td>43</td>\n",
              "      <td>221</td>\n",
              "      <td>2</td>\n",
              "      <td>4</td>\n",
              "    </tr>\n",
              "  </tbody>\n",
              "</table>\n",
              "</div>\n",
              "      <button class=\"colab-df-convert\" onclick=\"convertToInteractive('df-da115895-2d6a-435f-96a3-5c7e11af5bab')\"\n",
              "              title=\"Convert this dataframe to an interactive table.\"\n",
              "              style=\"display:none;\">\n",
              "        \n",
              "  <svg xmlns=\"http://www.w3.org/2000/svg\" height=\"24px\"viewBox=\"0 0 24 24\"\n",
              "       width=\"24px\">\n",
              "    <path d=\"M0 0h24v24H0V0z\" fill=\"none\"/>\n",
              "    <path d=\"M18.56 5.44l.94 2.06.94-2.06 2.06-.94-2.06-.94-.94-2.06-.94 2.06-2.06.94zm-11 1L8.5 8.5l.94-2.06 2.06-.94-2.06-.94L8.5 2.5l-.94 2.06-2.06.94zm10 10l.94 2.06.94-2.06 2.06-.94-2.06-.94-.94-2.06-.94 2.06-2.06.94z\"/><path d=\"M17.41 7.96l-1.37-1.37c-.4-.4-.92-.59-1.43-.59-.52 0-1.04.2-1.43.59L10.3 9.45l-7.72 7.72c-.78.78-.78 2.05 0 2.83L4 21.41c.39.39.9.59 1.41.59.51 0 1.02-.2 1.41-.59l7.78-7.78 2.81-2.81c.8-.78.8-2.07 0-2.86zM5.41 20L4 18.59l7.72-7.72 1.47 1.35L5.41 20z\"/>\n",
              "  </svg>\n",
              "      </button>\n",
              "      \n",
              "  <style>\n",
              "    .colab-df-container {\n",
              "      display:flex;\n",
              "      flex-wrap:wrap;\n",
              "      gap: 12px;\n",
              "    }\n",
              "\n",
              "    .colab-df-convert {\n",
              "      background-color: #E8F0FE;\n",
              "      border: none;\n",
              "      border-radius: 50%;\n",
              "      cursor: pointer;\n",
              "      display: none;\n",
              "      fill: #1967D2;\n",
              "      height: 32px;\n",
              "      padding: 0 0 0 0;\n",
              "      width: 32px;\n",
              "    }\n",
              "\n",
              "    .colab-df-convert:hover {\n",
              "      background-color: #E2EBFA;\n",
              "      box-shadow: 0px 1px 2px rgba(60, 64, 67, 0.3), 0px 1px 3px 1px rgba(60, 64, 67, 0.15);\n",
              "      fill: #174EA6;\n",
              "    }\n",
              "\n",
              "    [theme=dark] .colab-df-convert {\n",
              "      background-color: #3B4455;\n",
              "      fill: #D2E3FC;\n",
              "    }\n",
              "\n",
              "    [theme=dark] .colab-df-convert:hover {\n",
              "      background-color: #434B5C;\n",
              "      box-shadow: 0px 1px 3px 1px rgba(0, 0, 0, 0.15);\n",
              "      filter: drop-shadow(0px 1px 2px rgba(0, 0, 0, 0.3));\n",
              "      fill: #FFFFFF;\n",
              "    }\n",
              "  </style>\n",
              "\n",
              "      <script>\n",
              "        const buttonEl =\n",
              "          document.querySelector('#df-da115895-2d6a-435f-96a3-5c7e11af5bab button.colab-df-convert');\n",
              "        buttonEl.style.display =\n",
              "          google.colab.kernel.accessAllowed ? 'block' : 'none';\n",
              "\n",
              "        async function convertToInteractive(key) {\n",
              "          const element = document.querySelector('#df-da115895-2d6a-435f-96a3-5c7e11af5bab');\n",
              "          const dataTable =\n",
              "            await google.colab.kernel.invokeFunction('convertToInteractive',\n",
              "                                                     [key], {});\n",
              "          if (!dataTable) return;\n",
              "\n",
              "          const docLinkHtml = 'Like what you see? Visit the ' +\n",
              "            '<a target=\"_blank\" href=https://colab.research.google.com/notebooks/data_table.ipynb>data table notebook</a>'\n",
              "            + ' to learn more about interactive tables.';\n",
              "          element.innerHTML = '';\n",
              "          dataTable['output_type'] = 'display_data';\n",
              "          await google.colab.output.renderOutput(dataTable, element);\n",
              "          const docLink = document.createElement('div');\n",
              "          docLink.innerHTML = docLinkHtml;\n",
              "          element.appendChild(docLink);\n",
              "        }\n",
              "      </script>\n",
              "    </div>\n",
              "  </div>\n",
              "  "
            ],
            "text/plain": [
              "       artist   top genre    bpm  nrgy  dnce  dB  live  val    dur  acous  spch\n",
              "0       other  neo mellow     97    89    67  -4     8   80    217     19     4\n",
              "1       other     hip hop     87    93    75  -5    52   64    263     24    23\n",
              "2       Kesha         pop    120    84    76  -3    29   71    200     10    14\n",
              "3   Lady Gaga         pop  other    92    70  -4     8   71  other      0     4\n",
              "4  Bruno Mars         pop  other    84    64  -5     9   43    221      2     4"
            ]
          },
          "metadata": {},
          "execution_count": 51
        },
        {
          "output_type": "execute_result",
          "data": {
            "text/plain": [
              "(603, 11)"
            ]
          },
          "metadata": {},
          "execution_count": 51
        }
      ]
    },
    {
      "cell_type": "code",
      "source": [
        "yearless_df['top genre'] = temp_df['top genre']\n",
        "yearless_df[['bpm', 'nrgy', 'dnce', 'dB', 'live', 'val', 'dur', 'acous', 'spch', 'artist']] = df[['bpm', 'nrgy', 'dnce', 'dB', 'live', 'val', 'dur', 'acous', 'spch', 'artist']]\n",
        "yearless_df['top genre'].value_counts()\n",
        "yearless_df.head()"
      ],
      "metadata": {
        "colab": {
          "base_uri": "https://localhost:8080/",
          "height": 432
        },
        "id": "OGql8WdVMqPT",
        "outputId": "c7be79ff-b026-4786-d32e-25039a161501"
      },
      "execution_count": null,
      "outputs": [
        {
          "output_type": "execute_result",
          "data": {
            "text/plain": [
              "pop                 495\n",
              "hip hop              15\n",
              "boy band             15\n",
              "other                13\n",
              "room                 12\n",
              "edm                  12\n",
              "british soul         11\n",
              "neo mellow            9\n",
              "complextro            6\n",
              "australian dance      6\n",
              "latin                 5\n",
              "permanent wave        4\n",
              "Name: top genre, dtype: int64"
            ]
          },
          "metadata": {},
          "execution_count": 52
        },
        {
          "output_type": "execute_result",
          "data": {
            "text/html": [
              "\n",
              "  <div id=\"df-35fd0555-598f-47a9-ac2d-2ad7faee0b0f\">\n",
              "    <div class=\"colab-df-container\">\n",
              "      <div>\n",
              "<style scoped>\n",
              "    .dataframe tbody tr th:only-of-type {\n",
              "        vertical-align: middle;\n",
              "    }\n",
              "\n",
              "    .dataframe tbody tr th {\n",
              "        vertical-align: top;\n",
              "    }\n",
              "\n",
              "    .dataframe thead th {\n",
              "        text-align: right;\n",
              "    }\n",
              "</style>\n",
              "<table border=\"1\" class=\"dataframe\">\n",
              "  <thead>\n",
              "    <tr style=\"text-align: right;\">\n",
              "      <th></th>\n",
              "      <th>artist</th>\n",
              "      <th>top genre</th>\n",
              "      <th>bpm</th>\n",
              "      <th>nrgy</th>\n",
              "      <th>dnce</th>\n",
              "      <th>dB</th>\n",
              "      <th>live</th>\n",
              "      <th>val</th>\n",
              "      <th>dur</th>\n",
              "      <th>acous</th>\n",
              "      <th>spch</th>\n",
              "    </tr>\n",
              "  </thead>\n",
              "  <tbody>\n",
              "    <tr>\n",
              "      <th>0</th>\n",
              "      <td>Train</td>\n",
              "      <td>neo mellow</td>\n",
              "      <td>97</td>\n",
              "      <td>89</td>\n",
              "      <td>67</td>\n",
              "      <td>-4</td>\n",
              "      <td>8</td>\n",
              "      <td>80</td>\n",
              "      <td>217</td>\n",
              "      <td>19</td>\n",
              "      <td>4</td>\n",
              "    </tr>\n",
              "    <tr>\n",
              "      <th>1</th>\n",
              "      <td>Eminem</td>\n",
              "      <td>hip hop</td>\n",
              "      <td>87</td>\n",
              "      <td>93</td>\n",
              "      <td>75</td>\n",
              "      <td>-5</td>\n",
              "      <td>52</td>\n",
              "      <td>64</td>\n",
              "      <td>263</td>\n",
              "      <td>24</td>\n",
              "      <td>23</td>\n",
              "    </tr>\n",
              "    <tr>\n",
              "      <th>2</th>\n",
              "      <td>Kesha</td>\n",
              "      <td>pop</td>\n",
              "      <td>120</td>\n",
              "      <td>84</td>\n",
              "      <td>76</td>\n",
              "      <td>-3</td>\n",
              "      <td>29</td>\n",
              "      <td>71</td>\n",
              "      <td>200</td>\n",
              "      <td>10</td>\n",
              "      <td>14</td>\n",
              "    </tr>\n",
              "    <tr>\n",
              "      <th>3</th>\n",
              "      <td>Lady Gaga</td>\n",
              "      <td>pop</td>\n",
              "      <td>119</td>\n",
              "      <td>92</td>\n",
              "      <td>70</td>\n",
              "      <td>-4</td>\n",
              "      <td>8</td>\n",
              "      <td>71</td>\n",
              "      <td>295</td>\n",
              "      <td>0</td>\n",
              "      <td>4</td>\n",
              "    </tr>\n",
              "    <tr>\n",
              "      <th>4</th>\n",
              "      <td>Bruno Mars</td>\n",
              "      <td>pop</td>\n",
              "      <td>109</td>\n",
              "      <td>84</td>\n",
              "      <td>64</td>\n",
              "      <td>-5</td>\n",
              "      <td>9</td>\n",
              "      <td>43</td>\n",
              "      <td>221</td>\n",
              "      <td>2</td>\n",
              "      <td>4</td>\n",
              "    </tr>\n",
              "  </tbody>\n",
              "</table>\n",
              "</div>\n",
              "      <button class=\"colab-df-convert\" onclick=\"convertToInteractive('df-35fd0555-598f-47a9-ac2d-2ad7faee0b0f')\"\n",
              "              title=\"Convert this dataframe to an interactive table.\"\n",
              "              style=\"display:none;\">\n",
              "        \n",
              "  <svg xmlns=\"http://www.w3.org/2000/svg\" height=\"24px\"viewBox=\"0 0 24 24\"\n",
              "       width=\"24px\">\n",
              "    <path d=\"M0 0h24v24H0V0z\" fill=\"none\"/>\n",
              "    <path d=\"M18.56 5.44l.94 2.06.94-2.06 2.06-.94-2.06-.94-.94-2.06-.94 2.06-2.06.94zm-11 1L8.5 8.5l.94-2.06 2.06-.94-2.06-.94L8.5 2.5l-.94 2.06-2.06.94zm10 10l.94 2.06.94-2.06 2.06-.94-2.06-.94-.94-2.06-.94 2.06-2.06.94z\"/><path d=\"M17.41 7.96l-1.37-1.37c-.4-.4-.92-.59-1.43-.59-.52 0-1.04.2-1.43.59L10.3 9.45l-7.72 7.72c-.78.78-.78 2.05 0 2.83L4 21.41c.39.39.9.59 1.41.59.51 0 1.02-.2 1.41-.59l7.78-7.78 2.81-2.81c.8-.78.8-2.07 0-2.86zM5.41 20L4 18.59l7.72-7.72 1.47 1.35L5.41 20z\"/>\n",
              "  </svg>\n",
              "      </button>\n",
              "      \n",
              "  <style>\n",
              "    .colab-df-container {\n",
              "      display:flex;\n",
              "      flex-wrap:wrap;\n",
              "      gap: 12px;\n",
              "    }\n",
              "\n",
              "    .colab-df-convert {\n",
              "      background-color: #E8F0FE;\n",
              "      border: none;\n",
              "      border-radius: 50%;\n",
              "      cursor: pointer;\n",
              "      display: none;\n",
              "      fill: #1967D2;\n",
              "      height: 32px;\n",
              "      padding: 0 0 0 0;\n",
              "      width: 32px;\n",
              "    }\n",
              "\n",
              "    .colab-df-convert:hover {\n",
              "      background-color: #E2EBFA;\n",
              "      box-shadow: 0px 1px 2px rgba(60, 64, 67, 0.3), 0px 1px 3px 1px rgba(60, 64, 67, 0.15);\n",
              "      fill: #174EA6;\n",
              "    }\n",
              "\n",
              "    [theme=dark] .colab-df-convert {\n",
              "      background-color: #3B4455;\n",
              "      fill: #D2E3FC;\n",
              "    }\n",
              "\n",
              "    [theme=dark] .colab-df-convert:hover {\n",
              "      background-color: #434B5C;\n",
              "      box-shadow: 0px 1px 3px 1px rgba(0, 0, 0, 0.15);\n",
              "      filter: drop-shadow(0px 1px 2px rgba(0, 0, 0, 0.3));\n",
              "      fill: #FFFFFF;\n",
              "    }\n",
              "  </style>\n",
              "\n",
              "      <script>\n",
              "        const buttonEl =\n",
              "          document.querySelector('#df-35fd0555-598f-47a9-ac2d-2ad7faee0b0f button.colab-df-convert');\n",
              "        buttonEl.style.display =\n",
              "          google.colab.kernel.accessAllowed ? 'block' : 'none';\n",
              "\n",
              "        async function convertToInteractive(key) {\n",
              "          const element = document.querySelector('#df-35fd0555-598f-47a9-ac2d-2ad7faee0b0f');\n",
              "          const dataTable =\n",
              "            await google.colab.kernel.invokeFunction('convertToInteractive',\n",
              "                                                     [key], {});\n",
              "          if (!dataTable) return;\n",
              "\n",
              "          const docLinkHtml = 'Like what you see? Visit the ' +\n",
              "            '<a target=\"_blank\" href=https://colab.research.google.com/notebooks/data_table.ipynb>data table notebook</a>'\n",
              "            + ' to learn more about interactive tables.';\n",
              "          element.innerHTML = '';\n",
              "          dataTable['output_type'] = 'display_data';\n",
              "          await google.colab.output.renderOutput(dataTable, element);\n",
              "          const docLink = document.createElement('div');\n",
              "          docLink.innerHTML = docLinkHtml;\n",
              "          element.appendChild(docLink);\n",
              "        }\n",
              "      </script>\n",
              "    </div>\n",
              "  </div>\n",
              "  "
            ],
            "text/plain": [
              "       artist   top genre  bpm  nrgy  dnce  dB  live  val  dur  acous  spch\n",
              "0       Train  neo mellow   97    89    67  -4     8   80  217     19     4\n",
              "1      Eminem     hip hop   87    93    75  -5    52   64  263     24    23\n",
              "2       Kesha         pop  120    84    76  -3    29   71  200     10    14\n",
              "3   Lady Gaga         pop  119    92    70  -4     8   71  295      0     4\n",
              "4  Bruno Mars         pop  109    84    64  -5     9   43  221      2     4"
            ]
          },
          "metadata": {},
          "execution_count": 52
        }
      ]
    },
    {
      "cell_type": "code",
      "source": [
        "new_df = yearless_df\n",
        "new_df.artist.unique()"
      ],
      "metadata": {
        "colab": {
          "base_uri": "https://localhost:8080/"
        },
        "id": "eoFoV5rNMtLa",
        "outputId": "8fcdf613-d1ec-4242-f085-b53c966106b4"
      },
      "execution_count": null,
      "outputs": [
        {
          "output_type": "execute_result",
          "data": {
            "text/plain": [
              "array(['Train', 'Eminem', 'Kesha', 'Lady Gaga', 'Bruno Mars',\n",
              "       'Justin Bieber', 'Taio Cruz', 'OneRepublic', 'Alicia Keys',\n",
              "       'Rihanna', 'Flo Rida', 'Mike Posner', 'Far East Movement', 'Usher',\n",
              "       'Sean Kingston', 'The Black Eyed Peas', 'Adam Lambert', 'Maroon 5',\n",
              "       'Neon Trees', 'Selena Gomez & The Scene', 'Enrique Iglesias',\n",
              "       'Katy Perry', 'Britney Spears', '3OH!3', 'David Guetta',\n",
              "       'Christina Aguilera', 'Florence + The Machine', 'Shakira',\n",
              "       'Tinie Tempah', 'T.I.', 'Martin Solveig', 'Christina Perri',\n",
              "       'Adele', 'Pitbull', 'Beyoncé', 'Hot Chelle Rae', 'Avril Lavigne',\n",
              "       'Kanye West', 'LMFAO', 'Jessie J', 'Jennifer Lopez', 'Chris Brown',\n",
              "       'Sleeping At Last', 'Nicki Minaj', 'P!nk', 'Coldplay',\n",
              "       'One Direction', 'Taylor Swift', 'Carly Rae Jepsen',\n",
              "       'Kelly Clarkson', 'Owl City', 'The Wanted', 'fun.',\n",
              "       'Ellie Goulding', 'Gym Class Heroes', 'Avicii', 'The Script',\n",
              "       'Miley Cyrus', 'Swedish House Mafia', 'Daft Punk', 'James Arthur',\n",
              "       'Robin Thicke', 'Demi Lovato', 'Zedd', 'Lana Del Rey',\n",
              "       'Calvin Harris', 'Drake', 'Sara Bareilles',\n",
              "       'Macklemore & Ryan Lewis', 'Labrinth', 'Ne-Yo', 'Ariana Grande',\n",
              "       'Justin Timberlake', 'will.i.am', 'Icona Pop', 'Fergie',\n",
              "       'Little Mix', 'Emeli Sandé', 'Selena Gomez', 'Austin Mahone',\n",
              "       'Jonas Brothers', 'Mariah Carey', 'Ciara', 'Jewel',\n",
              "       'Kelly Rowland', 'John Legend', 'Sam Smith', 'Pharrell Williams',\n",
              "       'MAGIC!', 'Passenger', 'Bastille', 'Lorde', 'John Newman',\n",
              "       'Disclosure', 'Michael Jackson', '5 Seconds of Summer',\n",
              "       'Iggy Azalea', 'Jason Derulo', 'The Chainsmokers', 'Birdy',\n",
              "       'A Great Big World', 'Sia', 'Charli XCX', 'Lily Allen',\n",
              "       'Lea Michele', 'Ed Sheeran', 'The Weeknd', 'Mark Ronson', 'Hozier',\n",
              "       'Shawn Mendes', 'Mr. Probz', 'Zara Larsson', 'Fifth Harmony',\n",
              "       'Clean Bandit', 'Meghan Trainor', 'Nick Jonas', 'Paloma Faith',\n",
              "       'Olly Murs', 'Naughty Boy', 'Alessia Cara', 'Sigala', 'Rudimental',\n",
              "       'Lost Frequencies', 'Robin Schulz', 'Lilly Wood and The Prick',\n",
              "       'Wiz Khalifa', 'Alesso', 'Madonna', 'Gwen Stefani', 'Jess Glynne',\n",
              "       'Hilary Duff', 'Ricky Martin', 'Jennifer Hudson', 'DNCE',\n",
              "       'Martin Garrix', 'Lukas Graham', 'G-Eazy', 'Hailee Steinfeld',\n",
              "       'BØRNS', 'Major Lazer', 'MØ', 'Tove Lo', 'ZAYN', 'Bebe Rexha',\n",
              "       'Snakehips', 'Missy Elliott', 'Years & Years', 'Charlie Puth',\n",
              "       'Janet Jackson', 'Joey Montana', 'Nelly Furtado', 'DJ Snake',\n",
              "       'Kygo', 'DJ Khaled', 'Luis Fonsi', 'Camila Cabello', 'Jonas Blue',\n",
              "       'CNCO', 'Cardi B', 'Alan Walker', 'Liam Payne', 'Niall Horan',\n",
              "       'Cashmere Cat', 'Galantis', 'Dua Lipa', 'Silk City', 'Marshmello',\n",
              "       'Halsey', 'Troye Sivan', 'Dan + Shay', 'Rita Ora', 'Harry Styles',\n",
              "       'Ansel Elgort', 'J Balvin', 'N.E.R.D', 'Hayley Kiyoko', 'RedOne',\n",
              "       'Lewis Capaldi', 'SHAED', 'Lizzo', 'Mabel', 'Khalid', 'R3HAB',\n",
              "       'Daddy Yankee'], dtype=object)"
            ]
          },
          "metadata": {},
          "execution_count": 53
        }
      ]
    },
    {
      "cell_type": "code",
      "source": [
        "new_df.isnull().any()\n",
        "new_df = new_df.drop_duplicates()\n",
        "new_df = new_df.reset_index(drop=True)\n",
        "new_df.head()"
      ],
      "metadata": {
        "colab": {
          "base_uri": "https://localhost:8080/",
          "height": 414
        },
        "id": "zOMrETmAMwxR",
        "outputId": "d983d69b-1e03-4bde-bf18-cea9e78094d6"
      },
      "execution_count": null,
      "outputs": [
        {
          "output_type": "execute_result",
          "data": {
            "text/plain": [
              "artist       False\n",
              "top genre    False\n",
              "bpm          False\n",
              "nrgy         False\n",
              "dnce         False\n",
              "dB           False\n",
              "live         False\n",
              "val          False\n",
              "dur          False\n",
              "acous        False\n",
              "spch         False\n",
              "dtype: bool"
            ]
          },
          "metadata": {},
          "execution_count": 54
        },
        {
          "output_type": "execute_result",
          "data": {
            "text/html": [
              "\n",
              "  <div id=\"df-59657fdd-fc5f-4a30-8e54-ca274a077eef\">\n",
              "    <div class=\"colab-df-container\">\n",
              "      <div>\n",
              "<style scoped>\n",
              "    .dataframe tbody tr th:only-of-type {\n",
              "        vertical-align: middle;\n",
              "    }\n",
              "\n",
              "    .dataframe tbody tr th {\n",
              "        vertical-align: top;\n",
              "    }\n",
              "\n",
              "    .dataframe thead th {\n",
              "        text-align: right;\n",
              "    }\n",
              "</style>\n",
              "<table border=\"1\" class=\"dataframe\">\n",
              "  <thead>\n",
              "    <tr style=\"text-align: right;\">\n",
              "      <th></th>\n",
              "      <th>artist</th>\n",
              "      <th>top genre</th>\n",
              "      <th>bpm</th>\n",
              "      <th>nrgy</th>\n",
              "      <th>dnce</th>\n",
              "      <th>dB</th>\n",
              "      <th>live</th>\n",
              "      <th>val</th>\n",
              "      <th>dur</th>\n",
              "      <th>acous</th>\n",
              "      <th>spch</th>\n",
              "    </tr>\n",
              "  </thead>\n",
              "  <tbody>\n",
              "    <tr>\n",
              "      <th>0</th>\n",
              "      <td>Train</td>\n",
              "      <td>neo mellow</td>\n",
              "      <td>97</td>\n",
              "      <td>89</td>\n",
              "      <td>67</td>\n",
              "      <td>-4</td>\n",
              "      <td>8</td>\n",
              "      <td>80</td>\n",
              "      <td>217</td>\n",
              "      <td>19</td>\n",
              "      <td>4</td>\n",
              "    </tr>\n",
              "    <tr>\n",
              "      <th>1</th>\n",
              "      <td>Eminem</td>\n",
              "      <td>hip hop</td>\n",
              "      <td>87</td>\n",
              "      <td>93</td>\n",
              "      <td>75</td>\n",
              "      <td>-5</td>\n",
              "      <td>52</td>\n",
              "      <td>64</td>\n",
              "      <td>263</td>\n",
              "      <td>24</td>\n",
              "      <td>23</td>\n",
              "    </tr>\n",
              "    <tr>\n",
              "      <th>2</th>\n",
              "      <td>Kesha</td>\n",
              "      <td>pop</td>\n",
              "      <td>120</td>\n",
              "      <td>84</td>\n",
              "      <td>76</td>\n",
              "      <td>-3</td>\n",
              "      <td>29</td>\n",
              "      <td>71</td>\n",
              "      <td>200</td>\n",
              "      <td>10</td>\n",
              "      <td>14</td>\n",
              "    </tr>\n",
              "    <tr>\n",
              "      <th>3</th>\n",
              "      <td>Lady Gaga</td>\n",
              "      <td>pop</td>\n",
              "      <td>119</td>\n",
              "      <td>92</td>\n",
              "      <td>70</td>\n",
              "      <td>-4</td>\n",
              "      <td>8</td>\n",
              "      <td>71</td>\n",
              "      <td>295</td>\n",
              "      <td>0</td>\n",
              "      <td>4</td>\n",
              "    </tr>\n",
              "    <tr>\n",
              "      <th>4</th>\n",
              "      <td>Bruno Mars</td>\n",
              "      <td>pop</td>\n",
              "      <td>109</td>\n",
              "      <td>84</td>\n",
              "      <td>64</td>\n",
              "      <td>-5</td>\n",
              "      <td>9</td>\n",
              "      <td>43</td>\n",
              "      <td>221</td>\n",
              "      <td>2</td>\n",
              "      <td>4</td>\n",
              "    </tr>\n",
              "  </tbody>\n",
              "</table>\n",
              "</div>\n",
              "      <button class=\"colab-df-convert\" onclick=\"convertToInteractive('df-59657fdd-fc5f-4a30-8e54-ca274a077eef')\"\n",
              "              title=\"Convert this dataframe to an interactive table.\"\n",
              "              style=\"display:none;\">\n",
              "        \n",
              "  <svg xmlns=\"http://www.w3.org/2000/svg\" height=\"24px\"viewBox=\"0 0 24 24\"\n",
              "       width=\"24px\">\n",
              "    <path d=\"M0 0h24v24H0V0z\" fill=\"none\"/>\n",
              "    <path d=\"M18.56 5.44l.94 2.06.94-2.06 2.06-.94-2.06-.94-.94-2.06-.94 2.06-2.06.94zm-11 1L8.5 8.5l.94-2.06 2.06-.94-2.06-.94L8.5 2.5l-.94 2.06-2.06.94zm10 10l.94 2.06.94-2.06 2.06-.94-2.06-.94-.94-2.06-.94 2.06-2.06.94z\"/><path d=\"M17.41 7.96l-1.37-1.37c-.4-.4-.92-.59-1.43-.59-.52 0-1.04.2-1.43.59L10.3 9.45l-7.72 7.72c-.78.78-.78 2.05 0 2.83L4 21.41c.39.39.9.59 1.41.59.51 0 1.02-.2 1.41-.59l7.78-7.78 2.81-2.81c.8-.78.8-2.07 0-2.86zM5.41 20L4 18.59l7.72-7.72 1.47 1.35L5.41 20z\"/>\n",
              "  </svg>\n",
              "      </button>\n",
              "      \n",
              "  <style>\n",
              "    .colab-df-container {\n",
              "      display:flex;\n",
              "      flex-wrap:wrap;\n",
              "      gap: 12px;\n",
              "    }\n",
              "\n",
              "    .colab-df-convert {\n",
              "      background-color: #E8F0FE;\n",
              "      border: none;\n",
              "      border-radius: 50%;\n",
              "      cursor: pointer;\n",
              "      display: none;\n",
              "      fill: #1967D2;\n",
              "      height: 32px;\n",
              "      padding: 0 0 0 0;\n",
              "      width: 32px;\n",
              "    }\n",
              "\n",
              "    .colab-df-convert:hover {\n",
              "      background-color: #E2EBFA;\n",
              "      box-shadow: 0px 1px 2px rgba(60, 64, 67, 0.3), 0px 1px 3px 1px rgba(60, 64, 67, 0.15);\n",
              "      fill: #174EA6;\n",
              "    }\n",
              "\n",
              "    [theme=dark] .colab-df-convert {\n",
              "      background-color: #3B4455;\n",
              "      fill: #D2E3FC;\n",
              "    }\n",
              "\n",
              "    [theme=dark] .colab-df-convert:hover {\n",
              "      background-color: #434B5C;\n",
              "      box-shadow: 0px 1px 3px 1px rgba(0, 0, 0, 0.15);\n",
              "      filter: drop-shadow(0px 1px 2px rgba(0, 0, 0, 0.3));\n",
              "      fill: #FFFFFF;\n",
              "    }\n",
              "  </style>\n",
              "\n",
              "      <script>\n",
              "        const buttonEl =\n",
              "          document.querySelector('#df-59657fdd-fc5f-4a30-8e54-ca274a077eef button.colab-df-convert');\n",
              "        buttonEl.style.display =\n",
              "          google.colab.kernel.accessAllowed ? 'block' : 'none';\n",
              "\n",
              "        async function convertToInteractive(key) {\n",
              "          const element = document.querySelector('#df-59657fdd-fc5f-4a30-8e54-ca274a077eef');\n",
              "          const dataTable =\n",
              "            await google.colab.kernel.invokeFunction('convertToInteractive',\n",
              "                                                     [key], {});\n",
              "          if (!dataTable) return;\n",
              "\n",
              "          const docLinkHtml = 'Like what you see? Visit the ' +\n",
              "            '<a target=\"_blank\" href=https://colab.research.google.com/notebooks/data_table.ipynb>data table notebook</a>'\n",
              "            + ' to learn more about interactive tables.';\n",
              "          element.innerHTML = '';\n",
              "          dataTable['output_type'] = 'display_data';\n",
              "          await google.colab.output.renderOutput(dataTable, element);\n",
              "          const docLink = document.createElement('div');\n",
              "          docLink.innerHTML = docLinkHtml;\n",
              "          element.appendChild(docLink);\n",
              "        }\n",
              "      </script>\n",
              "    </div>\n",
              "  </div>\n",
              "  "
            ],
            "text/plain": [
              "       artist   top genre  bpm  nrgy  dnce  dB  live  val  dur  acous  spch\n",
              "0       Train  neo mellow   97    89    67  -4     8   80  217     19     4\n",
              "1      Eminem     hip hop   87    93    75  -5    52   64  263     24    23\n",
              "2       Kesha         pop  120    84    76  -3    29   71  200     10    14\n",
              "3   Lady Gaga         pop  119    92    70  -4     8   71  295      0     4\n",
              "4  Bruno Mars         pop  109    84    64  -5     9   43  221      2     4"
            ]
          },
          "metadata": {},
          "execution_count": 54
        }
      ]
    },
    {
      "cell_type": "code",
      "source": [
        "plt.hist(new_df.dB)\n",
        "plt.show()\n",
        "plt.hist(new_df.bpm)\n",
        "plt.show()\n",
        "plt.hist(new_df.nrgy)\n",
        "plt.show()\n",
        "plt.hist(new_df.live)\n",
        "plt.show()\n",
        "plt.hist(new_df.val)\n",
        "plt.show()\n",
        "plt.hist(new_df.dur)\n",
        "plt.show()\n",
        "plt.hist(new_df.acous)\n",
        "plt.show()\n",
        "plt.hist(new_df.spch)\n",
        "plt.show()"
      ],
      "metadata": {
        "colab": {
          "base_uri": "https://localhost:8080/",
          "height": 1000
        },
        "id": "AKedNN3OMzgm",
        "outputId": "c2c2b63c-e79b-4d5c-9ec3-2805bf8d19c9"
      },
      "execution_count": null,
      "outputs": [
        {
          "output_type": "execute_result",
          "data": {
            "text/plain": [
              "(array([  1.,   0.,   0.,   0.,   0.,   0.,   0.,   1.,  57., 528.]),\n",
              " array([-60. , -54.2, -48.4, -42.6, -36.8, -31. , -25.2, -19.4, -13.6,\n",
              "         -7.8,  -2. ]),\n",
              " <a list of 10 Patch objects>)"
            ]
          },
          "metadata": {},
          "execution_count": 55
        },
        {
          "output_type": "display_data",
          "data": {
            "image/png": "[encoded data removed]",
            "text/plain": [
              "<Figure size 432x288 with 1 Axes>"
            ]
          },
          "metadata": {
            "needs_background": "light"
          }
        },
        {
          "output_type": "execute_result",
          "data": {
            "text/plain": [
              "(array([  1.,   0.,   1.,  26., 138., 179., 172.,  39.,  18.,  13.]),\n",
              " array([  0. ,  20.6,  41.2,  61.8,  82.4, 103. , 123.6, 144.2, 164.8,\n",
              "        185.4, 206. ]),\n",
              " <a list of 10 Patch objects>)"
            ]
          },
          "metadata": {},
          "execution_count": 55
        },
        {
          "output_type": "display_data",
          "data": {
            "image/png": "[encoded data removed]",
            "text/plain": [
              "<Figure size 432x288 with 1 Axes>"
            ]
          },
          "metadata": {
            "needs_background": "light"
          }
        },
        {
          "output_type": "execute_result",
          "data": {
            "text/plain": [
              "(array([  2.,   3.,   5.,  22.,  30.,  54., 104., 147., 165.,  55.]),\n",
              " array([ 0. ,  9.8, 19.6, 29.4, 39.2, 49. , 58.8, 68.6, 78.4, 88.2, 98. ]),\n",
              " <a list of 10 Patch objects>)"
            ]
          },
          "metadata": {},
          "execution_count": 55
        },
        {
          "output_type": "display_data",
          "data": {
            "image/png": "[encoded data removed]",
            "text/plain": [
              "<Figure size 432x288 with 1 Axes>"
            ]
          },
          "metadata": {
            "needs_background": "light"
          }
        },
        {
          "output_type": "execute_result",
          "data": {
            "text/plain": [
              "(array([ 70., 283.,  79.,  42.,  60.,  28.,   7.,   4.,   8.,   6.]),\n",
              " array([ 0. ,  7.4, 14.8, 22.2, 29.6, 37. , 44.4, 51.8, 59.2, 66.6, 74. ]),\n",
              " <a list of 10 Patch objects>)"
            ]
          },
          "metadata": {},
          "execution_count": 55
        },
        {
          "output_type": "display_data",
          "data": {
            "image/png": "[encoded data removed]",
            "text/plain": [
              "<Figure size 432x288 with 1 Axes>"
            ]
          },
          "metadata": {
            "needs_background": "light"
          }
        },
        {
          "output_type": "execute_result",
          "data": {
            "text/plain": [
              "(array([16., 34., 59., 70., 77., 91., 89., 63., 60., 28.]),\n",
              " array([ 0. ,  9.8, 19.6, 29.4, 39.2, 49. , 58.8, 68.6, 78.4, 88.2, 98. ]),\n",
              " <a list of 10 Patch objects>)"
            ]
          },
          "metadata": {},
          "execution_count": 55
        },
        {
          "output_type": "display_data",
          "data": {
            "image/png": "[encoded data removed]",
            "text/plain": [
              "<Figure size 432x288 with 1 Axes>"
            ]
          },
          "metadata": {
            "needs_background": "light"
          }
        },
        {
          "output_type": "execute_result",
          "data": {
            "text/plain": [
              "(array([  8.,  66., 219., 183.,  73.,  23.,   9.,   3.,   1.,   2.]),\n",
              " array([134., 163., 192., 221., 250., 279., 308., 337., 366., 395., 424.]),\n",
              " <a list of 10 Patch objects>)"
            ]
          },
          "metadata": {},
          "execution_count": 55
        },
        {
          "output_type": "display_data",
          "data": {
            "image/png": "[encoded data removed]",
            "text/plain": [
              "<Figure size 432x288 with 1 Axes>"
            ]
          },
          "metadata": {
            "needs_background": "light"
          }
        },
        {
          "output_type": "execute_result",
          "data": {
            "text/plain": [
              "(array([361.,  94.,  46.,  22.,  20.,  13.,   4.,   8.,  13.,   6.]),\n",
              " array([ 0. ,  9.9, 19.8, 29.7, 39.6, 49.5, 59.4, 69.3, 79.2, 89.1, 99. ]),\n",
              " <a list of 10 Patch objects>)"
            ]
          },
          "metadata": {},
          "execution_count": 55
        },
        {
          "output_type": "display_data",
          "data": {
            "image/png": "[encoded data removed]",
            "text/plain": [
              "<Figure size 432x288 with 1 Axes>"
            ]
          },
          "metadata": {
            "needs_background": "light"
          }
        },
        {
          "output_type": "execute_result",
          "data": {
            "text/plain": [
              "(array([202., 242.,  68.,  28.,  14.,  14.,   7.,   7.,   2.,   3.]),\n",
              " array([ 0. ,  4.8,  9.6, 14.4, 19.2, 24. , 28.8, 33.6, 38.4, 43.2, 48. ]),\n",
              " <a list of 10 Patch objects>)"
            ]
          },
          "metadata": {},
          "execution_count": 55
        },
        {
          "output_type": "display_data",
          "data": {
            "image/png": "[encoded data removed]",
            "text/plain": [
              "<Figure size 432x288 with 1 Axes>"
            ]
          },
          "metadata": {
            "needs_background": "light"
          }
        }
      ]
    },
    {
      "cell_type": "code",
      "source": [
        "new_df"
      ],
      "metadata": {
        "colab": {
          "base_uri": "https://localhost:8080/",
          "height": 424
        },
        "id": "3R7yRQkiM21O",
        "outputId": "5bd5732f-e433-4f08-ed7b-f12e28edb703"
      },
      "execution_count": null,
      "outputs": [
        {
          "output_type": "execute_result",
          "data": {
            "text/html": [
              "\n",
              "  <div id=\"df-70d59a8d-1889-4ddd-9026-7e2eafcaa098\">\n",
              "    <div class=\"colab-df-container\">\n",
              "      <div>\n",
              "<style scoped>\n",
              "    .dataframe tbody tr th:only-of-type {\n",
              "        vertical-align: middle;\n",
              "    }\n",
              "\n",
              "    .dataframe tbody tr th {\n",
              "        vertical-align: top;\n",
              "    }\n",
              "\n",
              "    .dataframe thead th {\n",
              "        text-align: right;\n",
              "    }\n",
              "</style>\n",
              "<table border=\"1\" class=\"dataframe\">\n",
              "  <thead>\n",
              "    <tr style=\"text-align: right;\">\n",
              "      <th></th>\n",
              "      <th>artist</th>\n",
              "      <th>top genre</th>\n",
              "      <th>bpm</th>\n",
              "      <th>nrgy</th>\n",
              "      <th>dnce</th>\n",
              "      <th>dB</th>\n",
              "      <th>live</th>\n",
              "      <th>val</th>\n",
              "      <th>dur</th>\n",
              "      <th>acous</th>\n",
              "      <th>spch</th>\n",
              "    </tr>\n",
              "  </thead>\n",
              "  <tbody>\n",
              "    <tr>\n",
              "      <th>0</th>\n",
              "      <td>Train</td>\n",
              "      <td>neo mellow</td>\n",
              "      <td>97</td>\n",
              "      <td>89</td>\n",
              "      <td>67</td>\n",
              "      <td>-4</td>\n",
              "      <td>8</td>\n",
              "      <td>80</td>\n",
              "      <td>217</td>\n",
              "      <td>19</td>\n",
              "      <td>4</td>\n",
              "    </tr>\n",
              "    <tr>\n",
              "      <th>1</th>\n",
              "      <td>Eminem</td>\n",
              "      <td>hip hop</td>\n",
              "      <td>87</td>\n",
              "      <td>93</td>\n",
              "      <td>75</td>\n",
              "      <td>-5</td>\n",
              "      <td>52</td>\n",
              "      <td>64</td>\n",
              "      <td>263</td>\n",
              "      <td>24</td>\n",
              "      <td>23</td>\n",
              "    </tr>\n",
              "    <tr>\n",
              "      <th>2</th>\n",
              "      <td>Kesha</td>\n",
              "      <td>pop</td>\n",
              "      <td>120</td>\n",
              "      <td>84</td>\n",
              "      <td>76</td>\n",
              "      <td>-3</td>\n",
              "      <td>29</td>\n",
              "      <td>71</td>\n",
              "      <td>200</td>\n",
              "      <td>10</td>\n",
              "      <td>14</td>\n",
              "    </tr>\n",
              "    <tr>\n",
              "      <th>3</th>\n",
              "      <td>Lady Gaga</td>\n",
              "      <td>pop</td>\n",
              "      <td>119</td>\n",
              "      <td>92</td>\n",
              "      <td>70</td>\n",
              "      <td>-4</td>\n",
              "      <td>8</td>\n",
              "      <td>71</td>\n",
              "      <td>295</td>\n",
              "      <td>0</td>\n",
              "      <td>4</td>\n",
              "    </tr>\n",
              "    <tr>\n",
              "      <th>4</th>\n",
              "      <td>Bruno Mars</td>\n",
              "      <td>pop</td>\n",
              "      <td>109</td>\n",
              "      <td>84</td>\n",
              "      <td>64</td>\n",
              "      <td>-5</td>\n",
              "      <td>9</td>\n",
              "      <td>43</td>\n",
              "      <td>221</td>\n",
              "      <td>2</td>\n",
              "      <td>4</td>\n",
              "    </tr>\n",
              "    <tr>\n",
              "      <th>...</th>\n",
              "      <td>...</td>\n",
              "      <td>...</td>\n",
              "      <td>...</td>\n",
              "      <td>...</td>\n",
              "      <td>...</td>\n",
              "      <td>...</td>\n",
              "      <td>...</td>\n",
              "      <td>...</td>\n",
              "      <td>...</td>\n",
              "      <td>...</td>\n",
              "      <td>...</td>\n",
              "    </tr>\n",
              "    <tr>\n",
              "      <th>582</th>\n",
              "      <td>Mark Ronson</td>\n",
              "      <td>pop</td>\n",
              "      <td>104</td>\n",
              "      <td>66</td>\n",
              "      <td>61</td>\n",
              "      <td>-7</td>\n",
              "      <td>20</td>\n",
              "      <td>16</td>\n",
              "      <td>176</td>\n",
              "      <td>1</td>\n",
              "      <td>3</td>\n",
              "    </tr>\n",
              "    <tr>\n",
              "      <th>583</th>\n",
              "      <td>Ed Sheeran</td>\n",
              "      <td>pop</td>\n",
              "      <td>95</td>\n",
              "      <td>79</td>\n",
              "      <td>75</td>\n",
              "      <td>-6</td>\n",
              "      <td>7</td>\n",
              "      <td>61</td>\n",
              "      <td>206</td>\n",
              "      <td>21</td>\n",
              "      <td>12</td>\n",
              "    </tr>\n",
              "    <tr>\n",
              "      <th>584</th>\n",
              "      <td>DJ Khaled</td>\n",
              "      <td>pop</td>\n",
              "      <td>136</td>\n",
              "      <td>76</td>\n",
              "      <td>53</td>\n",
              "      <td>-5</td>\n",
              "      <td>9</td>\n",
              "      <td>65</td>\n",
              "      <td>260</td>\n",
              "      <td>7</td>\n",
              "      <td>34</td>\n",
              "    </tr>\n",
              "    <tr>\n",
              "      <th>585</th>\n",
              "      <td>Mark Ronson</td>\n",
              "      <td>pop</td>\n",
              "      <td>114</td>\n",
              "      <td>79</td>\n",
              "      <td>60</td>\n",
              "      <td>-6</td>\n",
              "      <td>42</td>\n",
              "      <td>24</td>\n",
              "      <td>217</td>\n",
              "      <td>1</td>\n",
              "      <td>7</td>\n",
              "    </tr>\n",
              "    <tr>\n",
              "      <th>586</th>\n",
              "      <td>The Chainsmokers</td>\n",
              "      <td>pop</td>\n",
              "      <td>150</td>\n",
              "      <td>44</td>\n",
              "      <td>70</td>\n",
              "      <td>-9</td>\n",
              "      <td>13</td>\n",
              "      <td>23</td>\n",
              "      <td>213</td>\n",
              "      <td>6</td>\n",
              "      <td>6</td>\n",
              "    </tr>\n",
              "  </tbody>\n",
              "</table>\n",
              "<p>587 rows × 11 columns</p>\n",
              "</div>\n",
              "      <button class=\"colab-df-convert\" onclick=\"convertToInteractive('df-70d59a8d-1889-4ddd-9026-7e2eafcaa098')\"\n",
              "              title=\"Convert this dataframe to an interactive table.\"\n",
              "              style=\"display:none;\">\n",
              "        \n",
              "  <svg xmlns=\"http://www.w3.org/2000/svg\" height=\"24px\"viewBox=\"0 0 24 24\"\n",
              "       width=\"24px\">\n",
              "    <path d=\"M0 0h24v24H0V0z\" fill=\"none\"/>\n",
              "    <path d=\"M18.56 5.44l.94 2.06.94-2.06 2.06-.94-2.06-.94-.94-2.06-.94 2.06-2.06.94zm-11 1L8.5 8.5l.94-2.06 2.06-.94-2.06-.94L8.5 2.5l-.94 2.06-2.06.94zm10 10l.94 2.06.94-2.06 2.06-.94-2.06-.94-.94-2.06-.94 2.06-2.06.94z\"/><path d=\"M17.41 7.96l-1.37-1.37c-.4-.4-.92-.59-1.43-.59-.52 0-1.04.2-1.43.59L10.3 9.45l-7.72 7.72c-.78.78-.78 2.05 0 2.83L4 21.41c.39.39.9.59 1.41.59.51 0 1.02-.2 1.41-.59l7.78-7.78 2.81-2.81c.8-.78.8-2.07 0-2.86zM5.41 20L4 18.59l7.72-7.72 1.47 1.35L5.41 20z\"/>\n",
              "  </svg>\n",
              "      </button>\n",
              "      \n",
              "  <style>\n",
              "    .colab-df-container {\n",
              "      display:flex;\n",
              "      flex-wrap:wrap;\n",
              "      gap: 12px;\n",
              "    }\n",
              "\n",
              "    .colab-df-convert {\n",
              "      background-color: #E8F0FE;\n",
              "      border: none;\n",
              "      border-radius: 50%;\n",
              "      cursor: pointer;\n",
              "      display: none;\n",
              "      fill: #1967D2;\n",
              "      height: 32px;\n",
              "      padding: 0 0 0 0;\n",
              "      width: 32px;\n",
              "    }\n",
              "\n",
              "    .colab-df-convert:hover {\n",
              "      background-color: #E2EBFA;\n",
              "      box-shadow: 0px 1px 2px rgba(60, 64, 67, 0.3), 0px 1px 3px 1px rgba(60, 64, 67, 0.15);\n",
              "      fill: #174EA6;\n",
              "    }\n",
              "\n",
              "    [theme=dark] .colab-df-convert {\n",
              "      background-color: #3B4455;\n",
              "      fill: #D2E3FC;\n",
              "    }\n",
              "\n",
              "    [theme=dark] .colab-df-convert:hover {\n",
              "      background-color: #434B5C;\n",
              "      box-shadow: 0px 1px 3px 1px rgba(0, 0, 0, 0.15);\n",
              "      filter: drop-shadow(0px 1px 2px rgba(0, 0, 0, 0.3));\n",
              "      fill: #FFFFFF;\n",
              "    }\n",
              "  </style>\n",
              "\n",
              "      <script>\n",
              "        const buttonEl =\n",
              "          document.querySelector('#df-70d59a8d-1889-4ddd-9026-7e2eafcaa098 button.colab-df-convert');\n",
              "        buttonEl.style.display =\n",
              "          google.colab.kernel.accessAllowed ? 'block' : 'none';\n",
              "\n",
              "        async function convertToInteractive(key) {\n",
              "          const element = document.querySelector('#df-70d59a8d-1889-4ddd-9026-7e2eafcaa098');\n",
              "          const dataTable =\n",
              "            await google.colab.kernel.invokeFunction('convertToInteractive',\n",
              "                                                     [key], {});\n",
              "          if (!dataTable) return;\n",
              "\n",
              "          const docLinkHtml = 'Like what you see? Visit the ' +\n",
              "            '<a target=\"_blank\" href=https://colab.research.google.com/notebooks/data_table.ipynb>data table notebook</a>'\n",
              "            + ' to learn more about interactive tables.';\n",
              "          element.innerHTML = '';\n",
              "          dataTable['output_type'] = 'display_data';\n",
              "          await google.colab.output.renderOutput(dataTable, element);\n",
              "          const docLink = document.createElement('div');\n",
              "          docLink.innerHTML = docLinkHtml;\n",
              "          element.appendChild(docLink);\n",
              "        }\n",
              "      </script>\n",
              "    </div>\n",
              "  </div>\n",
              "  "
            ],
            "text/plain": [
              "               artist   top genre  bpm  nrgy  dnce  ...  live  val  dur  acous  spch\n",
              "0               Train  neo mellow   97    89    67  ...     8   80  217     19     4\n",
              "1              Eminem     hip hop   87    93    75  ...    52   64  263     24    23\n",
              "2               Kesha         pop  120    84    76  ...    29   71  200     10    14\n",
              "3           Lady Gaga         pop  119    92    70  ...     8   71  295      0     4\n",
              "4          Bruno Mars         pop  109    84    64  ...     9   43  221      2     4\n",
              "..                ...         ...  ...   ...   ...  ...   ...  ...  ...    ...   ...\n",
              "582       Mark Ronson         pop  104    66    61  ...    20   16  176      1     3\n",
              "583        Ed Sheeran         pop   95    79    75  ...     7   61  206     21    12\n",
              "584         DJ Khaled         pop  136    76    53  ...     9   65  260      7    34\n",
              "585       Mark Ronson         pop  114    79    60  ...    42   24  217      1     7\n",
              "586  The Chainsmokers         pop  150    44    70  ...    13   23  213      6     6\n",
              "\n",
              "[587 rows x 11 columns]"
            ]
          },
          "metadata": {},
          "execution_count": 56
        }
      ]
    },
    {
      "cell_type": "code",
      "source": [
        "new_df.bpm.unique()\n",
        "new_df.dB.unique()"
      ],
      "metadata": {
        "colab": {
          "base_uri": "https://localhost:8080/"
        },
        "id": "OvnF0jR7M7sh",
        "outputId": "94ef184b-0c45-43f2-a607-3fe0e3e8b2cc"
      },
      "execution_count": null,
      "outputs": [
        {
          "output_type": "execute_result",
          "data": {
            "text/plain": [
              "array([ 97,  87, 120, 119, 109,  65, 148,  93, 126, 128, 145, 130, 122,\n",
              "       125, 121,  99, 186, 103, 146, 133, 129, 135, 138,  92, 111, 164,\n",
              "       131, 150, 104, 182, 112,  43,  91,  80, 139, 105, 127,  94, 110,\n",
              "       100, 124, 175,  95, 152, 132,  63,  84,  75,  98, 144, 140,  77,\n",
              "       117, 108,  86, 116, 160, 134, 184,  90, 114,  85, 180, 170, 174,\n",
              "       155, 118, 185, 136,  82, 102, 107, 201,  96,  83, 192,  76, 149,\n",
              "        79, 113, 115, 206, 190, 158, 176, 123, 106,  78, 156,  89, 202,\n",
              "       142, 163, 101,   0, 159,  81,  73, 178, 181, 167, 172,  88, 168])"
            ]
          },
          "metadata": {},
          "execution_count": 57
        },
        {
          "output_type": "execute_result",
          "data": {
            "text/plain": [
              "array([ -4,  -5,  -3,  -6,  -8,  -7,  -2,  -9, -11, -12, -10, -15, -13,\n",
              "       -60])"
            ]
          },
          "metadata": {},
          "execution_count": 57
        }
      ]
    },
    {
      "cell_type": "code",
      "source": [
        "new_df.bpm = new_df.bpm.replace(0, new_df.bpm.mean())\n",
        "new_df.bpm.unique()\n",
        "new_df.dB = new_df.dB.replace(-60, new_df.dB.mean())\n",
        "new_df.dB.unique()"
      ],
      "metadata": {
        "colab": {
          "base_uri": "https://localhost:8080/"
        },
        "id": "yCOeo-ktM_zI",
        "outputId": "1919d9d2-1a38-4fc9-eea7-1247005de43e"
      },
      "execution_count": null,
      "outputs": [
        {
          "output_type": "execute_result",
          "data": {
            "text/plain": [
              "array([ 97.       ,  87.       , 120.       , 119.       , 109.       ,\n",
              "        65.       , 148.       ,  93.       , 126.       , 128.       ,\n",
              "       145.       , 130.       , 122.       , 125.       , 121.       ,\n",
              "        99.       , 186.       , 103.       , 146.       , 133.       ,\n",
              "       129.       , 135.       , 138.       ,  92.       , 111.       ,\n",
              "       164.       , 131.       , 150.       , 104.       , 182.       ,\n",
              "       112.       ,  43.       ,  91.       ,  80.       , 139.       ,\n",
              "       105.       , 127.       ,  94.       , 110.       , 100.       ,\n",
              "       124.       , 175.       ,  95.       , 152.       , 132.       ,\n",
              "        63.       ,  84.       ,  75.       ,  98.       , 144.       ,\n",
              "       140.       ,  77.       , 117.       , 108.       ,  86.       ,\n",
              "       116.       , 160.       , 134.       , 184.       ,  90.       ,\n",
              "       114.       ,  85.       , 180.       , 170.       , 174.       ,\n",
              "       155.       , 118.       , 185.       , 136.       ,  82.       ,\n",
              "       102.       , 107.       , 201.       ,  96.       ,  83.       ,\n",
              "       192.       ,  76.       , 149.       ,  79.       , 113.       ,\n",
              "       115.       , 206.       , 190.       , 158.       , 176.       ,\n",
              "       123.       , 106.       ,  78.       , 156.       ,  89.       ,\n",
              "       202.       , 142.       , 163.       , 101.       , 118.6592845,\n",
              "       159.       ,  81.       ,  73.       , 178.       , 181.       ,\n",
              "       167.       , 172.       ,  88.       , 168.       ])"
            ]
          },
          "metadata": {},
          "execution_count": 58
        },
        {
          "output_type": "execute_result",
          "data": {
            "text/plain": [
              "array([ -4.        ,  -5.        ,  -3.        ,  -6.        ,\n",
              "        -8.        ,  -7.        ,  -2.        ,  -9.        ,\n",
              "       -11.        , -12.        , -10.        , -15.        ,\n",
              "       -13.        ,  -5.56899489])"
            ]
          },
          "metadata": {},
          "execution_count": 58
        }
      ]
    },
    {
      "cell_type": "code",
      "source": [
        "temp_df = pd.get_dummies(new_df[['artist', 'top genre']])\n",
        "new_df = new_df.join(temp_df, how='left')\n",
        "new_df = new_df.drop(columns = ['artist', 'top genre'], axis=1)\n",
        "new_df.shape"
      ],
      "metadata": {
        "colab": {
          "base_uri": "https://localhost:8080/"
        },
        "id": "SynU4Z85NC-7",
        "outputId": "18a006e4-b8b1-41ff-9238-df90d695424a"
      },
      "execution_count": null,
      "outputs": [
        {
          "output_type": "execute_result",
          "data": {
            "text/plain": [
              "(587, 205)"
            ]
          },
          "metadata": {},
          "execution_count": 59
        }
      ]
    },
    {
      "cell_type": "code",
      "source": [
        "X_std = StandardScaler().fit_transform(new_df)\n",
        "pca = PCA(n_components=.95)\n",
        "principalComponents = pca.fit_transform(X_std) # Plot the explained variances\n",
        "\n",
        "#Plotting the Cumulative Summation of the Explained Variance\n",
        "plt.figure()\n",
        "plt.plot(np.cumsum(pca.explained_variance_ratio_))\n",
        "plt.xlabel('Number of Components')\n",
        "plt.ylabel('Variance (%)') #for each component\n",
        "plt.title('Pulsar Dataset Explained Variance')\n",
        "plt.show()"
      ],
      "metadata": {
        "colab": {
          "base_uri": "https://localhost:8080/",
          "height": 350
        },
        "id": "LvPiO0EZNFxY",
        "outputId": "40abfac2-18db-4c91-84d8-4a4063e45ea9"
      },
      "execution_count": null,
      "outputs": [
        {
          "output_type": "execute_result",
          "data": {
            "text/plain": [
              "<Figure size 432x288 with 0 Axes>"
            ]
          },
          "metadata": {},
          "execution_count": 60
        },
        {
          "output_type": "execute_result",
          "data": {
            "text/plain": [
              "[<matplotlib.lines.Line2D at 0x7f90a6132f90>]"
            ]
          },
          "metadata": {},
          "execution_count": 60
        },
        {
          "output_type": "execute_result",
          "data": {
            "text/plain": [
              "Text(0.5, 0, 'Number of Components')"
            ]
          },
          "metadata": {},
          "execution_count": 60
        },
        {
          "output_type": "execute_result",
          "data": {
            "text/plain": [
              "Text(0, 0.5, 'Variance (%)')"
            ]
          },
          "metadata": {},
          "execution_count": 60
        },
        {
          "output_type": "execute_result",
          "data": {
            "text/plain": [
              "Text(0.5, 1.0, 'Pulsar Dataset Explained Variance')"
            ]
          },
          "metadata": {},
          "execution_count": 60
        },
        {
          "output_type": "display_data",
          "data": {
            "image/png": "[encoded data removed]",
            "text/plain": [
              "<Figure size 432x288 with 1 Axes>"
            ]
          },
          "metadata": {
            "needs_background": "light"
          }
        }
      ]
    },
    {
      "cell_type": "code",
      "source": [
        "pca = PCA(n_components=13)\n",
        "principalComponents = pca.fit_transform(X_std)\n",
        "pca_df = pd.DataFrame(principalComponents)"
      ],
      "metadata": {
        "id": "MXDHJ2-jNI0K"
      },
      "execution_count": 63,
      "outputs": []
    },
    {
      "cell_type": "code",
      "source": [
        "sum_of_squared_distances = []\n",
        "K = range(1,20)\n",
        "for k in K:\n",
        "    km = KMeans(n_clusters=k)\n",
        "    km = km.fit(pca_df)\n",
        "    sum_of_squared_distances.append(km.inertia_)\n",
        "    \n",
        "ax = sns.lineplot(x=K, y = sum_of_squared_distances)\n",
        "ax.set(xlabel='K', ylabel='sum of squared distances', title='Elbow graph')"
      ],
      "metadata": {
        "colab": {
          "base_uri": "https://localhost:8080/",
          "height": 347
        },
        "id": "N8TZetAFNNMb",
        "outputId": "ee60af4c-543f-432f-9c43-3c82bb378be7"
      },
      "execution_count": 64,
      "outputs": [
        {
          "output_type": "execute_result",
          "data": {
            "text/plain": [
              "[Text(0, 0.5, 'sum of squared distances'),\n",
              " Text(0.5, 0, 'K'),\n",
              " Text(0.5, 1.0, 'Elbow graph')]"
            ]
          },
          "metadata": {},
          "execution_count": 64
        },
        {
          "output_type": "display_data",
          "data": {
            "image/png": "[encoded data removed]",
            "text/plain": [
              "<Figure size 432x288 with 1 Axes>"
            ]
          },
          "metadata": {
            "needs_background": "light"
          }
        }
      ]
    },
    {
      "cell_type": "code",
      "source": [
        "kmeans = KMeans(n_clusters=13)    \n",
        "kmeans.fit(pca_df)\n",
        "y_kmeans = kmeans.predict(pca_df)\n",
        "y_kmeans"
      ],
      "metadata": {
        "colab": {
          "base_uri": "https://localhost:8080/"
        },
        "id": "l7RJRMUENPOg",
        "outputId": "ab403fef-d71d-4ce4-e173-a301551f5746"
      },
      "execution_count": 65,
      "outputs": [
        {
          "output_type": "execute_result",
          "data": {
            "text/plain": [
              "KMeans(n_clusters=13)"
            ]
          },
          "metadata": {},
          "execution_count": 65
        },
        {
          "output_type": "execute_result",
          "data": {
            "text/plain": [
              "array([ 3, 10, 12, 12, 12, 12, 12, 12,  0, 12, 12, 12, 12, 12, 12, 10, 12,\n",
              "        0,  0, 12,  0, 12, 12, 12, 12, 12, 12, 12, 12, 12, 12, 12, 12,  0,\n",
              "        0, 12,  0, 12, 12,  0, 12,  0,  0, 12,  0, 12, 12, 10, 10, 12,  6,\n",
              "        0,  2, 12,  2, 12, 12, 12,  0, 12, 12, 12, 10,  0, 12, 12, 12,  0,\n",
              "        0, 12, 12, 12, 12, 12,  0, 12, 12, 12, 12,  0, 12, 12, 12, 12, 12,\n",
              "        0, 12, 12, 12, 12, 12,  0,  0, 12, 12, 12, 12, 12, 12, 12, 12, 12,\n",
              "        8, 12,  4,  0, 12, 12,  2, 12, 12,  0, 12, 12, 12,  4, 12, 12,  0,\n",
              "        0, 12, 12, 12, 12, 12, 12, 12, 12,  0, 12, 12, 12, 12,  0, 12, 12,\n",
              "        6,  4,  0,  5, 12,  0,  6,  1,  0,  0, 12, 12, 12, 11,  0, 12, 12,\n",
              "       10,  4,  4, 12,  1, 12, 12, 12, 12,  0,  0, 12,  0, 12,  0,  0, 12,\n",
              "       12, 12, 12,  0, 12,  4, 12,  0,  0,  0, 12,  0,  0,  0, 12, 12,  4,\n",
              "        8, 12,  0, 12,  0, 12,  4, 12, 12, 12, 12, 12, 12, 12, 12,  5, 12,\n",
              "       10,  3,  0, 12, 12, 12, 12, 12,  6, 12, 12,  0, 12, 12,  0, 12,  5,\n",
              "        0, 12,  0,  4, 10, 12,  0,  0, 12, 12, 12, 12, 12, 12,  0, 12, 12,\n",
              "       11,  0,  3, 12,  0,  3,  8, 12,  7,  0, 12,  3,  0, 12, 12, 12,  3,\n",
              "        3,  0,  0,  5,  0, 12,  0,  0,  0,  0,  0, 12,  5, 12, 12,  0,  0,\n",
              "        0,  0, 12, 12, 12,  5,  4, 12,  0, 12,  0, 12, 12, 12, 12,  7, 12,\n",
              "        2, 12, 12, 12, 12, 12, 12, 12, 12, 12, 12,  2, 12, 12, 12,  5, 12,\n",
              "       11, 12,  0,  0, 12, 12, 12,  0, 12, 12, 12, 12, 12, 12,  6, 12,  0,\n",
              "        0, 12,  0, 12,  1,  7, 12, 12, 12, 10,  6,  0,  4,  0, 12,  0, 12,\n",
              "       12, 12,  4, 12,  0,  0, 12, 12, 12, 12, 12, 12,  0, 12, 12,  0, 12,\n",
              "       12,  6, 12, 12,  0,  0,  0, 12, 12,  0,  0, 12, 10, 12, 12, 12, 12,\n",
              "       12, 12, 10,  0, 12, 12, 12, 12,  0, 12,  0,  0, 12,  2, 12, 12, 12,\n",
              "        0, 12,  0, 12, 12, 12, 12,  0,  0,  7, 12,  0, 12,  2, 12, 12,  2,\n",
              "       12,  0,  0,  0, 12,  3, 11, 12, 12, 12,  3, 12, 12,  0, 12,  0, 12,\n",
              "       12, 12,  9,  9,  2, 12,  0,  0, 12, 12,  1,  0, 12, 12, 11,  1,  0,\n",
              "        0, 12,  0, 12, 12,  0,  9,  7,  6,  0,  0, 12, 12, 12, 12, 12,  0,\n",
              "        4,  1, 12,  0, 12, 12,  1, 12, 12, 12, 12, 12, 12,  0, 11, 12,  0,\n",
              "        0, 12,  1, 12, 12, 12,  5, 12,  6,  0, 12,  0, 12, 12,  2,  7, 12,\n",
              "        8, 12,  0, 12, 12, 12, 12, 12, 12, 12,  0, 12,  1,  0, 12,  5, 12,\n",
              "        0, 12, 12, 12,  0, 12, 10, 12, 12,  0, 12,  0,  5, 12,  0, 12, 12,\n",
              "        0, 12,  0, 12,  0, 12, 12,  0,  9, 10, 12, 12, 12, 12,  0,  0, 10,\n",
              "        0, 12, 12,  5,  0,  0,  0,  0, 12, 12,  0, 12,  0,  0,  0, 12,  0,\n",
              "       12,  0,  5,  6,  6,  1,  4,  0,  4, 12, 12,  0, 12,  0,  6,  0,  0,\n",
              "        0, 12,  1,  9,  0, 12, 12, 12,  0], dtype=int32)"
            ]
          },
          "metadata": {},
          "execution_count": 65
        }
      ]
    },
    {
      "cell_type": "code",
      "source": [
        "plt.scatter(pca_df.iloc[:, 0], pca_df.iloc[:, 1], c=y_kmeans, s=50, cmap='viridis')\n",
        "centers = kmeans.cluster_centers_\n",
        "plt.scatter(centers[:, 0], centers[:, 1], c='black', s=200, alpha=0.5);"
      ],
      "metadata": {
        "colab": {
          "base_uri": "https://localhost:8080/",
          "height": 265
        },
        "id": "hodxyx9INSzK",
        "outputId": "f6aab9a8-d724-4396-9982-94ef6583b69c"
      },
      "execution_count": 66,
      "outputs": [
        {
          "output_type": "display_data",
          "data": {
            "image/png": "[encoded data removed]",
            "text/plain": [
              "<Figure size 432x288 with 1 Axes>"
            ]
          },
          "metadata": {
            "needs_background": "light"
          }
        }
      ]
    },
    {
      "cell_type": "code",
      "source": [
        "dbscan = DBSCAN(eps = 9, min_samples = 3)\n",
        "dbscan.fit(pca_df)\n",
        "labels = dbscan.labels_\n",
        "\n",
        "# Number of clusters in labels, ignoring noise if present.\n",
        "n_clusters_ = len(set(labels)) - (1 if -1 in labels else 0)\n",
        "print('Estimated number of clusters: %d' % n_clusters_)"
      ],
      "metadata": {
        "colab": {
          "base_uri": "https://localhost:8080/"
        },
        "id": "hmJavK_5NaSh",
        "outputId": "b440426e-9442-4545-9802-472cb3be31cc"
      },
      "execution_count": null,
      "outputs": [
        {
          "output_type": "execute_result",
          "data": {
            "text/plain": [
              "DBSCAN(eps=9, min_samples=3)"
            ]
          },
          "metadata": {},
          "execution_count": 65
        },
        {
          "output_type": "stream",
          "name": "stdout",
          "text": [
            "Estimated number of clusters: 12\n"
          ]
        }
      ]
    },
    {
      "cell_type": "code",
      "source": [
        "kmeans_labels = pd.DataFrame(kmeans.labels_)\n",
        "dbscan_labels = pd.DataFrame(dbscan.labels_)\n",
        "\n",
        "silhouette_score(pca_df, kmeans_labels, metric='euclidean')\n",
        "silhouette_score(pca_df, dbscan_labels, metric='euclidean')"
      ],
      "metadata": {
        "colab": {
          "base_uri": "https://localhost:8080/"
        },
        "id": "5vs3HZADNx1q",
        "outputId": "251ff7df-0bbe-4e82-c751-177e2a2f73bf"
      },
      "execution_count": null,
      "outputs": [
        {
          "output_type": "stream",
          "name": "stderr",
          "text": [
            "/usr/local/lib/python3.7/dist-packages/sklearn/utils/validation.py:993: DataConversionWarning: A column-vector y was passed when a 1d array was expected. Please change the shape of y to (n_samples, ), for example using ravel().\n",
            "  y = column_or_1d(y, warn=True)\n"
          ]
        },
        {
          "output_type": "execute_result",
          "data": {
            "text/plain": [
              "0.23820408207105373"
            ]
          },
          "metadata": {},
          "execution_count": 66
        },
        {
          "output_type": "stream",
          "name": "stderr",
          "text": [
            "/usr/local/lib/python3.7/dist-packages/sklearn/utils/validation.py:993: DataConversionWarning: A column-vector y was passed when a 1d array was expected. Please change the shape of y to (n_samples, ), for example using ravel().\n",
            "  y = column_or_1d(y, warn=True)\n"
          ]
        },
        {
          "output_type": "execute_result",
          "data": {
            "text/plain": [
              "0.5412258561059605"
            ]
          },
          "metadata": {},
          "execution_count": 66
        }
      ]
    },
    {
      "cell_type": "markdown",
      "source": [
        "**K-Means(Tensor Flow)**"
      ],
      "metadata": {
        "id": "HTfGDQp3gD1o"
      }
    },
    {
      "cell_type": "code",
      "source": [
        "import tensorflow as tf"
      ],
      "metadata": {
        "id": "K9nT3eupgDLx"
      },
      "execution_count": 49,
      "outputs": []
    },
    {
      "cell_type": "code",
      "source": [
        "kmeans_tf = KMeans(n_clusters=13)\n",
        "y1_kmeans = kmeans_tf.fit(pca_df)"
      ],
      "metadata": {
        "id": "nLze_uPngQN9"
      },
      "execution_count": 50,
      "outputs": []
    },
    {
      "cell_type": "code",
      "source": [
        "# Kmeans is in tensorflow 2.0 compatible mode\n",
        "tf.compat.v1.logging.set_verbosity(tf.compat.v1.logging.ERROR)  #avoid INFO messages\n",
        " \n",
        "num_clusters = 13\n",
        "\n",
        "kmeans_tf = tf.compat.v1.estimator.experimental.KMeans(\n",
        "    num_clusters=num_clusters, use_mini_batch=False)\n",
        "\n",
        "\n",
        "# train\n",
        "num_iterations = 10\n",
        "previous_centers = None\n",
        "for _ in range(num_iterations):\n",
        "    kmeans_tf.train(input_fn)\n",
        "    cluster_centers = kmeans_tf.cluster_centers()\n",
        "    if previous_centers is not None:\n",
        "        print('delta:', cluster_centers - previous_centers)\n",
        "    previous_centers = cluster_centers\n",
        "    print('score:', kmeans_tf.score(input_fn))\n",
        "print('cluster centers:', cluster_centers)\n",
        "\n",
        "# map the input points to their clusters\n",
        "cluster_indices = list(kmeans_tf.predict_cluster_index(input_fn))\n",
        "for i, point in enumerate(pca_df):\n",
        "    cluster_index = cluster_indices[i]\n",
        "    center = cluster_centers[cluster_index]"
      ],
      "metadata": {
        "id": "X33qn-pagasI",
        "outputId": "990b1826-fa3f-4c42-982e-870cb5f73855",
        "colab": {
          "base_uri": "https://localhost:8080/"
        }
      },
      "execution_count": 69,
      "outputs": [
        {
          "output_type": "execute_result",
          "data": {
            "text/plain": [
              "<tensorflow_estimator.python.estimator.canned.kmeans.KMeansClustering at 0x7f136a463cd0>"
            ]
          },
          "metadata": {},
          "execution_count": 69
        },
        {
          "output_type": "stream",
          "name": "stdout",
          "text": [
            "score: 13696.263\n"
          ]
        },
        {
          "output_type": "execute_result",
          "data": {
            "text/plain": [
              "<tensorflow_estimator.python.estimator.canned.kmeans.KMeansClustering at 0x7f136a463cd0>"
            ]
          },
          "metadata": {},
          "execution_count": 69
        },
        {
          "output_type": "stream",
          "name": "stdout",
          "text": [
            "delta: [[ 0.0098778   0.5473423   0.0744431   0.16769525  0.64388907 -0.20062777\n",
            "   0.04378437 -0.09054993  0.2887254   0.09331913 -0.20946643 -0.2656023\n",
            "  -0.06907439]\n",
            " [ 0.52368224  1.5066124   0.07305759  1.2458166  -0.30229217 -0.8205929\n",
            "  -0.25786445  0.3881053  -0.21823233 -0.17736244 -0.24037708 -0.02620125\n",
            "   0.10489333]\n",
            " [ 0.18192434  0.41184264  0.37885252 -0.02507535  0.31699577 -0.15230016\n",
            "  -0.04764044  0.36178356 -0.35453665  0.07783483  0.626554   -0.4181041\n",
            "  -0.99226576]\n",
            " [ 0.11368418 -0.07495418 -0.32089424  0.06450409  0.3357165  -0.10393715\n",
            "   0.08006525  0.04833794 -0.06957734  0.02108479  0.00305709 -0.10065413\n",
            "   0.17703843]\n",
            " [ 0.11172777  0.19889015  0.07641526  0.6315487   0.29089212 -0.09890066\n",
            "  -0.01730762 -0.03760989 -0.03683209 -0.06204706  0.07487251  0.07640581\n",
            "   0.05062312]\n",
            " [ 0.98926747  1.2965541   0.75776994 -0.9183085   0.23658323  0.7345635\n",
            "   0.09002628  0.18761694  0.06845015  0.18943883  0.13413656  0.629544\n",
            "   0.06132752]\n",
            " [ 0.21275574  0.32509965 -0.17805398  0.44530836  0.08453783  0.2679345\n",
            "  -0.04124801  0.03196872 -0.0440717   0.0588528   0.11051339 -0.1316539\n",
            "  -0.06898606]\n",
            " [ 1.2074755   0.47452724  1.1379514  -0.01236144  0.06408774 -0.2412223\n",
            "   0.04220933 -0.01119335 -0.00669434 -0.00747496  0.05526939 -0.20519836\n",
            "  -1.3978261 ]\n",
            " [ 0.3123871   0.78823924 -0.28901657 -0.17227921 -0.06909154 -0.19302672\n",
            "   0.24617559  0.04166462  0.21312545  0.17227201 -0.26783994 -0.538487\n",
            "  -0.12764889]\n",
            " [ 0.27550387 -0.03538978 -0.3921137   0.2639523   0.29642457  0.04225275\n",
            "  -0.01929986  0.15716633  0.04195346 -0.125132    0.10268014 -0.36643386\n",
            "   0.38009351]\n",
            " [ 0.0696609   0.4960732   0.11986715 -0.04623285  0.11614206  0.12095529\n",
            "   0.10296205 -0.02908012 -0.08730219 -0.2142863  -0.10919452  0.15395656\n",
            "  -0.3815042 ]\n",
            " [ 0.3955584   1.1542256   0.14991713 -0.32342553 -0.15291546 -0.8236679\n",
            "  -0.51068103 -0.12319945  0.05097929 -0.49551564  0.17262372 -0.10869423\n",
            "  -0.28449667]\n",
            " [ 0.3009491   0.30370986  0.32156336  0.92812735 -0.05802952  0.17597267\n",
            "  -0.15847048  0.00471632 -0.0504633   0.04106696 -0.13781357  0.00814663\n",
            "  -0.52059174]]\n",
            "score: 12083.056\n"
          ]
        },
        {
          "output_type": "execute_result",
          "data": {
            "text/plain": [
              "<tensorflow_estimator.python.estimator.canned.kmeans.KMeansClustering at 0x7f136a463cd0>"
            ]
          },
          "metadata": {},
          "execution_count": 69
        },
        {
          "output_type": "stream",
          "name": "stdout",
          "text": [
            "delta: [[-1.31354213e-01  4.36902046e-02 -3.87353301e-02  3.52964103e-02\n",
            "  -1.22710526e-01 -7.49337748e-02  1.20968722e-01 -6.99028373e-04\n",
            "   1.65210009e-01  1.60329491e-02  7.98743963e-02  5.03836274e-02\n",
            "  -1.20306849e-01]\n",
            " [ 1.04167223e-01  2.37462354e+00  1.88570476e+00  2.50438643e+00\n",
            "  -6.27344549e-01 -1.54334605e+00  1.18466687e+00  7.07351327e-01\n",
            "  -7.49606967e-01 -9.31451619e-02 -6.89765692e-01  6.56106889e-01\n",
            "   1.23746133e+00]\n",
            " [ 1.31698608e-01  1.08104348e-01  1.97242707e-01 -2.52109375e-02\n",
            "   7.55428076e-02  5.69080561e-03 -9.88810658e-02  3.85074854e-01\n",
            "  -1.49912626e-01  5.07659391e-02  2.96530902e-01 -1.54200852e-01\n",
            "  -4.08890188e-01]\n",
            " [ 0.00000000e+00  0.00000000e+00  0.00000000e+00  0.00000000e+00\n",
            "   0.00000000e+00  0.00000000e+00  0.00000000e+00  0.00000000e+00\n",
            "   0.00000000e+00  0.00000000e+00  0.00000000e+00  0.00000000e+00\n",
            "   0.00000000e+00]\n",
            " [-9.98567343e-02 -1.98196530e-01 -1.84748426e-01 -3.28496933e-01\n",
            "   3.66670564e-02  4.71207201e-02 -6.15870133e-02 -1.68816671e-02\n",
            "  -2.53669638e-03  1.17100663e-02 -1.45131368e-02 -4.15005088e-02\n",
            "  -1.75285369e-01]\n",
            " [ 4.15431976e-01  1.21395898e+00  4.42037821e-01 -6.46296144e-01\n",
            "   6.01076961e-01  1.20920670e+00  6.05984807e-01  7.73383081e-02\n",
            "  -3.14027965e-01 -5.26653051e-01 -2.65344501e-01  7.36593187e-01\n",
            "   6.61380649e-01]\n",
            " [-5.75248599e-02 -2.08764806e-01  1.74567103e-01 -1.09575480e-01\n",
            "  -1.07387736e-01 -7.39664137e-02  3.01595032e-02 -1.73850462e-01\n",
            "  -2.41391324e-02 -7.48595893e-02 -1.56514049e-01  1.35715559e-01\n",
            "  -2.83399820e-02]\n",
            " [-2.70531904e-02 -7.42580652e-01  5.07580861e-02 -2.97819614e-01\n",
            "  -1.40983060e-01  2.81278156e-02  4.16153198e-04 -5.21351844e-02\n",
            "   1.97559465e-02  1.47276213e-02 -1.00784544e-02 -2.90549815e-01\n",
            "  -2.42808685e-02]\n",
            " [ 1.77132308e-01  2.22186637e+00 -5.78244746e-01 -2.38307863e-01\n",
            "   4.28953946e-01 -8.62116575e-01  3.95081043e-01  1.89539671e-01\n",
            "   1.76096737e+00  8.20784748e-01 -5.37293136e-01 -1.11506259e+00\n",
            "  -5.00875056e-01]\n",
            " [-8.73210430e-02 -5.16339540e-02  2.64737189e-01  2.22169403e-02\n",
            "  -7.87953585e-02 -6.93392456e-02 -2.29173824e-02 -1.64100021e-01\n",
            "  -3.89522836e-02  1.00976437e-01  1.29335374e-03 -1.15585446e-01\n",
            "  -2.19293058e-01]\n",
            " [-1.23236537e-01 -3.40043306e-01  6.07867837e-02 -2.09730417e-01\n",
            "   1.02895468e-01 -2.84106880e-01 -1.35674655e-01 -6.66644946e-02\n",
            "   1.19424537e-02  2.26634681e-01  1.38065115e-01 -1.31573707e-01\n",
            "   6.85667396e-02]\n",
            " [ 8.56730402e-01  1.65358639e+00 -8.41133744e-02 -4.69074667e-01\n",
            "  -1.17449856e+00 -1.72146571e+00 -1.59908259e+00 -6.09023392e-01\n",
            "   1.22107387e-01 -1.69449377e+00  1.10596561e+00  2.41663530e-01\n",
            "  -1.44116908e-01]\n",
            " [ 1.74739227e-01  1.93366602e-01 -1.12208724e-02  5.54985106e-01\n",
            "  -1.70723453e-01  5.46955347e-01 -4.72349226e-01 -1.57003239e-01\n",
            "  -1.46346152e-01  8.73899460e-02 -3.00852507e-01 -2.68374383e-02\n",
            "  -8.35550845e-01]]\n",
            "score: 9451.559\n"
          ]
        },
        {
          "output_type": "execute_result",
          "data": {
            "text/plain": [
              "<tensorflow_estimator.python.estimator.canned.kmeans.KMeansClustering at 0x7f136a463cd0>"
            ]
          },
          "metadata": {},
          "execution_count": 69
        },
        {
          "output_type": "stream",
          "name": "stdout",
          "text": [
            "delta: [[-1.95716143e-01 -5.27659833e-01  6.06243610e-02  3.12062353e-02\n",
            "  -4.72340226e-01  5.81894480e-02  2.47139633e-02  8.12797099e-02\n",
            "  -4.62432861e-01 -2.13183627e-01  1.26029491e-01  3.84926558e-01\n",
            "   8.96775126e-02]\n",
            " [-6.27085686e-01  2.17264175e-01  6.86688662e-01  3.64006281e-01\n",
            "   1.91541433e-01 -1.29695415e-01  4.23078060e-01  2.69277811e-01\n",
            "  -1.13807321e-01  2.77530223e-01 -3.25106740e-01  3.48467797e-01\n",
            "  -6.76385522e-01]\n",
            " [ 1.34352207e-01  5.44028401e-01 -2.43336052e-01  2.27046072e-01\n",
            "   3.02405477e-01  2.56140381e-01 -3.11956525e-01  1.31681752e+00\n",
            "  -5.54308891e-01  1.68178618e-01  1.12512398e+00 -4.76264447e-01\n",
            "  -1.75380230e-01]\n",
            " [ 0.00000000e+00  0.00000000e+00  0.00000000e+00  0.00000000e+00\n",
            "   0.00000000e+00  0.00000000e+00  0.00000000e+00  0.00000000e+00\n",
            "   0.00000000e+00  0.00000000e+00  0.00000000e+00  0.00000000e+00\n",
            "   0.00000000e+00]\n",
            " [-5.90701699e-02 -2.66841650e-02 -4.84592617e-02 -1.78281605e-01\n",
            "   1.09200925e-03  2.69522257e-02 -2.82143466e-02  9.31628421e-03\n",
            "  -1.11770779e-02  1.23491250e-02 -5.91401849e-03  3.29953432e-03\n",
            "  -8.94717872e-02]\n",
            " [ 3.53076458e-02  1.56345499e+00  3.01717043e-01 -5.11279106e-01\n",
            "   6.33103788e-01  1.01056409e+00  4.68230963e-01 -3.16648811e-01\n",
            "  -4.39829588e-01 -2.18312323e-01 -6.69310242e-02  7.19391942e-01\n",
            "   9.43940759e-01]\n",
            " [-5.27560711e-02 -1.15469337e-01  1.45044446e-01 -1.32354870e-01\n",
            "   9.76777598e-02 -1.77189738e-01  1.57526091e-01  4.70929891e-02\n",
            "   5.17994724e-02 -3.30430157e-02  9.91324037e-02  7.38462806e-03\n",
            "   1.16290331e-01]\n",
            " [ 2.07334340e-01 -7.08133578e-02  1.40204251e-01 -3.61742973e-02\n",
            "  -7.35938549e-03 -1.09544955e-02 -2.34842952e-02 -2.46506184e-03\n",
            "   2.47422606e-04  1.15148630e-03 -1.53356791e-03 -1.23915941e-01\n",
            "  -1.54107153e-01]\n",
            " [-3.53294671e-01  2.10543704e+00 -3.94215345e-01 -7.38048255e-02\n",
            "   5.83763003e-01 -6.20535731e-01  4.37262177e-01  1.75271422e-01\n",
            "   1.59021831e+00  7.07372546e-01 -3.31083953e-01 -6.39212847e-01\n",
            "  -7.69109726e-01]\n",
            " [ 1.13074303e-01 -8.16558599e-02  1.70699239e-01 -1.39929265e-01\n",
            "  -1.85384043e-02 -5.04907370e-02  1.40728317e-02 -1.45911261e-01\n",
            "   5.94196022e-02 -1.03212120e-02 -1.34267896e-01  1.67561769e-02\n",
            "  -1.87712789e-01]\n",
            " [-7.51442909e-02 -1.07214436e-01  1.06043458e-01  1.09156340e-01\n",
            "   4.29236367e-02 -1.22007713e-01 -1.31802961e-01  1.53485477e-01\n",
            "   6.64531291e-02  9.57088545e-03 -5.05138971e-02  9.07787383e-02\n",
            "  -2.27338284e-01]\n",
            " [ 1.14860809e+00  8.75023127e-01 -3.54604244e-01  1.77756906e-01\n",
            "  -4.62656021e-01 -9.13944244e-01 -2.65485263e+00 -1.77517378e+00\n",
            "   5.64165711e-01 -2.46449995e+00  2.49409413e+00  6.96122408e-01\n",
            "   9.87168908e-01]\n",
            " [ 3.22399437e-01  5.16015947e-01 -9.06671882e-01  3.42766404e-01\n",
            "  -6.17661834e-01  1.19094920e+00 -8.69054139e-01 -3.89086515e-01\n",
            "  -2.67570525e-01  2.07956493e-01 -5.60540199e-01 -1.31602004e-01\n",
            "  -5.84871650e-01]]\n",
            "score: 7969.3647\n"
          ]
        },
        {
          "output_type": "execute_result",
          "data": {
            "text/plain": [
              "<tensorflow_estimator.python.estimator.canned.kmeans.KMeansClustering at 0x7f136a463cd0>"
            ]
          },
          "metadata": {},
          "execution_count": 69
        },
        {
          "output_type": "stream",
          "name": "stdout",
          "text": [
            "delta: [[ 1.1066842e-01 -8.6310610e-02  9.4240963e-02  2.9427163e-02\n",
            "  -1.5609406e-02  9.1727469e-03 -2.6026778e-02  5.0239027e-02\n",
            "   1.1910573e-03  6.7741298e-03 -2.6699649e-03 -4.8127413e-02\n",
            "  -1.5587258e-01]\n",
            " [-4.4636118e-01  3.7024236e-01 -7.7387643e-01 -1.1226697e+00\n",
            "  -5.4100573e-01 -3.1415534e-01  7.9580426e-02  4.2406839e-01\n",
            "  -4.2350101e-01  6.1145034e-02 -5.8560741e-01 -1.2206295e-01\n",
            "  -1.4090419e-02]\n",
            " [ 1.3985212e+00  2.9974124e+00 -2.2519474e+00  1.3662868e+00\n",
            "   1.6734428e+00  1.9120454e+00 -1.3602121e+00  7.4063339e+00\n",
            "  -3.2207782e+00  9.1576195e-01  6.4356713e+00 -3.1964879e+00\n",
            "   8.7171179e-01]\n",
            " [ 0.0000000e+00  0.0000000e+00  0.0000000e+00  0.0000000e+00\n",
            "   0.0000000e+00  0.0000000e+00  0.0000000e+00  0.0000000e+00\n",
            "   0.0000000e+00  0.0000000e+00  0.0000000e+00  0.0000000e+00\n",
            "   0.0000000e+00]\n",
            " [ 1.0549313e-01  5.3809285e-03  1.0908097e-02 -1.2378766e-01\n",
            "  -4.3929946e-02  2.7784714e-02 -6.3477326e-03 -8.5138083e-03\n",
            "  -5.5271131e-04  9.1690011e-03 -5.5225659e-03 -6.6932708e-02\n",
            "   1.7390430e-02]\n",
            " [ 0.0000000e+00  0.0000000e+00  0.0000000e+00  0.0000000e+00\n",
            "   0.0000000e+00  0.0000000e+00  0.0000000e+00  0.0000000e+00\n",
            "   0.0000000e+00  0.0000000e+00  0.0000000e+00  0.0000000e+00\n",
            "   0.0000000e+00]\n",
            " [ 1.3858652e-01 -3.4260333e-02  1.9388556e-02 -1.2638241e-02\n",
            "  -2.2790067e-02 -8.3959103e-03  1.7025843e-02 -2.4869420e-02\n",
            "   8.8559650e-03 -6.7609549e-04 -6.6939471e-03 -7.1615428e-02\n",
            "   6.3455105e-03]\n",
            " [ 1.1918028e-01 -7.3163211e-02  2.2414221e-01  8.6828157e-02\n",
            "   1.0818541e-02  1.7345350e-02  9.9389469e-03  3.9759316e-03\n",
            "   6.9256481e-03  1.0197125e-03  9.4708800e-03 -3.4929454e-02\n",
            "  -2.3313758e-01]\n",
            " [-3.2737255e-03 -6.9437027e-03 -1.7656159e-01  4.0215594e-01\n",
            "   1.6528747e+00  7.6616865e-01 -2.3326528e-01 -9.3690580e-01\n",
            "   2.2314029e+00  4.8953104e-01  1.0742866e+00 -4.4091177e-01\n",
            "  -5.1819336e-01]\n",
            " [ 5.3799152e-02 -2.7541757e-02  5.9561580e-02 -9.0037137e-03\n",
            "   7.4800067e-03 -7.6577514e-03 -1.6364720e-02  1.3577454e-02\n",
            "  -2.3744907e-03  2.6425025e-03  1.7001312e-03 -1.8233418e-02\n",
            "  -8.9997530e-02]\n",
            " [-2.1550775e-02 -6.5980494e-02  2.0668882e-01  1.3466272e-01\n",
            "   6.9375902e-02 -1.1735873e-01 -5.8495823e-02  4.8103750e-02\n",
            "  -2.4979929e-03 -2.1844804e-03  8.3581442e-03  4.6352804e-02\n",
            "  -4.0576196e-01]\n",
            " [ 0.0000000e+00  0.0000000e+00  0.0000000e+00  0.0000000e+00\n",
            "   0.0000000e+00  0.0000000e+00  0.0000000e+00  0.0000000e+00\n",
            "   0.0000000e+00  0.0000000e+00  0.0000000e+00  0.0000000e+00\n",
            "   0.0000000e+00]\n",
            " [ 3.1827307e-01  2.8211925e+00 -3.1376586e+00  1.8718625e+00\n",
            "  -1.8812003e+00  3.3786964e+00 -2.4885707e+00 -1.2986896e+00\n",
            "  -8.8333631e-01  5.7644004e-01 -1.8344887e+00  8.0876023e-02\n",
            "  -4.5303321e-01]]\n",
            "score: 6375.009\n"
          ]
        },
        {
          "output_type": "execute_result",
          "data": {
            "text/plain": [
              "<tensorflow_estimator.python.estimator.canned.kmeans.KMeansClustering at 0x7f136a463cd0>"
            ]
          },
          "metadata": {},
          "execution_count": 69
        },
        {
          "output_type": "stream",
          "name": "stdout",
          "text": [
            "delta: [[ 0.11814976 -0.03339829  0.06354496 -0.02718989  0.00378232  0.0122435\n",
            "   0.00040831 -0.00526304 -0.00163984  0.00625797  0.00095256 -0.05640405\n",
            "  -0.06927237]\n",
            " [ 0.          0.          0.          0.          0.          0.\n",
            "   0.          0.          0.          0.          0.          0.\n",
            "   0.        ]\n",
            " [ 0.          0.          0.          0.          0.          0.\n",
            "   0.          0.          0.          0.          0.          0.\n",
            "   0.        ]\n",
            " [ 0.          0.          0.          0.          0.          0.\n",
            "   0.          0.          0.          0.          0.          0.\n",
            "   0.        ]\n",
            " [ 0.06541377  0.00993729  0.03924556 -0.09906586 -0.03881998  0.00126766\n",
            "   0.00145127 -0.00584572  0.00210253  0.00704991 -0.00087016 -0.04531842\n",
            "  -0.0485065 ]\n",
            " [ 0.          0.          0.          0.          0.          0.\n",
            "   0.          0.          0.          0.          0.          0.\n",
            "   0.        ]\n",
            " [ 0.11544096 -0.06143069 -0.00586605  0.04088192  0.01415551 -0.01854996\n",
            "  -0.00197638  0.00292242  0.00042603 -0.00206684 -0.00051877 -0.06024095\n",
            "  -0.01535463]\n",
            " [ 0.0662792  -0.02828687  0.11169156 -0.00477679  0.00137421 -0.01201725\n",
            "  -0.02037924  0.00859179 -0.00091412  0.0045235   0.00205135 -0.0216065\n",
            "  -0.13797498]\n",
            " [ 0.          0.          0.          0.          0.          0.\n",
            "   0.          0.          0.          0.          0.          0.\n",
            "   0.        ]\n",
            " [ 0.06716561 -0.00747585 -0.06365377 -0.02098618 -0.0104762   0.00561593\n",
            "   0.03447612 -0.01772832  0.00563762 -0.00276553 -0.00347662 -0.03642869\n",
            "   0.09486145]\n",
            " [ 0.00118363 -0.03796038  0.14196509  0.03205597  0.02927765 -0.05560163\n",
            "  -0.03576226  0.0389684  -0.00058916 -0.00111272  0.00318484  0.02458048\n",
            "  -0.24456203]\n",
            " [ 0.          0.          0.          0.          0.          0.\n",
            "   0.          0.          0.          0.          0.          0.\n",
            "   0.        ]\n",
            " [ 0.          0.          0.          0.          0.          0.\n",
            "   0.          0.          0.          0.          0.          0.\n",
            "   0.        ]]\n",
            "score: 6343.768\n"
          ]
        },
        {
          "output_type": "execute_result",
          "data": {
            "text/plain": [
              "<tensorflow_estimator.python.estimator.canned.kmeans.KMeansClustering at 0x7f136a463cd0>"
            ]
          },
          "metadata": {},
          "execution_count": 69
        },
        {
          "output_type": "stream",
          "name": "stdout",
          "text": [
            "delta: [[ 6.6840768e-02 -2.4787426e-02  5.7353795e-02  5.4873973e-03\n",
            "   4.3176487e-03 -1.8622799e-02 -5.1315650e-03 -9.0447180e-03\n",
            "   3.8010068e-03  1.4731344e-03 -3.2463241e-03 -3.3464253e-02\n",
            "  -6.8455547e-02]\n",
            " [ 0.0000000e+00  0.0000000e+00  0.0000000e+00  0.0000000e+00\n",
            "   0.0000000e+00  0.0000000e+00  0.0000000e+00  0.0000000e+00\n",
            "   0.0000000e+00  0.0000000e+00  0.0000000e+00  0.0000000e+00\n",
            "   0.0000000e+00]\n",
            " [ 0.0000000e+00  0.0000000e+00  0.0000000e+00  0.0000000e+00\n",
            "   0.0000000e+00  0.0000000e+00  0.0000000e+00  0.0000000e+00\n",
            "   0.0000000e+00  0.0000000e+00  0.0000000e+00  0.0000000e+00\n",
            "   0.0000000e+00]\n",
            " [ 0.0000000e+00  0.0000000e+00  0.0000000e+00  0.0000000e+00\n",
            "   0.0000000e+00  0.0000000e+00  0.0000000e+00  0.0000000e+00\n",
            "   0.0000000e+00  0.0000000e+00  0.0000000e+00  0.0000000e+00\n",
            "   0.0000000e+00]\n",
            " [ 1.0564470e-01 -2.3885906e-02  5.1499188e-02 -6.1451670e-02\n",
            "  -3.2353193e-02  1.0165311e-03 -1.3454407e-03  1.1414453e-02\n",
            "   6.3397316e-04  8.1524011e-03  1.1489931e-03 -4.2206611e-02\n",
            "  -5.7846576e-02]\n",
            " [ 0.0000000e+00  0.0000000e+00  0.0000000e+00  0.0000000e+00\n",
            "   0.0000000e+00  0.0000000e+00  0.0000000e+00  0.0000000e+00\n",
            "   0.0000000e+00  0.0000000e+00  0.0000000e+00  0.0000000e+00\n",
            "   0.0000000e+00]\n",
            " [ 1.3893306e-01 -6.5119803e-02  2.2379875e-02  3.4673125e-02\n",
            "  -1.3031202e-02  2.7547181e-03  9.2858821e-04 -4.5199618e-03\n",
            "   7.5297891e-03 -2.7935766e-03 -2.6244763e-04 -6.7735605e-02\n",
            "  -2.9881001e-02]\n",
            " [ 8.5787416e-02 -2.0825088e-02  1.1918175e-01 -5.4233164e-02\n",
            "  -1.5154481e-05 -1.1600944e-02 -1.6213216e-02  3.0093119e-03\n",
            "  -1.9427761e-04  3.5360213e-03  4.1096355e-04 -4.5751303e-02\n",
            "  -1.5878105e-01]\n",
            " [ 0.0000000e+00  0.0000000e+00  0.0000000e+00  0.0000000e+00\n",
            "   0.0000000e+00  0.0000000e+00  0.0000000e+00  0.0000000e+00\n",
            "   0.0000000e+00  0.0000000e+00  0.0000000e+00  0.0000000e+00\n",
            "   0.0000000e+00]\n",
            " [ 3.6064386e-02 -5.8840513e-03 -1.9267440e-02 -5.5054873e-03\n",
            "   1.6057014e-02 -1.2681253e-02  2.1033362e-03 -1.2202233e-02\n",
            "  -1.3450421e-03 -8.8583957e-04 -2.7237609e-03 -3.5483122e-02\n",
            "   2.2491425e-02]\n",
            " [-5.3746700e-03 -2.6145905e-02  6.6214740e-02  4.1611075e-02\n",
            "   1.6861744e-02 -2.2493124e-02 -1.6463935e-02  2.2263348e-02\n",
            "  -2.9159356e-03 -1.9146428e-03  5.8831507e-03  1.4649391e-02\n",
            "  -1.2244165e-01]\n",
            " [ 0.0000000e+00  0.0000000e+00  0.0000000e+00  0.0000000e+00\n",
            "   0.0000000e+00  0.0000000e+00  0.0000000e+00  0.0000000e+00\n",
            "   0.0000000e+00  0.0000000e+00  0.0000000e+00  0.0000000e+00\n",
            "   0.0000000e+00]\n",
            " [ 0.0000000e+00  0.0000000e+00  0.0000000e+00  0.0000000e+00\n",
            "   0.0000000e+00  0.0000000e+00  0.0000000e+00  0.0000000e+00\n",
            "   0.0000000e+00  0.0000000e+00  0.0000000e+00  0.0000000e+00\n",
            "   0.0000000e+00]]\n",
            "score: 6319.822\n"
          ]
        },
        {
          "output_type": "execute_result",
          "data": {
            "text/plain": [
              "<tensorflow_estimator.python.estimator.canned.kmeans.KMeansClustering at 0x7f136a463cd0>"
            ]
          },
          "metadata": {},
          "execution_count": 69
        },
        {
          "output_type": "stream",
          "name": "stdout",
          "text": [
            "delta: [[ 3.7560701e-02 -1.9798290e-02  9.6862316e-03  6.2914938e-03\n",
            "  -4.0028691e-03  2.0247361e-02  1.0339580e-03  2.4219193e-03\n",
            "  -3.1213518e-03 -2.0275419e-03  3.8860207e-03 -2.3132145e-02\n",
            "  -3.0010045e-03]\n",
            " [ 0.0000000e+00  0.0000000e+00  0.0000000e+00  0.0000000e+00\n",
            "   0.0000000e+00  0.0000000e+00  0.0000000e+00  0.0000000e+00\n",
            "   0.0000000e+00  0.0000000e+00  0.0000000e+00  0.0000000e+00\n",
            "   0.0000000e+00]\n",
            " [ 0.0000000e+00  0.0000000e+00  0.0000000e+00  0.0000000e+00\n",
            "   0.0000000e+00  0.0000000e+00  0.0000000e+00  0.0000000e+00\n",
            "   0.0000000e+00  0.0000000e+00  0.0000000e+00  0.0000000e+00\n",
            "   0.0000000e+00]\n",
            " [ 0.0000000e+00  0.0000000e+00  0.0000000e+00  0.0000000e+00\n",
            "   0.0000000e+00  0.0000000e+00  0.0000000e+00  0.0000000e+00\n",
            "   0.0000000e+00  0.0000000e+00  0.0000000e+00  0.0000000e+00\n",
            "   0.0000000e+00]\n",
            " [ 1.2825137e-01 -4.5131683e-02  2.3128211e-02 -1.6968761e-02\n",
            "  -1.9660039e-02 -6.8109967e-03 -3.1153951e-03 -9.9579617e-04\n",
            "   6.4103412e-03  3.4789806e-03  2.2777133e-03 -5.2376531e-02\n",
            "  -4.3585867e-02]\n",
            " [ 0.0000000e+00  0.0000000e+00  0.0000000e+00  0.0000000e+00\n",
            "   0.0000000e+00  0.0000000e+00  0.0000000e+00  0.0000000e+00\n",
            "   0.0000000e+00  0.0000000e+00  0.0000000e+00  0.0000000e+00\n",
            "   0.0000000e+00]\n",
            " [ 9.0637505e-02 -2.6291728e-02  2.6464462e-02 -7.7115595e-03\n",
            "  -1.8975735e-02 -1.3076007e-02 -3.7680268e-03 -1.8409222e-02\n",
            "   6.1368113e-03 -1.8428937e-03 -9.2032095e-03 -8.1471041e-02\n",
            "  -1.0138869e-02]\n",
            " [ 7.3261827e-02 -2.4293363e-02  1.6431576e-01 -2.7904212e-02\n",
            "   1.2327924e-02 -4.0084901e-03 -1.8684514e-02  1.0188200e-02\n",
            "  -3.9494056e-03  6.6040121e-03  1.4866617e-03 -3.5379052e-02\n",
            "  -1.8885940e-01]\n",
            " [ 0.0000000e+00  0.0000000e+00  0.0000000e+00  0.0000000e+00\n",
            "   0.0000000e+00  0.0000000e+00  0.0000000e+00  0.0000000e+00\n",
            "   0.0000000e+00  0.0000000e+00  0.0000000e+00  0.0000000e+00\n",
            "   0.0000000e+00]\n",
            " [ 2.6657104e-02 -4.5832396e-03  1.5350878e-02 -1.3381511e-02\n",
            "   5.2684657e-03 -8.1283599e-03  7.1884766e-03 -3.6936998e-04\n",
            "  -1.4612824e-04  1.4153430e-03  1.4226697e-03 -2.3865700e-03\n",
            "  -2.9284745e-02]\n",
            " [ 1.9288063e-02 -1.5285879e-02  3.0305505e-02 -4.6602041e-03\n",
            "   5.8685839e-03 -2.3046136e-02 -1.3535827e-02  1.3500512e-02\n",
            "  -1.1089128e-03 -4.4343621e-04  2.6565045e-04 -4.1878819e-03\n",
            "  -7.4675202e-02]\n",
            " [ 0.0000000e+00  0.0000000e+00  0.0000000e+00  0.0000000e+00\n",
            "   0.0000000e+00  0.0000000e+00  0.0000000e+00  0.0000000e+00\n",
            "   0.0000000e+00  0.0000000e+00  0.0000000e+00  0.0000000e+00\n",
            "   0.0000000e+00]\n",
            " [ 0.0000000e+00  0.0000000e+00  0.0000000e+00  0.0000000e+00\n",
            "   0.0000000e+00  0.0000000e+00  0.0000000e+00  0.0000000e+00\n",
            "   0.0000000e+00  0.0000000e+00  0.0000000e+00  0.0000000e+00\n",
            "   0.0000000e+00]]\n",
            "score: 6303.285\n"
          ]
        },
        {
          "output_type": "execute_result",
          "data": {
            "text/plain": [
              "<tensorflow_estimator.python.estimator.canned.kmeans.KMeansClustering at 0x7f136a463cd0>"
            ]
          },
          "metadata": {},
          "execution_count": 69
        },
        {
          "output_type": "stream",
          "name": "stdout",
          "text": [
            "delta: [[ 4.7487617e-02 -2.0501144e-02 -8.9512467e-03  8.0915615e-03\n",
            "  -2.1700785e-03  3.6049634e-04 -2.7514063e-03 -6.9789346e-03\n",
            "   3.2302625e-03 -4.9581951e-03 -9.5647853e-04 -3.2415748e-02\n",
            "   6.3717365e-03]\n",
            " [ 0.0000000e+00  0.0000000e+00  0.0000000e+00  0.0000000e+00\n",
            "   0.0000000e+00  0.0000000e+00  0.0000000e+00  0.0000000e+00\n",
            "   0.0000000e+00  0.0000000e+00  0.0000000e+00  0.0000000e+00\n",
            "   0.0000000e+00]\n",
            " [ 0.0000000e+00  0.0000000e+00  0.0000000e+00  0.0000000e+00\n",
            "   0.0000000e+00  0.0000000e+00  0.0000000e+00  0.0000000e+00\n",
            "   0.0000000e+00  0.0000000e+00  0.0000000e+00  0.0000000e+00\n",
            "   0.0000000e+00]\n",
            " [ 0.0000000e+00  0.0000000e+00  0.0000000e+00  0.0000000e+00\n",
            "   0.0000000e+00  0.0000000e+00  0.0000000e+00  0.0000000e+00\n",
            "   0.0000000e+00  0.0000000e+00  0.0000000e+00  0.0000000e+00\n",
            "   0.0000000e+00]\n",
            " [ 8.8487327e-02 -3.0499756e-02  6.0917147e-02 -5.6069447e-03\n",
            "  -2.1198802e-03  2.1084733e-03  1.1092909e-03  6.2401965e-04\n",
            "  -9.7373500e-04  7.6073650e-03  1.0960447e-03 -3.2607734e-02\n",
            "  -6.9130316e-02]\n",
            " [ 0.0000000e+00  0.0000000e+00  0.0000000e+00  0.0000000e+00\n",
            "   0.0000000e+00  0.0000000e+00  0.0000000e+00  0.0000000e+00\n",
            "   0.0000000e+00  0.0000000e+00  0.0000000e+00  0.0000000e+00\n",
            "   0.0000000e+00]\n",
            " [ 4.1994572e-02 -2.0245314e-03  3.4027219e-02 -3.1001031e-02\n",
            "  -1.9912103e-02 -6.6772401e-03 -1.9995347e-03 -4.5954436e-03\n",
            "   2.4230629e-03  3.0088313e-03 -2.7731992e-03 -2.8447181e-02\n",
            "  -2.6487947e-02]\n",
            " [ 3.9081812e-02 -2.6342273e-02  7.0644021e-02 -7.6677501e-03\n",
            "  -1.9533038e-03 -1.5266351e-02 -1.4193974e-02  1.5948310e-02\n",
            "   1.7485414e-03 -2.4492592e-03  1.7604220e-03 -2.2676229e-02\n",
            "  -1.0477239e-01]\n",
            " [ 0.0000000e+00  0.0000000e+00  0.0000000e+00  0.0000000e+00\n",
            "   0.0000000e+00  0.0000000e+00  0.0000000e+00  0.0000000e+00\n",
            "   0.0000000e+00  0.0000000e+00  0.0000000e+00  0.0000000e+00\n",
            "   0.0000000e+00]\n",
            " [ 2.7482510e-02 -7.3558092e-03  7.2509050e-04 -1.2192249e-02\n",
            "   4.3110549e-04 -7.5030401e-03 -1.9097328e-03  3.5360456e-04\n",
            "   6.8321824e-06  1.7716829e-04 -1.1704117e-03 -1.5517712e-02\n",
            "  -5.7943165e-03]\n",
            " [-1.6183615e-02  1.6157329e-03 -3.2913685e-03  6.9266707e-03\n",
            "   1.1029556e-02 -6.8564117e-03 -5.5915117e-03  2.5493801e-03\n",
            "  -3.1327177e-03 -1.2284946e-03  1.3173148e-03  7.6143146e-03\n",
            "  -1.5288949e-02]\n",
            " [ 0.0000000e+00  0.0000000e+00  0.0000000e+00  0.0000000e+00\n",
            "   0.0000000e+00  0.0000000e+00  0.0000000e+00  0.0000000e+00\n",
            "   0.0000000e+00  0.0000000e+00  0.0000000e+00  0.0000000e+00\n",
            "   0.0000000e+00]\n",
            " [ 0.0000000e+00  0.0000000e+00  0.0000000e+00  0.0000000e+00\n",
            "   0.0000000e+00  0.0000000e+00  0.0000000e+00  0.0000000e+00\n",
            "   0.0000000e+00  0.0000000e+00  0.0000000e+00  0.0000000e+00\n",
            "   0.0000000e+00]]\n",
            "score: 6295.0728\n"
          ]
        },
        {
          "output_type": "execute_result",
          "data": {
            "text/plain": [
              "<tensorflow_estimator.python.estimator.canned.kmeans.KMeansClustering at 0x7f136a463cd0>"
            ]
          },
          "metadata": {},
          "execution_count": 69
        },
        {
          "output_type": "stream",
          "name": "stdout",
          "text": [
            "delta: [[ 0.06278658 -0.02246764  0.01860051 -0.00727618 -0.00959148  0.00879935\n",
            "  -0.00188877 -0.00228228  0.00061138  0.00222677 -0.00246597 -0.03527063\n",
            "  -0.01179329]\n",
            " [ 0.          0.          0.          0.          0.          0.\n",
            "   0.          0.          0.          0.          0.          0.\n",
            "   0.        ]\n",
            " [ 0.          0.          0.          0.          0.          0.\n",
            "   0.          0.          0.          0.          0.          0.\n",
            "   0.        ]\n",
            " [ 0.          0.          0.          0.          0.          0.\n",
            "   0.          0.          0.          0.          0.          0.\n",
            "   0.        ]\n",
            " [ 0.07586396 -0.0354206   0.03091897  0.0104272  -0.00483261 -0.01195999\n",
            "  -0.00365558 -0.00125544  0.00242584 -0.00243771  0.0039319  -0.04419411\n",
            "  -0.05534677]\n",
            " [ 0.          0.          0.          0.          0.          0.\n",
            "   0.          0.          0.          0.          0.          0.\n",
            "   0.        ]\n",
            " [ 0.00842577  0.0040856   0.02482235 -0.01938631 -0.00485325 -0.00198412\n",
            "  -0.00306021  0.00043896 -0.00239755  0.00172857 -0.0008933  -0.00805735\n",
            "  -0.02402484]\n",
            " [ 0.06536299 -0.02281433  0.03843957 -0.0114868   0.00438044 -0.00507953\n",
            "  -0.0080929   0.00290321  0.00178691  0.00249385 -0.00231522 -0.02760148\n",
            "  -0.04759276]\n",
            " [ 0.          0.          0.          0.          0.          0.\n",
            "   0.          0.          0.          0.          0.          0.\n",
            "   0.        ]\n",
            " [ 0.          0.          0.          0.          0.          0.\n",
            "   0.          0.          0.          0.          0.          0.\n",
            "   0.        ]\n",
            " [-0.01245368  0.00751624 -0.00515985 -0.00085504 -0.00236374  0.00214553\n",
            "   0.0045478  -0.00127579  0.00044626  0.00052871 -0.0004784   0.00898349\n",
            "   0.01245809]\n",
            " [ 0.          0.          0.          0.          0.          0.\n",
            "   0.          0.          0.          0.          0.          0.\n",
            "   0.        ]\n",
            " [ 0.          0.          0.          0.          0.          0.\n",
            "   0.          0.          0.          0.          0.          0.\n",
            "   0.        ]]\n",
            "score: 6290.79\n",
            "cluster centers: [[-1.75712347e+00 -1.21838123e-01 -2.43950829e-01 -1.27760813e-01\n",
            "   6.68227896e-02  5.99980056e-02  5.56390397e-02  1.00309243e-02\n",
            "  -1.42965624e-02  3.04010534e-03  4.48213331e-03  7.07879186e-01\n",
            "   3.57646763e-01]\n",
            " [ 1.20165622e+00  3.23637867e+00  2.14357281e+00  2.93797302e+00\n",
            "  -1.87597346e+00 -2.73327494e+00  1.68572748e+00  1.28040743e+00\n",
            "  -1.33897316e+00 -2.34652720e-02 -1.91947365e+00 -4.33380961e-01\n",
            "   1.04318988e+00]\n",
            " [-3.12948227e-01  3.80122447e+00 -1.97294044e+00  1.62367117e+00\n",
            "   2.37154126e+00  2.06685925e+00 -1.96599996e+00  1.00605106e+01\n",
            "  -4.23238659e+00  1.23967636e+00  8.48594475e+00 -2.98726225e+00\n",
            "  -7.00743854e-01]\n",
            " [ 6.86693478e+00  2.41128318e-02 -5.05473280e+00  7.19447076e-01\n",
            "   2.75452089e+00 -2.95188689e+00  1.78840852e+00 -1.12164564e-01\n",
            "  -1.36256516e+00  2.41653180e+00  3.05206448e-01  6.19396782e+00\n",
            "  -2.04315662e+00]\n",
            " [-4.03328896e-01 -6.85100913e-01 -5.36146685e-02 -4.89823055e-03\n",
            "  -5.44255786e-02  2.78911386e-02  2.54416335e-02 -4.85833175e-02\n",
            "   1.27790738e-02 -6.09684689e-03 -8.52533523e-03 -8.16812962e-02\n",
            "   1.29085600e-01]\n",
            " [ 2.81572413e+00  3.05797124e+00  2.31080914e+00 -2.71669269e+00\n",
            "   1.29436958e+00  3.27770734e+00  1.16793776e+00 -3.51664871e-01\n",
            "  -6.25800848e-01 -5.41040361e-01 -1.99185029e-01  1.17489219e+00\n",
            "   1.25979650e+00]\n",
            " [-5.70982337e-01 -6.58703208e-01 -8.75177383e-01  2.20557347e-01\n",
            "  -5.46667352e-02  2.12072149e-01  1.11378528e-01 -1.32628083e-01\n",
            "   1.32570835e-02 -4.42168452e-02 -2.24825125e-02 -1.00922905e-01\n",
            "   1.31724858e+00]\n",
            " [ 6.29234672e-01 -1.00911915e+00  9.19377208e-01 -3.53234470e-01\n",
            "  -1.21409781e-01 -1.34538924e-02 -9.06930342e-02 -9.98349767e-03\n",
            "   2.54066605e-02  3.16069461e-02  1.25302945e-03 -6.02409780e-01\n",
            "  -1.04950619e+00]\n",
            " [-6.86155796e-01  4.76362181e+00 -1.81295443e+00 -1.68617591e-01\n",
            "   2.46330166e+00 -9.88055050e-01  1.08690262e+00 -6.86129391e-01\n",
            "   5.80793333e+00  2.19146800e+00 -8.18782151e-02 -2.70969152e+00\n",
            "  -1.08876383e+00]\n",
            " [ 2.41224647e+00 -1.69877827e+00 -4.14020389e-01 -2.17635810e-01\n",
            "  -4.18796055e-02 -1.04746565e-01  8.08529705e-02 -1.53302357e-01\n",
            "   1.57494582e-02 -6.89488649e-03 -3.41589972e-02 -1.54988992e+00\n",
            "   3.70782644e-01]\n",
            " [-1.31139421e+00 -4.06823754e-01  9.48047638e-01 -1.57572463e-01\n",
            "   1.52182728e-01 -2.83739150e-01 -1.38926476e-01  2.04161525e-01\n",
            "  -1.41406218e-02  2.54730880e-02  2.06587352e-02  5.99536538e-01\n",
            "  -1.48162055e+00]\n",
            " [ 2.06146073e+00  3.19422126e+00 -2.37246677e-01 -1.27455890e+00\n",
            "  -2.00718904e+00 -3.47099376e+00 -4.89303637e+00 -2.60426879e+00\n",
            "   8.17500830e-01 -4.66817570e+00  3.76765537e+00  7.90534496e-01\n",
            "   4.57585484e-01]\n",
            " [ 9.80007887e-01  3.12718487e+00 -3.21341157e+00  3.75740743e+00\n",
            "  -2.80150867e+00  5.30647898e+00 -4.02359295e+00 -2.00463319e+00\n",
            "  -1.36120820e+00  9.17982697e-01 -2.86447978e+00 -2.53192455e-01\n",
            "  -2.69659019e+00]]\n"
          ]
        }
      ]
    },
    {
      "cell_type": "code",
      "source": [
        "centers = kmeans_tf.cluster_centers()"
      ],
      "metadata": {
        "id": "dpFrphuegh_-"
      },
      "execution_count": 52,
      "outputs": []
    },
    {
      "cell_type": "code",
      "source": [
        "plt.scatter(pca_df.iloc[:, 0], pca_df.iloc[:, 1], c=cluster_indices, s=50, cmap='viridis')\n",
        "centers = kmeans.cluster_centers_\n",
        "plt.scatter(centers[:, 0], centers[:, 1], c='black', s=200, alpha=0.5);"
      ],
      "metadata": {
        "id": "8lJizjhGgi-l",
        "outputId": "b690b620-5c1d-478a-c19a-35aff49dae5b",
        "colab": {
          "base_uri": "https://localhost:8080/",
          "height": 265
        }
      },
      "execution_count": 70,
      "outputs": [
        {
          "output_type": "display_data",
          "data": {
            "image/png": "[encoded data removed]",
            "text/plain": [
              "<Figure size 432x288 with 1 Axes>"
            ]
          },
          "metadata": {
            "needs_background": "light"
          }
        }
      ]
    },
    {
      "cell_type": "markdown",
      "source": [
        "**DB-Scan_Clustering**"
      ],
      "metadata": {
        "id": "y1VySCbCf-T9"
      }
    },
    {
      "cell_type": "code",
      "source": [
        "dbscan_df = new_df.join(dbscan_labels, how='left')\n",
        "dbscan_df = dbscan_df.rename(columns = {0: 'labels'})\n",
        "dbscan_df.head()"
      ],
      "metadata": {
        "colab": {
          "base_uri": "https://localhost:8080/",
          "height": 352
        },
        "id": "hfpTiRlkN230",
        "outputId": "327e0710-ffcf-4ce3-814e-6fd02866cf7b"
      },
      "execution_count": null,
      "outputs": [
        {
          "output_type": "execute_result",
          "data": {
            "text/html": [
              "\n",
              "  <div id=\"df-43634679-e3eb-4c8a-89f7-3536c6e0a6df\">\n",
              "    <div class=\"colab-df-container\">\n",
              "      <div>\n",
              "<style scoped>\n",
              "    .dataframe tbody tr th:only-of-type {\n",
              "        vertical-align: middle;\n",
              "    }\n",
              "\n",
              "    .dataframe tbody tr th {\n",
              "        vertical-align: top;\n",
              "    }\n",
              "\n",
              "    .dataframe thead th {\n",
              "        text-align: right;\n",
              "    }\n",
              "</style>\n",
              "<table border=\"1\" class=\"dataframe\">\n",
              "  <thead>\n",
              "    <tr style=\"text-align: right;\">\n",
              "      <th></th>\n",
              "      <th>bpm</th>\n",
              "      <th>nrgy</th>\n",
              "      <th>dnce</th>\n",
              "      <th>dB</th>\n",
              "      <th>live</th>\n",
              "      <th>val</th>\n",
              "      <th>dur</th>\n",
              "      <th>acous</th>\n",
              "      <th>spch</th>\n",
              "      <th>artist_3OH!3</th>\n",
              "      <th>artist_5 Seconds of Summer</th>\n",
              "      <th>artist_A Great Big World</th>\n",
              "      <th>artist_Adam Lambert</th>\n",
              "      <th>artist_Adele</th>\n",
              "      <th>artist_Alan Walker</th>\n",
              "      <th>artist_Alessia Cara</th>\n",
              "      <th>artist_Alesso</th>\n",
              "      <th>artist_Alicia Keys</th>\n",
              "      <th>artist_Ansel Elgort</th>\n",
              "      <th>artist_Ariana Grande</th>\n",
              "      <th>artist_Austin Mahone</th>\n",
              "      <th>artist_Avicii</th>\n",
              "      <th>artist_Avril Lavigne</th>\n",
              "      <th>artist_Bastille</th>\n",
              "      <th>artist_Bebe Rexha</th>\n",
              "      <th>artist_Beyoncé</th>\n",
              "      <th>artist_Birdy</th>\n",
              "      <th>artist_Britney Spears</th>\n",
              "      <th>artist_Bruno Mars</th>\n",
              "      <th>artist_BØRNS</th>\n",
              "      <th>artist_CNCO</th>\n",
              "      <th>artist_Calvin Harris</th>\n",
              "      <th>artist_Camila Cabello</th>\n",
              "      <th>artist_Cardi B</th>\n",
              "      <th>artist_Carly Rae Jepsen</th>\n",
              "      <th>artist_Cashmere Cat</th>\n",
              "      <th>artist_Charli XCX</th>\n",
              "      <th>artist_Charlie Puth</th>\n",
              "      <th>artist_Chris Brown</th>\n",
              "      <th>artist_Christina Aguilera</th>\n",
              "      <th>...</th>\n",
              "      <th>artist_Shawn Mendes</th>\n",
              "      <th>artist_Sia</th>\n",
              "      <th>artist_Sigala</th>\n",
              "      <th>artist_Silk City</th>\n",
              "      <th>artist_Sleeping At Last</th>\n",
              "      <th>artist_Snakehips</th>\n",
              "      <th>artist_Swedish House Mafia</th>\n",
              "      <th>artist_T.I.</th>\n",
              "      <th>artist_Taio Cruz</th>\n",
              "      <th>artist_Taylor Swift</th>\n",
              "      <th>artist_The Black Eyed Peas</th>\n",
              "      <th>artist_The Chainsmokers</th>\n",
              "      <th>artist_The Script</th>\n",
              "      <th>artist_The Wanted</th>\n",
              "      <th>artist_The Weeknd</th>\n",
              "      <th>artist_Tinie Tempah</th>\n",
              "      <th>artist_Tove Lo</th>\n",
              "      <th>artist_Train</th>\n",
              "      <th>artist_Troye Sivan</th>\n",
              "      <th>artist_Usher</th>\n",
              "      <th>artist_Wiz Khalifa</th>\n",
              "      <th>artist_Years &amp; Years</th>\n",
              "      <th>artist_ZAYN</th>\n",
              "      <th>artist_Zara Larsson</th>\n",
              "      <th>artist_Zedd</th>\n",
              "      <th>artist_fun.</th>\n",
              "      <th>artist_will.i.am</th>\n",
              "      <th>top genre_australian dance</th>\n",
              "      <th>top genre_boy band</th>\n",
              "      <th>top genre_british soul</th>\n",
              "      <th>top genre_complextro</th>\n",
              "      <th>top genre_edm</th>\n",
              "      <th>top genre_hip hop</th>\n",
              "      <th>top genre_latin</th>\n",
              "      <th>top genre_neo mellow</th>\n",
              "      <th>top genre_other</th>\n",
              "      <th>top genre_permanent wave</th>\n",
              "      <th>top genre_pop</th>\n",
              "      <th>top genre_room</th>\n",
              "      <th>labels</th>\n",
              "    </tr>\n",
              "  </thead>\n",
              "  <tbody>\n",
              "    <tr>\n",
              "      <th>0</th>\n",
              "      <td>97.0</td>\n",
              "      <td>89</td>\n",
              "      <td>67</td>\n",
              "      <td>-4.0</td>\n",
              "      <td>8</td>\n",
              "      <td>80</td>\n",
              "      <td>217</td>\n",
              "      <td>19</td>\n",
              "      <td>4</td>\n",
              "      <td>0</td>\n",
              "      <td>0</td>\n",
              "      <td>0</td>\n",
              "      <td>0</td>\n",
              "      <td>0</td>\n",
              "      <td>0</td>\n",
              "      <td>0</td>\n",
              "      <td>0</td>\n",
              "      <td>0</td>\n",
              "      <td>0</td>\n",
              "      <td>0</td>\n",
              "      <td>0</td>\n",
              "      <td>0</td>\n",
              "      <td>0</td>\n",
              "      <td>0</td>\n",
              "      <td>0</td>\n",
              "      <td>0</td>\n",
              "      <td>0</td>\n",
              "      <td>0</td>\n",
              "      <td>0</td>\n",
              "      <td>0</td>\n",
              "      <td>0</td>\n",
              "      <td>0</td>\n",
              "      <td>0</td>\n",
              "      <td>0</td>\n",
              "      <td>0</td>\n",
              "      <td>0</td>\n",
              "      <td>0</td>\n",
              "      <td>0</td>\n",
              "      <td>0</td>\n",
              "      <td>0</td>\n",
              "      <td>...</td>\n",
              "      <td>0</td>\n",
              "      <td>0</td>\n",
              "      <td>0</td>\n",
              "      <td>0</td>\n",
              "      <td>0</td>\n",
              "      <td>0</td>\n",
              "      <td>0</td>\n",
              "      <td>0</td>\n",
              "      <td>0</td>\n",
              "      <td>0</td>\n",
              "      <td>0</td>\n",
              "      <td>0</td>\n",
              "      <td>0</td>\n",
              "      <td>0</td>\n",
              "      <td>0</td>\n",
              "      <td>0</td>\n",
              "      <td>0</td>\n",
              "      <td>1</td>\n",
              "      <td>0</td>\n",
              "      <td>0</td>\n",
              "      <td>0</td>\n",
              "      <td>0</td>\n",
              "      <td>0</td>\n",
              "      <td>0</td>\n",
              "      <td>0</td>\n",
              "      <td>0</td>\n",
              "      <td>0</td>\n",
              "      <td>0</td>\n",
              "      <td>0</td>\n",
              "      <td>0</td>\n",
              "      <td>0</td>\n",
              "      <td>0</td>\n",
              "      <td>0</td>\n",
              "      <td>0</td>\n",
              "      <td>1</td>\n",
              "      <td>0</td>\n",
              "      <td>0</td>\n",
              "      <td>0</td>\n",
              "      <td>0</td>\n",
              "      <td>0</td>\n",
              "    </tr>\n",
              "    <tr>\n",
              "      <th>1</th>\n",
              "      <td>87.0</td>\n",
              "      <td>93</td>\n",
              "      <td>75</td>\n",
              "      <td>-5.0</td>\n",
              "      <td>52</td>\n",
              "      <td>64</td>\n",
              "      <td>263</td>\n",
              "      <td>24</td>\n",
              "      <td>23</td>\n",
              "      <td>0</td>\n",
              "      <td>0</td>\n",
              "      <td>0</td>\n",
              "      <td>0</td>\n",
              "      <td>0</td>\n",
              "      <td>0</td>\n",
              "      <td>0</td>\n",
              "      <td>0</td>\n",
              "      <td>0</td>\n",
              "      <td>0</td>\n",
              "      <td>0</td>\n",
              "      <td>0</td>\n",
              "      <td>0</td>\n",
              "      <td>0</td>\n",
              "      <td>0</td>\n",
              "      <td>0</td>\n",
              "      <td>0</td>\n",
              "      <td>0</td>\n",
              "      <td>0</td>\n",
              "      <td>0</td>\n",
              "      <td>0</td>\n",
              "      <td>0</td>\n",
              "      <td>0</td>\n",
              "      <td>0</td>\n",
              "      <td>0</td>\n",
              "      <td>0</td>\n",
              "      <td>0</td>\n",
              "      <td>0</td>\n",
              "      <td>0</td>\n",
              "      <td>0</td>\n",
              "      <td>0</td>\n",
              "      <td>...</td>\n",
              "      <td>0</td>\n",
              "      <td>0</td>\n",
              "      <td>0</td>\n",
              "      <td>0</td>\n",
              "      <td>0</td>\n",
              "      <td>0</td>\n",
              "      <td>0</td>\n",
              "      <td>0</td>\n",
              "      <td>0</td>\n",
              "      <td>0</td>\n",
              "      <td>0</td>\n",
              "      <td>0</td>\n",
              "      <td>0</td>\n",
              "      <td>0</td>\n",
              "      <td>0</td>\n",
              "      <td>0</td>\n",
              "      <td>0</td>\n",
              "      <td>0</td>\n",
              "      <td>0</td>\n",
              "      <td>0</td>\n",
              "      <td>0</td>\n",
              "      <td>0</td>\n",
              "      <td>0</td>\n",
              "      <td>0</td>\n",
              "      <td>0</td>\n",
              "      <td>0</td>\n",
              "      <td>0</td>\n",
              "      <td>0</td>\n",
              "      <td>0</td>\n",
              "      <td>0</td>\n",
              "      <td>0</td>\n",
              "      <td>0</td>\n",
              "      <td>1</td>\n",
              "      <td>0</td>\n",
              "      <td>0</td>\n",
              "      <td>0</td>\n",
              "      <td>0</td>\n",
              "      <td>0</td>\n",
              "      <td>0</td>\n",
              "      <td>1</td>\n",
              "    </tr>\n",
              "    <tr>\n",
              "      <th>2</th>\n",
              "      <td>120.0</td>\n",
              "      <td>84</td>\n",
              "      <td>76</td>\n",
              "      <td>-3.0</td>\n",
              "      <td>29</td>\n",
              "      <td>71</td>\n",
              "      <td>200</td>\n",
              "      <td>10</td>\n",
              "      <td>14</td>\n",
              "      <td>0</td>\n",
              "      <td>0</td>\n",
              "      <td>0</td>\n",
              "      <td>0</td>\n",
              "      <td>0</td>\n",
              "      <td>0</td>\n",
              "      <td>0</td>\n",
              "      <td>0</td>\n",
              "      <td>0</td>\n",
              "      <td>0</td>\n",
              "      <td>0</td>\n",
              "      <td>0</td>\n",
              "      <td>0</td>\n",
              "      <td>0</td>\n",
              "      <td>0</td>\n",
              "      <td>0</td>\n",
              "      <td>0</td>\n",
              "      <td>0</td>\n",
              "      <td>0</td>\n",
              "      <td>0</td>\n",
              "      <td>0</td>\n",
              "      <td>0</td>\n",
              "      <td>0</td>\n",
              "      <td>0</td>\n",
              "      <td>0</td>\n",
              "      <td>0</td>\n",
              "      <td>0</td>\n",
              "      <td>0</td>\n",
              "      <td>0</td>\n",
              "      <td>0</td>\n",
              "      <td>0</td>\n",
              "      <td>...</td>\n",
              "      <td>0</td>\n",
              "      <td>0</td>\n",
              "      <td>0</td>\n",
              "      <td>0</td>\n",
              "      <td>0</td>\n",
              "      <td>0</td>\n",
              "      <td>0</td>\n",
              "      <td>0</td>\n",
              "      <td>0</td>\n",
              "      <td>0</td>\n",
              "      <td>0</td>\n",
              "      <td>0</td>\n",
              "      <td>0</td>\n",
              "      <td>0</td>\n",
              "      <td>0</td>\n",
              "      <td>0</td>\n",
              "      <td>0</td>\n",
              "      <td>0</td>\n",
              "      <td>0</td>\n",
              "      <td>0</td>\n",
              "      <td>0</td>\n",
              "      <td>0</td>\n",
              "      <td>0</td>\n",
              "      <td>0</td>\n",
              "      <td>0</td>\n",
              "      <td>0</td>\n",
              "      <td>0</td>\n",
              "      <td>0</td>\n",
              "      <td>0</td>\n",
              "      <td>0</td>\n",
              "      <td>0</td>\n",
              "      <td>0</td>\n",
              "      <td>0</td>\n",
              "      <td>0</td>\n",
              "      <td>0</td>\n",
              "      <td>0</td>\n",
              "      <td>0</td>\n",
              "      <td>1</td>\n",
              "      <td>0</td>\n",
              "      <td>2</td>\n",
              "    </tr>\n",
              "    <tr>\n",
              "      <th>3</th>\n",
              "      <td>119.0</td>\n",
              "      <td>92</td>\n",
              "      <td>70</td>\n",
              "      <td>-4.0</td>\n",
              "      <td>8</td>\n",
              "      <td>71</td>\n",
              "      <td>295</td>\n",
              "      <td>0</td>\n",
              "      <td>4</td>\n",
              "      <td>0</td>\n",
              "      <td>0</td>\n",
              "      <td>0</td>\n",
              "      <td>0</td>\n",
              "      <td>0</td>\n",
              "      <td>0</td>\n",
              "      <td>0</td>\n",
              "      <td>0</td>\n",
              "      <td>0</td>\n",
              "      <td>0</td>\n",
              "      <td>0</td>\n",
              "      <td>0</td>\n",
              "      <td>0</td>\n",
              "      <td>0</td>\n",
              "      <td>0</td>\n",
              "      <td>0</td>\n",
              "      <td>0</td>\n",
              "      <td>0</td>\n",
              "      <td>0</td>\n",
              "      <td>0</td>\n",
              "      <td>0</td>\n",
              "      <td>0</td>\n",
              "      <td>0</td>\n",
              "      <td>0</td>\n",
              "      <td>0</td>\n",
              "      <td>0</td>\n",
              "      <td>0</td>\n",
              "      <td>0</td>\n",
              "      <td>0</td>\n",
              "      <td>0</td>\n",
              "      <td>0</td>\n",
              "      <td>...</td>\n",
              "      <td>0</td>\n",
              "      <td>0</td>\n",
              "      <td>0</td>\n",
              "      <td>0</td>\n",
              "      <td>0</td>\n",
              "      <td>0</td>\n",
              "      <td>0</td>\n",
              "      <td>0</td>\n",
              "      <td>0</td>\n",
              "      <td>0</td>\n",
              "      <td>0</td>\n",
              "      <td>0</td>\n",
              "      <td>0</td>\n",
              "      <td>0</td>\n",
              "      <td>0</td>\n",
              "      <td>0</td>\n",
              "      <td>0</td>\n",
              "      <td>0</td>\n",
              "      <td>0</td>\n",
              "      <td>0</td>\n",
              "      <td>0</td>\n",
              "      <td>0</td>\n",
              "      <td>0</td>\n",
              "      <td>0</td>\n",
              "      <td>0</td>\n",
              "      <td>0</td>\n",
              "      <td>0</td>\n",
              "      <td>0</td>\n",
              "      <td>0</td>\n",
              "      <td>0</td>\n",
              "      <td>0</td>\n",
              "      <td>0</td>\n",
              "      <td>0</td>\n",
              "      <td>0</td>\n",
              "      <td>0</td>\n",
              "      <td>0</td>\n",
              "      <td>0</td>\n",
              "      <td>1</td>\n",
              "      <td>0</td>\n",
              "      <td>2</td>\n",
              "    </tr>\n",
              "    <tr>\n",
              "      <th>4</th>\n",
              "      <td>109.0</td>\n",
              "      <td>84</td>\n",
              "      <td>64</td>\n",
              "      <td>-5.0</td>\n",
              "      <td>9</td>\n",
              "      <td>43</td>\n",
              "      <td>221</td>\n",
              "      <td>2</td>\n",
              "      <td>4</td>\n",
              "      <td>0</td>\n",
              "      <td>0</td>\n",
              "      <td>0</td>\n",
              "      <td>0</td>\n",
              "      <td>0</td>\n",
              "      <td>0</td>\n",
              "      <td>0</td>\n",
              "      <td>0</td>\n",
              "      <td>0</td>\n",
              "      <td>0</td>\n",
              "      <td>0</td>\n",
              "      <td>0</td>\n",
              "      <td>0</td>\n",
              "      <td>0</td>\n",
              "      <td>0</td>\n",
              "      <td>0</td>\n",
              "      <td>0</td>\n",
              "      <td>0</td>\n",
              "      <td>0</td>\n",
              "      <td>1</td>\n",
              "      <td>0</td>\n",
              "      <td>0</td>\n",
              "      <td>0</td>\n",
              "      <td>0</td>\n",
              "      <td>0</td>\n",
              "      <td>0</td>\n",
              "      <td>0</td>\n",
              "      <td>0</td>\n",
              "      <td>0</td>\n",
              "      <td>0</td>\n",
              "      <td>0</td>\n",
              "      <td>...</td>\n",
              "      <td>0</td>\n",
              "      <td>0</td>\n",
              "      <td>0</td>\n",
              "      <td>0</td>\n",
              "      <td>0</td>\n",
              "      <td>0</td>\n",
              "      <td>0</td>\n",
              "      <td>0</td>\n",
              "      <td>0</td>\n",
              "      <td>0</td>\n",
              "      <td>0</td>\n",
              "      <td>0</td>\n",
              "      <td>0</td>\n",
              "      <td>0</td>\n",
              "      <td>0</td>\n",
              "      <td>0</td>\n",
              "      <td>0</td>\n",
              "      <td>0</td>\n",
              "      <td>0</td>\n",
              "      <td>0</td>\n",
              "      <td>0</td>\n",
              "      <td>0</td>\n",
              "      <td>0</td>\n",
              "      <td>0</td>\n",
              "      <td>0</td>\n",
              "      <td>0</td>\n",
              "      <td>0</td>\n",
              "      <td>0</td>\n",
              "      <td>0</td>\n",
              "      <td>0</td>\n",
              "      <td>0</td>\n",
              "      <td>0</td>\n",
              "      <td>0</td>\n",
              "      <td>0</td>\n",
              "      <td>0</td>\n",
              "      <td>0</td>\n",
              "      <td>0</td>\n",
              "      <td>1</td>\n",
              "      <td>0</td>\n",
              "      <td>2</td>\n",
              "    </tr>\n",
              "  </tbody>\n",
              "</table>\n",
              "<p>5 rows × 206 columns</p>\n",
              "</div>\n",
              "      <button class=\"colab-df-convert\" onclick=\"convertToInteractive('df-43634679-e3eb-4c8a-89f7-3536c6e0a6df')\"\n",
              "              title=\"Convert this dataframe to an interactive table.\"\n",
              "              style=\"display:none;\">\n",
              "        \n",
              "  <svg xmlns=\"http://www.w3.org/2000/svg\" height=\"24px\"viewBox=\"0 0 24 24\"\n",
              "       width=\"24px\">\n",
              "    <path d=\"M0 0h24v24H0V0z\" fill=\"none\"/>\n",
              "    <path d=\"M18.56 5.44l.94 2.06.94-2.06 2.06-.94-2.06-.94-.94-2.06-.94 2.06-2.06.94zm-11 1L8.5 8.5l.94-2.06 2.06-.94-2.06-.94L8.5 2.5l-.94 2.06-2.06.94zm10 10l.94 2.06.94-2.06 2.06-.94-2.06-.94-.94-2.06-.94 2.06-2.06.94z\"/><path d=\"M17.41 7.96l-1.37-1.37c-.4-.4-.92-.59-1.43-.59-.52 0-1.04.2-1.43.59L10.3 9.45l-7.72 7.72c-.78.78-.78 2.05 0 2.83L4 21.41c.39.39.9.59 1.41.59.51 0 1.02-.2 1.41-.59l7.78-7.78 2.81-2.81c.8-.78.8-2.07 0-2.86zM5.41 20L4 18.59l7.72-7.72 1.47 1.35L5.41 20z\"/>\n",
              "  </svg>\n",
              "      </button>\n",
              "      \n",
              "  <style>\n",
              "    .colab-df-container {\n",
              "      display:flex;\n",
              "      flex-wrap:wrap;\n",
              "      gap: 12px;\n",
              "    }\n",
              "\n",
              "    .colab-df-convert {\n",
              "      background-color: #E8F0FE;\n",
              "      border: none;\n",
              "      border-radius: 50%;\n",
              "      cursor: pointer;\n",
              "      display: none;\n",
              "      fill: #1967D2;\n",
              "      height: 32px;\n",
              "      padding: 0 0 0 0;\n",
              "      width: 32px;\n",
              "    }\n",
              "\n",
              "    .colab-df-convert:hover {\n",
              "      background-color: #E2EBFA;\n",
              "      box-shadow: 0px 1px 2px rgba(60, 64, 67, 0.3), 0px 1px 3px 1px rgba(60, 64, 67, 0.15);\n",
              "      fill: #174EA6;\n",
              "    }\n",
              "\n",
              "    [theme=dark] .colab-df-convert {\n",
              "      background-color: #3B4455;\n",
              "      fill: #D2E3FC;\n",
              "    }\n",
              "\n",
              "    [theme=dark] .colab-df-convert:hover {\n",
              "      background-color: #434B5C;\n",
              "      box-shadow: 0px 1px 3px 1px rgba(0, 0, 0, 0.15);\n",
              "      filter: drop-shadow(0px 1px 2px rgba(0, 0, 0, 0.3));\n",
              "      fill: #FFFFFF;\n",
              "    }\n",
              "  </style>\n",
              "\n",
              "      <script>\n",
              "        const buttonEl =\n",
              "          document.querySelector('#df-43634679-e3eb-4c8a-89f7-3536c6e0a6df button.colab-df-convert');\n",
              "        buttonEl.style.display =\n",
              "          google.colab.kernel.accessAllowed ? 'block' : 'none';\n",
              "\n",
              "        async function convertToInteractive(key) {\n",
              "          const element = document.querySelector('#df-43634679-e3eb-4c8a-89f7-3536c6e0a6df');\n",
              "          const dataTable =\n",
              "            await google.colab.kernel.invokeFunction('convertToInteractive',\n",
              "                                                     [key], {});\n",
              "          if (!dataTable) return;\n",
              "\n",
              "          const docLinkHtml = 'Like what you see? Visit the ' +\n",
              "            '<a target=\"_blank\" href=https://colab.research.google.com/notebooks/data_table.ipynb>data table notebook</a>'\n",
              "            + ' to learn more about interactive tables.';\n",
              "          element.innerHTML = '';\n",
              "          dataTable['output_type'] = 'display_data';\n",
              "          await google.colab.output.renderOutput(dataTable, element);\n",
              "          const docLink = document.createElement('div');\n",
              "          docLink.innerHTML = docLinkHtml;\n",
              "          element.appendChild(docLink);\n",
              "        }\n",
              "      </script>\n",
              "    </div>\n",
              "  </div>\n",
              "  "
            ],
            "text/plain": [
              "     bpm  nrgy  dnce  ...  top genre_pop  top genre_room  labels\n",
              "0   97.0    89    67  ...              0               0       0\n",
              "1   87.0    93    75  ...              0               0       1\n",
              "2  120.0    84    76  ...              1               0       2\n",
              "3  119.0    92    70  ...              1               0       2\n",
              "4  109.0    84    64  ...              1               0       2\n",
              "\n",
              "[5 rows x 206 columns]"
            ]
          },
          "metadata": {},
          "execution_count": 67
        }
      ]
    },
    {
      "cell_type": "code",
      "source": [
        "df_scaled = pd.DataFrame(new_df)\n",
        "df_scaled['dbscan'] = dbscan.labels_\n",
        "df_mean = (df_scaled.loc[df_scaled.dbscan!=-1, :].groupby('dbscan').mean())\n",
        "results = pd.DataFrame(columns=['Variable', 'Var'])\n",
        "for column in df_mean.columns[1:]:\n",
        "    results.loc[len(results), :] = [column, np.var(df_mean[column])]\n",
        "    selected_columns = list(results.sort_values('Var', ascending=False,).head(7).Variable.values) + ['dbscan']\n",
        "    tidy = df_scaled[selected_columns].melt(id_vars='dbscan')"
      ],
      "metadata": {
        "id": "YwkiPYyLOO-C"
      },
      "execution_count": null,
      "outputs": []
    },
    {
      "cell_type": "code",
      "source": [
        "for i in range(12):\n",
        "    sns.catplot(x='dbscan',y='value', hue='variable', data=tidy[tidy['dbscan']==i], height=5, aspect=.7, kind='bar')"
      ],
      "metadata": {
        "colab": {
          "base_uri": "https://localhost:8080/",
          "height": 1000
        },
        "id": "pyE8W6EIORuI",
        "outputId": "92db74d0-9a04-40f3-af86-b17895a42c1b"
      },
      "execution_count": null,
      "outputs": [
        {
          "output_type": "execute_result",
          "data": {
            "text/plain": [
              "<seaborn.axisgrid.FacetGrid at 0x7f90b3ddfc10>"
            ]
          },
          "metadata": {},
          "execution_count": 69
        },
        {
          "output_type": "execute_result",
          "data": {
            "text/plain": [
              "<seaborn.axisgrid.FacetGrid at 0x7f90b3d7a910>"
            ]
          },
          "metadata": {},
          "execution_count": 69
        },
        {
          "output_type": "execute_result",
          "data": {
            "text/plain": [
              "<seaborn.axisgrid.FacetGrid at 0x7f90a60fab50>"
            ]
          },
          "metadata": {},
          "execution_count": 69
        },
        {
          "output_type": "execute_result",
          "data": {
            "text/plain": [
              "<seaborn.axisgrid.FacetGrid at 0x7f90a6707810>"
            ]
          },
          "metadata": {},
          "execution_count": 69
        },
        {
          "output_type": "execute_result",
          "data": {
            "text/plain": [
              "<seaborn.axisgrid.FacetGrid at 0x7f90a6899650>"
            ]
          },
          "metadata": {},
          "execution_count": 69
        },
        {
          "output_type": "execute_result",
          "data": {
            "text/plain": [
              "<seaborn.axisgrid.FacetGrid at 0x7f90a69cd1d0>"
            ]
          },
          "metadata": {},
          "execution_count": 69
        },
        {
          "output_type": "execute_result",
          "data": {
            "text/plain": [
              "<seaborn.axisgrid.FacetGrid at 0x7f90b3dbfd50>"
            ]
          },
          "metadata": {},
          "execution_count": 69
        },
        {
          "output_type": "execute_result",
          "data": {
            "text/plain": [
              "<seaborn.axisgrid.FacetGrid at 0x7f90a67c6890>"
            ]
          },
          "metadata": {},
          "execution_count": 69
        },
        {
          "output_type": "execute_result",
          "data": {
            "text/plain": [
              "<seaborn.axisgrid.FacetGrid at 0x7f90b3e11d50>"
            ]
          },
          "metadata": {},
          "execution_count": 69
        },
        {
          "output_type": "execute_result",
          "data": {
            "text/plain": [
              "<seaborn.axisgrid.FacetGrid at 0x7f90a6083e90>"
            ]
          },
          "metadata": {},
          "execution_count": 69
        },
        {
          "output_type": "execute_result",
          "data": {
            "text/plain": [
              "<seaborn.axisgrid.FacetGrid at 0x7f90b3c66510>"
            ]
          },
          "metadata": {},
          "execution_count": 69
        },
        {
          "output_type": "execute_result",
          "data": {
            "text/plain": [
              "<seaborn.axisgrid.FacetGrid at 0x7f90a64c2690>"
            ]
          },
          "metadata": {},
          "execution_count": 69
        },
        {
          "output_type": "display_data",
          "data": {
            "image/png": "[encoded data removed]",
            "text/plain": [
              "<Figure size 317.25x360 with 1 Axes>"
            ]
          },
          "metadata": {
            "needs_background": "light"
          }
        },
        {
          "output_type": "display_data",
          "data": {
            "image/png": "[encoded data removed]",
            "text/plain": [
              "<Figure size 317.25x360 with 1 Axes>"
            ]
          },
          "metadata": {
            "needs_background": "light"
          }
        },
        {
          "output_type": "display_data",
          "data": {
            "image/png": "[encoded data removed]",
            "text/plain": [
              "<Figure size 317.25x360 with 1 Axes>"
            ]
          },
          "metadata": {
            "needs_background": "light"
          }
        },
        {
          "output_type": "display_data",
          "data": {
            "image/png": "[encoded data removed]",
            "text/plain": [
              "<Figure size 317.25x360 with 1 Axes>"
            ]
          },
          "metadata": {
            "needs_background": "light"
          }
        },
        {
          "output_type": "display_data",
          "data": {
            "image/png": "[encoded data removed]",
            "text/plain": [
              "<Figure size 317.25x360 with 1 Axes>"
            ]
          },
          "metadata": {
            "needs_background": "light"
          }
        },
        {
          "output_type": "display_data",
          "data": {
            "image/png": "[encoded data removed]",
            "text/plain": [
              "<Figure size 317.25x360 with 1 Axes>"
            ]
          },
          "metadata": {
            "needs_background": "light"
          }
        },
        {
          "output_type": "display_data",
          "data": {
            "image/png": "[encoded data removed]",
            "text/plain": [
              "<Figure size 317.25x360 with 1 Axes>"
            ]
          },
          "metadata": {
            "needs_background": "light"
          }
        },
        {
          "output_type": "display_data",
          "data": {
            "image/png": "[encoded data removed]",
            "text/plain": [
              "<Figure size 317.25x360 with 1 Axes>"
            ]
          },
          "metadata": {
            "needs_background": "light"
          }
        },
        {
          "output_type": "display_data",
          "data": {
            "image/png": "[encoded data removed]",
            "text/plain": [
              "<Figure size 317.25x360 with 1 Axes>"
            ]
          },
          "metadata": {
            "needs_background": "light"
          }
        },
        {
          "output_type": "display_data",
          "data": {
            "image/png": "[encoded data removed]",
            "text/plain": [
              "<Figure size 317.25x360 with 1 Axes>"
            ]
          },
          "metadata": {
            "needs_background": "light"
          }
        },
        {
          "output_type": "display_data",
          "data": {
            "image/png": "[encoded data removed]",
            "text/plain": [
              "<Figure size 317.25x360 with 1 Axes>"
            ]
          },
          "metadata": {
            "needs_background": "light"
          }
        },
        {
          "output_type": "display_data",
          "data": {
            "image/png": "[encoded data removed]",
            "text/plain": [
              "<Figure size 317.25x360 with 1 Axes>"
            ]
          },
          "metadata": {
            "needs_background": "light"
          }
        }
      ]
    },
    {
      "cell_type": "code",
      "source": [
        ""
      ],
      "metadata": {
        "id": "zFuE50zSOVAY"
      },
      "execution_count": null,
      "outputs": []
    }
  ]
}