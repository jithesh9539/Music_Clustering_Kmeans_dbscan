{
  "nbformat": 4,
  "nbformat_minor": 0,
  "metadata": {
    "colab": {
      "name": "Music_Clustering.ipynb",
      "provenance": [],
      "collapsed_sections": [],
      "authorship_tag": "ABX9TyP0yIgrEj8HZqFJSk24qdAp",
      "include_colab_link": true
    },
    "kernelspec": {
      "name": "python3",
      "display_name": "Python 3"
    },
    "language_info": {
      "name": "python"
    }
  },
  "cells": [
    {
      "cell_type": "markdown",
      "metadata": {
        "id": "view-in-github",
        "colab_type": "text"
      },
      "source": [
        "<a href=\"https://colab.research.google.com/github/jithesh9539/Music_Clustering_Kmeans_dbscan/blob/main/Music_Clustering.ipynb\" target=\"_parent\"><img src=\"https://colab.research.google.com/assets/colab-badge.svg\" alt=\"Open In Colab\"/></a>"
      ]
    },
    {
      "cell_type": "markdown",
      "source": [
        "**Importing Libraries** "
      ],
      "metadata": {
        "id": "9VI3NusGFvXU"
      }
    },
    {
      "cell_type": "code",
      "execution_count": 36,
      "metadata": {
        "id": "SnphkJzELPVA"
      },
      "outputs": [],
      "source": [
        "import pandas as pd\n",
        "import numpy as np\n",
        "import matplotlib.pyplot as plt\n",
        "import seaborn as sns\n",
        "from IPython.core.interactiveshell import InteractiveShell\n",
        "from sklearn.cluster import KMeans\n",
        "from sklearn.manifold import TSNE\n",
        "from sklearn.discriminant_analysis import LinearDiscriminantAnalysis\n",
        "from sklearn.decomposition import PCA\n",
        "from scipy.cluster.hierarchy import linkage, dendrogram\n",
        "from sklearn.cluster import DBSCAN\n",
        "from sklearn.cluster import AgglomerativeClustering\n",
        "import statsmodels.api as sm\n",
        "from statsmodels.stats.outliers_influence import variance_inflation_factor\n",
        "from sklearn.preprocessing import StandardScaler, MinMaxScaler\n",
        "from sklearn.metrics import silhouette_score\n",
        "InteractiveShell.ast_node_interactivity = \"all\"\n",
        "%matplotlib inline"
      ]
    },
    {
      "cell_type": "markdown",
      "source": [
        ""
      ],
      "metadata": {
        "id": "Y1mhoSwoFuMm"
      }
    },
    {
      "cell_type": "markdown",
      "source": [
        "**Reading Data in dataframe**"
      ],
      "metadata": {
        "id": "zrKB80l6F2Gc"
      }
    },
    {
      "cell_type": "code",
      "source": [
        "df=pd.read_csv('/content/top10s.csv',encoding='latin1')"
      ],
      "metadata": {
        "id": "IBEKEOUfLzCw"
      },
      "execution_count": 37,
      "outputs": []
    },
    {
      "cell_type": "code",
      "source": [
        "df.head()"
      ],
      "metadata": {
        "colab": {
          "base_uri": "https://localhost:8080/",
          "height": 250
        },
        "id": "T6AiUYB8L7zf",
        "outputId": "a15102f6-1934-428b-a522-84d38c21212b"
      },
      "execution_count": 38,
      "outputs": [
        {
          "output_type": "execute_result",
          "data": {
            "text/html": [
              "\n",
              "  <div id=\"df-ebd6f5ac-8aa7-4909-86d9-775f6de8d59a\">\n",
              "    <div class=\"colab-df-container\">\n",
              "      <div>\n",
              "<style scoped>\n",
              "    .dataframe tbody tr th:only-of-type {\n",
              "        vertical-align: middle;\n",
              "    }\n",
              "\n",
              "    .dataframe tbody tr th {\n",
              "        vertical-align: top;\n",
              "    }\n",
              "\n",
              "    .dataframe thead th {\n",
              "        text-align: right;\n",
              "    }\n",
              "</style>\n",
              "<table border=\"1\" class=\"dataframe\">\n",
              "  <thead>\n",
              "    <tr style=\"text-align: right;\">\n",
              "      <th></th>\n",
              "      <th>Unnamed: 0</th>\n",
              "      <th>title</th>\n",
              "      <th>artist</th>\n",
              "      <th>top genre</th>\n",
              "      <th>year</th>\n",
              "      <th>bpm</th>\n",
              "      <th>nrgy</th>\n",
              "      <th>dnce</th>\n",
              "      <th>dB</th>\n",
              "      <th>live</th>\n",
              "      <th>val</th>\n",
              "      <th>dur</th>\n",
              "      <th>acous</th>\n",
              "      <th>spch</th>\n",
              "      <th>pop</th>\n",
              "    </tr>\n",
              "  </thead>\n",
              "  <tbody>\n",
              "    <tr>\n",
              "      <th>0</th>\n",
              "      <td>1</td>\n",
              "      <td>Hey, Soul Sister</td>\n",
              "      <td>Train</td>\n",
              "      <td>neo mellow</td>\n",
              "      <td>2010</td>\n",
              "      <td>97</td>\n",
              "      <td>89</td>\n",
              "      <td>67</td>\n",
              "      <td>-4</td>\n",
              "      <td>8</td>\n",
              "      <td>80</td>\n",
              "      <td>217</td>\n",
              "      <td>19</td>\n",
              "      <td>4</td>\n",
              "      <td>83</td>\n",
              "    </tr>\n",
              "    <tr>\n",
              "      <th>1</th>\n",
              "      <td>2</td>\n",
              "      <td>Love The Way You Lie</td>\n",
              "      <td>Eminem</td>\n",
              "      <td>detroit hip hop</td>\n",
              "      <td>2010</td>\n",
              "      <td>87</td>\n",
              "      <td>93</td>\n",
              "      <td>75</td>\n",
              "      <td>-5</td>\n",
              "      <td>52</td>\n",
              "      <td>64</td>\n",
              "      <td>263</td>\n",
              "      <td>24</td>\n",
              "      <td>23</td>\n",
              "      <td>82</td>\n",
              "    </tr>\n",
              "    <tr>\n",
              "      <th>2</th>\n",
              "      <td>3</td>\n",
              "      <td>TiK ToK</td>\n",
              "      <td>Kesha</td>\n",
              "      <td>dance pop</td>\n",
              "      <td>2010</td>\n",
              "      <td>120</td>\n",
              "      <td>84</td>\n",
              "      <td>76</td>\n",
              "      <td>-3</td>\n",
              "      <td>29</td>\n",
              "      <td>71</td>\n",
              "      <td>200</td>\n",
              "      <td>10</td>\n",
              "      <td>14</td>\n",
              "      <td>80</td>\n",
              "    </tr>\n",
              "    <tr>\n",
              "      <th>3</th>\n",
              "      <td>4</td>\n",
              "      <td>Bad Romance</td>\n",
              "      <td>Lady Gaga</td>\n",
              "      <td>dance pop</td>\n",
              "      <td>2010</td>\n",
              "      <td>119</td>\n",
              "      <td>92</td>\n",
              "      <td>70</td>\n",
              "      <td>-4</td>\n",
              "      <td>8</td>\n",
              "      <td>71</td>\n",
              "      <td>295</td>\n",
              "      <td>0</td>\n",
              "      <td>4</td>\n",
              "      <td>79</td>\n",
              "    </tr>\n",
              "    <tr>\n",
              "      <th>4</th>\n",
              "      <td>5</td>\n",
              "      <td>Just the Way You Are</td>\n",
              "      <td>Bruno Mars</td>\n",
              "      <td>pop</td>\n",
              "      <td>2010</td>\n",
              "      <td>109</td>\n",
              "      <td>84</td>\n",
              "      <td>64</td>\n",
              "      <td>-5</td>\n",
              "      <td>9</td>\n",
              "      <td>43</td>\n",
              "      <td>221</td>\n",
              "      <td>2</td>\n",
              "      <td>4</td>\n",
              "      <td>78</td>\n",
              "    </tr>\n",
              "  </tbody>\n",
              "</table>\n",
              "</div>\n",
              "      <button class=\"colab-df-convert\" onclick=\"convertToInteractive('df-ebd6f5ac-8aa7-4909-86d9-775f6de8d59a')\"\n",
              "              title=\"Convert this dataframe to an interactive table.\"\n",
              "              style=\"display:none;\">\n",
              "        \n",
              "  <svg xmlns=\"http://www.w3.org/2000/svg\" height=\"24px\"viewBox=\"0 0 24 24\"\n",
              "       width=\"24px\">\n",
              "    <path d=\"M0 0h24v24H0V0z\" fill=\"none\"/>\n",
              "    <path d=\"M18.56 5.44l.94 2.06.94-2.06 2.06-.94-2.06-.94-.94-2.06-.94 2.06-2.06.94zm-11 1L8.5 8.5l.94-2.06 2.06-.94-2.06-.94L8.5 2.5l-.94 2.06-2.06.94zm10 10l.94 2.06.94-2.06 2.06-.94-2.06-.94-.94-2.06-.94 2.06-2.06.94z\"/><path d=\"M17.41 7.96l-1.37-1.37c-.4-.4-.92-.59-1.43-.59-.52 0-1.04.2-1.43.59L10.3 9.45l-7.72 7.72c-.78.78-.78 2.05 0 2.83L4 21.41c.39.39.9.59 1.41.59.51 0 1.02-.2 1.41-.59l7.78-7.78 2.81-2.81c.8-.78.8-2.07 0-2.86zM5.41 20L4 18.59l7.72-7.72 1.47 1.35L5.41 20z\"/>\n",
              "  </svg>\n",
              "      </button>\n",
              "      \n",
              "  <style>\n",
              "    .colab-df-container {\n",
              "      display:flex;\n",
              "      flex-wrap:wrap;\n",
              "      gap: 12px;\n",
              "    }\n",
              "\n",
              "    .colab-df-convert {\n",
              "      background-color: #E8F0FE;\n",
              "      border: none;\n",
              "      border-radius: 50%;\n",
              "      cursor: pointer;\n",
              "      display: none;\n",
              "      fill: #1967D2;\n",
              "      height: 32px;\n",
              "      padding: 0 0 0 0;\n",
              "      width: 32px;\n",
              "    }\n",
              "\n",
              "    .colab-df-convert:hover {\n",
              "      background-color: #E2EBFA;\n",
              "      box-shadow: 0px 1px 2px rgba(60, 64, 67, 0.3), 0px 1px 3px 1px rgba(60, 64, 67, 0.15);\n",
              "      fill: #174EA6;\n",
              "    }\n",
              "\n",
              "    [theme=dark] .colab-df-convert {\n",
              "      background-color: #3B4455;\n",
              "      fill: #D2E3FC;\n",
              "    }\n",
              "\n",
              "    [theme=dark] .colab-df-convert:hover {\n",
              "      background-color: #434B5C;\n",
              "      box-shadow: 0px 1px 3px 1px rgba(0, 0, 0, 0.15);\n",
              "      filter: drop-shadow(0px 1px 2px rgba(0, 0, 0, 0.3));\n",
              "      fill: #FFFFFF;\n",
              "    }\n",
              "  </style>\n",
              "\n",
              "      <script>\n",
              "        const buttonEl =\n",
              "          document.querySelector('#df-ebd6f5ac-8aa7-4909-86d9-775f6de8d59a button.colab-df-convert');\n",
              "        buttonEl.style.display =\n",
              "          google.colab.kernel.accessAllowed ? 'block' : 'none';\n",
              "\n",
              "        async function convertToInteractive(key) {\n",
              "          const element = document.querySelector('#df-ebd6f5ac-8aa7-4909-86d9-775f6de8d59a');\n",
              "          const dataTable =\n",
              "            await google.colab.kernel.invokeFunction('convertToInteractive',\n",
              "                                                     [key], {});\n",
              "          if (!dataTable) return;\n",
              "\n",
              "          const docLinkHtml = 'Like what you see? Visit the ' +\n",
              "            '<a target=\"_blank\" href=https://colab.research.google.com/notebooks/data_table.ipynb>data table notebook</a>'\n",
              "            + ' to learn more about interactive tables.';\n",
              "          element.innerHTML = '';\n",
              "          dataTable['output_type'] = 'display_data';\n",
              "          await google.colab.output.renderOutput(dataTable, element);\n",
              "          const docLink = document.createElement('div');\n",
              "          docLink.innerHTML = docLinkHtml;\n",
              "          element.appendChild(docLink);\n",
              "        }\n",
              "      </script>\n",
              "    </div>\n",
              "  </div>\n",
              "  "
            ],
            "text/plain": [
              "   Unnamed: 0                 title      artist  ... acous  spch  pop\n",
              "0           1      Hey, Soul Sister       Train  ...    19     4   83\n",
              "1           2  Love The Way You Lie      Eminem  ...    24    23   82\n",
              "2           3               TiK ToK       Kesha  ...    10    14   80\n",
              "3           4           Bad Romance   Lady Gaga  ...     0     4   79\n",
              "4           5  Just the Way You Are  Bruno Mars  ...     2     4   78\n",
              "\n",
              "[5 rows x 15 columns]"
            ]
          },
          "metadata": {},
          "execution_count": 38
        }
      ]
    },
    {
      "cell_type": "code",
      "source": [
        "df.shape"
      ],
      "metadata": {
        "colab": {
          "base_uri": "https://localhost:8080/"
        },
        "id": "upf3MxOGMBo2",
        "outputId": "389fab92-cbf4-4bb4-ea18-f900ece2430c"
      },
      "execution_count": 39,
      "outputs": [
        {
          "output_type": "execute_result",
          "data": {
            "text/plain": [
              "(603, 15)"
            ]
          },
          "metadata": {},
          "execution_count": 39
        }
      ]
    },
    {
      "cell_type": "code",
      "source": [
        "df = df.rename(columns = {'Unnamed: 0': 'id'})\n",
        "df.head()"
      ],
      "metadata": {
        "colab": {
          "base_uri": "https://localhost:8080/",
          "height": 206
        },
        "id": "WX1OxXD5MDVS",
        "outputId": "7c5484d1-e5ae-4454-8dde-06cc96caf6fb"
      },
      "execution_count": 40,
      "outputs": [
        {
          "output_type": "execute_result",
          "data": {
            "text/html": [
              "\n",
              "  <div id=\"df-85020d01-f07d-45d7-b5de-75a59d969d07\">\n",
              "    <div class=\"colab-df-container\">\n",
              "      <div>\n",
              "<style scoped>\n",
              "    .dataframe tbody tr th:only-of-type {\n",
              "        vertical-align: middle;\n",
              "    }\n",
              "\n",
              "    .dataframe tbody tr th {\n",
              "        vertical-align: top;\n",
              "    }\n",
              "\n",
              "    .dataframe thead th {\n",
              "        text-align: right;\n",
              "    }\n",
              "</style>\n",
              "<table border=\"1\" class=\"dataframe\">\n",
              "  <thead>\n",
              "    <tr style=\"text-align: right;\">\n",
              "      <th></th>\n",
              "      <th>id</th>\n",
              "      <th>title</th>\n",
              "      <th>artist</th>\n",
              "      <th>top genre</th>\n",
              "      <th>year</th>\n",
              "      <th>bpm</th>\n",
              "      <th>nrgy</th>\n",
              "      <th>dnce</th>\n",
              "      <th>dB</th>\n",
              "      <th>live</th>\n",
              "      <th>val</th>\n",
              "      <th>dur</th>\n",
              "      <th>acous</th>\n",
              "      <th>spch</th>\n",
              "      <th>pop</th>\n",
              "    </tr>\n",
              "  </thead>\n",
              "  <tbody>\n",
              "    <tr>\n",
              "      <th>0</th>\n",
              "      <td>1</td>\n",
              "      <td>Hey, Soul Sister</td>\n",
              "      <td>Train</td>\n",
              "      <td>neo mellow</td>\n",
              "      <td>2010</td>\n",
              "      <td>97</td>\n",
              "      <td>89</td>\n",
              "      <td>67</td>\n",
              "      <td>-4</td>\n",
              "      <td>8</td>\n",
              "      <td>80</td>\n",
              "      <td>217</td>\n",
              "      <td>19</td>\n",
              "      <td>4</td>\n",
              "      <td>83</td>\n",
              "    </tr>\n",
              "    <tr>\n",
              "      <th>1</th>\n",
              "      <td>2</td>\n",
              "      <td>Love The Way You Lie</td>\n",
              "      <td>Eminem</td>\n",
              "      <td>detroit hip hop</td>\n",
              "      <td>2010</td>\n",
              "      <td>87</td>\n",
              "      <td>93</td>\n",
              "      <td>75</td>\n",
              "      <td>-5</td>\n",
              "      <td>52</td>\n",
              "      <td>64</td>\n",
              "      <td>263</td>\n",
              "      <td>24</td>\n",
              "      <td>23</td>\n",
              "      <td>82</td>\n",
              "    </tr>\n",
              "    <tr>\n",
              "      <th>2</th>\n",
              "      <td>3</td>\n",
              "      <td>TiK ToK</td>\n",
              "      <td>Kesha</td>\n",
              "      <td>dance pop</td>\n",
              "      <td>2010</td>\n",
              "      <td>120</td>\n",
              "      <td>84</td>\n",
              "      <td>76</td>\n",
              "      <td>-3</td>\n",
              "      <td>29</td>\n",
              "      <td>71</td>\n",
              "      <td>200</td>\n",
              "      <td>10</td>\n",
              "      <td>14</td>\n",
              "      <td>80</td>\n",
              "    </tr>\n",
              "    <tr>\n",
              "      <th>3</th>\n",
              "      <td>4</td>\n",
              "      <td>Bad Romance</td>\n",
              "      <td>Lady Gaga</td>\n",
              "      <td>dance pop</td>\n",
              "      <td>2010</td>\n",
              "      <td>119</td>\n",
              "      <td>92</td>\n",
              "      <td>70</td>\n",
              "      <td>-4</td>\n",
              "      <td>8</td>\n",
              "      <td>71</td>\n",
              "      <td>295</td>\n",
              "      <td>0</td>\n",
              "      <td>4</td>\n",
              "      <td>79</td>\n",
              "    </tr>\n",
              "    <tr>\n",
              "      <th>4</th>\n",
              "      <td>5</td>\n",
              "      <td>Just the Way You Are</td>\n",
              "      <td>Bruno Mars</td>\n",
              "      <td>pop</td>\n",
              "      <td>2010</td>\n",
              "      <td>109</td>\n",
              "      <td>84</td>\n",
              "      <td>64</td>\n",
              "      <td>-5</td>\n",
              "      <td>9</td>\n",
              "      <td>43</td>\n",
              "      <td>221</td>\n",
              "      <td>2</td>\n",
              "      <td>4</td>\n",
              "      <td>78</td>\n",
              "    </tr>\n",
              "  </tbody>\n",
              "</table>\n",
              "</div>\n",
              "      <button class=\"colab-df-convert\" onclick=\"convertToInteractive('df-85020d01-f07d-45d7-b5de-75a59d969d07')\"\n",
              "              title=\"Convert this dataframe to an interactive table.\"\n",
              "              style=\"display:none;\">\n",
              "        \n",
              "  <svg xmlns=\"http://www.w3.org/2000/svg\" height=\"24px\"viewBox=\"0 0 24 24\"\n",
              "       width=\"24px\">\n",
              "    <path d=\"M0 0h24v24H0V0z\" fill=\"none\"/>\n",
              "    <path d=\"M18.56 5.44l.94 2.06.94-2.06 2.06-.94-2.06-.94-.94-2.06-.94 2.06-2.06.94zm-11 1L8.5 8.5l.94-2.06 2.06-.94-2.06-.94L8.5 2.5l-.94 2.06-2.06.94zm10 10l.94 2.06.94-2.06 2.06-.94-2.06-.94-.94-2.06-.94 2.06-2.06.94z\"/><path d=\"M17.41 7.96l-1.37-1.37c-.4-.4-.92-.59-1.43-.59-.52 0-1.04.2-1.43.59L10.3 9.45l-7.72 7.72c-.78.78-.78 2.05 0 2.83L4 21.41c.39.39.9.59 1.41.59.51 0 1.02-.2 1.41-.59l7.78-7.78 2.81-2.81c.8-.78.8-2.07 0-2.86zM5.41 20L4 18.59l7.72-7.72 1.47 1.35L5.41 20z\"/>\n",
              "  </svg>\n",
              "      </button>\n",
              "      \n",
              "  <style>\n",
              "    .colab-df-container {\n",
              "      display:flex;\n",
              "      flex-wrap:wrap;\n",
              "      gap: 12px;\n",
              "    }\n",
              "\n",
              "    .colab-df-convert {\n",
              "      background-color: #E8F0FE;\n",
              "      border: none;\n",
              "      border-radius: 50%;\n",
              "      cursor: pointer;\n",
              "      display: none;\n",
              "      fill: #1967D2;\n",
              "      height: 32px;\n",
              "      padding: 0 0 0 0;\n",
              "      width: 32px;\n",
              "    }\n",
              "\n",
              "    .colab-df-convert:hover {\n",
              "      background-color: #E2EBFA;\n",
              "      box-shadow: 0px 1px 2px rgba(60, 64, 67, 0.3), 0px 1px 3px 1px rgba(60, 64, 67, 0.15);\n",
              "      fill: #174EA6;\n",
              "    }\n",
              "\n",
              "    [theme=dark] .colab-df-convert {\n",
              "      background-color: #3B4455;\n",
              "      fill: #D2E3FC;\n",
              "    }\n",
              "\n",
              "    [theme=dark] .colab-df-convert:hover {\n",
              "      background-color: #434B5C;\n",
              "      box-shadow: 0px 1px 3px 1px rgba(0, 0, 0, 0.15);\n",
              "      filter: drop-shadow(0px 1px 2px rgba(0, 0, 0, 0.3));\n",
              "      fill: #FFFFFF;\n",
              "    }\n",
              "  </style>\n",
              "\n",
              "      <script>\n",
              "        const buttonEl =\n",
              "          document.querySelector('#df-85020d01-f07d-45d7-b5de-75a59d969d07 button.colab-df-convert');\n",
              "        buttonEl.style.display =\n",
              "          google.colab.kernel.accessAllowed ? 'block' : 'none';\n",
              "\n",
              "        async function convertToInteractive(key) {\n",
              "          const element = document.querySelector('#df-85020d01-f07d-45d7-b5de-75a59d969d07');\n",
              "          const dataTable =\n",
              "            await google.colab.kernel.invokeFunction('convertToInteractive',\n",
              "                                                     [key], {});\n",
              "          if (!dataTable) return;\n",
              "\n",
              "          const docLinkHtml = 'Like what you see? Visit the ' +\n",
              "            '<a target=\"_blank\" href=https://colab.research.google.com/notebooks/data_table.ipynb>data table notebook</a>'\n",
              "            + ' to learn more about interactive tables.';\n",
              "          element.innerHTML = '';\n",
              "          dataTable['output_type'] = 'display_data';\n",
              "          await google.colab.output.renderOutput(dataTable, element);\n",
              "          const docLink = document.createElement('div');\n",
              "          docLink.innerHTML = docLinkHtml;\n",
              "          element.appendChild(docLink);\n",
              "        }\n",
              "      </script>\n",
              "    </div>\n",
              "  </div>\n",
              "  "
            ],
            "text/plain": [
              "   id                 title      artist        top genre  ...  dur  acous  spch  pop\n",
              "0   1      Hey, Soul Sister       Train       neo mellow  ...  217     19     4   83\n",
              "1   2  Love The Way You Lie      Eminem  detroit hip hop  ...  263     24    23   82\n",
              "2   3               TiK ToK       Kesha        dance pop  ...  200     10    14   80\n",
              "3   4           Bad Romance   Lady Gaga        dance pop  ...  295      0     4   79\n",
              "4   5  Just the Way You Are  Bruno Mars              pop  ...  221      2     4   78\n",
              "\n",
              "[5 rows x 15 columns]"
            ]
          },
          "metadata": {},
          "execution_count": 40
        }
      ]
    },
    {
      "cell_type": "markdown",
      "source": [
        "**Checking for any null values in the dataset**"
      ],
      "metadata": {
        "id": "V6R7ZSQsF9zJ"
      }
    },
    {
      "cell_type": "code",
      "source": [
        "df.isnull().any()"
      ],
      "metadata": {
        "colab": {
          "base_uri": "https://localhost:8080/"
        },
        "id": "zIpCu1VxMHOR",
        "outputId": "978d9f54-f2ec-4bd4-d4aa-70cda2dfb3fd"
      },
      "execution_count": 41,
      "outputs": [
        {
          "output_type": "execute_result",
          "data": {
            "text/plain": [
              "id           False\n",
              "title        False\n",
              "artist       False\n",
              "top genre    False\n",
              "year         False\n",
              "bpm          False\n",
              "nrgy         False\n",
              "dnce         False\n",
              "dB           False\n",
              "live         False\n",
              "val          False\n",
              "dur          False\n",
              "acous        False\n",
              "spch         False\n",
              "pop          False\n",
              "dtype: bool"
            ]
          },
          "metadata": {},
          "execution_count": 41
        }
      ]
    },
    {
      "cell_type": "markdown",
      "source": [
        "**Dropping duplicate values in the dataset**"
      ],
      "metadata": {
        "id": "yCdWe4EbGE9E"
      }
    },
    {
      "cell_type": "code",
      "source": [
        "df = df.drop_duplicates()\n",
        "df.shape"
      ],
      "metadata": {
        "colab": {
          "base_uri": "https://localhost:8080/"
        },
        "id": "i4_Jn5luMKhx",
        "outputId": "5f0a6157-2b0a-4d0f-b44b-d700878f1264"
      },
      "execution_count": 42,
      "outputs": [
        {
          "output_type": "execute_result",
          "data": {
            "text/plain": [
              "(603, 15)"
            ]
          },
          "metadata": {},
          "execution_count": 42
        }
      ]
    },
    {
      "cell_type": "markdown",
      "source": [
        "**Dropping ID column in the dataset**"
      ],
      "metadata": {
        "id": "llZM7cYiGP1M"
      }
    },
    {
      "cell_type": "code",
      "source": [
        "df = df.drop(['id'], axis=1)\n",
        "df.head()"
      ],
      "metadata": {
        "colab": {
          "base_uri": "https://localhost:8080/",
          "height": 206
        },
        "id": "g9Bn2K84G-Gt",
        "outputId": "2e0b8b02-31cc-446a-852d-c1deff970779"
      },
      "execution_count": 43,
      "outputs": [
        {
          "output_type": "execute_result",
          "data": {
            "text/html": [
              "\n",
              "  <div id=\"df-ba39eaae-e377-4c0e-955d-9922db1ef6e3\">\n",
              "    <div class=\"colab-df-container\">\n",
              "      <div>\n",
              "<style scoped>\n",
              "    .dataframe tbody tr th:only-of-type {\n",
              "        vertical-align: middle;\n",
              "    }\n",
              "\n",
              "    .dataframe tbody tr th {\n",
              "        vertical-align: top;\n",
              "    }\n",
              "\n",
              "    .dataframe thead th {\n",
              "        text-align: right;\n",
              "    }\n",
              "</style>\n",
              "<table border=\"1\" class=\"dataframe\">\n",
              "  <thead>\n",
              "    <tr style=\"text-align: right;\">\n",
              "      <th></th>\n",
              "      <th>title</th>\n",
              "      <th>artist</th>\n",
              "      <th>top genre</th>\n",
              "      <th>year</th>\n",
              "      <th>bpm</th>\n",
              "      <th>nrgy</th>\n",
              "      <th>dnce</th>\n",
              "      <th>dB</th>\n",
              "      <th>live</th>\n",
              "      <th>val</th>\n",
              "      <th>dur</th>\n",
              "      <th>acous</th>\n",
              "      <th>spch</th>\n",
              "      <th>pop</th>\n",
              "    </tr>\n",
              "  </thead>\n",
              "  <tbody>\n",
              "    <tr>\n",
              "      <th>0</th>\n",
              "      <td>Hey, Soul Sister</td>\n",
              "      <td>Train</td>\n",
              "      <td>neo mellow</td>\n",
              "      <td>2010</td>\n",
              "      <td>97</td>\n",
              "      <td>89</td>\n",
              "      <td>67</td>\n",
              "      <td>-4</td>\n",
              "      <td>8</td>\n",
              "      <td>80</td>\n",
              "      <td>217</td>\n",
              "      <td>19</td>\n",
              "      <td>4</td>\n",
              "      <td>83</td>\n",
              "    </tr>\n",
              "    <tr>\n",
              "      <th>1</th>\n",
              "      <td>Love The Way You Lie</td>\n",
              "      <td>Eminem</td>\n",
              "      <td>detroit hip hop</td>\n",
              "      <td>2010</td>\n",
              "      <td>87</td>\n",
              "      <td>93</td>\n",
              "      <td>75</td>\n",
              "      <td>-5</td>\n",
              "      <td>52</td>\n",
              "      <td>64</td>\n",
              "      <td>263</td>\n",
              "      <td>24</td>\n",
              "      <td>23</td>\n",
              "      <td>82</td>\n",
              "    </tr>\n",
              "    <tr>\n",
              "      <th>2</th>\n",
              "      <td>TiK ToK</td>\n",
              "      <td>Kesha</td>\n",
              "      <td>dance pop</td>\n",
              "      <td>2010</td>\n",
              "      <td>120</td>\n",
              "      <td>84</td>\n",
              "      <td>76</td>\n",
              "      <td>-3</td>\n",
              "      <td>29</td>\n",
              "      <td>71</td>\n",
              "      <td>200</td>\n",
              "      <td>10</td>\n",
              "      <td>14</td>\n",
              "      <td>80</td>\n",
              "    </tr>\n",
              "    <tr>\n",
              "      <th>3</th>\n",
              "      <td>Bad Romance</td>\n",
              "      <td>Lady Gaga</td>\n",
              "      <td>dance pop</td>\n",
              "      <td>2010</td>\n",
              "      <td>119</td>\n",
              "      <td>92</td>\n",
              "      <td>70</td>\n",
              "      <td>-4</td>\n",
              "      <td>8</td>\n",
              "      <td>71</td>\n",
              "      <td>295</td>\n",
              "      <td>0</td>\n",
              "      <td>4</td>\n",
              "      <td>79</td>\n",
              "    </tr>\n",
              "    <tr>\n",
              "      <th>4</th>\n",
              "      <td>Just the Way You Are</td>\n",
              "      <td>Bruno Mars</td>\n",
              "      <td>pop</td>\n",
              "      <td>2010</td>\n",
              "      <td>109</td>\n",
              "      <td>84</td>\n",
              "      <td>64</td>\n",
              "      <td>-5</td>\n",
              "      <td>9</td>\n",
              "      <td>43</td>\n",
              "      <td>221</td>\n",
              "      <td>2</td>\n",
              "      <td>4</td>\n",
              "      <td>78</td>\n",
              "    </tr>\n",
              "  </tbody>\n",
              "</table>\n",
              "</div>\n",
              "      <button class=\"colab-df-convert\" onclick=\"convertToInteractive('df-ba39eaae-e377-4c0e-955d-9922db1ef6e3')\"\n",
              "              title=\"Convert this dataframe to an interactive table.\"\n",
              "              style=\"display:none;\">\n",
              "        \n",
              "  <svg xmlns=\"http://www.w3.org/2000/svg\" height=\"24px\"viewBox=\"0 0 24 24\"\n",
              "       width=\"24px\">\n",
              "    <path d=\"M0 0h24v24H0V0z\" fill=\"none\"/>\n",
              "    <path d=\"M18.56 5.44l.94 2.06.94-2.06 2.06-.94-2.06-.94-.94-2.06-.94 2.06-2.06.94zm-11 1L8.5 8.5l.94-2.06 2.06-.94-2.06-.94L8.5 2.5l-.94 2.06-2.06.94zm10 10l.94 2.06.94-2.06 2.06-.94-2.06-.94-.94-2.06-.94 2.06-2.06.94z\"/><path d=\"M17.41 7.96l-1.37-1.37c-.4-.4-.92-.59-1.43-.59-.52 0-1.04.2-1.43.59L10.3 9.45l-7.72 7.72c-.78.78-.78 2.05 0 2.83L4 21.41c.39.39.9.59 1.41.59.51 0 1.02-.2 1.41-.59l7.78-7.78 2.81-2.81c.8-.78.8-2.07 0-2.86zM5.41 20L4 18.59l7.72-7.72 1.47 1.35L5.41 20z\"/>\n",
              "  </svg>\n",
              "      </button>\n",
              "      \n",
              "  <style>\n",
              "    .colab-df-container {\n",
              "      display:flex;\n",
              "      flex-wrap:wrap;\n",
              "      gap: 12px;\n",
              "    }\n",
              "\n",
              "    .colab-df-convert {\n",
              "      background-color: #E8F0FE;\n",
              "      border: none;\n",
              "      border-radius: 50%;\n",
              "      cursor: pointer;\n",
              "      display: none;\n",
              "      fill: #1967D2;\n",
              "      height: 32px;\n",
              "      padding: 0 0 0 0;\n",
              "      width: 32px;\n",
              "    }\n",
              "\n",
              "    .colab-df-convert:hover {\n",
              "      background-color: #E2EBFA;\n",
              "      box-shadow: 0px 1px 2px rgba(60, 64, 67, 0.3), 0px 1px 3px 1px rgba(60, 64, 67, 0.15);\n",
              "      fill: #174EA6;\n",
              "    }\n",
              "\n",
              "    [theme=dark] .colab-df-convert {\n",
              "      background-color: #3B4455;\n",
              "      fill: #D2E3FC;\n",
              "    }\n",
              "\n",
              "    [theme=dark] .colab-df-convert:hover {\n",
              "      background-color: #434B5C;\n",
              "      box-shadow: 0px 1px 3px 1px rgba(0, 0, 0, 0.15);\n",
              "      filter: drop-shadow(0px 1px 2px rgba(0, 0, 0, 0.3));\n",
              "      fill: #FFFFFF;\n",
              "    }\n",
              "  </style>\n",
              "\n",
              "      <script>\n",
              "        const buttonEl =\n",
              "          document.querySelector('#df-ba39eaae-e377-4c0e-955d-9922db1ef6e3 button.colab-df-convert');\n",
              "        buttonEl.style.display =\n",
              "          google.colab.kernel.accessAllowed ? 'block' : 'none';\n",
              "\n",
              "        async function convertToInteractive(key) {\n",
              "          const element = document.querySelector('#df-ba39eaae-e377-4c0e-955d-9922db1ef6e3');\n",
              "          const dataTable =\n",
              "            await google.colab.kernel.invokeFunction('convertToInteractive',\n",
              "                                                     [key], {});\n",
              "          if (!dataTable) return;\n",
              "\n",
              "          const docLinkHtml = 'Like what you see? Visit the ' +\n",
              "            '<a target=\"_blank\" href=https://colab.research.google.com/notebooks/data_table.ipynb>data table notebook</a>'\n",
              "            + ' to learn more about interactive tables.';\n",
              "          element.innerHTML = '';\n",
              "          dataTable['output_type'] = 'display_data';\n",
              "          await google.colab.output.renderOutput(dataTable, element);\n",
              "          const docLink = document.createElement('div');\n",
              "          docLink.innerHTML = docLinkHtml;\n",
              "          element.appendChild(docLink);\n",
              "        }\n",
              "      </script>\n",
              "    </div>\n",
              "  </div>\n",
              "  "
            ],
            "text/plain": [
              "                  title      artist        top genre  ...  acous  spch  pop\n",
              "0      Hey, Soul Sister       Train       neo mellow  ...     19     4   83\n",
              "1  Love The Way You Lie      Eminem  detroit hip hop  ...     24    23   82\n",
              "2               TiK ToK       Kesha        dance pop  ...     10    14   80\n",
              "3           Bad Romance   Lady Gaga        dance pop  ...      0     4   79\n",
              "4  Just the Way You Are  Bruno Mars              pop  ...      2     4   78\n",
              "\n",
              "[5 rows x 14 columns]"
            ]
          },
          "metadata": {},
          "execution_count": 43
        }
      ]
    },
    {
      "cell_type": "code",
      "source": [
        "df['top genre'].value_counts().head()\n",
        "df['artist'].value_counts().head()\n",
        "df['title'].value_counts().head()\n",
        "df['year'].value_counts().head()"
      ],
      "metadata": {
        "colab": {
          "base_uri": "https://localhost:8080/"
        },
        "id": "4Ad3t3ibMTAK",
        "outputId": "152f7be2-d870-407b-8831-a3c411a5be49"
      },
      "execution_count": 44,
      "outputs": [
        {
          "output_type": "execute_result",
          "data": {
            "text/plain": [
              "dance pop        327\n",
              "pop               60\n",
              "canadian pop      34\n",
              "barbadian pop     15\n",
              "boy band          15\n",
              "Name: top genre, dtype: int64"
            ]
          },
          "metadata": {},
          "execution_count": 44
        },
        {
          "output_type": "execute_result",
          "data": {
            "text/plain": [
              "Katy Perry       17\n",
              "Justin Bieber    16\n",
              "Rihanna          15\n",
              "Maroon 5         15\n",
              "Lady Gaga        14\n",
              "Name: artist, dtype: int64"
            ]
          },
          "metadata": {},
          "execution_count": 44
        },
        {
          "output_type": "execute_result",
          "data": {
            "text/plain": [
              "A Little Party Never Killed Nobody (All We Got)    2\n",
              "All I Ask                                          2\n",
              "Kissing Strangers                                  2\n",
              "Written in the Stars (feat. Eric Turner)           2\n",
              "The Hills                                          2\n",
              "Name: title, dtype: int64"
            ]
          },
          "metadata": {},
          "execution_count": 44
        },
        {
          "output_type": "execute_result",
          "data": {
            "text/plain": [
              "2015    95\n",
              "2016    80\n",
              "2013    71\n",
              "2017    65\n",
              "2018    64\n",
              "Name: year, dtype: int64"
            ]
          },
          "metadata": {},
          "execution_count": 44
        }
      ]
    },
    {
      "cell_type": "code",
      "source": [
        "df[df.title == 'Company']"
      ],
      "metadata": {
        "colab": {
          "base_uri": "https://localhost:8080/",
          "height": 112
        },
        "id": "0x1fLdwaMUyJ",
        "outputId": "e40ba490-4d5b-4438-de5d-7118e7ac04ac"
      },
      "execution_count": 45,
      "outputs": [
        {
          "output_type": "execute_result",
          "data": {
            "text/html": [
              "\n",
              "  <div id=\"df-c9842ee7-8e2f-4187-adf7-18d9ffb985c2\">\n",
              "    <div class=\"colab-df-container\">\n",
              "      <div>\n",
              "<style scoped>\n",
              "    .dataframe tbody tr th:only-of-type {\n",
              "        vertical-align: middle;\n",
              "    }\n",
              "\n",
              "    .dataframe tbody tr th {\n",
              "        vertical-align: top;\n",
              "    }\n",
              "\n",
              "    .dataframe thead th {\n",
              "        text-align: right;\n",
              "    }\n",
              "</style>\n",
              "<table border=\"1\" class=\"dataframe\">\n",
              "  <thead>\n",
              "    <tr style=\"text-align: right;\">\n",
              "      <th></th>\n",
              "      <th>title</th>\n",
              "      <th>artist</th>\n",
              "      <th>top genre</th>\n",
              "      <th>year</th>\n",
              "      <th>bpm</th>\n",
              "      <th>nrgy</th>\n",
              "      <th>dnce</th>\n",
              "      <th>dB</th>\n",
              "      <th>live</th>\n",
              "      <th>val</th>\n",
              "      <th>dur</th>\n",
              "      <th>acous</th>\n",
              "      <th>spch</th>\n",
              "      <th>pop</th>\n",
              "    </tr>\n",
              "  </thead>\n",
              "  <tbody>\n",
              "    <tr>\n",
              "      <th>301</th>\n",
              "      <td>Company</td>\n",
              "      <td>Justin Bieber</td>\n",
              "      <td>canadian pop</td>\n",
              "      <td>2015</td>\n",
              "      <td>95</td>\n",
              "      <td>80</td>\n",
              "      <td>59</td>\n",
              "      <td>-5</td>\n",
              "      <td>8</td>\n",
              "      <td>43</td>\n",
              "      <td>208</td>\n",
              "      <td>13</td>\n",
              "      <td>6</td>\n",
              "      <td>72</td>\n",
              "    </tr>\n",
              "    <tr>\n",
              "      <th>396</th>\n",
              "      <td>Company</td>\n",
              "      <td>Justin Bieber</td>\n",
              "      <td>canadian pop</td>\n",
              "      <td>2016</td>\n",
              "      <td>95</td>\n",
              "      <td>80</td>\n",
              "      <td>59</td>\n",
              "      <td>-5</td>\n",
              "      <td>8</td>\n",
              "      <td>43</td>\n",
              "      <td>208</td>\n",
              "      <td>13</td>\n",
              "      <td>6</td>\n",
              "      <td>72</td>\n",
              "    </tr>\n",
              "  </tbody>\n",
              "</table>\n",
              "</div>\n",
              "      <button class=\"colab-df-convert\" onclick=\"convertToInteractive('df-c9842ee7-8e2f-4187-adf7-18d9ffb985c2')\"\n",
              "              title=\"Convert this dataframe to an interactive table.\"\n",
              "              style=\"display:none;\">\n",
              "        \n",
              "  <svg xmlns=\"http://www.w3.org/2000/svg\" height=\"24px\"viewBox=\"0 0 24 24\"\n",
              "       width=\"24px\">\n",
              "    <path d=\"M0 0h24v24H0V0z\" fill=\"none\"/>\n",
              "    <path d=\"M18.56 5.44l.94 2.06.94-2.06 2.06-.94-2.06-.94-.94-2.06-.94 2.06-2.06.94zm-11 1L8.5 8.5l.94-2.06 2.06-.94-2.06-.94L8.5 2.5l-.94 2.06-2.06.94zm10 10l.94 2.06.94-2.06 2.06-.94-2.06-.94-.94-2.06-.94 2.06-2.06.94z\"/><path d=\"M17.41 7.96l-1.37-1.37c-.4-.4-.92-.59-1.43-.59-.52 0-1.04.2-1.43.59L10.3 9.45l-7.72 7.72c-.78.78-.78 2.05 0 2.83L4 21.41c.39.39.9.59 1.41.59.51 0 1.02-.2 1.41-.59l7.78-7.78 2.81-2.81c.8-.78.8-2.07 0-2.86zM5.41 20L4 18.59l7.72-7.72 1.47 1.35L5.41 20z\"/>\n",
              "  </svg>\n",
              "      </button>\n",
              "      \n",
              "  <style>\n",
              "    .colab-df-container {\n",
              "      display:flex;\n",
              "      flex-wrap:wrap;\n",
              "      gap: 12px;\n",
              "    }\n",
              "\n",
              "    .colab-df-convert {\n",
              "      background-color: #E8F0FE;\n",
              "      border: none;\n",
              "      border-radius: 50%;\n",
              "      cursor: pointer;\n",
              "      display: none;\n",
              "      fill: #1967D2;\n",
              "      height: 32px;\n",
              "      padding: 0 0 0 0;\n",
              "      width: 32px;\n",
              "    }\n",
              "\n",
              "    .colab-df-convert:hover {\n",
              "      background-color: #E2EBFA;\n",
              "      box-shadow: 0px 1px 2px rgba(60, 64, 67, 0.3), 0px 1px 3px 1px rgba(60, 64, 67, 0.15);\n",
              "      fill: #174EA6;\n",
              "    }\n",
              "\n",
              "    [theme=dark] .colab-df-convert {\n",
              "      background-color: #3B4455;\n",
              "      fill: #D2E3FC;\n",
              "    }\n",
              "\n",
              "    [theme=dark] .colab-df-convert:hover {\n",
              "      background-color: #434B5C;\n",
              "      box-shadow: 0px 1px 3px 1px rgba(0, 0, 0, 0.15);\n",
              "      filter: drop-shadow(0px 1px 2px rgba(0, 0, 0, 0.3));\n",
              "      fill: #FFFFFF;\n",
              "    }\n",
              "  </style>\n",
              "\n",
              "      <script>\n",
              "        const buttonEl =\n",
              "          document.querySelector('#df-c9842ee7-8e2f-4187-adf7-18d9ffb985c2 button.colab-df-convert');\n",
              "        buttonEl.style.display =\n",
              "          google.colab.kernel.accessAllowed ? 'block' : 'none';\n",
              "\n",
              "        async function convertToInteractive(key) {\n",
              "          const element = document.querySelector('#df-c9842ee7-8e2f-4187-adf7-18d9ffb985c2');\n",
              "          const dataTable =\n",
              "            await google.colab.kernel.invokeFunction('convertToInteractive',\n",
              "                                                     [key], {});\n",
              "          if (!dataTable) return;\n",
              "\n",
              "          const docLinkHtml = 'Like what you see? Visit the ' +\n",
              "            '<a target=\"_blank\" href=https://colab.research.google.com/notebooks/data_table.ipynb>data table notebook</a>'\n",
              "            + ' to learn more about interactive tables.';\n",
              "          element.innerHTML = '';\n",
              "          dataTable['output_type'] = 'display_data';\n",
              "          await google.colab.output.renderOutput(dataTable, element);\n",
              "          const docLink = document.createElement('div');\n",
              "          docLink.innerHTML = docLinkHtml;\n",
              "          element.appendChild(docLink);\n",
              "        }\n",
              "      </script>\n",
              "    </div>\n",
              "  </div>\n",
              "  "
            ],
            "text/plain": [
              "       title         artist     top genre  year  ...  dur  acous  spch  pop\n",
              "301  Company  Justin Bieber  canadian pop  2015  ...  208     13     6   72\n",
              "396  Company  Justin Bieber  canadian pop  2016  ...  208     13     6   72\n",
              "\n",
              "[2 rows x 14 columns]"
            ]
          },
          "metadata": {},
          "execution_count": 45
        }
      ]
    },
    {
      "cell_type": "code",
      "source": [
        "yearless_df = df.drop(['year', 'title', 'pop'], axis=1)\n",
        "yearless_df.drop_duplicates()"
      ],
      "metadata": {
        "colab": {
          "base_uri": "https://localhost:8080/",
          "height": 424
        },
        "id": "mQusIXyFMXA7",
        "outputId": "93081ff1-7a3a-4593-d33c-94ad2e7315ca"
      },
      "execution_count": 46,
      "outputs": [
        {
          "output_type": "execute_result",
          "data": {
            "text/html": [
              "\n",
              "  <div id=\"df-e6a2df11-fe60-40e8-a15a-1ec66598c218\">\n",
              "    <div class=\"colab-df-container\">\n",
              "      <div>\n",
              "<style scoped>\n",
              "    .dataframe tbody tr th:only-of-type {\n",
              "        vertical-align: middle;\n",
              "    }\n",
              "\n",
              "    .dataframe tbody tr th {\n",
              "        vertical-align: top;\n",
              "    }\n",
              "\n",
              "    .dataframe thead th {\n",
              "        text-align: right;\n",
              "    }\n",
              "</style>\n",
              "<table border=\"1\" class=\"dataframe\">\n",
              "  <thead>\n",
              "    <tr style=\"text-align: right;\">\n",
              "      <th></th>\n",
              "      <th>artist</th>\n",
              "      <th>top genre</th>\n",
              "      <th>bpm</th>\n",
              "      <th>nrgy</th>\n",
              "      <th>dnce</th>\n",
              "      <th>dB</th>\n",
              "      <th>live</th>\n",
              "      <th>val</th>\n",
              "      <th>dur</th>\n",
              "      <th>acous</th>\n",
              "      <th>spch</th>\n",
              "    </tr>\n",
              "  </thead>\n",
              "  <tbody>\n",
              "    <tr>\n",
              "      <th>0</th>\n",
              "      <td>Train</td>\n",
              "      <td>neo mellow</td>\n",
              "      <td>97</td>\n",
              "      <td>89</td>\n",
              "      <td>67</td>\n",
              "      <td>-4</td>\n",
              "      <td>8</td>\n",
              "      <td>80</td>\n",
              "      <td>217</td>\n",
              "      <td>19</td>\n",
              "      <td>4</td>\n",
              "    </tr>\n",
              "    <tr>\n",
              "      <th>1</th>\n",
              "      <td>Eminem</td>\n",
              "      <td>detroit hip hop</td>\n",
              "      <td>87</td>\n",
              "      <td>93</td>\n",
              "      <td>75</td>\n",
              "      <td>-5</td>\n",
              "      <td>52</td>\n",
              "      <td>64</td>\n",
              "      <td>263</td>\n",
              "      <td>24</td>\n",
              "      <td>23</td>\n",
              "    </tr>\n",
              "    <tr>\n",
              "      <th>2</th>\n",
              "      <td>Kesha</td>\n",
              "      <td>dance pop</td>\n",
              "      <td>120</td>\n",
              "      <td>84</td>\n",
              "      <td>76</td>\n",
              "      <td>-3</td>\n",
              "      <td>29</td>\n",
              "      <td>71</td>\n",
              "      <td>200</td>\n",
              "      <td>10</td>\n",
              "      <td>14</td>\n",
              "    </tr>\n",
              "    <tr>\n",
              "      <th>3</th>\n",
              "      <td>Lady Gaga</td>\n",
              "      <td>dance pop</td>\n",
              "      <td>119</td>\n",
              "      <td>92</td>\n",
              "      <td>70</td>\n",
              "      <td>-4</td>\n",
              "      <td>8</td>\n",
              "      <td>71</td>\n",
              "      <td>295</td>\n",
              "      <td>0</td>\n",
              "      <td>4</td>\n",
              "    </tr>\n",
              "    <tr>\n",
              "      <th>4</th>\n",
              "      <td>Bruno Mars</td>\n",
              "      <td>pop</td>\n",
              "      <td>109</td>\n",
              "      <td>84</td>\n",
              "      <td>64</td>\n",
              "      <td>-5</td>\n",
              "      <td>9</td>\n",
              "      <td>43</td>\n",
              "      <td>221</td>\n",
              "      <td>2</td>\n",
              "      <td>4</td>\n",
              "    </tr>\n",
              "    <tr>\n",
              "      <th>...</th>\n",
              "      <td>...</td>\n",
              "      <td>...</td>\n",
              "      <td>...</td>\n",
              "      <td>...</td>\n",
              "      <td>...</td>\n",
              "      <td>...</td>\n",
              "      <td>...</td>\n",
              "      <td>...</td>\n",
              "      <td>...</td>\n",
              "      <td>...</td>\n",
              "      <td>...</td>\n",
              "    </tr>\n",
              "    <tr>\n",
              "      <th>598</th>\n",
              "      <td>Mark Ronson</td>\n",
              "      <td>dance pop</td>\n",
              "      <td>104</td>\n",
              "      <td>66</td>\n",
              "      <td>61</td>\n",
              "      <td>-7</td>\n",
              "      <td>20</td>\n",
              "      <td>16</td>\n",
              "      <td>176</td>\n",
              "      <td>1</td>\n",
              "      <td>3</td>\n",
              "    </tr>\n",
              "    <tr>\n",
              "      <th>599</th>\n",
              "      <td>Ed Sheeran</td>\n",
              "      <td>pop</td>\n",
              "      <td>95</td>\n",
              "      <td>79</td>\n",
              "      <td>75</td>\n",
              "      <td>-6</td>\n",
              "      <td>7</td>\n",
              "      <td>61</td>\n",
              "      <td>206</td>\n",
              "      <td>21</td>\n",
              "      <td>12</td>\n",
              "    </tr>\n",
              "    <tr>\n",
              "      <th>600</th>\n",
              "      <td>DJ Khaled</td>\n",
              "      <td>dance pop</td>\n",
              "      <td>136</td>\n",
              "      <td>76</td>\n",
              "      <td>53</td>\n",
              "      <td>-5</td>\n",
              "      <td>9</td>\n",
              "      <td>65</td>\n",
              "      <td>260</td>\n",
              "      <td>7</td>\n",
              "      <td>34</td>\n",
              "    </tr>\n",
              "    <tr>\n",
              "      <th>601</th>\n",
              "      <td>Mark Ronson</td>\n",
              "      <td>dance pop</td>\n",
              "      <td>114</td>\n",
              "      <td>79</td>\n",
              "      <td>60</td>\n",
              "      <td>-6</td>\n",
              "      <td>42</td>\n",
              "      <td>24</td>\n",
              "      <td>217</td>\n",
              "      <td>1</td>\n",
              "      <td>7</td>\n",
              "    </tr>\n",
              "    <tr>\n",
              "      <th>602</th>\n",
              "      <td>The Chainsmokers</td>\n",
              "      <td>electropop</td>\n",
              "      <td>150</td>\n",
              "      <td>44</td>\n",
              "      <td>70</td>\n",
              "      <td>-9</td>\n",
              "      <td>13</td>\n",
              "      <td>23</td>\n",
              "      <td>213</td>\n",
              "      <td>6</td>\n",
              "      <td>6</td>\n",
              "    </tr>\n",
              "  </tbody>\n",
              "</table>\n",
              "<p>587 rows × 11 columns</p>\n",
              "</div>\n",
              "      <button class=\"colab-df-convert\" onclick=\"convertToInteractive('df-e6a2df11-fe60-40e8-a15a-1ec66598c218')\"\n",
              "              title=\"Convert this dataframe to an interactive table.\"\n",
              "              style=\"display:none;\">\n",
              "        \n",
              "  <svg xmlns=\"http://www.w3.org/2000/svg\" height=\"24px\"viewBox=\"0 0 24 24\"\n",
              "       width=\"24px\">\n",
              "    <path d=\"M0 0h24v24H0V0z\" fill=\"none\"/>\n",
              "    <path d=\"M18.56 5.44l.94 2.06.94-2.06 2.06-.94-2.06-.94-.94-2.06-.94 2.06-2.06.94zm-11 1L8.5 8.5l.94-2.06 2.06-.94-2.06-.94L8.5 2.5l-.94 2.06-2.06.94zm10 10l.94 2.06.94-2.06 2.06-.94-2.06-.94-.94-2.06-.94 2.06-2.06.94z\"/><path d=\"M17.41 7.96l-1.37-1.37c-.4-.4-.92-.59-1.43-.59-.52 0-1.04.2-1.43.59L10.3 9.45l-7.72 7.72c-.78.78-.78 2.05 0 2.83L4 21.41c.39.39.9.59 1.41.59.51 0 1.02-.2 1.41-.59l7.78-7.78 2.81-2.81c.8-.78.8-2.07 0-2.86zM5.41 20L4 18.59l7.72-7.72 1.47 1.35L5.41 20z\"/>\n",
              "  </svg>\n",
              "      </button>\n",
              "      \n",
              "  <style>\n",
              "    .colab-df-container {\n",
              "      display:flex;\n",
              "      flex-wrap:wrap;\n",
              "      gap: 12px;\n",
              "    }\n",
              "\n",
              "    .colab-df-convert {\n",
              "      background-color: #E8F0FE;\n",
              "      border: none;\n",
              "      border-radius: 50%;\n",
              "      cursor: pointer;\n",
              "      display: none;\n",
              "      fill: #1967D2;\n",
              "      height: 32px;\n",
              "      padding: 0 0 0 0;\n",
              "      width: 32px;\n",
              "    }\n",
              "\n",
              "    .colab-df-convert:hover {\n",
              "      background-color: #E2EBFA;\n",
              "      box-shadow: 0px 1px 2px rgba(60, 64, 67, 0.3), 0px 1px 3px 1px rgba(60, 64, 67, 0.15);\n",
              "      fill: #174EA6;\n",
              "    }\n",
              "\n",
              "    [theme=dark] .colab-df-convert {\n",
              "      background-color: #3B4455;\n",
              "      fill: #D2E3FC;\n",
              "    }\n",
              "\n",
              "    [theme=dark] .colab-df-convert:hover {\n",
              "      background-color: #434B5C;\n",
              "      box-shadow: 0px 1px 3px 1px rgba(0, 0, 0, 0.15);\n",
              "      filter: drop-shadow(0px 1px 2px rgba(0, 0, 0, 0.3));\n",
              "      fill: #FFFFFF;\n",
              "    }\n",
              "  </style>\n",
              "\n",
              "      <script>\n",
              "        const buttonEl =\n",
              "          document.querySelector('#df-e6a2df11-fe60-40e8-a15a-1ec66598c218 button.colab-df-convert');\n",
              "        buttonEl.style.display =\n",
              "          google.colab.kernel.accessAllowed ? 'block' : 'none';\n",
              "\n",
              "        async function convertToInteractive(key) {\n",
              "          const element = document.querySelector('#df-e6a2df11-fe60-40e8-a15a-1ec66598c218');\n",
              "          const dataTable =\n",
              "            await google.colab.kernel.invokeFunction('convertToInteractive',\n",
              "                                                     [key], {});\n",
              "          if (!dataTable) return;\n",
              "\n",
              "          const docLinkHtml = 'Like what you see? Visit the ' +\n",
              "            '<a target=\"_blank\" href=https://colab.research.google.com/notebooks/data_table.ipynb>data table notebook</a>'\n",
              "            + ' to learn more about interactive tables.';\n",
              "          element.innerHTML = '';\n",
              "          dataTable['output_type'] = 'display_data';\n",
              "          await google.colab.output.renderOutput(dataTable, element);\n",
              "          const docLink = document.createElement('div');\n",
              "          docLink.innerHTML = docLinkHtml;\n",
              "          element.appendChild(docLink);\n",
              "        }\n",
              "      </script>\n",
              "    </div>\n",
              "  </div>\n",
              "  "
            ],
            "text/plain": [
              "               artist        top genre  bpm  nrgy  ...  val  dur  acous  spch\n",
              "0               Train       neo mellow   97    89  ...   80  217     19     4\n",
              "1              Eminem  detroit hip hop   87    93  ...   64  263     24    23\n",
              "2               Kesha        dance pop  120    84  ...   71  200     10    14\n",
              "3           Lady Gaga        dance pop  119    92  ...   71  295      0     4\n",
              "4          Bruno Mars              pop  109    84  ...   43  221      2     4\n",
              "..                ...              ...  ...   ...  ...  ...  ...    ...   ...\n",
              "598       Mark Ronson        dance pop  104    66  ...   16  176      1     3\n",
              "599        Ed Sheeran              pop   95    79  ...   61  206     21    12\n",
              "600         DJ Khaled        dance pop  136    76  ...   65  260      7    34\n",
              "601       Mark Ronson        dance pop  114    79  ...   24  217      1     7\n",
              "602  The Chainsmokers       electropop  150    44  ...   23  213      6     6\n",
              "\n",
              "[587 rows x 11 columns]"
            ]
          },
          "metadata": {},
          "execution_count": 46
        }
      ]
    },
    {
      "cell_type": "code",
      "source": [
        "df['top genre'].value_counts()"
      ],
      "metadata": {
        "colab": {
          "base_uri": "https://localhost:8080/"
        },
        "id": "r6Zev9pqMY84",
        "outputId": "77dc6d4a-6224-4187-e394-0ee736e2cb66"
      },
      "execution_count": 47,
      "outputs": [
        {
          "output_type": "execute_result",
          "data": {
            "text/plain": [
              "dance pop                    327\n",
              "pop                           60\n",
              "canadian pop                  34\n",
              "barbadian pop                 15\n",
              "boy band                      15\n",
              "electropop                    13\n",
              "british soul                  11\n",
              "big room                      10\n",
              "canadian contemporary r&b      9\n",
              "neo mellow                     9\n",
              "art pop                        8\n",
              "complextro                     6\n",
              "hip pop                        6\n",
              "australian dance               6\n",
              "atl hip hop                    5\n",
              "australian pop                 5\n",
              "edm                            5\n",
              "permanent wave                 4\n",
              "latin                          4\n",
              "hip hop                        4\n",
              "colombian pop                  3\n",
              "tropical house                 3\n",
              "brostep                        2\n",
              "downtempo                      2\n",
              "electronic trap                2\n",
              "belgian edm                    2\n",
              "escape room                    2\n",
              "folk-pop                       2\n",
              "electro                        2\n",
              "indie pop                      2\n",
              "detroit hip hop                2\n",
              "candy pop                      2\n",
              "acoustic pop                   2\n",
              "canadian hip hop               2\n",
              "baroque pop                    2\n",
              "celtic rock                    1\n",
              "moroccan pop                   1\n",
              "contemporary country           1\n",
              "chicago rap                    1\n",
              "electro house                  1\n",
              "australian hip hop             1\n",
              "canadian latin                 1\n",
              "house                          1\n",
              "danish pop                     1\n",
              "french indie pop               1\n",
              "alaska indie                   1\n",
              "irish singer-songwriter        1\n",
              "hollywood                      1\n",
              "metropopolis                   1\n",
              "alternative r&b                1\n",
              "Name: top genre, dtype: int64"
            ]
          },
          "metadata": {},
          "execution_count": 47
        }
      ]
    },
    {
      "cell_type": "code",
      "source": [
        "for i in yearless_df['top genre']:\n",
        "    if 'pop' in i:\n",
        "        yearless_df['top genre'] = yearless_df['top genre'].replace(i, 'pop')\n",
        "        \n",
        "    elif 'hip hop' in i:\n",
        "        yearless_df['top genre'] = yearless_df['top genre'].replace(i, 'hip hop')\n",
        "\n",
        "    elif 'edm' in i:\n",
        "        yearless_df['top genre'] = yearless_df['top genre'].replace(i, 'edm')\n",
        "\n",
        "    elif 'r&b' in i:\n",
        "        yearless_df['top genre'] = yearless_df['top genre'].replace(i, 'pop')\n",
        "\n",
        "    elif 'latin' in i:\n",
        "        yearless_df['top genre'] = yearless_df['top genre'].replace(i, 'latin')\n",
        "\n",
        "    elif 'room' in i:\n",
        "        yearless_df['top genre'] = yearless_df['top genre'].replace(i, 'room')\n",
        "\n",
        "    elif 'electro' in i:\n",
        "        yearless_df['top genre'] = yearless_df['top genre'].replace(i, 'edm')\n",
        "        \n",
        "yearless_df['top genre'] = yearless_df['top genre'].replace('chicago rap', 'hip hop')\n",
        "        \n",
        "yearless_df[\"top genre\"]"
      ],
      "metadata": {
        "colab": {
          "base_uri": "https://localhost:8080/"
        },
        "id": "WwfOly9oMayY",
        "outputId": "67f55f31-99ef-4a20-cafd-3d1bba28d7c6"
      },
      "execution_count": 48,
      "outputs": [
        {
          "output_type": "execute_result",
          "data": {
            "text/plain": [
              "0      neo mellow\n",
              "1         hip hop\n",
              "2             pop\n",
              "3             pop\n",
              "4             pop\n",
              "          ...    \n",
              "598           pop\n",
              "599           pop\n",
              "600           pop\n",
              "601           pop\n",
              "602           pop\n",
              "Name: top genre, Length: 603, dtype: object"
            ]
          },
          "metadata": {},
          "execution_count": 48
        }
      ]
    },
    {
      "cell_type": "code",
      "source": [
        "yearless_df['top genre'].value_counts()"
      ],
      "metadata": {
        "colab": {
          "base_uri": "https://localhost:8080/"
        },
        "id": "mvQiqG4JMjTY",
        "outputId": "0529c306-d366-4e3a-f412-64614d432583"
      },
      "execution_count": 49,
      "outputs": [
        {
          "output_type": "execute_result",
          "data": {
            "text/plain": [
              "pop                        495\n",
              "boy band                    15\n",
              "hip hop                     15\n",
              "room                        12\n",
              "edm                         12\n",
              "british soul                11\n",
              "neo mellow                   9\n",
              "complextro                   6\n",
              "australian dance             6\n",
              "latin                        5\n",
              "permanent wave               4\n",
              "tropical house               3\n",
              "brostep                      2\n",
              "downtempo                    2\n",
              "alaska indie                 1\n",
              "irish singer-songwriter      1\n",
              "hollywood                    1\n",
              "house                        1\n",
              "celtic rock                  1\n",
              "contemporary country         1\n",
              "Name: top genre, dtype: int64"
            ]
          },
          "metadata": {},
          "execution_count": 49
        }
      ]
    },
    {
      "cell_type": "code",
      "source": [
        "yearless_df"
      ],
      "metadata": {
        "colab": {
          "base_uri": "https://localhost:8080/",
          "height": 424
        },
        "id": "Yl4PqLFsMlpo",
        "outputId": "af7694fb-bc77-46e8-d654-3c936b45e128"
      },
      "execution_count": 50,
      "outputs": [
        {
          "output_type": "execute_result",
          "data": {
            "text/html": [
              "\n",
              "  <div id=\"df-54c9355f-4d6c-4be2-8222-18ded9c8fea5\">\n",
              "    <div class=\"colab-df-container\">\n",
              "      <div>\n",
              "<style scoped>\n",
              "    .dataframe tbody tr th:only-of-type {\n",
              "        vertical-align: middle;\n",
              "    }\n",
              "\n",
              "    .dataframe tbody tr th {\n",
              "        vertical-align: top;\n",
              "    }\n",
              "\n",
              "    .dataframe thead th {\n",
              "        text-align: right;\n",
              "    }\n",
              "</style>\n",
              "<table border=\"1\" class=\"dataframe\">\n",
              "  <thead>\n",
              "    <tr style=\"text-align: right;\">\n",
              "      <th></th>\n",
              "      <th>artist</th>\n",
              "      <th>top genre</th>\n",
              "      <th>bpm</th>\n",
              "      <th>nrgy</th>\n",
              "      <th>dnce</th>\n",
              "      <th>dB</th>\n",
              "      <th>live</th>\n",
              "      <th>val</th>\n",
              "      <th>dur</th>\n",
              "      <th>acous</th>\n",
              "      <th>spch</th>\n",
              "    </tr>\n",
              "  </thead>\n",
              "  <tbody>\n",
              "    <tr>\n",
              "      <th>0</th>\n",
              "      <td>Train</td>\n",
              "      <td>neo mellow</td>\n",
              "      <td>97</td>\n",
              "      <td>89</td>\n",
              "      <td>67</td>\n",
              "      <td>-4</td>\n",
              "      <td>8</td>\n",
              "      <td>80</td>\n",
              "      <td>217</td>\n",
              "      <td>19</td>\n",
              "      <td>4</td>\n",
              "    </tr>\n",
              "    <tr>\n",
              "      <th>1</th>\n",
              "      <td>Eminem</td>\n",
              "      <td>hip hop</td>\n",
              "      <td>87</td>\n",
              "      <td>93</td>\n",
              "      <td>75</td>\n",
              "      <td>-5</td>\n",
              "      <td>52</td>\n",
              "      <td>64</td>\n",
              "      <td>263</td>\n",
              "      <td>24</td>\n",
              "      <td>23</td>\n",
              "    </tr>\n",
              "    <tr>\n",
              "      <th>2</th>\n",
              "      <td>Kesha</td>\n",
              "      <td>pop</td>\n",
              "      <td>120</td>\n",
              "      <td>84</td>\n",
              "      <td>76</td>\n",
              "      <td>-3</td>\n",
              "      <td>29</td>\n",
              "      <td>71</td>\n",
              "      <td>200</td>\n",
              "      <td>10</td>\n",
              "      <td>14</td>\n",
              "    </tr>\n",
              "    <tr>\n",
              "      <th>3</th>\n",
              "      <td>Lady Gaga</td>\n",
              "      <td>pop</td>\n",
              "      <td>119</td>\n",
              "      <td>92</td>\n",
              "      <td>70</td>\n",
              "      <td>-4</td>\n",
              "      <td>8</td>\n",
              "      <td>71</td>\n",
              "      <td>295</td>\n",
              "      <td>0</td>\n",
              "      <td>4</td>\n",
              "    </tr>\n",
              "    <tr>\n",
              "      <th>4</th>\n",
              "      <td>Bruno Mars</td>\n",
              "      <td>pop</td>\n",
              "      <td>109</td>\n",
              "      <td>84</td>\n",
              "      <td>64</td>\n",
              "      <td>-5</td>\n",
              "      <td>9</td>\n",
              "      <td>43</td>\n",
              "      <td>221</td>\n",
              "      <td>2</td>\n",
              "      <td>4</td>\n",
              "    </tr>\n",
              "    <tr>\n",
              "      <th>...</th>\n",
              "      <td>...</td>\n",
              "      <td>...</td>\n",
              "      <td>...</td>\n",
              "      <td>...</td>\n",
              "      <td>...</td>\n",
              "      <td>...</td>\n",
              "      <td>...</td>\n",
              "      <td>...</td>\n",
              "      <td>...</td>\n",
              "      <td>...</td>\n",
              "      <td>...</td>\n",
              "    </tr>\n",
              "    <tr>\n",
              "      <th>598</th>\n",
              "      <td>Mark Ronson</td>\n",
              "      <td>pop</td>\n",
              "      <td>104</td>\n",
              "      <td>66</td>\n",
              "      <td>61</td>\n",
              "      <td>-7</td>\n",
              "      <td>20</td>\n",
              "      <td>16</td>\n",
              "      <td>176</td>\n",
              "      <td>1</td>\n",
              "      <td>3</td>\n",
              "    </tr>\n",
              "    <tr>\n",
              "      <th>599</th>\n",
              "      <td>Ed Sheeran</td>\n",
              "      <td>pop</td>\n",
              "      <td>95</td>\n",
              "      <td>79</td>\n",
              "      <td>75</td>\n",
              "      <td>-6</td>\n",
              "      <td>7</td>\n",
              "      <td>61</td>\n",
              "      <td>206</td>\n",
              "      <td>21</td>\n",
              "      <td>12</td>\n",
              "    </tr>\n",
              "    <tr>\n",
              "      <th>600</th>\n",
              "      <td>DJ Khaled</td>\n",
              "      <td>pop</td>\n",
              "      <td>136</td>\n",
              "      <td>76</td>\n",
              "      <td>53</td>\n",
              "      <td>-5</td>\n",
              "      <td>9</td>\n",
              "      <td>65</td>\n",
              "      <td>260</td>\n",
              "      <td>7</td>\n",
              "      <td>34</td>\n",
              "    </tr>\n",
              "    <tr>\n",
              "      <th>601</th>\n",
              "      <td>Mark Ronson</td>\n",
              "      <td>pop</td>\n",
              "      <td>114</td>\n",
              "      <td>79</td>\n",
              "      <td>60</td>\n",
              "      <td>-6</td>\n",
              "      <td>42</td>\n",
              "      <td>24</td>\n",
              "      <td>217</td>\n",
              "      <td>1</td>\n",
              "      <td>7</td>\n",
              "    </tr>\n",
              "    <tr>\n",
              "      <th>602</th>\n",
              "      <td>The Chainsmokers</td>\n",
              "      <td>pop</td>\n",
              "      <td>150</td>\n",
              "      <td>44</td>\n",
              "      <td>70</td>\n",
              "      <td>-9</td>\n",
              "      <td>13</td>\n",
              "      <td>23</td>\n",
              "      <td>213</td>\n",
              "      <td>6</td>\n",
              "      <td>6</td>\n",
              "    </tr>\n",
              "  </tbody>\n",
              "</table>\n",
              "<p>603 rows × 11 columns</p>\n",
              "</div>\n",
              "      <button class=\"colab-df-convert\" onclick=\"convertToInteractive('df-54c9355f-4d6c-4be2-8222-18ded9c8fea5')\"\n",
              "              title=\"Convert this dataframe to an interactive table.\"\n",
              "              style=\"display:none;\">\n",
              "        \n",
              "  <svg xmlns=\"http://www.w3.org/2000/svg\" height=\"24px\"viewBox=\"0 0 24 24\"\n",
              "       width=\"24px\">\n",
              "    <path d=\"M0 0h24v24H0V0z\" fill=\"none\"/>\n",
              "    <path d=\"M18.56 5.44l.94 2.06.94-2.06 2.06-.94-2.06-.94-.94-2.06-.94 2.06-2.06.94zm-11 1L8.5 8.5l.94-2.06 2.06-.94-2.06-.94L8.5 2.5l-.94 2.06-2.06.94zm10 10l.94 2.06.94-2.06 2.06-.94-2.06-.94-.94-2.06-.94 2.06-2.06.94z\"/><path d=\"M17.41 7.96l-1.37-1.37c-.4-.4-.92-.59-1.43-.59-.52 0-1.04.2-1.43.59L10.3 9.45l-7.72 7.72c-.78.78-.78 2.05 0 2.83L4 21.41c.39.39.9.59 1.41.59.51 0 1.02-.2 1.41-.59l7.78-7.78 2.81-2.81c.8-.78.8-2.07 0-2.86zM5.41 20L4 18.59l7.72-7.72 1.47 1.35L5.41 20z\"/>\n",
              "  </svg>\n",
              "      </button>\n",
              "      \n",
              "  <style>\n",
              "    .colab-df-container {\n",
              "      display:flex;\n",
              "      flex-wrap:wrap;\n",
              "      gap: 12px;\n",
              "    }\n",
              "\n",
              "    .colab-df-convert {\n",
              "      background-color: #E8F0FE;\n",
              "      border: none;\n",
              "      border-radius: 50%;\n",
              "      cursor: pointer;\n",
              "      display: none;\n",
              "      fill: #1967D2;\n",
              "      height: 32px;\n",
              "      padding: 0 0 0 0;\n",
              "      width: 32px;\n",
              "    }\n",
              "\n",
              "    .colab-df-convert:hover {\n",
              "      background-color: #E2EBFA;\n",
              "      box-shadow: 0px 1px 2px rgba(60, 64, 67, 0.3), 0px 1px 3px 1px rgba(60, 64, 67, 0.15);\n",
              "      fill: #174EA6;\n",
              "    }\n",
              "\n",
              "    [theme=dark] .colab-df-convert {\n",
              "      background-color: #3B4455;\n",
              "      fill: #D2E3FC;\n",
              "    }\n",
              "\n",
              "    [theme=dark] .colab-df-convert:hover {\n",
              "      background-color: #434B5C;\n",
              "      box-shadow: 0px 1px 3px 1px rgba(0, 0, 0, 0.15);\n",
              "      filter: drop-shadow(0px 1px 2px rgba(0, 0, 0, 0.3));\n",
              "      fill: #FFFFFF;\n",
              "    }\n",
              "  </style>\n",
              "\n",
              "      <script>\n",
              "        const buttonEl =\n",
              "          document.querySelector('#df-54c9355f-4d6c-4be2-8222-18ded9c8fea5 button.colab-df-convert');\n",
              "        buttonEl.style.display =\n",
              "          google.colab.kernel.accessAllowed ? 'block' : 'none';\n",
              "\n",
              "        async function convertToInteractive(key) {\n",
              "          const element = document.querySelector('#df-54c9355f-4d6c-4be2-8222-18ded9c8fea5');\n",
              "          const dataTable =\n",
              "            await google.colab.kernel.invokeFunction('convertToInteractive',\n",
              "                                                     [key], {});\n",
              "          if (!dataTable) return;\n",
              "\n",
              "          const docLinkHtml = 'Like what you see? Visit the ' +\n",
              "            '<a target=\"_blank\" href=https://colab.research.google.com/notebooks/data_table.ipynb>data table notebook</a>'\n",
              "            + ' to learn more about interactive tables.';\n",
              "          element.innerHTML = '';\n",
              "          dataTable['output_type'] = 'display_data';\n",
              "          await google.colab.output.renderOutput(dataTable, element);\n",
              "          const docLink = document.createElement('div');\n",
              "          docLink.innerHTML = docLinkHtml;\n",
              "          element.appendChild(docLink);\n",
              "        }\n",
              "      </script>\n",
              "    </div>\n",
              "  </div>\n",
              "  "
            ],
            "text/plain": [
              "               artist   top genre  bpm  nrgy  dnce  ...  live  val  dur  acous  spch\n",
              "0               Train  neo mellow   97    89    67  ...     8   80  217     19     4\n",
              "1              Eminem     hip hop   87    93    75  ...    52   64  263     24    23\n",
              "2               Kesha         pop  120    84    76  ...    29   71  200     10    14\n",
              "3           Lady Gaga         pop  119    92    70  ...     8   71  295      0     4\n",
              "4          Bruno Mars         pop  109    84    64  ...     9   43  221      2     4\n",
              "..                ...         ...  ...   ...   ...  ...   ...  ...  ...    ...   ...\n",
              "598       Mark Ronson         pop  104    66    61  ...    20   16  176      1     3\n",
              "599        Ed Sheeran         pop   95    79    75  ...     7   61  206     21    12\n",
              "600         DJ Khaled         pop  136    76    53  ...     9   65  260      7    34\n",
              "601       Mark Ronson         pop  114    79    60  ...    42   24  217      1     7\n",
              "602  The Chainsmokers         pop  150    44    70  ...    13   23  213      6     6\n",
              "\n",
              "[603 rows x 11 columns]"
            ]
          },
          "metadata": {},
          "execution_count": 50
        }
      ]
    },
    {
      "cell_type": "code",
      "source": [
        "temp_df = yearless_df\n",
        "value_counts = temp_df.stack().value_counts() # Entire DataFrame \n",
        "to_remove = value_counts[value_counts <= 3].index\n",
        "temp_df.replace(to_remove, 'other', inplace=True)\n",
        "temp_df['top genre'].value_counts()\n",
        "temp_df.head()\n",
        "temp_df.shape"
      ],
      "metadata": {
        "colab": {
          "base_uri": "https://localhost:8080/",
          "height": 449
        },
        "id": "B7Ms7UV-Mnlr",
        "outputId": "3452fa88-a166-4e3a-c057-2ba1f12f8bad"
      },
      "execution_count": 51,
      "outputs": [
        {
          "output_type": "execute_result",
          "data": {
            "text/plain": [
              "pop                 495\n",
              "hip hop              15\n",
              "boy band             15\n",
              "other                13\n",
              "room                 12\n",
              "edm                  12\n",
              "british soul         11\n",
              "neo mellow            9\n",
              "complextro            6\n",
              "australian dance      6\n",
              "latin                 5\n",
              "permanent wave        4\n",
              "Name: top genre, dtype: int64"
            ]
          },
          "metadata": {},
          "execution_count": 51
        },
        {
          "output_type": "execute_result",
          "data": {
            "text/html": [
              "\n",
              "  <div id=\"df-da115895-2d6a-435f-96a3-5c7e11af5bab\">\n",
              "    <div class=\"colab-df-container\">\n",
              "      <div>\n",
              "<style scoped>\n",
              "    .dataframe tbody tr th:only-of-type {\n",
              "        vertical-align: middle;\n",
              "    }\n",
              "\n",
              "    .dataframe tbody tr th {\n",
              "        vertical-align: top;\n",
              "    }\n",
              "\n",
              "    .dataframe thead th {\n",
              "        text-align: right;\n",
              "    }\n",
              "</style>\n",
              "<table border=\"1\" class=\"dataframe\">\n",
              "  <thead>\n",
              "    <tr style=\"text-align: right;\">\n",
              "      <th></th>\n",
              "      <th>artist</th>\n",
              "      <th>top genre</th>\n",
              "      <th>bpm</th>\n",
              "      <th>nrgy</th>\n",
              "      <th>dnce</th>\n",
              "      <th>dB</th>\n",
              "      <th>live</th>\n",
              "      <th>val</th>\n",
              "      <th>dur</th>\n",
              "      <th>acous</th>\n",
              "      <th>spch</th>\n",
              "    </tr>\n",
              "  </thead>\n",
              "  <tbody>\n",
              "    <tr>\n",
              "      <th>0</th>\n",
              "      <td>other</td>\n",
              "      <td>neo mellow</td>\n",
              "      <td>97</td>\n",
              "      <td>89</td>\n",
              "      <td>67</td>\n",
              "      <td>-4</td>\n",
              "      <td>8</td>\n",
              "      <td>80</td>\n",
              "      <td>217</td>\n",
              "      <td>19</td>\n",
              "      <td>4</td>\n",
              "    </tr>\n",
              "    <tr>\n",
              "      <th>1</th>\n",
              "      <td>other</td>\n",
              "      <td>hip hop</td>\n",
              "      <td>87</td>\n",
              "      <td>93</td>\n",
              "      <td>75</td>\n",
              "      <td>-5</td>\n",
              "      <td>52</td>\n",
              "      <td>64</td>\n",
              "      <td>263</td>\n",
              "      <td>24</td>\n",
              "      <td>23</td>\n",
              "    </tr>\n",
              "    <tr>\n",
              "      <th>2</th>\n",
              "      <td>Kesha</td>\n",
              "      <td>pop</td>\n",
              "      <td>120</td>\n",
              "      <td>84</td>\n",
              "      <td>76</td>\n",
              "      <td>-3</td>\n",
              "      <td>29</td>\n",
              "      <td>71</td>\n",
              "      <td>200</td>\n",
              "      <td>10</td>\n",
              "      <td>14</td>\n",
              "    </tr>\n",
              "    <tr>\n",
              "      <th>3</th>\n",
              "      <td>Lady Gaga</td>\n",
              "      <td>pop</td>\n",
              "      <td>other</td>\n",
              "      <td>92</td>\n",
              "      <td>70</td>\n",
              "      <td>-4</td>\n",
              "      <td>8</td>\n",
              "      <td>71</td>\n",
              "      <td>other</td>\n",
              "      <td>0</td>\n",
              "      <td>4</td>\n",
              "    </tr>\n",
              "    <tr>\n",
              "      <th>4</th>\n",
              "      <td>Bruno Mars</td>\n",
              "      <td>pop</td>\n",
              "      <td>other</td>\n",
              "      <td>84</td>\n",
              "      <td>64</td>\n",
              "      <td>-5</td>\n",
              "      <td>9</td>\n",
              "      <td>43</td>\n",
              "      <td>221</td>\n",
              "      <td>2</td>\n",
              "      <td>4</td>\n",
              "    </tr>\n",
              "  </tbody>\n",
              "</table>\n",
              "</div>\n",
              "      <button class=\"colab-df-convert\" onclick=\"convertToInteractive('df-da115895-2d6a-435f-96a3-5c7e11af5bab')\"\n",
              "              title=\"Convert this dataframe to an interactive table.\"\n",
              "              style=\"display:none;\">\n",
              "        \n",
              "  <svg xmlns=\"http://www.w3.org/2000/svg\" height=\"24px\"viewBox=\"0 0 24 24\"\n",
              "       width=\"24px\">\n",
              "    <path d=\"M0 0h24v24H0V0z\" fill=\"none\"/>\n",
              "    <path d=\"M18.56 5.44l.94 2.06.94-2.06 2.06-.94-2.06-.94-.94-2.06-.94 2.06-2.06.94zm-11 1L8.5 8.5l.94-2.06 2.06-.94-2.06-.94L8.5 2.5l-.94 2.06-2.06.94zm10 10l.94 2.06.94-2.06 2.06-.94-2.06-.94-.94-2.06-.94 2.06-2.06.94z\"/><path d=\"M17.41 7.96l-1.37-1.37c-.4-.4-.92-.59-1.43-.59-.52 0-1.04.2-1.43.59L10.3 9.45l-7.72 7.72c-.78.78-.78 2.05 0 2.83L4 21.41c.39.39.9.59 1.41.59.51 0 1.02-.2 1.41-.59l7.78-7.78 2.81-2.81c.8-.78.8-2.07 0-2.86zM5.41 20L4 18.59l7.72-7.72 1.47 1.35L5.41 20z\"/>\n",
              "  </svg>\n",
              "      </button>\n",
              "      \n",
              "  <style>\n",
              "    .colab-df-container {\n",
              "      display:flex;\n",
              "      flex-wrap:wrap;\n",
              "      gap: 12px;\n",
              "    }\n",
              "\n",
              "    .colab-df-convert {\n",
              "      background-color: #E8F0FE;\n",
              "      border: none;\n",
              "      border-radius: 50%;\n",
              "      cursor: pointer;\n",
              "      display: none;\n",
              "      fill: #1967D2;\n",
              "      height: 32px;\n",
              "      padding: 0 0 0 0;\n",
              "      width: 32px;\n",
              "    }\n",
              "\n",
              "    .colab-df-convert:hover {\n",
              "      background-color: #E2EBFA;\n",
              "      box-shadow: 0px 1px 2px rgba(60, 64, 67, 0.3), 0px 1px 3px 1px rgba(60, 64, 67, 0.15);\n",
              "      fill: #174EA6;\n",
              "    }\n",
              "\n",
              "    [theme=dark] .colab-df-convert {\n",
              "      background-color: #3B4455;\n",
              "      fill: #D2E3FC;\n",
              "    }\n",
              "\n",
              "    [theme=dark] .colab-df-convert:hover {\n",
              "      background-color: #434B5C;\n",
              "      box-shadow: 0px 1px 3px 1px rgba(0, 0, 0, 0.15);\n",
              "      filter: drop-shadow(0px 1px 2px rgba(0, 0, 0, 0.3));\n",
              "      fill: #FFFFFF;\n",
              "    }\n",
              "  </style>\n",
              "\n",
              "      <script>\n",
              "        const buttonEl =\n",
              "          document.querySelector('#df-da115895-2d6a-435f-96a3-5c7e11af5bab button.colab-df-convert');\n",
              "        buttonEl.style.display =\n",
              "          google.colab.kernel.accessAllowed ? 'block' : 'none';\n",
              "\n",
              "        async function convertToInteractive(key) {\n",
              "          const element = document.querySelector('#df-da115895-2d6a-435f-96a3-5c7e11af5bab');\n",
              "          const dataTable =\n",
              "            await google.colab.kernel.invokeFunction('convertToInteractive',\n",
              "                                                     [key], {});\n",
              "          if (!dataTable) return;\n",
              "\n",
              "          const docLinkHtml = 'Like what you see? Visit the ' +\n",
              "            '<a target=\"_blank\" href=https://colab.research.google.com/notebooks/data_table.ipynb>data table notebook</a>'\n",
              "            + ' to learn more about interactive tables.';\n",
              "          element.innerHTML = '';\n",
              "          dataTable['output_type'] = 'display_data';\n",
              "          await google.colab.output.renderOutput(dataTable, element);\n",
              "          const docLink = document.createElement('div');\n",
              "          docLink.innerHTML = docLinkHtml;\n",
              "          element.appendChild(docLink);\n",
              "        }\n",
              "      </script>\n",
              "    </div>\n",
              "  </div>\n",
              "  "
            ],
            "text/plain": [
              "       artist   top genre    bpm  nrgy  dnce  dB  live  val    dur  acous  spch\n",
              "0       other  neo mellow     97    89    67  -4     8   80    217     19     4\n",
              "1       other     hip hop     87    93    75  -5    52   64    263     24    23\n",
              "2       Kesha         pop    120    84    76  -3    29   71    200     10    14\n",
              "3   Lady Gaga         pop  other    92    70  -4     8   71  other      0     4\n",
              "4  Bruno Mars         pop  other    84    64  -5     9   43    221      2     4"
            ]
          },
          "metadata": {},
          "execution_count": 51
        },
        {
          "output_type": "execute_result",
          "data": {
            "text/plain": [
              "(603, 11)"
            ]
          },
          "metadata": {},
          "execution_count": 51
        }
      ]
    },
    {
      "cell_type": "code",
      "source": [
        "yearless_df['top genre'] = temp_df['top genre']\n",
        "yearless_df[['bpm', 'nrgy', 'dnce', 'dB', 'live', 'val', 'dur', 'acous', 'spch', 'artist']] = df[['bpm', 'nrgy', 'dnce', 'dB', 'live', 'val', 'dur', 'acous', 'spch', 'artist']]\n",
        "yearless_df['top genre'].value_counts()\n",
        "yearless_df.head()"
      ],
      "metadata": {
        "colab": {
          "base_uri": "https://localhost:8080/",
          "height": 432
        },
        "id": "OGql8WdVMqPT",
        "outputId": "c7be79ff-b026-4786-d32e-25039a161501"
      },
      "execution_count": 52,
      "outputs": [
        {
          "output_type": "execute_result",
          "data": {
            "text/plain": [
              "pop                 495\n",
              "hip hop              15\n",
              "boy band             15\n",
              "other                13\n",
              "room                 12\n",
              "edm                  12\n",
              "british soul         11\n",
              "neo mellow            9\n",
              "complextro            6\n",
              "australian dance      6\n",
              "latin                 5\n",
              "permanent wave        4\n",
              "Name: top genre, dtype: int64"
            ]
          },
          "metadata": {},
          "execution_count": 52
        },
        {
          "output_type": "execute_result",
          "data": {
            "text/html": [
              "\n",
              "  <div id=\"df-35fd0555-598f-47a9-ac2d-2ad7faee0b0f\">\n",
              "    <div class=\"colab-df-container\">\n",
              "      <div>\n",
              "<style scoped>\n",
              "    .dataframe tbody tr th:only-of-type {\n",
              "        vertical-align: middle;\n",
              "    }\n",
              "\n",
              "    .dataframe tbody tr th {\n",
              "        vertical-align: top;\n",
              "    }\n",
              "\n",
              "    .dataframe thead th {\n",
              "        text-align: right;\n",
              "    }\n",
              "</style>\n",
              "<table border=\"1\" class=\"dataframe\">\n",
              "  <thead>\n",
              "    <tr style=\"text-align: right;\">\n",
              "      <th></th>\n",
              "      <th>artist</th>\n",
              "      <th>top genre</th>\n",
              "      <th>bpm</th>\n",
              "      <th>nrgy</th>\n",
              "      <th>dnce</th>\n",
              "      <th>dB</th>\n",
              "      <th>live</th>\n",
              "      <th>val</th>\n",
              "      <th>dur</th>\n",
              "      <th>acous</th>\n",
              "      <th>spch</th>\n",
              "    </tr>\n",
              "  </thead>\n",
              "  <tbody>\n",
              "    <tr>\n",
              "      <th>0</th>\n",
              "      <td>Train</td>\n",
              "      <td>neo mellow</td>\n",
              "      <td>97</td>\n",
              "      <td>89</td>\n",
              "      <td>67</td>\n",
              "      <td>-4</td>\n",
              "      <td>8</td>\n",
              "      <td>80</td>\n",
              "      <td>217</td>\n",
              "      <td>19</td>\n",
              "      <td>4</td>\n",
              "    </tr>\n",
              "    <tr>\n",
              "      <th>1</th>\n",
              "      <td>Eminem</td>\n",
              "      <td>hip hop</td>\n",
              "      <td>87</td>\n",
              "      <td>93</td>\n",
              "      <td>75</td>\n",
              "      <td>-5</td>\n",
              "      <td>52</td>\n",
              "      <td>64</td>\n",
              "      <td>263</td>\n",
              "      <td>24</td>\n",
              "      <td>23</td>\n",
              "    </tr>\n",
              "    <tr>\n",
              "      <th>2</th>\n",
              "      <td>Kesha</td>\n",
              "      <td>pop</td>\n",
              "      <td>120</td>\n",
              "      <td>84</td>\n",
              "      <td>76</td>\n",
              "      <td>-3</td>\n",
              "      <td>29</td>\n",
              "      <td>71</td>\n",
              "      <td>200</td>\n",
              "      <td>10</td>\n",
              "      <td>14</td>\n",
              "    </tr>\n",
              "    <tr>\n",
              "      <th>3</th>\n",
              "      <td>Lady Gaga</td>\n",
              "      <td>pop</td>\n",
              "      <td>119</td>\n",
              "      <td>92</td>\n",
              "      <td>70</td>\n",
              "      <td>-4</td>\n",
              "      <td>8</td>\n",
              "      <td>71</td>\n",
              "      <td>295</td>\n",
              "      <td>0</td>\n",
              "      <td>4</td>\n",
              "    </tr>\n",
              "    <tr>\n",
              "      <th>4</th>\n",
              "      <td>Bruno Mars</td>\n",
              "      <td>pop</td>\n",
              "      <td>109</td>\n",
              "      <td>84</td>\n",
              "      <td>64</td>\n",
              "      <td>-5</td>\n",
              "      <td>9</td>\n",
              "      <td>43</td>\n",
              "      <td>221</td>\n",
              "      <td>2</td>\n",
              "      <td>4</td>\n",
              "    </tr>\n",
              "  </tbody>\n",
              "</table>\n",
              "</div>\n",
              "      <button class=\"colab-df-convert\" onclick=\"convertToInteractive('df-35fd0555-598f-47a9-ac2d-2ad7faee0b0f')\"\n",
              "              title=\"Convert this dataframe to an interactive table.\"\n",
              "              style=\"display:none;\">\n",
              "        \n",
              "  <svg xmlns=\"http://www.w3.org/2000/svg\" height=\"24px\"viewBox=\"0 0 24 24\"\n",
              "       width=\"24px\">\n",
              "    <path d=\"M0 0h24v24H0V0z\" fill=\"none\"/>\n",
              "    <path d=\"M18.56 5.44l.94 2.06.94-2.06 2.06-.94-2.06-.94-.94-2.06-.94 2.06-2.06.94zm-11 1L8.5 8.5l.94-2.06 2.06-.94-2.06-.94L8.5 2.5l-.94 2.06-2.06.94zm10 10l.94 2.06.94-2.06 2.06-.94-2.06-.94-.94-2.06-.94 2.06-2.06.94z\"/><path d=\"M17.41 7.96l-1.37-1.37c-.4-.4-.92-.59-1.43-.59-.52 0-1.04.2-1.43.59L10.3 9.45l-7.72 7.72c-.78.78-.78 2.05 0 2.83L4 21.41c.39.39.9.59 1.41.59.51 0 1.02-.2 1.41-.59l7.78-7.78 2.81-2.81c.8-.78.8-2.07 0-2.86zM5.41 20L4 18.59l7.72-7.72 1.47 1.35L5.41 20z\"/>\n",
              "  </svg>\n",
              "      </button>\n",
              "      \n",
              "  <style>\n",
              "    .colab-df-container {\n",
              "      display:flex;\n",
              "      flex-wrap:wrap;\n",
              "      gap: 12px;\n",
              "    }\n",
              "\n",
              "    .colab-df-convert {\n",
              "      background-color: #E8F0FE;\n",
              "      border: none;\n",
              "      border-radius: 50%;\n",
              "      cursor: pointer;\n",
              "      display: none;\n",
              "      fill: #1967D2;\n",
              "      height: 32px;\n",
              "      padding: 0 0 0 0;\n",
              "      width: 32px;\n",
              "    }\n",
              "\n",
              "    .colab-df-convert:hover {\n",
              "      background-color: #E2EBFA;\n",
              "      box-shadow: 0px 1px 2px rgba(60, 64, 67, 0.3), 0px 1px 3px 1px rgba(60, 64, 67, 0.15);\n",
              "      fill: #174EA6;\n",
              "    }\n",
              "\n",
              "    [theme=dark] .colab-df-convert {\n",
              "      background-color: #3B4455;\n",
              "      fill: #D2E3FC;\n",
              "    }\n",
              "\n",
              "    [theme=dark] .colab-df-convert:hover {\n",
              "      background-color: #434B5C;\n",
              "      box-shadow: 0px 1px 3px 1px rgba(0, 0, 0, 0.15);\n",
              "      filter: drop-shadow(0px 1px 2px rgba(0, 0, 0, 0.3));\n",
              "      fill: #FFFFFF;\n",
              "    }\n",
              "  </style>\n",
              "\n",
              "      <script>\n",
              "        const buttonEl =\n",
              "          document.querySelector('#df-35fd0555-598f-47a9-ac2d-2ad7faee0b0f button.colab-df-convert');\n",
              "        buttonEl.style.display =\n",
              "          google.colab.kernel.accessAllowed ? 'block' : 'none';\n",
              "\n",
              "        async function convertToInteractive(key) {\n",
              "          const element = document.querySelector('#df-35fd0555-598f-47a9-ac2d-2ad7faee0b0f');\n",
              "          const dataTable =\n",
              "            await google.colab.kernel.invokeFunction('convertToInteractive',\n",
              "                                                     [key], {});\n",
              "          if (!dataTable) return;\n",
              "\n",
              "          const docLinkHtml = 'Like what you see? Visit the ' +\n",
              "            '<a target=\"_blank\" href=https://colab.research.google.com/notebooks/data_table.ipynb>data table notebook</a>'\n",
              "            + ' to learn more about interactive tables.';\n",
              "          element.innerHTML = '';\n",
              "          dataTable['output_type'] = 'display_data';\n",
              "          await google.colab.output.renderOutput(dataTable, element);\n",
              "          const docLink = document.createElement('div');\n",
              "          docLink.innerHTML = docLinkHtml;\n",
              "          element.appendChild(docLink);\n",
              "        }\n",
              "      </script>\n",
              "    </div>\n",
              "  </div>\n",
              "  "
            ],
            "text/plain": [
              "       artist   top genre  bpm  nrgy  dnce  dB  live  val  dur  acous  spch\n",
              "0       Train  neo mellow   97    89    67  -4     8   80  217     19     4\n",
              "1      Eminem     hip hop   87    93    75  -5    52   64  263     24    23\n",
              "2       Kesha         pop  120    84    76  -3    29   71  200     10    14\n",
              "3   Lady Gaga         pop  119    92    70  -4     8   71  295      0     4\n",
              "4  Bruno Mars         pop  109    84    64  -5     9   43  221      2     4"
            ]
          },
          "metadata": {},
          "execution_count": 52
        }
      ]
    },
    {
      "cell_type": "code",
      "source": [
        "new_df = yearless_df\n",
        "new_df.artist.unique()"
      ],
      "metadata": {
        "colab": {
          "base_uri": "https://localhost:8080/"
        },
        "id": "eoFoV5rNMtLa",
        "outputId": "8fcdf613-d1ec-4242-f085-b53c966106b4"
      },
      "execution_count": 53,
      "outputs": [
        {
          "output_type": "execute_result",
          "data": {
            "text/plain": [
              "array(['Train', 'Eminem', 'Kesha', 'Lady Gaga', 'Bruno Mars',\n",
              "       'Justin Bieber', 'Taio Cruz', 'OneRepublic', 'Alicia Keys',\n",
              "       'Rihanna', 'Flo Rida', 'Mike Posner', 'Far East Movement', 'Usher',\n",
              "       'Sean Kingston', 'The Black Eyed Peas', 'Adam Lambert', 'Maroon 5',\n",
              "       'Neon Trees', 'Selena Gomez & The Scene', 'Enrique Iglesias',\n",
              "       'Katy Perry', 'Britney Spears', '3OH!3', 'David Guetta',\n",
              "       'Christina Aguilera', 'Florence + The Machine', 'Shakira',\n",
              "       'Tinie Tempah', 'T.I.', 'Martin Solveig', 'Christina Perri',\n",
              "       'Adele', 'Pitbull', 'Beyoncé', 'Hot Chelle Rae', 'Avril Lavigne',\n",
              "       'Kanye West', 'LMFAO', 'Jessie J', 'Jennifer Lopez', 'Chris Brown',\n",
              "       'Sleeping At Last', 'Nicki Minaj', 'P!nk', 'Coldplay',\n",
              "       'One Direction', 'Taylor Swift', 'Carly Rae Jepsen',\n",
              "       'Kelly Clarkson', 'Owl City', 'The Wanted', 'fun.',\n",
              "       'Ellie Goulding', 'Gym Class Heroes', 'Avicii', 'The Script',\n",
              "       'Miley Cyrus', 'Swedish House Mafia', 'Daft Punk', 'James Arthur',\n",
              "       'Robin Thicke', 'Demi Lovato', 'Zedd', 'Lana Del Rey',\n",
              "       'Calvin Harris', 'Drake', 'Sara Bareilles',\n",
              "       'Macklemore & Ryan Lewis', 'Labrinth', 'Ne-Yo', 'Ariana Grande',\n",
              "       'Justin Timberlake', 'will.i.am', 'Icona Pop', 'Fergie',\n",
              "       'Little Mix', 'Emeli Sandé', 'Selena Gomez', 'Austin Mahone',\n",
              "       'Jonas Brothers', 'Mariah Carey', 'Ciara', 'Jewel',\n",
              "       'Kelly Rowland', 'John Legend', 'Sam Smith', 'Pharrell Williams',\n",
              "       'MAGIC!', 'Passenger', 'Bastille', 'Lorde', 'John Newman',\n",
              "       'Disclosure', 'Michael Jackson', '5 Seconds of Summer',\n",
              "       'Iggy Azalea', 'Jason Derulo', 'The Chainsmokers', 'Birdy',\n",
              "       'A Great Big World', 'Sia', 'Charli XCX', 'Lily Allen',\n",
              "       'Lea Michele', 'Ed Sheeran', 'The Weeknd', 'Mark Ronson', 'Hozier',\n",
              "       'Shawn Mendes', 'Mr. Probz', 'Zara Larsson', 'Fifth Harmony',\n",
              "       'Clean Bandit', 'Meghan Trainor', 'Nick Jonas', 'Paloma Faith',\n",
              "       'Olly Murs', 'Naughty Boy', 'Alessia Cara', 'Sigala', 'Rudimental',\n",
              "       'Lost Frequencies', 'Robin Schulz', 'Lilly Wood and The Prick',\n",
              "       'Wiz Khalifa', 'Alesso', 'Madonna', 'Gwen Stefani', 'Jess Glynne',\n",
              "       'Hilary Duff', 'Ricky Martin', 'Jennifer Hudson', 'DNCE',\n",
              "       'Martin Garrix', 'Lukas Graham', 'G-Eazy', 'Hailee Steinfeld',\n",
              "       'BØRNS', 'Major Lazer', 'MØ', 'Tove Lo', 'ZAYN', 'Bebe Rexha',\n",
              "       'Snakehips', 'Missy Elliott', 'Years & Years', 'Charlie Puth',\n",
              "       'Janet Jackson', 'Joey Montana', 'Nelly Furtado', 'DJ Snake',\n",
              "       'Kygo', 'DJ Khaled', 'Luis Fonsi', 'Camila Cabello', 'Jonas Blue',\n",
              "       'CNCO', 'Cardi B', 'Alan Walker', 'Liam Payne', 'Niall Horan',\n",
              "       'Cashmere Cat', 'Galantis', 'Dua Lipa', 'Silk City', 'Marshmello',\n",
              "       'Halsey', 'Troye Sivan', 'Dan + Shay', 'Rita Ora', 'Harry Styles',\n",
              "       'Ansel Elgort', 'J Balvin', 'N.E.R.D', 'Hayley Kiyoko', 'RedOne',\n",
              "       'Lewis Capaldi', 'SHAED', 'Lizzo', 'Mabel', 'Khalid', 'R3HAB',\n",
              "       'Daddy Yankee'], dtype=object)"
            ]
          },
          "metadata": {},
          "execution_count": 53
        }
      ]
    },
    {
      "cell_type": "code",
      "source": [
        "new_df.isnull().any()\n",
        "new_df = new_df.drop_duplicates()\n",
        "new_df = new_df.reset_index(drop=True)\n",
        "new_df.head()"
      ],
      "metadata": {
        "colab": {
          "base_uri": "https://localhost:8080/",
          "height": 414
        },
        "id": "zOMrETmAMwxR",
        "outputId": "d983d69b-1e03-4bde-bf18-cea9e78094d6"
      },
      "execution_count": 54,
      "outputs": [
        {
          "output_type": "execute_result",
          "data": {
            "text/plain": [
              "artist       False\n",
              "top genre    False\n",
              "bpm          False\n",
              "nrgy         False\n",
              "dnce         False\n",
              "dB           False\n",
              "live         False\n",
              "val          False\n",
              "dur          False\n",
              "acous        False\n",
              "spch         False\n",
              "dtype: bool"
            ]
          },
          "metadata": {},
          "execution_count": 54
        },
        {
          "output_type": "execute_result",
          "data": {
            "text/html": [
              "\n",
              "  <div id=\"df-59657fdd-fc5f-4a30-8e54-ca274a077eef\">\n",
              "    <div class=\"colab-df-container\">\n",
              "      <div>\n",
              "<style scoped>\n",
              "    .dataframe tbody tr th:only-of-type {\n",
              "        vertical-align: middle;\n",
              "    }\n",
              "\n",
              "    .dataframe tbody tr th {\n",
              "        vertical-align: top;\n",
              "    }\n",
              "\n",
              "    .dataframe thead th {\n",
              "        text-align: right;\n",
              "    }\n",
              "</style>\n",
              "<table border=\"1\" class=\"dataframe\">\n",
              "  <thead>\n",
              "    <tr style=\"text-align: right;\">\n",
              "      <th></th>\n",
              "      <th>artist</th>\n",
              "      <th>top genre</th>\n",
              "      <th>bpm</th>\n",
              "      <th>nrgy</th>\n",
              "      <th>dnce</th>\n",
              "      <th>dB</th>\n",
              "      <th>live</th>\n",
              "      <th>val</th>\n",
              "      <th>dur</th>\n",
              "      <th>acous</th>\n",
              "      <th>spch</th>\n",
              "    </tr>\n",
              "  </thead>\n",
              "  <tbody>\n",
              "    <tr>\n",
              "      <th>0</th>\n",
              "      <td>Train</td>\n",
              "      <td>neo mellow</td>\n",
              "      <td>97</td>\n",
              "      <td>89</td>\n",
              "      <td>67</td>\n",
              "      <td>-4</td>\n",
              "      <td>8</td>\n",
              "      <td>80</td>\n",
              "      <td>217</td>\n",
              "      <td>19</td>\n",
              "      <td>4</td>\n",
              "    </tr>\n",
              "    <tr>\n",
              "      <th>1</th>\n",
              "      <td>Eminem</td>\n",
              "      <td>hip hop</td>\n",
              "      <td>87</td>\n",
              "      <td>93</td>\n",
              "      <td>75</td>\n",
              "      <td>-5</td>\n",
              "      <td>52</td>\n",
              "      <td>64</td>\n",
              "      <td>263</td>\n",
              "      <td>24</td>\n",
              "      <td>23</td>\n",
              "    </tr>\n",
              "    <tr>\n",
              "      <th>2</th>\n",
              "      <td>Kesha</td>\n",
              "      <td>pop</td>\n",
              "      <td>120</td>\n",
              "      <td>84</td>\n",
              "      <td>76</td>\n",
              "      <td>-3</td>\n",
              "      <td>29</td>\n",
              "      <td>71</td>\n",
              "      <td>200</td>\n",
              "      <td>10</td>\n",
              "      <td>14</td>\n",
              "    </tr>\n",
              "    <tr>\n",
              "      <th>3</th>\n",
              "      <td>Lady Gaga</td>\n",
              "      <td>pop</td>\n",
              "      <td>119</td>\n",
              "      <td>92</td>\n",
              "      <td>70</td>\n",
              "      <td>-4</td>\n",
              "      <td>8</td>\n",
              "      <td>71</td>\n",
              "      <td>295</td>\n",
              "      <td>0</td>\n",
              "      <td>4</td>\n",
              "    </tr>\n",
              "    <tr>\n",
              "      <th>4</th>\n",
              "      <td>Bruno Mars</td>\n",
              "      <td>pop</td>\n",
              "      <td>109</td>\n",
              "      <td>84</td>\n",
              "      <td>64</td>\n",
              "      <td>-5</td>\n",
              "      <td>9</td>\n",
              "      <td>43</td>\n",
              "      <td>221</td>\n",
              "      <td>2</td>\n",
              "      <td>4</td>\n",
              "    </tr>\n",
              "  </tbody>\n",
              "</table>\n",
              "</div>\n",
              "      <button class=\"colab-df-convert\" onclick=\"convertToInteractive('df-59657fdd-fc5f-4a30-8e54-ca274a077eef')\"\n",
              "              title=\"Convert this dataframe to an interactive table.\"\n",
              "              style=\"display:none;\">\n",
              "        \n",
              "  <svg xmlns=\"http://www.w3.org/2000/svg\" height=\"24px\"viewBox=\"0 0 24 24\"\n",
              "       width=\"24px\">\n",
              "    <path d=\"M0 0h24v24H0V0z\" fill=\"none\"/>\n",
              "    <path d=\"M18.56 5.44l.94 2.06.94-2.06 2.06-.94-2.06-.94-.94-2.06-.94 2.06-2.06.94zm-11 1L8.5 8.5l.94-2.06 2.06-.94-2.06-.94L8.5 2.5l-.94 2.06-2.06.94zm10 10l.94 2.06.94-2.06 2.06-.94-2.06-.94-.94-2.06-.94 2.06-2.06.94z\"/><path d=\"M17.41 7.96l-1.37-1.37c-.4-.4-.92-.59-1.43-.59-.52 0-1.04.2-1.43.59L10.3 9.45l-7.72 7.72c-.78.78-.78 2.05 0 2.83L4 21.41c.39.39.9.59 1.41.59.51 0 1.02-.2 1.41-.59l7.78-7.78 2.81-2.81c.8-.78.8-2.07 0-2.86zM5.41 20L4 18.59l7.72-7.72 1.47 1.35L5.41 20z\"/>\n",
              "  </svg>\n",
              "      </button>\n",
              "      \n",
              "  <style>\n",
              "    .colab-df-container {\n",
              "      display:flex;\n",
              "      flex-wrap:wrap;\n",
              "      gap: 12px;\n",
              "    }\n",
              "\n",
              "    .colab-df-convert {\n",
              "      background-color: #E8F0FE;\n",
              "      border: none;\n",
              "      border-radius: 50%;\n",
              "      cursor: pointer;\n",
              "      display: none;\n",
              "      fill: #1967D2;\n",
              "      height: 32px;\n",
              "      padding: 0 0 0 0;\n",
              "      width: 32px;\n",
              "    }\n",
              "\n",
              "    .colab-df-convert:hover {\n",
              "      background-color: #E2EBFA;\n",
              "      box-shadow: 0px 1px 2px rgba(60, 64, 67, 0.3), 0px 1px 3px 1px rgba(60, 64, 67, 0.15);\n",
              "      fill: #174EA6;\n",
              "    }\n",
              "\n",
              "    [theme=dark] .colab-df-convert {\n",
              "      background-color: #3B4455;\n",
              "      fill: #D2E3FC;\n",
              "    }\n",
              "\n",
              "    [theme=dark] .colab-df-convert:hover {\n",
              "      background-color: #434B5C;\n",
              "      box-shadow: 0px 1px 3px 1px rgba(0, 0, 0, 0.15);\n",
              "      filter: drop-shadow(0px 1px 2px rgba(0, 0, 0, 0.3));\n",
              "      fill: #FFFFFF;\n",
              "    }\n",
              "  </style>\n",
              "\n",
              "      <script>\n",
              "        const buttonEl =\n",
              "          document.querySelector('#df-59657fdd-fc5f-4a30-8e54-ca274a077eef button.colab-df-convert');\n",
              "        buttonEl.style.display =\n",
              "          google.colab.kernel.accessAllowed ? 'block' : 'none';\n",
              "\n",
              "        async function convertToInteractive(key) {\n",
              "          const element = document.querySelector('#df-59657fdd-fc5f-4a30-8e54-ca274a077eef');\n",
              "          const dataTable =\n",
              "            await google.colab.kernel.invokeFunction('convertToInteractive',\n",
              "                                                     [key], {});\n",
              "          if (!dataTable) return;\n",
              "\n",
              "          const docLinkHtml = 'Like what you see? Visit the ' +\n",
              "            '<a target=\"_blank\" href=https://colab.research.google.com/notebooks/data_table.ipynb>data table notebook</a>'\n",
              "            + ' to learn more about interactive tables.';\n",
              "          element.innerHTML = '';\n",
              "          dataTable['output_type'] = 'display_data';\n",
              "          await google.colab.output.renderOutput(dataTable, element);\n",
              "          const docLink = document.createElement('div');\n",
              "          docLink.innerHTML = docLinkHtml;\n",
              "          element.appendChild(docLink);\n",
              "        }\n",
              "      </script>\n",
              "    </div>\n",
              "  </div>\n",
              "  "
            ],
            "text/plain": [
              "       artist   top genre  bpm  nrgy  dnce  dB  live  val  dur  acous  spch\n",
              "0       Train  neo mellow   97    89    67  -4     8   80  217     19     4\n",
              "1      Eminem     hip hop   87    93    75  -5    52   64  263     24    23\n",
              "2       Kesha         pop  120    84    76  -3    29   71  200     10    14\n",
              "3   Lady Gaga         pop  119    92    70  -4     8   71  295      0     4\n",
              "4  Bruno Mars         pop  109    84    64  -5     9   43  221      2     4"
            ]
          },
          "metadata": {},
          "execution_count": 54
        }
      ]
    },
    {
      "cell_type": "code",
      "source": [
        "plt.hist(new_df.dB)\n",
        "plt.show()\n",
        "plt.hist(new_df.bpm)\n",
        "plt.show()\n",
        "plt.hist(new_df.nrgy)\n",
        "plt.show()\n",
        "plt.hist(new_df.live)\n",
        "plt.show()\n",
        "plt.hist(new_df.val)\n",
        "plt.show()\n",
        "plt.hist(new_df.dur)\n",
        "plt.show()\n",
        "plt.hist(new_df.acous)\n",
        "plt.show()\n",
        "plt.hist(new_df.spch)\n",
        "plt.show()"
      ],
      "metadata": {
        "colab": {
          "base_uri": "https://localhost:8080/",
          "height": 1000
        },
        "id": "AKedNN3OMzgm",
        "outputId": "c2c2b63c-e79b-4d5c-9ec3-2805bf8d19c9"
      },
      "execution_count": 55,
      "outputs": [
        {
          "output_type": "execute_result",
          "data": {
            "text/plain": [
              "(array([  1.,   0.,   0.,   0.,   0.,   0.,   0.,   1.,  57., 528.]),\n",
              " array([-60. , -54.2, -48.4, -42.6, -36.8, -31. , -25.2, -19.4, -13.6,\n",
              "         -7.8,  -2. ]),\n",
              " <a list of 10 Patch objects>)"
            ]
          },
          "metadata": {},
          "execution_count": 55
        },
        {
          "output_type": "display_data",
          "data": {
            "image/png": "[encoded data removed]",
            "text/plain": [
              "<Figure size 432x288 with 1 Axes>"
            ]
          },
          "metadata": {
            "needs_background": "light"
          }
        },
        {
          "output_type": "execute_result",
          "data": {
            "text/plain": [
              "(array([  1.,   0.,   1.,  26., 138., 179., 172.,  39.,  18.,  13.]),\n",
              " array([  0. ,  20.6,  41.2,  61.8,  82.4, 103. , 123.6, 144.2, 164.8,\n",
              "        185.4, 206. ]),\n",
              " <a list of 10 Patch objects>)"
            ]
          },
          "metadata": {},
          "execution_count": 55
        },
        {
          "output_type": "display_data",
          "data": {
            "image/png": "[encoded data removed]",
            "text/plain": [
              "<Figure size 432x288 with 1 Axes>"
            ]
          },
          "metadata": {
            "needs_background": "light"
          }
        },
        {
          "output_type": "execute_result",
          "data": {
            "text/plain": [
              "(array([  2.,   3.,   5.,  22.,  30.,  54., 104., 147., 165.,  55.]),\n",
              " array([ 0. ,  9.8, 19.6, 29.4, 39.2, 49. , 58.8, 68.6, 78.4, 88.2, 98. ]),\n",
              " <a list of 10 Patch objects>)"
            ]
          },
          "metadata": {},
          "execution_count": 55
        },
        {
          "output_type": "display_data",
          "data": {
            "image/png": "[encoded data removed]",
            "text/plain": [
              "<Figure size 432x288 with 1 Axes>"
            ]
          },
          "metadata": {
            "needs_background": "light"
          }
        },
        {
          "output_type": "execute_result",
          "data": {
            "text/plain": [
              "(array([ 70., 283.,  79.,  42.,  60.,  28.,   7.,   4.,   8.,   6.]),\n",
              " array([ 0. ,  7.4, 14.8, 22.2, 29.6, 37. , 44.4, 51.8, 59.2, 66.6, 74. ]),\n",
              " <a list of 10 Patch objects>)"
            ]
          },
          "metadata": {},
          "execution_count": 55
        },
        {
          "output_type": "display_data",
          "data": {
            "image/png": "[encoded data removed]",
            "text/plain": [
              "<Figure size 432x288 with 1 Axes>"
            ]
          },
          "metadata": {
            "needs_background": "light"
          }
        },
        {
          "output_type": "execute_result",
          "data": {
            "text/plain": [
              "(array([16., 34., 59., 70., 77., 91., 89., 63., 60., 28.]),\n",
              " array([ 0. ,  9.8, 19.6, 29.4, 39.2, 49. , 58.8, 68.6, 78.4, 88.2, 98. ]),\n",
              " <a list of 10 Patch objects>)"
            ]
          },
          "metadata": {},
          "execution_count": 55
        },
        {
          "output_type": "display_data",
          "data": {
            "image/png": "[encoded data removed]",
            "text/plain": [
              "<Figure size 432x288 with 1 Axes>"
            ]
          },
          "metadata": {
            "needs_background": "light"
          }
        },
        {
          "output_type": "execute_result",
          "data": {
            "text/plain": [
              "(array([  8.,  66., 219., 183.,  73.,  23.,   9.,   3.,   1.,   2.]),\n",
              " array([134., 163., 192., 221., 250., 279., 308., 337., 366., 395., 424.]),\n",
              " <a list of 10 Patch objects>)"
            ]
          },
          "metadata": {},
          "execution_count": 55
        },
        {
          "output_type": "display_data",
          "data": {
            "image/png": "[encoded data removed]",
            "text/plain": [
              "<Figure size 432x288 with 1 Axes>"
            ]
          },
          "metadata": {
            "needs_background": "light"
          }
        },
        {
          "output_type": "execute_result",
          "data": {
            "text/plain": [
              "(array([361.,  94.,  46.,  22.,  20.,  13.,   4.,   8.,  13.,   6.]),\n",
              " array([ 0. ,  9.9, 19.8, 29.7, 39.6, 49.5, 59.4, 69.3, 79.2, 89.1, 99. ]),\n",
              " <a list of 10 Patch objects>)"
            ]
          },
          "metadata": {},
          "execution_count": 55
        },
        {
          "output_type": "display_data",
          "data": {
            "image/png": "[encoded data removed]",
            "text/plain": [
              "<Figure size 432x288 with 1 Axes>"
            ]
          },
          "metadata": {
            "needs_background": "light"
          }
        },
        {
          "output_type": "execute_result",
          "data": {
            "text/plain": [
              "(array([202., 242.,  68.,  28.,  14.,  14.,   7.,   7.,   2.,   3.]),\n",
              " array([ 0. ,  4.8,  9.6, 14.4, 19.2, 24. , 28.8, 33.6, 38.4, 43.2, 48. ]),\n",
              " <a list of 10 Patch objects>)"
            ]
          },
          "metadata": {},
          "execution_count": 55
        },
        {
          "output_type": "display_data",
          "data": {
            "image/png": "[encoded data removed]",
            "text/plain": [
              "<Figure size 432x288 with 1 Axes>"
            ]
          },
          "metadata": {
            "needs_background": "light"
          }
        }
      ]
    },
    {
      "cell_type": "code",
      "source": [
        "new_df"
      ],
      "metadata": {
        "colab": {
          "base_uri": "https://localhost:8080/",
          "height": 424
        },
        "id": "3R7yRQkiM21O",
        "outputId": "5bd5732f-e433-4f08-ed7b-f12e28edb703"
      },
      "execution_count": 56,
      "outputs": [
        {
          "output_type": "execute_result",
          "data": {
            "text/html": [
              "\n",
              "  <div id=\"df-70d59a8d-1889-4ddd-9026-7e2eafcaa098\">\n",
              "    <div class=\"colab-df-container\">\n",
              "      <div>\n",
              "<style scoped>\n",
              "    .dataframe tbody tr th:only-of-type {\n",
              "        vertical-align: middle;\n",
              "    }\n",
              "\n",
              "    .dataframe tbody tr th {\n",
              "        vertical-align: top;\n",
              "    }\n",
              "\n",
              "    .dataframe thead th {\n",
              "        text-align: right;\n",
              "    }\n",
              "</style>\n",
              "<table border=\"1\" class=\"dataframe\">\n",
              "  <thead>\n",
              "    <tr style=\"text-align: right;\">\n",
              "      <th></th>\n",
              "      <th>artist</th>\n",
              "      <th>top genre</th>\n",
              "      <th>bpm</th>\n",
              "      <th>nrgy</th>\n",
              "      <th>dnce</th>\n",
              "      <th>dB</th>\n",
              "      <th>live</th>\n",
              "      <th>val</th>\n",
              "      <th>dur</th>\n",
              "      <th>acous</th>\n",
              "      <th>spch</th>\n",
              "    </tr>\n",
              "  </thead>\n",
              "  <tbody>\n",
              "    <tr>\n",
              "      <th>0</th>\n",
              "      <td>Train</td>\n",
              "      <td>neo mellow</td>\n",
              "      <td>97</td>\n",
              "      <td>89</td>\n",
              "      <td>67</td>\n",
              "      <td>-4</td>\n",
              "      <td>8</td>\n",
              "      <td>80</td>\n",
              "      <td>217</td>\n",
              "      <td>19</td>\n",
              "      <td>4</td>\n",
              "    </tr>\n",
              "    <tr>\n",
              "      <th>1</th>\n",
              "      <td>Eminem</td>\n",
              "      <td>hip hop</td>\n",
              "      <td>87</td>\n",
              "      <td>93</td>\n",
              "      <td>75</td>\n",
              "      <td>-5</td>\n",
              "      <td>52</td>\n",
              "      <td>64</td>\n",
              "      <td>263</td>\n",
              "      <td>24</td>\n",
              "      <td>23</td>\n",
              "    </tr>\n",
              "    <tr>\n",
              "      <th>2</th>\n",
              "      <td>Kesha</td>\n",
              "      <td>pop</td>\n",
              "      <td>120</td>\n",
              "      <td>84</td>\n",
              "      <td>76</td>\n",
              "      <td>-3</td>\n",
              "      <td>29</td>\n",
              "      <td>71</td>\n",
              "      <td>200</td>\n",
              "      <td>10</td>\n",
              "      <td>14</td>\n",
              "    </tr>\n",
              "    <tr>\n",
              "      <th>3</th>\n",
              "      <td>Lady Gaga</td>\n",
              "      <td>pop</td>\n",
              "      <td>119</td>\n",
              "      <td>92</td>\n",
              "      <td>70</td>\n",
              "      <td>-4</td>\n",
              "      <td>8</td>\n",
              "      <td>71</td>\n",
              "      <td>295</td>\n",
              "      <td>0</td>\n",
              "      <td>4</td>\n",
              "    </tr>\n",
              "    <tr>\n",
              "      <th>4</th>\n",
              "      <td>Bruno Mars</td>\n",
              "      <td>pop</td>\n",
              "      <td>109</td>\n",
              "      <td>84</td>\n",
              "      <td>64</td>\n",
              "      <td>-5</td>\n",
              "      <td>9</td>\n",
              "      <td>43</td>\n",
              "      <td>221</td>\n",
              "      <td>2</td>\n",
              "      <td>4</td>\n",
              "    </tr>\n",
              "    <tr>\n",
              "      <th>...</th>\n",
              "      <td>...</td>\n",
              "      <td>...</td>\n",
              "      <td>...</td>\n",
              "      <td>...</td>\n",
              "      <td>...</td>\n",
              "      <td>...</td>\n",
              "      <td>...</td>\n",
              "      <td>...</td>\n",
              "      <td>...</td>\n",
              "      <td>...</td>\n",
              "      <td>...</td>\n",
              "    </tr>\n",
              "    <tr>\n",
              "      <th>582</th>\n",
              "      <td>Mark Ronson</td>\n",
              "      <td>pop</td>\n",
              "      <td>104</td>\n",
              "      <td>66</td>\n",
              "      <td>61</td>\n",
              "      <td>-7</td>\n",
              "      <td>20</td>\n",
              "      <td>16</td>\n",
              "      <td>176</td>\n",
              "      <td>1</td>\n",
              "      <td>3</td>\n",
              "    </tr>\n",
              "    <tr>\n",
              "      <th>583</th>\n",
              "      <td>Ed Sheeran</td>\n",
              "      <td>pop</td>\n",
              "      <td>95</td>\n",
              "      <td>79</td>\n",
              "      <td>75</td>\n",
              "      <td>-6</td>\n",
              "      <td>7</td>\n",
              "      <td>61</td>\n",
              "      <td>206</td>\n",
              "      <td>21</td>\n",
              "      <td>12</td>\n",
              "    </tr>\n",
              "    <tr>\n",
              "      <th>584</th>\n",
              "      <td>DJ Khaled</td>\n",
              "      <td>pop</td>\n",
              "      <td>136</td>\n",
              "      <td>76</td>\n",
              "      <td>53</td>\n",
              "      <td>-5</td>\n",
              "      <td>9</td>\n",
              "      <td>65</td>\n",
              "      <td>260</td>\n",
              "      <td>7</td>\n",
              "      <td>34</td>\n",
              "    </tr>\n",
              "    <tr>\n",
              "      <th>585</th>\n",
              "      <td>Mark Ronson</td>\n",
              "      <td>pop</td>\n",
              "      <td>114</td>\n",
              "      <td>79</td>\n",
              "      <td>60</td>\n",
              "      <td>-6</td>\n",
              "      <td>42</td>\n",
              "      <td>24</td>\n",
              "      <td>217</td>\n",
              "      <td>1</td>\n",
              "      <td>7</td>\n",
              "    </tr>\n",
              "    <tr>\n",
              "      <th>586</th>\n",
              "      <td>The Chainsmokers</td>\n",
              "      <td>pop</td>\n",
              "      <td>150</td>\n",
              "      <td>44</td>\n",
              "      <td>70</td>\n",
              "      <td>-9</td>\n",
              "      <td>13</td>\n",
              "      <td>23</td>\n",
              "      <td>213</td>\n",
              "      <td>6</td>\n",
              "      <td>6</td>\n",
              "    </tr>\n",
              "  </tbody>\n",
              "</table>\n",
              "<p>587 rows × 11 columns</p>\n",
              "</div>\n",
              "      <button class=\"colab-df-convert\" onclick=\"convertToInteractive('df-70d59a8d-1889-4ddd-9026-7e2eafcaa098')\"\n",
              "              title=\"Convert this dataframe to an interactive table.\"\n",
              "              style=\"display:none;\">\n",
              "        \n",
              "  <svg xmlns=\"http://www.w3.org/2000/svg\" height=\"24px\"viewBox=\"0 0 24 24\"\n",
              "       width=\"24px\">\n",
              "    <path d=\"M0 0h24v24H0V0z\" fill=\"none\"/>\n",
              "    <path d=\"M18.56 5.44l.94 2.06.94-2.06 2.06-.94-2.06-.94-.94-2.06-.94 2.06-2.06.94zm-11 1L8.5 8.5l.94-2.06 2.06-.94-2.06-.94L8.5 2.5l-.94 2.06-2.06.94zm10 10l.94 2.06.94-2.06 2.06-.94-2.06-.94-.94-2.06-.94 2.06-2.06.94z\"/><path d=\"M17.41 7.96l-1.37-1.37c-.4-.4-.92-.59-1.43-.59-.52 0-1.04.2-1.43.59L10.3 9.45l-7.72 7.72c-.78.78-.78 2.05 0 2.83L4 21.41c.39.39.9.59 1.41.59.51 0 1.02-.2 1.41-.59l7.78-7.78 2.81-2.81c.8-.78.8-2.07 0-2.86zM5.41 20L4 18.59l7.72-7.72 1.47 1.35L5.41 20z\"/>\n",
              "  </svg>\n",
              "      </button>\n",
              "      \n",
              "  <style>\n",
              "    .colab-df-container {\n",
              "      display:flex;\n",
              "      flex-wrap:wrap;\n",
              "      gap: 12px;\n",
              "    }\n",
              "\n",
              "    .colab-df-convert {\n",
              "      background-color: #E8F0FE;\n",
              "      border: none;\n",
              "      border-radius: 50%;\n",
              "      cursor: pointer;\n",
              "      display: none;\n",
              "      fill: #1967D2;\n",
              "      height: 32px;\n",
              "      padding: 0 0 0 0;\n",
              "      width: 32px;\n",
              "    }\n",
              "\n",
              "    .colab-df-convert:hover {\n",
              "      background-color: #E2EBFA;\n",
              "      box-shadow: 0px 1px 2px rgba(60, 64, 67, 0.3), 0px 1px 3px 1px rgba(60, 64, 67, 0.15);\n",
              "      fill: #174EA6;\n",
              "    }\n",
              "\n",
              "    [theme=dark] .colab-df-convert {\n",
              "      background-color: #3B4455;\n",
              "      fill: #D2E3FC;\n",
              "    }\n",
              "\n",
              "    [theme=dark] .colab-df-convert:hover {\n",
              "      background-color: #434B5C;\n",
              "      box-shadow: 0px 1px 3px 1px rgba(0, 0, 0, 0.15);\n",
              "      filter: drop-shadow(0px 1px 2px rgba(0, 0, 0, 0.3));\n",
              "      fill: #FFFFFF;\n",
              "    }\n",
              "  </style>\n",
              "\n",
              "      <script>\n",
              "        const buttonEl =\n",
              "          document.querySelector('#df-70d59a8d-1889-4ddd-9026-7e2eafcaa098 button.colab-df-convert');\n",
              "        buttonEl.style.display =\n",
              "          google.colab.kernel.accessAllowed ? 'block' : 'none';\n",
              "\n",
              "        async function convertToInteractive(key) {\n",
              "          const element = document.querySelector('#df-70d59a8d-1889-4ddd-9026-7e2eafcaa098');\n",
              "          const dataTable =\n",
              "            await google.colab.kernel.invokeFunction('convertToInteractive',\n",
              "                                                     [key], {});\n",
              "          if (!dataTable) return;\n",
              "\n",
              "          const docLinkHtml = 'Like what you see? Visit the ' +\n",
              "            '<a target=\"_blank\" href=https://colab.research.google.com/notebooks/data_table.ipynb>data table notebook</a>'\n",
              "            + ' to learn more about interactive tables.';\n",
              "          element.innerHTML = '';\n",
              "          dataTable['output_type'] = 'display_data';\n",
              "          await google.colab.output.renderOutput(dataTable, element);\n",
              "          const docLink = document.createElement('div');\n",
              "          docLink.innerHTML = docLinkHtml;\n",
              "          element.appendChild(docLink);\n",
              "        }\n",
              "      </script>\n",
              "    </div>\n",
              "  </div>\n",
              "  "
            ],
            "text/plain": [
              "               artist   top genre  bpm  nrgy  dnce  ...  live  val  dur  acous  spch\n",
              "0               Train  neo mellow   97    89    67  ...     8   80  217     19     4\n",
              "1              Eminem     hip hop   87    93    75  ...    52   64  263     24    23\n",
              "2               Kesha         pop  120    84    76  ...    29   71  200     10    14\n",
              "3           Lady Gaga         pop  119    92    70  ...     8   71  295      0     4\n",
              "4          Bruno Mars         pop  109    84    64  ...     9   43  221      2     4\n",
              "..                ...         ...  ...   ...   ...  ...   ...  ...  ...    ...   ...\n",
              "582       Mark Ronson         pop  104    66    61  ...    20   16  176      1     3\n",
              "583        Ed Sheeran         pop   95    79    75  ...     7   61  206     21    12\n",
              "584         DJ Khaled         pop  136    76    53  ...     9   65  260      7    34\n",
              "585       Mark Ronson         pop  114    79    60  ...    42   24  217      1     7\n",
              "586  The Chainsmokers         pop  150    44    70  ...    13   23  213      6     6\n",
              "\n",
              "[587 rows x 11 columns]"
            ]
          },
          "metadata": {},
          "execution_count": 56
        }
      ]
    },
    {
      "cell_type": "code",
      "source": [
        "new_df.bpm.unique()\n",
        "new_df.dB.unique()"
      ],
      "metadata": {
        "colab": {
          "base_uri": "https://localhost:8080/"
        },
        "id": "OvnF0jR7M7sh",
        "outputId": "94ef184b-0c45-43f2-a607-3fe0e3e8b2cc"
      },
      "execution_count": 57,
      "outputs": [
        {
          "output_type": "execute_result",
          "data": {
            "text/plain": [
              "array([ 97,  87, 120, 119, 109,  65, 148,  93, 126, 128, 145, 130, 122,\n",
              "       125, 121,  99, 186, 103, 146, 133, 129, 135, 138,  92, 111, 164,\n",
              "       131, 150, 104, 182, 112,  43,  91,  80, 139, 105, 127,  94, 110,\n",
              "       100, 124, 175,  95, 152, 132,  63,  84,  75,  98, 144, 140,  77,\n",
              "       117, 108,  86, 116, 160, 134, 184,  90, 114,  85, 180, 170, 174,\n",
              "       155, 118, 185, 136,  82, 102, 107, 201,  96,  83, 192,  76, 149,\n",
              "        79, 113, 115, 206, 190, 158, 176, 123, 106,  78, 156,  89, 202,\n",
              "       142, 163, 101,   0, 159,  81,  73, 178, 181, 167, 172,  88, 168])"
            ]
          },
          "metadata": {},
          "execution_count": 57
        },
        {
          "output_type": "execute_result",
          "data": {
            "text/plain": [
              "array([ -4,  -5,  -3,  -6,  -8,  -7,  -2,  -9, -11, -12, -10, -15, -13,\n",
              "       -60])"
            ]
          },
          "metadata": {},
          "execution_count": 57
        }
      ]
    },
    {
      "cell_type": "code",
      "source": [
        "new_df.bpm = new_df.bpm.replace(0, new_df.bpm.mean())\n",
        "new_df.bpm.unique()\n",
        "new_df.dB = new_df.dB.replace(-60, new_df.dB.mean())\n",
        "new_df.dB.unique()"
      ],
      "metadata": {
        "colab": {
          "base_uri": "https://localhost:8080/"
        },
        "id": "yCOeo-ktM_zI",
        "outputId": "1919d9d2-1a38-4fc9-eea7-1247005de43e"
      },
      "execution_count": 58,
      "outputs": [
        {
          "output_type": "execute_result",
          "data": {
            "text/plain": [
              "array([ 97.       ,  87.       , 120.       , 119.       , 109.       ,\n",
              "        65.       , 148.       ,  93.       , 126.       , 128.       ,\n",
              "       145.       , 130.       , 122.       , 125.       , 121.       ,\n",
              "        99.       , 186.       , 103.       , 146.       , 133.       ,\n",
              "       129.       , 135.       , 138.       ,  92.       , 111.       ,\n",
              "       164.       , 131.       , 150.       , 104.       , 182.       ,\n",
              "       112.       ,  43.       ,  91.       ,  80.       , 139.       ,\n",
              "       105.       , 127.       ,  94.       , 110.       , 100.       ,\n",
              "       124.       , 175.       ,  95.       , 152.       , 132.       ,\n",
              "        63.       ,  84.       ,  75.       ,  98.       , 144.       ,\n",
              "       140.       ,  77.       , 117.       , 108.       ,  86.       ,\n",
              "       116.       , 160.       , 134.       , 184.       ,  90.       ,\n",
              "       114.       ,  85.       , 180.       , 170.       , 174.       ,\n",
              "       155.       , 118.       , 185.       , 136.       ,  82.       ,\n",
              "       102.       , 107.       , 201.       ,  96.       ,  83.       ,\n",
              "       192.       ,  76.       , 149.       ,  79.       , 113.       ,\n",
              "       115.       , 206.       , 190.       , 158.       , 176.       ,\n",
              "       123.       , 106.       ,  78.       , 156.       ,  89.       ,\n",
              "       202.       , 142.       , 163.       , 101.       , 118.6592845,\n",
              "       159.       ,  81.       ,  73.       , 178.       , 181.       ,\n",
              "       167.       , 172.       ,  88.       , 168.       ])"
            ]
          },
          "metadata": {},
          "execution_count": 58
        },
        {
          "output_type": "execute_result",
          "data": {
            "text/plain": [
              "array([ -4.        ,  -5.        ,  -3.        ,  -6.        ,\n",
              "        -8.        ,  -7.        ,  -2.        ,  -9.        ,\n",
              "       -11.        , -12.        , -10.        , -15.        ,\n",
              "       -13.        ,  -5.56899489])"
            ]
          },
          "metadata": {},
          "execution_count": 58
        }
      ]
    },
    {
      "cell_type": "code",
      "source": [
        "temp_df = pd.get_dummies(new_df[['artist', 'top genre']])\n",
        "new_df = new_df.join(temp_df, how='left')\n",
        "new_df = new_df.drop(columns = ['artist', 'top genre'], axis=1)\n",
        "new_df.shape"
      ],
      "metadata": {
        "colab": {
          "base_uri": "https://localhost:8080/"
        },
        "id": "SynU4Z85NC-7",
        "outputId": "18a006e4-b8b1-41ff-9238-df90d695424a"
      },
      "execution_count": 59,
      "outputs": [
        {
          "output_type": "execute_result",
          "data": {
            "text/plain": [
              "(587, 205)"
            ]
          },
          "metadata": {},
          "execution_count": 59
        }
      ]
    },
    {
      "cell_type": "code",
      "source": [
        "X_std = StandardScaler().fit_transform(new_df)\n",
        "pca = PCA(n_components=.95)\n",
        "principalComponents = pca.fit_transform(X_std) # Plot the explained variances\n",
        "\n",
        "#Plotting the Cumulative Summation of the Explained Variance\n",
        "plt.figure()\n",
        "plt.plot(np.cumsum(pca.explained_variance_ratio_))\n",
        "plt.xlabel('Number of Components')\n",
        "plt.ylabel('Variance (%)') #for each component\n",
        "plt.title('Pulsar Dataset Explained Variance')\n",
        "plt.show()"
      ],
      "metadata": {
        "colab": {
          "base_uri": "https://localhost:8080/",
          "height": 350
        },
        "id": "LvPiO0EZNFxY",
        "outputId": "40abfac2-18db-4c91-84d8-4a4063e45ea9"
      },
      "execution_count": 60,
      "outputs": [
        {
          "output_type": "execute_result",
          "data": {
            "text/plain": [
              "<Figure size 432x288 with 0 Axes>"
            ]
          },
          "metadata": {},
          "execution_count": 60
        },
        {
          "output_type": "execute_result",
          "data": {
            "text/plain": [
              "[<matplotlib.lines.Line2D at 0x7f90a6132f90>]"
            ]
          },
          "metadata": {},
          "execution_count": 60
        },
        {
          "output_type": "execute_result",
          "data": {
            "text/plain": [
              "Text(0.5, 0, 'Number of Components')"
            ]
          },
          "metadata": {},
          "execution_count": 60
        },
        {
          "output_type": "execute_result",
          "data": {
            "text/plain": [
              "Text(0, 0.5, 'Variance (%)')"
            ]
          },
          "metadata": {},
          "execution_count": 60
        },
        {
          "output_type": "execute_result",
          "data": {
            "text/plain": [
              "Text(0.5, 1.0, 'Pulsar Dataset Explained Variance')"
            ]
          },
          "metadata": {},
          "execution_count": 60
        },
        {
          "output_type": "display_data",
          "data": {
            "image/png": "[encoded data removed]",
            "text/plain": [
              "<Figure size 432x288 with 1 Axes>"
            ]
          },
          "metadata": {
            "needs_background": "light"
          }
        }
      ]
    },
    {
      "cell_type": "code",
      "source": [
        "pca = PCA(n_components=20)\n",
        "principalComponents = pca.fit_transform(X_std)\n",
        "pca_df = pd.DataFrame(principalComponents)"
      ],
      "metadata": {
        "id": "MXDHJ2-jNI0K"
      },
      "execution_count": 61,
      "outputs": []
    },
    {
      "cell_type": "code",
      "source": [
        "sum_of_squared_distances = []\n",
        "K = range(1,20)\n",
        "for k in K:\n",
        "    km = KMeans(n_clusters=k)\n",
        "    km = km.fit(pca_df)\n",
        "    sum_of_squared_distances.append(km.inertia_)\n",
        "    \n",
        "ax = sns.lineplot(x=K, y = sum_of_squared_distances)\n",
        "ax.set(xlabel='K', ylabel='sum of squared distances', title='Elbow graph')"
      ],
      "metadata": {
        "colab": {
          "base_uri": "https://localhost:8080/",
          "height": 347
        },
        "id": "N8TZetAFNNMb",
        "outputId": "a9a3471a-50b7-4cdd-a7e7-1f6a0e0e2546"
      },
      "execution_count": 62,
      "outputs": [
        {
          "output_type": "execute_result",
          "data": {
            "text/plain": [
              "[Text(0, 0.5, 'sum of squared distances'),\n",
              " Text(0.5, 0, 'K'),\n",
              " Text(0.5, 1.0, 'Elbow graph')]"
            ]
          },
          "metadata": {},
          "execution_count": 62
        },
        {
          "output_type": "display_data",
          "data": {
            "image/png": "[encoded data removed]",
            "text/plain": [
              "<Figure size 432x288 with 1 Axes>"
            ]
          },
          "metadata": {
            "needs_background": "light"
          }
        }
      ]
    },
    {
      "cell_type": "code",
      "source": [
        "kmeans = KMeans(n_clusters=13)    \n",
        "kmeans.fit(pca_df)\n",
        "y_kmeans = kmeans.predict(pca_df)\n",
        "y_kmeans"
      ],
      "metadata": {
        "colab": {
          "base_uri": "https://localhost:8080/"
        },
        "id": "l7RJRMUENPOg",
        "outputId": "87fe12bb-ab89-4ab4-95de-aa6bba78c29e"
      },
      "execution_count": 63,
      "outputs": [
        {
          "output_type": "execute_result",
          "data": {
            "text/plain": [
              "KMeans(n_clusters=13)"
            ]
          },
          "metadata": {},
          "execution_count": 63
        },
        {
          "output_type": "execute_result",
          "data": {
            "text/plain": [
              "array([ 3,  0,  2,  2,  2,  2,  2,  1,  1,  2,  2,  2,  2,  2,  2,  0,  2,\n",
              "        2,  1,  2,  1,  2,  2,  2,  2,  2,  2,  2,  2,  2,  2,  2,  2,  1,\n",
              "        1,  2,  1,  2,  2,  1,  2,  1,  1,  2,  1,  2,  2,  0,  0,  2,  7,\n",
              "        1, 11,  2, 11,  2,  2,  2,  1,  2,  2,  2,  0,  1,  2,  2,  2,  1,\n",
              "        1,  2,  2,  2,  2,  2,  1,  2,  2,  2,  2,  1,  2,  2,  2,  2,  2,\n",
              "        1,  2,  2,  2,  2,  2,  1,  1,  2,  2,  2,  2,  2,  2,  2,  2,  2,\n",
              "        8,  2,  5,  1,  2,  2, 11,  2,  2,  1,  2,  2,  2,  5,  2,  2,  1,\n",
              "        1,  2,  2,  2,  2,  2,  2,  2,  2,  1,  2,  2,  2,  2,  1,  2,  2,\n",
              "        7,  5,  1, 12,  2,  1,  7,  4,  1,  1,  2,  2,  2,  6,  1,  2,  2,\n",
              "        0,  5,  5,  2,  4,  2,  2,  2,  2,  1,  1,  2,  1,  2,  1,  1,  2,\n",
              "        2,  2,  2,  2,  2,  5,  2,  1,  1,  1,  2,  1,  1,  1,  2,  2,  5,\n",
              "        8,  2,  1,  2,  1,  2,  5,  2,  2,  2,  2,  2,  2,  2,  2, 12,  2,\n",
              "        0,  3,  1,  2,  2,  2,  2,  2,  7,  2,  2,  1,  2,  2,  1,  1, 12,\n",
              "        1,  2,  1,  5,  0,  2,  1,  1,  2,  2,  2,  2,  2,  2,  1,  2,  2,\n",
              "        6,  1,  3,  2,  1,  3,  8,  2,  9,  1,  2,  3,  1,  2,  2,  2,  3,\n",
              "        3,  1,  1, 12,  1,  2,  1,  1,  1,  1,  1,  2, 12,  2,  2,  1,  1,\n",
              "        1,  1,  2,  2,  2, 12,  5,  2,  1,  1,  1,  2,  2,  2,  2,  9,  2,\n",
              "       11,  2,  2,  2,  2,  2,  2,  2,  2,  2,  2, 11,  2,  2,  2, 12,  2,\n",
              "        6,  2,  1,  1,  2,  2,  2,  1,  2,  2,  2,  2,  2,  2,  7,  2,  1,\n",
              "        1,  2,  1,  2,  4,  9,  2,  2,  2,  0,  7,  1,  5,  1,  2,  1,  2,\n",
              "        2,  2,  5,  2,  1,  1,  2,  2,  2,  2,  2,  2,  1,  2,  2,  1,  2,\n",
              "        2,  7,  2,  2,  1,  1,  1,  2,  2,  1,  1,  2,  0,  2,  2,  2,  2,\n",
              "        2,  2,  0,  1,  2,  2,  2,  2,  2,  2,  1,  1,  2, 11,  2,  2,  2,\n",
              "        1,  2,  1,  2,  2,  2,  2,  1,  1,  9,  2,  1,  2, 11,  2,  2, 11,\n",
              "        2,  1,  1,  1,  2,  3,  6,  2,  2,  2,  3,  2,  2,  1,  2,  1,  2,\n",
              "        2,  2, 10, 10, 11,  2,  1,  1,  2,  2,  4,  1,  2,  2,  6,  4,  1,\n",
              "        1,  2,  1,  2,  2,  1, 10,  9,  7,  1,  1,  2,  2,  2,  2,  2,  1,\n",
              "        5,  4,  2,  1,  2,  2,  4,  2,  2,  2,  2,  2,  2,  1,  6,  2,  1,\n",
              "        1,  2,  4,  2,  2,  2, 12,  2,  7,  1,  2,  1,  2,  2, 11,  9,  2,\n",
              "        8,  2,  1,  2,  2,  2,  2,  2,  2,  2,  1,  2,  4,  1,  2, 12,  2,\n",
              "        1,  2,  2,  2,  1,  2,  0,  2,  2,  1,  2,  1, 12,  2,  1,  2,  2,\n",
              "        1,  2,  1,  2,  1,  2,  2,  1, 10,  0,  2,  1,  2,  2,  1,  1,  0,\n",
              "        1,  2,  2, 12,  2,  1,  1,  1,  2,  2,  2,  2,  1,  1,  1,  2,  1,\n",
              "        2,  1, 12,  7,  7,  4,  5,  2,  5,  2,  2,  1,  2,  1,  7,  1,  1,\n",
              "        1,  2,  4, 10,  1,  2,  2,  2,  1], dtype=int32)"
            ]
          },
          "metadata": {},
          "execution_count": 63
        }
      ]
    },
    {
      "cell_type": "code",
      "source": [
        "plt.scatter(pca_df.iloc[:, 0], pca_df.iloc[:, 1], c=y_kmeans, s=50, cmap='viridis')\n",
        "centers = kmeans.cluster_centers_\n",
        "plt.scatter(centers[:, 0], centers[:, 1], c='black', s=200, alpha=0.5);"
      ],
      "metadata": {
        "colab": {
          "base_uri": "https://localhost:8080/",
          "height": 265
        },
        "id": "hodxyx9INSzK",
        "outputId": "a5188cf1-2a3e-4b34-9aa9-3bde0a8f47c7"
      },
      "execution_count": 64,
      "outputs": [
        {
          "output_type": "display_data",
          "data": {
            "image/png": "[encoded data removed]",
            "text/plain": [
              "<Figure size 432x288 with 1 Axes>"
            ]
          },
          "metadata": {
            "needs_background": "light"
          }
        }
      ]
    },
    {
      "cell_type": "code",
      "source": [
        "dbscan = DBSCAN(eps = 9, min_samples = 3)\n",
        "dbscan.fit(pca_df)\n",
        "labels = dbscan.labels_\n",
        "\n",
        "# Number of clusters in labels, ignoring noise if present.\n",
        "n_clusters_ = len(set(labels)) - (1 if -1 in labels else 0)\n",
        "print('Estimated number of clusters: %d' % n_clusters_)"
      ],
      "metadata": {
        "colab": {
          "base_uri": "https://localhost:8080/"
        },
        "id": "hmJavK_5NaSh",
        "outputId": "b440426e-9442-4545-9802-472cb3be31cc"
      },
      "execution_count": 65,
      "outputs": [
        {
          "output_type": "execute_result",
          "data": {
            "text/plain": [
              "DBSCAN(eps=9, min_samples=3)"
            ]
          },
          "metadata": {},
          "execution_count": 65
        },
        {
          "output_type": "stream",
          "name": "stdout",
          "text": [
            "Estimated number of clusters: 12\n"
          ]
        }
      ]
    },
    {
      "cell_type": "code",
      "source": [
        "kmeans_labels = pd.DataFrame(kmeans.labels_)\n",
        "dbscan_labels = pd.DataFrame(dbscan.labels_)\n",
        "\n",
        "silhouette_score(pca_df, kmeans_labels, metric='euclidean')\n",
        "silhouette_score(pca_df, dbscan_labels, metric='euclidean')"
      ],
      "metadata": {
        "colab": {
          "base_uri": "https://localhost:8080/"
        },
        "id": "5vs3HZADNx1q",
        "outputId": "251ff7df-0bbe-4e82-c751-177e2a2f73bf"
      },
      "execution_count": 66,
      "outputs": [
        {
          "output_type": "stream",
          "name": "stderr",
          "text": [
            "/usr/local/lib/python3.7/dist-packages/sklearn/utils/validation.py:993: DataConversionWarning: A column-vector y was passed when a 1d array was expected. Please change the shape of y to (n_samples, ), for example using ravel().\n",
            "  y = column_or_1d(y, warn=True)\n"
          ]
        },
        {
          "output_type": "execute_result",
          "data": {
            "text/plain": [
              "0.23820408207105373"
            ]
          },
          "metadata": {},
          "execution_count": 66
        },
        {
          "output_type": "stream",
          "name": "stderr",
          "text": [
            "/usr/local/lib/python3.7/dist-packages/sklearn/utils/validation.py:993: DataConversionWarning: A column-vector y was passed when a 1d array was expected. Please change the shape of y to (n_samples, ), for example using ravel().\n",
            "  y = column_or_1d(y, warn=True)\n"
          ]
        },
        {
          "output_type": "execute_result",
          "data": {
            "text/plain": [
              "0.5412258561059605"
            ]
          },
          "metadata": {},
          "execution_count": 66
        }
      ]
    },
    {
      "cell_type": "code",
      "source": [
        "dbscan_df = new_df.join(dbscan_labels, how='left')\n",
        "dbscan_df = dbscan_df.rename(columns = {0: 'labels'})\n",
        "dbscan_df.head()"
      ],
      "metadata": {
        "colab": {
          "base_uri": "https://localhost:8080/",
          "height": 352
        },
        "id": "hfpTiRlkN230",
        "outputId": "327e0710-ffcf-4ce3-814e-6fd02866cf7b"
      },
      "execution_count": 67,
      "outputs": [
        {
          "output_type": "execute_result",
          "data": {
            "text/html": [
              "\n",
              "  <div id=\"df-43634679-e3eb-4c8a-89f7-3536c6e0a6df\">\n",
              "    <div class=\"colab-df-container\">\n",
              "      <div>\n",
              "<style scoped>\n",
              "    .dataframe tbody tr th:only-of-type {\n",
              "        vertical-align: middle;\n",
              "    }\n",
              "\n",
              "    .dataframe tbody tr th {\n",
              "        vertical-align: top;\n",
              "    }\n",
              "\n",
              "    .dataframe thead th {\n",
              "        text-align: right;\n",
              "    }\n",
              "</style>\n",
              "<table border=\"1\" class=\"dataframe\">\n",
              "  <thead>\n",
              "    <tr style=\"text-align: right;\">\n",
              "      <th></th>\n",
              "      <th>bpm</th>\n",
              "      <th>nrgy</th>\n",
              "      <th>dnce</th>\n",
              "      <th>dB</th>\n",
              "      <th>live</th>\n",
              "      <th>val</th>\n",
              "      <th>dur</th>\n",
              "      <th>acous</th>\n",
              "      <th>spch</th>\n",
              "      <th>artist_3OH!3</th>\n",
              "      <th>artist_5 Seconds of Summer</th>\n",
              "      <th>artist_A Great Big World</th>\n",
              "      <th>artist_Adam Lambert</th>\n",
              "      <th>artist_Adele</th>\n",
              "      <th>artist_Alan Walker</th>\n",
              "      <th>artist_Alessia Cara</th>\n",
              "      <th>artist_Alesso</th>\n",
              "      <th>artist_Alicia Keys</th>\n",
              "      <th>artist_Ansel Elgort</th>\n",
              "      <th>artist_Ariana Grande</th>\n",
              "      <th>artist_Austin Mahone</th>\n",
              "      <th>artist_Avicii</th>\n",
              "      <th>artist_Avril Lavigne</th>\n",
              "      <th>artist_Bastille</th>\n",
              "      <th>artist_Bebe Rexha</th>\n",
              "      <th>artist_Beyoncé</th>\n",
              "      <th>artist_Birdy</th>\n",
              "      <th>artist_Britney Spears</th>\n",
              "      <th>artist_Bruno Mars</th>\n",
              "      <th>artist_BØRNS</th>\n",
              "      <th>artist_CNCO</th>\n",
              "      <th>artist_Calvin Harris</th>\n",
              "      <th>artist_Camila Cabello</th>\n",
              "      <th>artist_Cardi B</th>\n",
              "      <th>artist_Carly Rae Jepsen</th>\n",
              "      <th>artist_Cashmere Cat</th>\n",
              "      <th>artist_Charli XCX</th>\n",
              "      <th>artist_Charlie Puth</th>\n",
              "      <th>artist_Chris Brown</th>\n",
              "      <th>artist_Christina Aguilera</th>\n",
              "      <th>...</th>\n",
              "      <th>artist_Shawn Mendes</th>\n",
              "      <th>artist_Sia</th>\n",
              "      <th>artist_Sigala</th>\n",
              "      <th>artist_Silk City</th>\n",
              "      <th>artist_Sleeping At Last</th>\n",
              "      <th>artist_Snakehips</th>\n",
              "      <th>artist_Swedish House Mafia</th>\n",
              "      <th>artist_T.I.</th>\n",
              "      <th>artist_Taio Cruz</th>\n",
              "      <th>artist_Taylor Swift</th>\n",
              "      <th>artist_The Black Eyed Peas</th>\n",
              "      <th>artist_The Chainsmokers</th>\n",
              "      <th>artist_The Script</th>\n",
              "      <th>artist_The Wanted</th>\n",
              "      <th>artist_The Weeknd</th>\n",
              "      <th>artist_Tinie Tempah</th>\n",
              "      <th>artist_Tove Lo</th>\n",
              "      <th>artist_Train</th>\n",
              "      <th>artist_Troye Sivan</th>\n",
              "      <th>artist_Usher</th>\n",
              "      <th>artist_Wiz Khalifa</th>\n",
              "      <th>artist_Years &amp; Years</th>\n",
              "      <th>artist_ZAYN</th>\n",
              "      <th>artist_Zara Larsson</th>\n",
              "      <th>artist_Zedd</th>\n",
              "      <th>artist_fun.</th>\n",
              "      <th>artist_will.i.am</th>\n",
              "      <th>top genre_australian dance</th>\n",
              "      <th>top genre_boy band</th>\n",
              "      <th>top genre_british soul</th>\n",
              "      <th>top genre_complextro</th>\n",
              "      <th>top genre_edm</th>\n",
              "      <th>top genre_hip hop</th>\n",
              "      <th>top genre_latin</th>\n",
              "      <th>top genre_neo mellow</th>\n",
              "      <th>top genre_other</th>\n",
              "      <th>top genre_permanent wave</th>\n",
              "      <th>top genre_pop</th>\n",
              "      <th>top genre_room</th>\n",
              "      <th>labels</th>\n",
              "    </tr>\n",
              "  </thead>\n",
              "  <tbody>\n",
              "    <tr>\n",
              "      <th>0</th>\n",
              "      <td>97.0</td>\n",
              "      <td>89</td>\n",
              "      <td>67</td>\n",
              "      <td>-4.0</td>\n",
              "      <td>8</td>\n",
              "      <td>80</td>\n",
              "      <td>217</td>\n",
              "      <td>19</td>\n",
              "      <td>4</td>\n",
              "      <td>0</td>\n",
              "      <td>0</td>\n",
              "      <td>0</td>\n",
              "      <td>0</td>\n",
              "      <td>0</td>\n",
              "      <td>0</td>\n",
              "      <td>0</td>\n",
              "      <td>0</td>\n",
              "      <td>0</td>\n",
              "      <td>0</td>\n",
              "      <td>0</td>\n",
              "      <td>0</td>\n",
              "      <td>0</td>\n",
              "      <td>0</td>\n",
              "      <td>0</td>\n",
              "      <td>0</td>\n",
              "      <td>0</td>\n",
              "      <td>0</td>\n",
              "      <td>0</td>\n",
              "      <td>0</td>\n",
              "      <td>0</td>\n",
              "      <td>0</td>\n",
              "      <td>0</td>\n",
              "      <td>0</td>\n",
              "      <td>0</td>\n",
              "      <td>0</td>\n",
              "      <td>0</td>\n",
              "      <td>0</td>\n",
              "      <td>0</td>\n",
              "      <td>0</td>\n",
              "      <td>0</td>\n",
              "      <td>...</td>\n",
              "      <td>0</td>\n",
              "      <td>0</td>\n",
              "      <td>0</td>\n",
              "      <td>0</td>\n",
              "      <td>0</td>\n",
              "      <td>0</td>\n",
              "      <td>0</td>\n",
              "      <td>0</td>\n",
              "      <td>0</td>\n",
              "      <td>0</td>\n",
              "      <td>0</td>\n",
              "      <td>0</td>\n",
              "      <td>0</td>\n",
              "      <td>0</td>\n",
              "      <td>0</td>\n",
              "      <td>0</td>\n",
              "      <td>0</td>\n",
              "      <td>1</td>\n",
              "      <td>0</td>\n",
              "      <td>0</td>\n",
              "      <td>0</td>\n",
              "      <td>0</td>\n",
              "      <td>0</td>\n",
              "      <td>0</td>\n",
              "      <td>0</td>\n",
              "      <td>0</td>\n",
              "      <td>0</td>\n",
              "      <td>0</td>\n",
              "      <td>0</td>\n",
              "      <td>0</td>\n",
              "      <td>0</td>\n",
              "      <td>0</td>\n",
              "      <td>0</td>\n",
              "      <td>0</td>\n",
              "      <td>1</td>\n",
              "      <td>0</td>\n",
              "      <td>0</td>\n",
              "      <td>0</td>\n",
              "      <td>0</td>\n",
              "      <td>0</td>\n",
              "    </tr>\n",
              "    <tr>\n",
              "      <th>1</th>\n",
              "      <td>87.0</td>\n",
              "      <td>93</td>\n",
              "      <td>75</td>\n",
              "      <td>-5.0</td>\n",
              "      <td>52</td>\n",
              "      <td>64</td>\n",
              "      <td>263</td>\n",
              "      <td>24</td>\n",
              "      <td>23</td>\n",
              "      <td>0</td>\n",
              "      <td>0</td>\n",
              "      <td>0</td>\n",
              "      <td>0</td>\n",
              "      <td>0</td>\n",
              "      <td>0</td>\n",
              "      <td>0</td>\n",
              "      <td>0</td>\n",
              "      <td>0</td>\n",
              "      <td>0</td>\n",
              "      <td>0</td>\n",
              "      <td>0</td>\n",
              "      <td>0</td>\n",
              "      <td>0</td>\n",
              "      <td>0</td>\n",
              "      <td>0</td>\n",
              "      <td>0</td>\n",
              "      <td>0</td>\n",
              "      <td>0</td>\n",
              "      <td>0</td>\n",
              "      <td>0</td>\n",
              "      <td>0</td>\n",
              "      <td>0</td>\n",
              "      <td>0</td>\n",
              "      <td>0</td>\n",
              "      <td>0</td>\n",
              "      <td>0</td>\n",
              "      <td>0</td>\n",
              "      <td>0</td>\n",
              "      <td>0</td>\n",
              "      <td>0</td>\n",
              "      <td>...</td>\n",
              "      <td>0</td>\n",
              "      <td>0</td>\n",
              "      <td>0</td>\n",
              "      <td>0</td>\n",
              "      <td>0</td>\n",
              "      <td>0</td>\n",
              "      <td>0</td>\n",
              "      <td>0</td>\n",
              "      <td>0</td>\n",
              "      <td>0</td>\n",
              "      <td>0</td>\n",
              "      <td>0</td>\n",
              "      <td>0</td>\n",
              "      <td>0</td>\n",
              "      <td>0</td>\n",
              "      <td>0</td>\n",
              "      <td>0</td>\n",
              "      <td>0</td>\n",
              "      <td>0</td>\n",
              "      <td>0</td>\n",
              "      <td>0</td>\n",
              "      <td>0</td>\n",
              "      <td>0</td>\n",
              "      <td>0</td>\n",
              "      <td>0</td>\n",
              "      <td>0</td>\n",
              "      <td>0</td>\n",
              "      <td>0</td>\n",
              "      <td>0</td>\n",
              "      <td>0</td>\n",
              "      <td>0</td>\n",
              "      <td>0</td>\n",
              "      <td>1</td>\n",
              "      <td>0</td>\n",
              "      <td>0</td>\n",
              "      <td>0</td>\n",
              "      <td>0</td>\n",
              "      <td>0</td>\n",
              "      <td>0</td>\n",
              "      <td>1</td>\n",
              "    </tr>\n",
              "    <tr>\n",
              "      <th>2</th>\n",
              "      <td>120.0</td>\n",
              "      <td>84</td>\n",
              "      <td>76</td>\n",
              "      <td>-3.0</td>\n",
              "      <td>29</td>\n",
              "      <td>71</td>\n",
              "      <td>200</td>\n",
              "      <td>10</td>\n",
              "      <td>14</td>\n",
              "      <td>0</td>\n",
              "      <td>0</td>\n",
              "      <td>0</td>\n",
              "      <td>0</td>\n",
              "      <td>0</td>\n",
              "      <td>0</td>\n",
              "      <td>0</td>\n",
              "      <td>0</td>\n",
              "      <td>0</td>\n",
              "      <td>0</td>\n",
              "      <td>0</td>\n",
              "      <td>0</td>\n",
              "      <td>0</td>\n",
              "      <td>0</td>\n",
              "      <td>0</td>\n",
              "      <td>0</td>\n",
              "      <td>0</td>\n",
              "      <td>0</td>\n",
              "      <td>0</td>\n",
              "      <td>0</td>\n",
              "      <td>0</td>\n",
              "      <td>0</td>\n",
              "      <td>0</td>\n",
              "      <td>0</td>\n",
              "      <td>0</td>\n",
              "      <td>0</td>\n",
              "      <td>0</td>\n",
              "      <td>0</td>\n",
              "      <td>0</td>\n",
              "      <td>0</td>\n",
              "      <td>0</td>\n",
              "      <td>...</td>\n",
              "      <td>0</td>\n",
              "      <td>0</td>\n",
              "      <td>0</td>\n",
              "      <td>0</td>\n",
              "      <td>0</td>\n",
              "      <td>0</td>\n",
              "      <td>0</td>\n",
              "      <td>0</td>\n",
              "      <td>0</td>\n",
              "      <td>0</td>\n",
              "      <td>0</td>\n",
              "      <td>0</td>\n",
              "      <td>0</td>\n",
              "      <td>0</td>\n",
              "      <td>0</td>\n",
              "      <td>0</td>\n",
              "      <td>0</td>\n",
              "      <td>0</td>\n",
              "      <td>0</td>\n",
              "      <td>0</td>\n",
              "      <td>0</td>\n",
              "      <td>0</td>\n",
              "      <td>0</td>\n",
              "      <td>0</td>\n",
              "      <td>0</td>\n",
              "      <td>0</td>\n",
              "      <td>0</td>\n",
              "      <td>0</td>\n",
              "      <td>0</td>\n",
              "      <td>0</td>\n",
              "      <td>0</td>\n",
              "      <td>0</td>\n",
              "      <td>0</td>\n",
              "      <td>0</td>\n",
              "      <td>0</td>\n",
              "      <td>0</td>\n",
              "      <td>0</td>\n",
              "      <td>1</td>\n",
              "      <td>0</td>\n",
              "      <td>2</td>\n",
              "    </tr>\n",
              "    <tr>\n",
              "      <th>3</th>\n",
              "      <td>119.0</td>\n",
              "      <td>92</td>\n",
              "      <td>70</td>\n",
              "      <td>-4.0</td>\n",
              "      <td>8</td>\n",
              "      <td>71</td>\n",
              "      <td>295</td>\n",
              "      <td>0</td>\n",
              "      <td>4</td>\n",
              "      <td>0</td>\n",
              "      <td>0</td>\n",
              "      <td>0</td>\n",
              "      <td>0</td>\n",
              "      <td>0</td>\n",
              "      <td>0</td>\n",
              "      <td>0</td>\n",
              "      <td>0</td>\n",
              "      <td>0</td>\n",
              "      <td>0</td>\n",
              "      <td>0</td>\n",
              "      <td>0</td>\n",
              "      <td>0</td>\n",
              "      <td>0</td>\n",
              "      <td>0</td>\n",
              "      <td>0</td>\n",
              "      <td>0</td>\n",
              "      <td>0</td>\n",
              "      <td>0</td>\n",
              "      <td>0</td>\n",
              "      <td>0</td>\n",
              "      <td>0</td>\n",
              "      <td>0</td>\n",
              "      <td>0</td>\n",
              "      <td>0</td>\n",
              "      <td>0</td>\n",
              "      <td>0</td>\n",
              "      <td>0</td>\n",
              "      <td>0</td>\n",
              "      <td>0</td>\n",
              "      <td>0</td>\n",
              "      <td>...</td>\n",
              "      <td>0</td>\n",
              "      <td>0</td>\n",
              "      <td>0</td>\n",
              "      <td>0</td>\n",
              "      <td>0</td>\n",
              "      <td>0</td>\n",
              "      <td>0</td>\n",
              "      <td>0</td>\n",
              "      <td>0</td>\n",
              "      <td>0</td>\n",
              "      <td>0</td>\n",
              "      <td>0</td>\n",
              "      <td>0</td>\n",
              "      <td>0</td>\n",
              "      <td>0</td>\n",
              "      <td>0</td>\n",
              "      <td>0</td>\n",
              "      <td>0</td>\n",
              "      <td>0</td>\n",
              "      <td>0</td>\n",
              "      <td>0</td>\n",
              "      <td>0</td>\n",
              "      <td>0</td>\n",
              "      <td>0</td>\n",
              "      <td>0</td>\n",
              "      <td>0</td>\n",
              "      <td>0</td>\n",
              "      <td>0</td>\n",
              "      <td>0</td>\n",
              "      <td>0</td>\n",
              "      <td>0</td>\n",
              "      <td>0</td>\n",
              "      <td>0</td>\n",
              "      <td>0</td>\n",
              "      <td>0</td>\n",
              "      <td>0</td>\n",
              "      <td>0</td>\n",
              "      <td>1</td>\n",
              "      <td>0</td>\n",
              "      <td>2</td>\n",
              "    </tr>\n",
              "    <tr>\n",
              "      <th>4</th>\n",
              "      <td>109.0</td>\n",
              "      <td>84</td>\n",
              "      <td>64</td>\n",
              "      <td>-5.0</td>\n",
              "      <td>9</td>\n",
              "      <td>43</td>\n",
              "      <td>221</td>\n",
              "      <td>2</td>\n",
              "      <td>4</td>\n",
              "      <td>0</td>\n",
              "      <td>0</td>\n",
              "      <td>0</td>\n",
              "      <td>0</td>\n",
              "      <td>0</td>\n",
              "      <td>0</td>\n",
              "      <td>0</td>\n",
              "      <td>0</td>\n",
              "      <td>0</td>\n",
              "      <td>0</td>\n",
              "      <td>0</td>\n",
              "      <td>0</td>\n",
              "      <td>0</td>\n",
              "      <td>0</td>\n",
              "      <td>0</td>\n",
              "      <td>0</td>\n",
              "      <td>0</td>\n",
              "      <td>0</td>\n",
              "      <td>0</td>\n",
              "      <td>1</td>\n",
              "      <td>0</td>\n",
              "      <td>0</td>\n",
              "      <td>0</td>\n",
              "      <td>0</td>\n",
              "      <td>0</td>\n",
              "      <td>0</td>\n",
              "      <td>0</td>\n",
              "      <td>0</td>\n",
              "      <td>0</td>\n",
              "      <td>0</td>\n",
              "      <td>0</td>\n",
              "      <td>...</td>\n",
              "      <td>0</td>\n",
              "      <td>0</td>\n",
              "      <td>0</td>\n",
              "      <td>0</td>\n",
              "      <td>0</td>\n",
              "      <td>0</td>\n",
              "      <td>0</td>\n",
              "      <td>0</td>\n",
              "      <td>0</td>\n",
              "      <td>0</td>\n",
              "      <td>0</td>\n",
              "      <td>0</td>\n",
              "      <td>0</td>\n",
              "      <td>0</td>\n",
              "      <td>0</td>\n",
              "      <td>0</td>\n",
              "      <td>0</td>\n",
              "      <td>0</td>\n",
              "      <td>0</td>\n",
              "      <td>0</td>\n",
              "      <td>0</td>\n",
              "      <td>0</td>\n",
              "      <td>0</td>\n",
              "      <td>0</td>\n",
              "      <td>0</td>\n",
              "      <td>0</td>\n",
              "      <td>0</td>\n",
              "      <td>0</td>\n",
              "      <td>0</td>\n",
              "      <td>0</td>\n",
              "      <td>0</td>\n",
              "      <td>0</td>\n",
              "      <td>0</td>\n",
              "      <td>0</td>\n",
              "      <td>0</td>\n",
              "      <td>0</td>\n",
              "      <td>0</td>\n",
              "      <td>1</td>\n",
              "      <td>0</td>\n",
              "      <td>2</td>\n",
              "    </tr>\n",
              "  </tbody>\n",
              "</table>\n",
              "<p>5 rows × 206 columns</p>\n",
              "</div>\n",
              "      <button class=\"colab-df-convert\" onclick=\"convertToInteractive('df-43634679-e3eb-4c8a-89f7-3536c6e0a6df')\"\n",
              "              title=\"Convert this dataframe to an interactive table.\"\n",
              "              style=\"display:none;\">\n",
              "        \n",
              "  <svg xmlns=\"http://www.w3.org/2000/svg\" height=\"24px\"viewBox=\"0 0 24 24\"\n",
              "       width=\"24px\">\n",
              "    <path d=\"M0 0h24v24H0V0z\" fill=\"none\"/>\n",
              "    <path d=\"M18.56 5.44l.94 2.06.94-2.06 2.06-.94-2.06-.94-.94-2.06-.94 2.06-2.06.94zm-11 1L8.5 8.5l.94-2.06 2.06-.94-2.06-.94L8.5 2.5l-.94 2.06-2.06.94zm10 10l.94 2.06.94-2.06 2.06-.94-2.06-.94-.94-2.06-.94 2.06-2.06.94z\"/><path d=\"M17.41 7.96l-1.37-1.37c-.4-.4-.92-.59-1.43-.59-.52 0-1.04.2-1.43.59L10.3 9.45l-7.72 7.72c-.78.78-.78 2.05 0 2.83L4 21.41c.39.39.9.59 1.41.59.51 0 1.02-.2 1.41-.59l7.78-7.78 2.81-2.81c.8-.78.8-2.07 0-2.86zM5.41 20L4 18.59l7.72-7.72 1.47 1.35L5.41 20z\"/>\n",
              "  </svg>\n",
              "      </button>\n",
              "      \n",
              "  <style>\n",
              "    .colab-df-container {\n",
              "      display:flex;\n",
              "      flex-wrap:wrap;\n",
              "      gap: 12px;\n",
              "    }\n",
              "\n",
              "    .colab-df-convert {\n",
              "      background-color: #E8F0FE;\n",
              "      border: none;\n",
              "      border-radius: 50%;\n",
              "      cursor: pointer;\n",
              "      display: none;\n",
              "      fill: #1967D2;\n",
              "      height: 32px;\n",
              "      padding: 0 0 0 0;\n",
              "      width: 32px;\n",
              "    }\n",
              "\n",
              "    .colab-df-convert:hover {\n",
              "      background-color: #E2EBFA;\n",
              "      box-shadow: 0px 1px 2px rgba(60, 64, 67, 0.3), 0px 1px 3px 1px rgba(60, 64, 67, 0.15);\n",
              "      fill: #174EA6;\n",
              "    }\n",
              "\n",
              "    [theme=dark] .colab-df-convert {\n",
              "      background-color: #3B4455;\n",
              "      fill: #D2E3FC;\n",
              "    }\n",
              "\n",
              "    [theme=dark] .colab-df-convert:hover {\n",
              "      background-color: #434B5C;\n",
              "      box-shadow: 0px 1px 3px 1px rgba(0, 0, 0, 0.15);\n",
              "      filter: drop-shadow(0px 1px 2px rgba(0, 0, 0, 0.3));\n",
              "      fill: #FFFFFF;\n",
              "    }\n",
              "  </style>\n",
              "\n",
              "      <script>\n",
              "        const buttonEl =\n",
              "          document.querySelector('#df-43634679-e3eb-4c8a-89f7-3536c6e0a6df button.colab-df-convert');\n",
              "        buttonEl.style.display =\n",
              "          google.colab.kernel.accessAllowed ? 'block' : 'none';\n",
              "\n",
              "        async function convertToInteractive(key) {\n",
              "          const element = document.querySelector('#df-43634679-e3eb-4c8a-89f7-3536c6e0a6df');\n",
              "          const dataTable =\n",
              "            await google.colab.kernel.invokeFunction('convertToInteractive',\n",
              "                                                     [key], {});\n",
              "          if (!dataTable) return;\n",
              "\n",
              "          const docLinkHtml = 'Like what you see? Visit the ' +\n",
              "            '<a target=\"_blank\" href=https://colab.research.google.com/notebooks/data_table.ipynb>data table notebook</a>'\n",
              "            + ' to learn more about interactive tables.';\n",
              "          element.innerHTML = '';\n",
              "          dataTable['output_type'] = 'display_data';\n",
              "          await google.colab.output.renderOutput(dataTable, element);\n",
              "          const docLink = document.createElement('div');\n",
              "          docLink.innerHTML = docLinkHtml;\n",
              "          element.appendChild(docLink);\n",
              "        }\n",
              "      </script>\n",
              "    </div>\n",
              "  </div>\n",
              "  "
            ],
            "text/plain": [
              "     bpm  nrgy  dnce  ...  top genre_pop  top genre_room  labels\n",
              "0   97.0    89    67  ...              0               0       0\n",
              "1   87.0    93    75  ...              0               0       1\n",
              "2  120.0    84    76  ...              1               0       2\n",
              "3  119.0    92    70  ...              1               0       2\n",
              "4  109.0    84    64  ...              1               0       2\n",
              "\n",
              "[5 rows x 206 columns]"
            ]
          },
          "metadata": {},
          "execution_count": 67
        }
      ]
    },
    {
      "cell_type": "code",
      "source": [
        "df_scaled = pd.DataFrame(new_df)\n",
        "df_scaled['dbscan'] = dbscan.labels_\n",
        "df_mean = (df_scaled.loc[df_scaled.dbscan!=-1, :].groupby('dbscan').mean())\n",
        "results = pd.DataFrame(columns=['Variable', 'Var'])\n",
        "for column in df_mean.columns[1:]:\n",
        "    results.loc[len(results), :] = [column, np.var(df_mean[column])]\n",
        "    selected_columns = list(results.sort_values('Var', ascending=False,).head(7).Variable.values) + ['dbscan']\n",
        "    tidy = df_scaled[selected_columns].melt(id_vars='dbscan')"
      ],
      "metadata": {
        "id": "YwkiPYyLOO-C"
      },
      "execution_count": 68,
      "outputs": []
    },
    {
      "cell_type": "code",
      "source": [
        "for i in range(12):\n",
        "    sns.catplot(x='dbscan',y='value', hue='variable', data=tidy[tidy['dbscan']==i], height=5, aspect=.7, kind='bar')"
      ],
      "metadata": {
        "colab": {
          "base_uri": "https://localhost:8080/",
          "height": 1000
        },
        "id": "pyE8W6EIORuI",
        "outputId": "92db74d0-9a04-40f3-af86-b17895a42c1b"
      },
      "execution_count": 69,
      "outputs": [
        {
          "output_type": "execute_result",
          "data": {
            "text/plain": [
              "<seaborn.axisgrid.FacetGrid at 0x7f90b3ddfc10>"
            ]
          },
          "metadata": {},
          "execution_count": 69
        },
        {
          "output_type": "execute_result",
          "data": {
            "text/plain": [
              "<seaborn.axisgrid.FacetGrid at 0x7f90b3d7a910>"
            ]
          },
          "metadata": {},
          "execution_count": 69
        },
        {
          "output_type": "execute_result",
          "data": {
            "text/plain": [
              "<seaborn.axisgrid.FacetGrid at 0x7f90a60fab50>"
            ]
          },
          "metadata": {},
          "execution_count": 69
        },
        {
          "output_type": "execute_result",
          "data": {
            "text/plain": [
              "<seaborn.axisgrid.FacetGrid at 0x7f90a6707810>"
            ]
          },
          "metadata": {},
          "execution_count": 69
        },
        {
          "output_type": "execute_result",
          "data": {
            "text/plain": [
              "<seaborn.axisgrid.FacetGrid at 0x7f90a6899650>"
            ]
          },
          "metadata": {},
          "execution_count": 69
        },
        {
          "output_type": "execute_result",
          "data": {
            "text/plain": [
              "<seaborn.axisgrid.FacetGrid at 0x7f90a69cd1d0>"
            ]
          },
          "metadata": {},
          "execution_count": 69
        },
        {
          "output_type": "execute_result",
          "data": {
            "text/plain": [
              "<seaborn.axisgrid.FacetGrid at 0x7f90b3dbfd50>"
            ]
          },
          "metadata": {},
          "execution_count": 69
        },
        {
          "output_type": "execute_result",
          "data": {
            "text/plain": [
              "<seaborn.axisgrid.FacetGrid at 0x7f90a67c6890>"
            ]
          },
          "metadata": {},
          "execution_count": 69
        },
        {
          "output_type": "execute_result",
          "data": {
            "text/plain": [
              "<seaborn.axisgrid.FacetGrid at 0x7f90b3e11d50>"
            ]
          },
          "metadata": {},
          "execution_count": 69
        },
        {
          "output_type": "execute_result",
          "data": {
            "text/plain": [
              "<seaborn.axisgrid.FacetGrid at 0x7f90a6083e90>"
            ]
          },
          "metadata": {},
          "execution_count": 69
        },
        {
          "output_type": "execute_result",
          "data": {
            "text/plain": [
              "<seaborn.axisgrid.FacetGrid at 0x7f90b3c66510>"
            ]
          },
          "metadata": {},
          "execution_count": 69
        },
        {
          "output_type": "execute_result",
          "data": {
            "text/plain": [
              "<seaborn.axisgrid.FacetGrid at 0x7f90a64c2690>"
            ]
          },
          "metadata": {},
          "execution_count": 69
        },
        {
          "output_type": "display_data",
          "data": {
            "image/png": "[encoded data removed]",
            "text/plain": [
              "<Figure size 317.25x360 with 1 Axes>"
            ]
          },
          "metadata": {
            "needs_background": "light"
          }
        },
        {
          "output_type": "display_data",
          "data": {
            "image/png": "[encoded data removed]",
            "text/plain": [
              "<Figure size 317.25x360 with 1 Axes>"
            ]
          },
          "metadata": {
            "needs_background": "light"
          }
        },
        {
          "output_type": "display_data",
          "data": {
            "image/png": "[encoded data removed]",
            "text/plain": [
              "<Figure size 317.25x360 with 1 Axes>"
            ]
          },
          "metadata": {
            "needs_background": "light"
          }
        },
        {
          "output_type": "display_data",
          "data": {
            "image/png": "[encoded data removed]",
            "text/plain": [
              "<Figure size 317.25x360 with 1 Axes>"
            ]
          },
          "metadata": {
            "needs_background": "light"
          }
        },
        {
          "output_type": "display_data",
          "data": {
            "image/png": "[encoded data removed]",
            "text/plain": [
              "<Figure size 317.25x360 with 1 Axes>"
            ]
          },
          "metadata": {
            "needs_background": "light"
          }
        },
        {
          "output_type": "display_data",
          "data": {
            "image/png": "[encoded data removed]",
            "text/plain": [
              "<Figure size 317.25x360 with 1 Axes>"
            ]
          },
          "metadata": {
            "needs_background": "light"
          }
        },
        {
          "output_type": "display_data",
          "data": {
            "image/png": "[encoded data removed]",
            "text/plain": [
              "<Figure size 317.25x360 with 1 Axes>"
            ]
          },
          "metadata": {
            "needs_background": "light"
          }
        },
        {
          "output_type": "display_data",
          "data": {
            "image/png": "[encoded data removed]",
            "text/plain": [
              "<Figure size 317.25x360 with 1 Axes>"
            ]
          },
          "metadata": {
            "needs_background": "light"
          }
        },
        {
          "output_type": "display_data",
          "data": {
            "image/png": "[encoded data removed]",
            "text/plain": [
              "<Figure size 317.25x360 with 1 Axes>"
            ]
          },
          "metadata": {
            "needs_background": "light"
          }
        },
        {
          "output_type": "display_data",
          "data": {
            "image/png": "[encoded data removed]",
            "text/plain": [
              "<Figure size 317.25x360 with 1 Axes>"
            ]
          },
          "metadata": {
            "needs_background": "light"
          }
        },
        {
          "output_type": "display_data",
          "data": {
            "image/png": "[encoded data removed]",
            "text/plain": [
              "<Figure size 317.25x360 with 1 Axes>"
            ]
          },
          "metadata": {
            "needs_background": "light"
          }
        },
        {
          "output_type": "display_data",
          "data": {
            "image/png": "[encoded data removed]",
            "text/plain": [
              "<Figure size 317.25x360 with 1 Axes>"
            ]
          },
          "metadata": {
            "needs_background": "light"
          }
        }
      ]
    },
    {
      "cell_type": "code",
      "source": [
        ""
      ],
      "metadata": {
        "id": "zFuE50zSOVAY"
      },
      "execution_count": 69,
      "outputs": []
    }
  ]
}